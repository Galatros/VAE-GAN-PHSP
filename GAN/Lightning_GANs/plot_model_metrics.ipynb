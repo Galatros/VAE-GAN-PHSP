{
 "cells": [
  {
   "cell_type": "code",
   "execution_count": null,
   "metadata": {},
   "outputs": [],
   "source": [
    "import pandas as pd\n",
    "import numpy as np\n",
    "import matplotlib.pyplot as plt\n",
    "import os\n",
    "\n",
    "from ast import literal_eval\n",
    "\n",
    "\n",
    "from helpers.plot_helper import plot_training_loss\n",
    "\n"
   ]
  },
  {
   "cell_type": "code",
   "execution_count": null,
   "metadata": {},
   "outputs": [],
   "source": [
    "PATH_TO_CSV_FILE_LOGS='/home/jakmic/Projekty/dose3d-phsp/GAN/Lightning_GANs/results/WGAN_gp/version_1/metrics.csv'\n",
    "\n",
    "# Odkomentuj by narysować funkcje dla wielu wersji\n",
    "# versions=['version_9','version_10']\n",
    "# files_paths=[os.path.join(f'/home/jakmic/Projekty/dose3d-phsp/AE_VAE/Lightning_Autoencoders/results/BetaVAE/{version}','metrics.csv') for version in versions]\n",
    "\n",
    "metrics_df = pd.read_csv(PATH_TO_CSV_FILE_LOGS, sep=',',header=0, squeeze=True)\n",
    "metrics_df.head()\n",
    "\n"
   ]
  },
  {
   "cell_type": "code",
   "execution_count": null,
   "metadata": {},
   "outputs": [],
   "source": [
    "train_col_list=[\"train_g_logs\",\"epoch\",\"step\"]\n",
    "train_metrics_df=pd.read_csv(PATH_TO_CSV_FILE_LOGS,usecols=train_col_list)\n",
    "\n",
    "# Odkomentuj by połączyć wiele wersji\n",
    "# train_metrics_df = pd.concat(map(pd.read_csv, files_paths), ignore_index=True)\n",
    "# train_metrics_df=train_metrics_df[train_col_list]\n",
    "\n",
    "train_metrics_df=train_metrics_df[train_metrics_df['train_g_logs'].notna()]\n",
    "train_metrics_df=train_metrics_df.reset_index(drop=True)\n",
    "df = pd.DataFrame([literal_eval(i) for i in train_metrics_df.train_g_logs.values])\n",
    "train_metrics_df=pd.concat([train_metrics_df,df],axis=1).drop('train_g_logs',axis=1)\n",
    "\n",
    "NUM_EPOCHS=int(train_metrics_df['epoch'].max())\n",
    "print(NUM_EPOCHS)\n",
    "\n",
    "train_metrics_df.head()"
   ]
  },
  {
   "cell_type": "code",
   "execution_count": null,
   "metadata": {},
   "outputs": [],
   "source": [
    "train_d_col_list=[\"train_c_logs\",\"epoch\",\"step\"]\n",
    "train_d_metrics_df=pd.read_csv(PATH_TO_CSV_FILE_LOGS,usecols=train_d_col_list)\n",
    "\n",
    "# Odkomentuj by połączyć wiele wersji\n",
    "# train_d_metrics_df = pd.concat(map(pd.read_csv, files_paths), ignore_index=True)\n",
    "# train_d_metrics_df=train_d_metrics_df[train_d_col_list]\n",
    "\n",
    "train_d_metrics_df=train_d_metrics_df[train_d_metrics_df['train_c_logs'].notna()]\n",
    "train_d_metrics_df=train_d_metrics_df.reset_index(drop=True)\n",
    "df = pd.DataFrame([literal_eval(i) for i in train_d_metrics_df.train_c_logs.values])\n",
    "train_d_metrics_df=pd.concat([train_d_metrics_df,df],axis=1).drop('train_c_logs',axis=1)\n",
    "\n",
    "NUM_EPOCHS=int(train_d_metrics_df['epoch'].max())\n",
    "print(NUM_EPOCHS)\n",
    "\n",
    "train_d_metrics_df.head()"
   ]
  },
  {
   "cell_type": "code",
   "execution_count": null,
   "metadata": {},
   "outputs": [],
   "source": [
    "# optimizer_col_list=[\"lr-Adam\",\"lr-Adam-1\"]\n",
    "# optimizer_metrics_df=pd.read_csv(PATH_TO_CSV_FILE_LOGS,usecols=optimizer_col_list)\n",
    "\n",
    "# # Odkomentuj by połączyć wiele wersji\n",
    "# # optimizer_metrics_df = pd.concat(map(pd.read_csv, files_paths), ignore_index=True)\n",
    "# # optimizer_metrics_df=optimizer_metrics_df[train_d_col_list]\n",
    "\n",
    "# optimizer_metrics_df=optimizer_metrics_df[optimizer_metrics_df['lr-Adam'].notna()]\n",
    "\n",
    "\n",
    "# optimizer_metrics_df.head()"
   ]
  },
  {
   "cell_type": "code",
   "execution_count": null,
   "metadata": {},
   "outputs": [],
   "source": [
    "# val_col_list=[\"validation_logs\",\"epoch\",\"step\",\"validation_epoch_end_logs\"]\n",
    "# val_metrics_df=pd.read_csv(PATH_TO_CSV_FILE_LOGS,usecols=val_col_list)\n",
    "\n",
    "# # Odkomentuj by połączyć wiele wersji\n",
    "# # val_metrics_df = pd.concat(map(pd.read_csv, files_paths), ignore_index=True,)\n",
    "# # val_metrics_df=val_metrics_df[val_col_list]\n",
    "\n",
    "# val_metrics_df=val_metrics_df[val_metrics_df['validation_logs'].notna()]\n",
    "# val_metrics_df=val_metrics_df.reset_index(drop=True)\n",
    "# df = pd.DataFrame([literal_eval(i) for i in val_metrics_df.validation_logs.values])\n",
    "# val_metrics_df=pd.concat([val_metrics_df,df],axis=1).drop('validation_logs',axis=1)\n",
    "# df = pd.DataFrame([literal_eval(i) for i in val_metrics_df.validation_epoch_end_logs.values])\n",
    "# val_metrics_df=pd.concat([val_metrics_df,df],axis=1).drop('validation_epoch_end_logs',axis=1)\n",
    "\n",
    "\n",
    "# val_metrics_df.head()"
   ]
  },
  {
   "cell_type": "code",
   "execution_count": null,
   "metadata": {},
   "outputs": [],
   "source": [
    "plot_training_loss(train_metrics_df['g_loss'], NUM_EPOCHS, custom_label=\" (generator)\")\n",
    "plot_training_loss(train_d_metrics_df['c_loss'], NUM_EPOCHS, custom_label=\" (discriminator)\") #, set_y_axis_limit=False, manual_y_axis_limit= [0.69314, 0.69316] ,manual_y_axis_limit= [-0.001, 0.001]\n",
    "\n",
    "plt.show()\n"
   ]
  },
  {
   "cell_type": "code",
   "execution_count": null,
   "metadata": {},
   "outputs": [],
   "source": [
    "plt.plot(range(len(optimizer_metrics_df['lr-Adam'])), (optimizer_metrics_df['lr-Adam']), label='lr_Adam')\n",
    "plt.plot(range(len(optimizer_metrics_df['lr-Adam'])), (optimizer_metrics_df['lr-Adam-1']), label='lr_Adam-1')\n",
    "plt.legend()\n",
    "plt.xlabel('Epochs')\n",
    "plt.ylabel('lr-Adam')\n",
    "#plt.ylim(0.15,0.3)\n",
    "plt.tight_layout()"
   ]
  },
  {
   "cell_type": "code",
   "execution_count": null,
   "metadata": {},
   "outputs": [],
   "source": [
    "# # plt.plot(range(len(val_metrics_df['train_combined_loss_per_epoch'])), (val_metrics_df['train_combined_loss_per_epoch']), label='Train Epoch Loss')\n",
    "# plt.plot(range(len(val_metrics_df['combined_loss'])), (val_metrics_df['combined_loss']), label='Validation CombinedLoss per Epoch')\n",
    "# plt.legend()\n",
    "# plt.xlabel('Epochs')\n",
    "# plt.ylabel('Loss')\n",
    "# #plt.ylim(0.15,0.3)\n",
    "# plt.tight_layout()"
   ]
  }
 ],
 "metadata": {
  "interpreter": {
   "hash": "5b49ffdf1bf063af7ff26dd1ef9dd65469985430119a126229acbeb0592f571b"
  },
  "kernelspec": {
   "display_name": "Python 3.9.7 ('generative')",
   "language": "python",
   "name": "python3"
  },
  "language_info": {
   "codemirror_mode": {
    "name": "ipython",
    "version": 3
   },
   "file_extension": ".py",
   "mimetype": "text/x-python",
   "name": "python",
   "nbconvert_exporter": "python",
   "pygments_lexer": "ipython3",
   "version": "3.9.7"
  },
  "orig_nbformat": 4
 },
 "nbformat": 4,
 "nbformat_minor": 2
}
