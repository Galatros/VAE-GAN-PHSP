{
 "cells": [
  {
   "cell_type": "code",
   "execution_count": 1,
   "metadata": {},
   "outputs": [],
   "source": [
    "import numpy as np\n",
    "from sklearn.metrics import mean_squared_error\n",
    "from matplotlib import pyplot as plt\n",
    "import json\n",
    "\n",
    "from scipy.stats import ks_2samp, chisquare\n",
    "\n",
    "fakePHSP = '/home/jakmic/Projekty/dose3d-phsp/GAN/CGAN/fake.txt'\n",
    "truePHSP = '/data1/dose-3d-generative/data/training-data/PHSPs_without_VR/Filtered_E5.6_s0.0.txt' \n",
    "#'/net/scratch/people/plgztabor/primo_workdir/PHSPs_without_VR/ANGLE_0/TXT/Filtered_E6.0_s2.0.txt'\n",
    "\n",
    "f = open(fakePHSP,'rt')\n",
    "lines = f.readlines()\n",
    "f.close()\n",
    "\n",
    "fake = [r.split() for r in lines]\n",
    "fake = np.asarray(fake,dtype=np.float32)\n",
    "\n",
    "f = open(truePHSP,'rt')\n",
    "lines = f.readlines()\n",
    "f.close()\n",
    "\n",
    "real = [r.split() for r in lines]\n",
    "real = np.asarray(real,dtype=np.float32)\n",
    "\n",
    "signs = np.random.randint(0,2,real.shape[0])*2-1\n",
    "real[:,0] = real[:,0]*signs\n",
    "real[:,1] = real[:,1]*signs\n",
    "real[:,2] = real[:,2]*signs\n",
    "real[:,3] = real[:,3]*signs\n",
    "\n",
    "\n",
    "\n",
    "\n",
    "# bins = np.linspace(0, 6, 300)\n",
    "# plt.figure(figsize = (10,10))\n",
    "# plt.hist(real[:,5],bins,alpha=0.25,label='r',density=True)\n",
    "# plt.hist(fake[:,5],bins,alpha=0.25,label='f',density=True)\n",
    "# plt.legend(loc='upper right')\n",
    "# #plt.show()"
   ]
  },
  {
   "cell_type": "code",
   "execution_count": 2,
   "metadata": {},
   "outputs": [
    {
     "name": "stdout",
     "output_type": "stream",
     "text": [
      "0.06043176302911382\n",
      "[0.0016919471658592422, 0.0014522321488202872, 0.002625559544335132, 0.0022683965758220903, 0.012072984392428321, 0.04032064320184875]\n",
      "1.1121826502003009e-10\n",
      "[2.4057361927588475e-14, 1.1119420765810231e-10, 6.04727339829653e-34, 1.9085628599817823e-25, 0.0, 0.0]\n"
     ]
    }
   ],
   "source": [
    "ks_statistics_sum=0\n",
    "ks_statistics_list=[]\n",
    "ks_pvalue_sum=0\n",
    "ks_pvalue_list=[]\n",
    "\n",
    "for index in range(6):\n",
    "    ks_statistic,ks_pvalue=ks_2samp(real[:,index],fake[:,index])\n",
    "    ks_statistics_sum+=ks_statistic\n",
    "    ks_pvalue_sum+=ks_pvalue\n",
    "    ks_pvalue_list.append(ks_pvalue)\n",
    "    ks_statistics_list.append(ks_statistic)\n",
    "\n",
    "print(ks_statistics_sum)\n",
    "print(ks_statistics_list)\n",
    "\n",
    "print(ks_pvalue_sum)\n",
    "print(ks_pvalue_list)"
   ]
  },
  {
   "cell_type": "code",
   "execution_count": 3,
   "metadata": {},
   "outputs": [
    {
     "name": "stdout",
     "output_type": "stream",
     "text": [
      "0.022019542873739965\n",
      "[1.9509786504041388e-06, 1.8052013303968864e-06, 0.00018169192337131882, 0.0001792520583632861, 0.02014153680332985, 0.001513305908694709]\n"
     ]
    },
    {
     "data": {
      "image/png": "[encoded data removed]",
      "text/plain": [
       "<Figure size 1440x1008 with 6 Axes>"
      ]
     },
     "metadata": {
      "needs_background": "light"
     },
     "output_type": "display_data"
    }
   ],
   "source": [
    "histogram_freq_real_mse=[]\n",
    "histogram_freq_fake_mse=[]\n",
    "\n",
    "mse_statistics_sum=0\n",
    "mse_statistics_list=[]\n",
    "\n",
    "\n",
    "\n",
    "fig, axs = plt.subplots(2, 3)\n",
    "fig.set_size_inches(20, 14)\n",
    "\n",
    "for index in range(6):\n",
    "    mi = np.minimum(real[:,index].min(), fake[:,index].min())\n",
    "    ma = np.maximum(real[:,index].max(), fake[:,index].max())\n",
    "\n",
    "    bins = np.linspace(mi, ma, 300)\n",
    "    tmp_histogram_freq_real_mse,_,_=axs.flatten()[index].hist(real[:,index], bins, alpha=.5, density=True, stacked = True)\n",
    "    tmp_histogram_freq_fake_mse,_,_=axs.flatten()[index].hist(fake[:,index], bins, alpha=.5, density=True, stacked = True)\n",
    "\n",
    "\n",
    "    histogram_freq_real_mse.append(tmp_histogram_freq_real_mse)\n",
    "    histogram_freq_fake_mse.append(tmp_histogram_freq_fake_mse)\n",
    "\n",
    "    mse_statistic=mean_squared_error(tmp_histogram_freq_real_mse,tmp_histogram_freq_fake_mse)\n",
    "    mse_statistics_sum+=mse_statistic\n",
    "    mse_statistics_list.append(mse_statistic)\n",
    "\n",
    "print(mse_statistics_sum)\n",
    "print(mse_statistics_list)\n"
   ]
  },
  {
   "cell_type": "code",
   "execution_count": 4,
   "metadata": {},
   "outputs": [],
   "source": [
    "statistics_json={'ks_2samp': [\n",
    "    {\n",
    "        'name': 'config_001.json',\n",
    "        'statistics_list': ks_statistics_list,\n",
    "        'statistics_sum': ks_statistics_sum\n",
    "    }\n",
    "],\n",
    "'mean_square_error': [\n",
    "    {\n",
    "        'name': 'config_001.json',\n",
    "        'statistics_list': mse_statistics_list,\n",
    "        'statistics_sum': mse_statistics_sum\n",
    "    }\n",
    "]\n",
    "\n",
    "}\n",
    "\n",
    "# json_string=json.dumps(data)\n",
    "# print(json_string)"
   ]
  },
  {
   "cell_type": "code",
   "execution_count": 5,
   "metadata": {},
   "outputs": [],
   "source": [
    "with open('/home/jakmic/Projekty/dose3d-phsp/GAN/CGAN/config_001.json') as json_file:\n",
    "    config_json_object = json.load(json_file)"
   ]
  },
  {
   "cell_type": "code",
   "execution_count": 6,
   "metadata": {},
   "outputs": [],
   "source": [
    "config_json_object[\"evaluation_results\"]=statistics_json"
   ]
  },
  {
   "cell_type": "code",
   "execution_count": 7,
   "metadata": {},
   "outputs": [],
   "source": [
    "with open('/home/jakmic/Projekty/dose3d-phsp/GAN/CGAN/statistics_mse_ks2samp.json', 'w') as outfile:\n",
    "    json.dump(config_json_object, outfile, indent=4)"
   ]
  },
  {
   "cell_type": "code",
   "execution_count": 8,
   "metadata": {},
   "outputs": [],
   "source": [
    "# import pickle\n",
    "# paramsFileName = '/home/jakmic/Projekty/dose3d-phsp/GAN/CGAN/params.pkl'\n",
    "# modelFileName = 'model.pth'\n",
    "\n",
    "# infile = open(paramsFileName,'rb')\n",
    "# params = pickle.load(infile)\n",
    "# infile.close()"
   ]
  }
 ],
 "metadata": {
  "interpreter": {
   "hash": "5b49ffdf1bf063af7ff26dd1ef9dd65469985430119a126229acbeb0592f571b"
  },
  "kernelspec": {
   "display_name": "Python 3.9.7 ('generative')",
   "language": "python",
   "name": "python3"
  },
  "language_info": {
   "codemirror_mode": {
    "name": "ipython",
    "version": 3
   },
   "file_extension": ".py",
   "mimetype": "text/x-python",
   "name": "python",
   "nbconvert_exporter": "python",
   "pygments_lexer": "ipython3",
   "version": "3.9.7"
  },
  "orig_nbformat": 4
 },
 "nbformat": 4,
 "nbformat_minor": 2
}
