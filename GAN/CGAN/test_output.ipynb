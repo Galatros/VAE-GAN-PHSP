{
 "cells": [
  {
   "cell_type": "code",
   "execution_count": null,
   "metadata": {},
   "outputs": [],
   "source": [
    "import re\n",
    "import pandas as pd\n",
    "import numpy as np\n",
    "import matplotlib.pyplot as plt\n",
    "import torch"
   ]
  },
  {
   "cell_type": "code",
   "execution_count": null,
   "metadata": {},
   "outputs": [],
   "source": [
    "columns_names=['epoch', 'd_loss', 'g_loss', 'd_real_loss', 'd_fake_loss']\n",
    "statistics_df=pd.DataFrame(columns=columns_names)"
   ]
  },
  {
   "cell_type": "code",
   "execution_count": null,
   "metadata": {},
   "outputs": [],
   "source": [
    "file1 = open('/home/jakmic/Projekty/dose3d-phsp/GAN/CGAN/output.txt', 'r')\n",
    "count = 0\n",
    "\n",
    "while True:\n",
    "    count += 1\n",
    " \n",
    "    # Get next line from file\n",
    "    line = file1.readline()\n",
    " \n",
    "    # if line is empty\n",
    "    # end of file is reached\n",
    "    if not line:\n",
    "        break\n",
    "    if count> 52:\n",
    "        s=line.strip()\n",
    "        a=s.split()\n",
    "        if a[0]=='Training':\n",
    "            break\n",
    "        print(\"Line{}: {}\".format(count, line.strip()))\n",
    "        x=re.findall('[-+ ]\\d*\\.?\\d+',s)\n",
    "        x=list(map(float,x))\n",
    "        print(x)\n",
    "        statistics_df.loc[len(statistics_df)]=x\n",
    " \n",
    "file1.close()\n",
    "\n"
   ]
  },
  {
   "cell_type": "code",
   "execution_count": null,
   "metadata": {},
   "outputs": [],
   "source": [
    "print(statistics_df.shape)\n",
    "statistics_df.head()\n",
    "\n"
   ]
  },
  {
   "cell_type": "code",
   "execution_count": null,
   "metadata": {},
   "outputs": [],
   "source": [
    "def plot_training_loss(minibatch_losses, num_epochs, averaging_iterations=100, custom_label=''):\n",
    "\n",
    "    iter_per_epoch = len(minibatch_losses) // num_epochs\n",
    "\n",
    "    plt.figure()\n",
    "    ax1 = plt.subplot(1, 1, 1)\n",
    "    ax1.plot(range(len(minibatch_losses)),\n",
    "             (minibatch_losses), label=f'Minibatch Loss{custom_label}')\n",
    "    ax1.set_xlabel('Iterations')\n",
    "    ax1.set_ylabel('Loss')\n",
    "\n",
    "    #USTAWIENIE LIMITU NA OSI y\n",
    "    if len(minibatch_losses) < 1000:\n",
    "        num_losses = len(minibatch_losses) // 2\n",
    "    else:\n",
    "        num_losses = 1000\n",
    "    \n",
    "    if np.max(minibatch_losses[num_losses:])>0:\n",
    "        ax1.set_ylim([\n",
    "            np.min(minibatch_losses[num_losses:])*0.5, np.max(minibatch_losses[num_losses:])*1.5\n",
    "            ])\n",
    "    else:\n",
    "        ax1.set_ylim([\n",
    "            np.min(minibatch_losses[num_losses:])*1.5, 0\n",
    "            ])\n",
    "\n",
    "    #DORYSOWANIE ŚREDNIEJ KROCZĄCEJ https://doraprojects.net/questions/13728392/moving-average-or-running-mean\n",
    "    ax1.plot(np.convolve(minibatch_losses,\n",
    "                         np.ones(averaging_iterations)/averaging_iterations,\n",
    "                         mode='valid'),\n",
    "             label=f'Running Average{custom_label}')\n",
    "    ax1.legend()\n",
    "\n",
    "    #TWORZENIE OSI Z EPOKAMI\n",
    "    ax2 = ax1.twiny() #TWORZENIE DRUGIEJ OSI DLA TEGO SAMEGO y\n",
    "    newlabel = list(range(num_epochs+1))\n",
    "\n",
    "    newpos = [e*iter_per_epoch for e in newlabel]\n",
    "\n",
    "    ax2.set_xticks(newpos[::20])\n",
    "    ax2.set_xticklabels(newlabel[::20])\n",
    "\n",
    "    ax2.xaxis.set_ticks_position('bottom')\n",
    "    ax2.xaxis.set_label_position('bottom')\n",
    "    ax2.spines['bottom'].set_position(('outward', 45))\n",
    "    ax2.set_xlabel('Epochs')\n",
    "    ax2.set_xlim(ax1.get_xlim())\n",
    "    # ###################\n",
    "\n",
    "    plt.tight_layout()"
   ]
  },
  {
   "cell_type": "code",
   "execution_count": null,
   "metadata": {},
   "outputs": [],
   "source": [
    "plot_training_loss(statistics_df['d_loss'].tolist(),num_epochs=1,custom_label='d_loss')\n",
    "plot_training_loss(statistics_df['g_loss'].tolist(),num_epochs=1,custom_label='g_loss')\n",
    "plot_training_loss(statistics_df['d_real_loss'].tolist(),num_epochs=1,custom_label='d_real_loss')\n",
    "plot_training_loss(statistics_df['d_fake_loss'].tolist(),num_epochs=1,custom_label='d_fake_loss')"
   ]
  }
 ],
 "metadata": {
  "interpreter": {
   "hash": "5b49ffdf1bf063af7ff26dd1ef9dd65469985430119a126229acbeb0592f571b"
  },
  "kernelspec": {
   "display_name": "Python 3.9.7 ('generative')",
   "language": "python",
   "name": "python3"
  },
  "language_info": {
   "codemirror_mode": {
    "name": "ipython",
    "version": 3
   },
   "file_extension": ".py",
   "mimetype": "text/x-python",
   "name": "python",
   "nbconvert_exporter": "python",
   "pygments_lexer": "ipython3",
   "version": "3.9.7"
  },
  "orig_nbformat": 4
 },
 "nbformat": 4,
 "nbformat_minor": 2
}
