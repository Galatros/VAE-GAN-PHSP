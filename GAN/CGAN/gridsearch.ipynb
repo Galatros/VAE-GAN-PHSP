{
 "cells": [
  {
   "cell_type": "code",
   "execution_count": 5,
   "metadata": {},
   "outputs": [],
   "source": [
    "import json"
   ]
  },
  {
   "cell_type": "code",
   "execution_count": 6,
   "metadata": {},
   "outputs": [],
   "source": [
    "num_of_gd_layers = [3,4,5]\n",
    "dim_of_gd_layers = [300,400,500]\n",
    "z_dims=[8,12,16]\n",
    "config_path='/home/jakmic/Projekty/dose3d-phsp/GAN/CGAN/config_001.json'\n",
    "new_config_path='/home/jakmic/Projekty/dose3d-phsp/GAN/CGAN/config_001_new.json'"
   ]
  },
  {
   "cell_type": "code",
   "execution_count": 7,
   "metadata": {},
   "outputs": [],
   "source": [
    "def load_current_config_state(config_path):\n",
    "    with open(config_path) as json_file:\n",
    "        config_json_object = json.load(json_file)\n",
    "        current_num_of_d_layer=config_json_object['d_layers']\n",
    "        current_d_dim=config_json_object['d_dim']\n",
    "        current_z_dim=config_json_object['z_dim']\n",
    "    return current_num_of_d_layer, current_d_dim, current_z_dim\n",
    "\n",
    "\n",
    "class MyGridSearch:\n",
    "    def __init__(self, num_of_gd_layers,dim_of_gd_layers,z_dims,current_num_of_gd_layer,current_dim_of_gd_layer,current_z_dim):\n",
    "        self.num_of_gd_layers=num_of_gd_layers\n",
    "        self.dim_of_gd_layers=dim_of_gd_layers\n",
    "        self.z_dims=z_dims\n",
    "        self.stop=False\n",
    "\n",
    "        self.current_num_of_gd_layer=current_num_of_gd_layer\n",
    "        self.current_dim_of_gd_layer=current_dim_of_gd_layer\n",
    "        self.current_z_dim=current_z_dim\n",
    "\n",
    "\n",
    "    def __iter__(self):\n",
    "        print(\"TO ja\")\n",
    "        return self\n",
    "        \n",
    "\n",
    "    def __next__(self):\n",
    "        for num_of_gd_layer in self.num_of_gd_layers:\n",
    "            for dim_of_gd in self.dim_of_gd_layers:\n",
    "                for z_dim in self.z_dims:\n",
    "                    if self.stop==True:\n",
    "                        self.stop=False\n",
    "                        self.current_num_of_gd_layer=num_of_gd_layer\n",
    "                        self.current_dim_of_gd_layer=dim_of_gd\n",
    "                        self.current_z_dim=z_dim\n",
    "                        return num_of_gd_layer, dim_of_gd, z_dim\n",
    "                    if self.current_num_of_gd_layer==num_of_gd_layer and self.current_dim_of_gd_layer==dim_of_gd and self.current_z_dim==z_dim:\n",
    "                        self.stop=True\n",
    "        raise StopIteration\n",
    "\n",
    "def create_config_with_new_state(new_config_path,new_config_state_json_object):\n",
    "    with open(new_config_path, 'w') as outfile:\n",
    "        json.dump(new_config_state_json_object, outfile, indent=4)\n",
    "    print(\"New config file created\")"
   ]
  },
  {
   "cell_type": "code",
   "execution_count": 8,
   "metadata": {},
   "outputs": [
    {
     "name": "stdout",
     "output_type": "stream",
     "text": [
      "New config file created\n"
     ]
    }
   ],
   "source": [
    "current_num_of_d_layer, current_d_dim, current_z_dim = load_current_config_state(config_path=config_path)\n",
    "iter_mygridsearch=MyGridSearch(num_of_gd_layers=num_of_gd_layers,dim_of_gd_layers=dim_of_gd_layers, z_dims=z_dims, current_num_of_gd_layer=current_num_of_d_layer,current_dim_of_gd_layer=current_d_dim,current_z_dim=current_z_dim)\n",
    "new_num_of_d_layer, new_d_dim, new_z_dim=next(iter_mygridsearch)\n",
    "with open(config_path) as json_file:\n",
    "    config_json_object = json.load(json_file)\n",
    "new_state_config_json_object=config_json_object\n",
    "new_state_config_json_object['d_layers']=new_num_of_d_layer\n",
    "new_state_config_json_object['g_layers']=new_num_of_d_layer\n",
    "new_state_config_json_object['d_dim']=new_d_dim\n",
    "new_state_config_json_object['g_dim']=new_d_dim\n",
    "new_state_config_json_object['z_dim']=new_z_dim\n",
    "create_config_with_new_state(new_config_path=new_config_path,new_config_state_json_object=new_state_config_json_object)\n",
    "\n"
   ]
  }
 ],
 "metadata": {
  "interpreter": {
   "hash": "5b49ffdf1bf063af7ff26dd1ef9dd65469985430119a126229acbeb0592f571b"
  },
  "kernelspec": {
   "display_name": "Python 3.9.7 ('generative')",
   "language": "python",
   "name": "python3"
  },
  "language_info": {
   "codemirror_mode": {
    "name": "ipython",
    "version": 3
   },
   "file_extension": ".py",
   "mimetype": "text/x-python",
   "name": "python",
   "nbconvert_exporter": "python",
   "pygments_lexer": "ipython3",
   "version": "3.9.7"
  },
  "orig_nbformat": 4
 },
 "nbformat": 4,
 "nbformat_minor": 2
}
