{
 "cells": [
  {
   "cell_type": "code",
   "execution_count": 1,
   "metadata": {},
   "outputs": [],
   "source": [
    "from data_helper import get_dataloaders_and_standarscaler_photons_from_numpy, get_photons_with_introduced_XY_symmetries\n",
    "from train_helper import train_vae, train_vae_mmd\n",
    "from plot_helper import plot_training_loss\n",
    "\n",
    "import numpy as np\n",
    "import pandas as pd\n",
    "import matplotlib.pyplot as plt\n",
    "import seaborn as sns\n",
    "\n",
    "import torch\n",
    "import torch.nn as nn"
   ]
  },
  {
   "cell_type": "code",
   "execution_count": 2,
   "metadata": {},
   "outputs": [],
   "source": [
    "# Hyperparameters\n",
    "RANDOM_SEED = 123\n",
    "NUM_EPOCHS = 40\n",
    "LOGGING_INTERVAL=300\n",
    "\n",
    "# RECONSTRUCTION_TERM_WEIGHT=2.8 \n",
    "# LEARNING_RATE = 0.0005\n",
    "# BATCH_SIZE = 1024\n",
    "#TOTAL_NUM_EPOCHS\n",
    "# SAVE_MODEL_FILE\n",
    "\n",
    "PLOT_FRACTION=0.0125\n",
    "TEST_FRACTION=0.4\n",
    "VALIDATION_FRACTION=0.0\n",
    "NUM_WORKERS=0\n",
    "path='/data1/dose-3d-generative/data/training-data/PHSPs_without_VR/Filtered_E5.6_s0.0.npy'\n",
    "LOAD_CHECKPOINT_PATH=\"/home/jakmic/Projekty/dose3d-phsp/AE_VAE/Autoencoders_Photons/TrainedModels/InfoVAE/nc_40epoch_1205_mmd_checkpoint.pth\""
   ]
  },
  {
   "cell_type": "code",
   "execution_count": 3,
   "metadata": {},
   "outputs": [
    {
     "name": "stdout",
     "output_type": "stream",
     "text": [
      "40\n",
      "VAE_Linear_1205\n"
     ]
    }
   ],
   "source": [
    "# WCZYTANIE PARAMETRÓW Z CHECKPOINTA\n",
    "loaded_checkpoint = torch.load(LOAD_CHECKPOINT_PATH)\n",
    "\n",
    "BATCH_SIZE = loaded_checkpoint[\"batch_size\"]\n",
    "RECONSTRUCTION_TERM_WEIGHT = loaded_checkpoint[\"reconstruction_term_weight\"]\n",
    "log_dict_old=loaded_checkpoint[\"log_dict\"]\n",
    "\n",
    "epoch = loaded_checkpoint[\"epoch\"]\n",
    "print(epoch)\n",
    "TOTAL_NUM_EPOCHS=epoch+NUM_EPOCHS\n",
    "model_name=loaded_checkpoint[\"model_name\"]\n",
    "print(model_name)\n",
    "constrains_std_max=loaded_checkpoint[\"constrains_std_max\"]\n",
    "constrains_std_min=loaded_checkpoint[\"constrains_std_min\"]"
   ]
  },
  {
   "cell_type": "code",
   "execution_count": 4,
   "metadata": {},
   "outputs": [],
   "source": [
    "# UTWORZENIE ŚCIEŻKI DO ZAPISU MODELU\n",
    "SAVE_MODEL_FILE=f'TrainedModels/InfoVAE/nc_{TOTAL_NUM_EPOCHS}epoch_1804_mmd_checkpoint.pth'#None gdy nie tworzy się nowego zapisu"
   ]
  },
  {
   "cell_type": "code",
   "execution_count": 5,
   "metadata": {},
   "outputs": [
    {
     "name": "stdout",
     "output_type": "stream",
     "text": [
      "Device: cuda:0\n"
     ]
    }
   ],
   "source": [
    "CUDA_DEVICE_NUM=0\n",
    "DEVICE = torch.device(f'cuda:{CUDA_DEVICE_NUM}' if torch.cuda.is_available() else 'cpu')\n",
    "print('Device:', DEVICE)"
   ]
  },
  {
   "cell_type": "code",
   "execution_count": 6,
   "metadata": {},
   "outputs": [
    {
     "name": "stdout",
     "output_type": "stream",
     "text": [
      "8024064\n",
      "8388608\n",
      "Quadro RTX 8000\n",
      "50959679488\n"
     ]
    }
   ],
   "source": [
    "print(torch.cuda.memory_allocated(device=DEVICE))\n",
    "print(torch.cuda.memory_reserved(device=DEVICE))\n",
    "print(torch.cuda.get_device_name(0))\n",
    "print(torch.cuda.get_device_properties(0).total_memory)"
   ]
  },
  {
   "cell_type": "code",
   "execution_count": 7,
   "metadata": {},
   "outputs": [],
   "source": [
    "#WCZYTANIE MODELU Z CHECKPOINTA\n",
    "model = getattr(__import__('models_architecture_helper', fromlist=[model_name]), model_name)"
   ]
  },
  {
   "cell_type": "code",
   "execution_count": 8,
   "metadata": {},
   "outputs": [],
   "source": [
    "#ODCZYTANIE DANYCH Z PLIKU 'photons.npy'\n",
    "photons = np.load(path)"
   ]
  },
  {
   "cell_type": "code",
   "execution_count": 9,
   "metadata": {},
   "outputs": [
    {
     "name": "stdout",
     "output_type": "stream",
     "text": [
      "(12719035, 6)\n"
     ]
    }
   ],
   "source": [
    "#USUWANIE DANYCH Z dZ MNIEJSZYM NIŻ 0\n",
    "photons_nodz=np.delete(photons, np.where(photons[:,5]<0),axis=0)\n",
    "print(photons_nodz.shape)"
   ]
  },
  {
   "cell_type": "code",
   "execution_count": 10,
   "metadata": {},
   "outputs": [],
   "source": [
    "#WPROWADZENIE SYMETRII X,Y DO ZBIORU FOTONÓW\n",
    "symmetrized_photons=get_photons_with_introduced_XY_symmetries(photons=photons_nodz,random_seed=RANDOM_SEED)"
   ]
  },
  {
   "cell_type": "code",
   "execution_count": 11,
   "metadata": {},
   "outputs": [
    {
     "data": {
      "text/html": [
       "<div>\n",
       "<style scoped>\n",
       "    .dataframe tbody tr th:only-of-type {\n",
       "        vertical-align: middle;\n",
       "    }\n",
       "\n",
       "    .dataframe tbody tr th {\n",
       "        vertical-align: top;\n",
       "    }\n",
       "\n",
       "    .dataframe thead th {\n",
       "        text-align: right;\n",
       "    }\n",
       "</style>\n",
       "<table border=\"1\" class=\"dataframe\">\n",
       "  <thead>\n",
       "    <tr style=\"text-align: right;\">\n",
       "      <th></th>\n",
       "      <th>E</th>\n",
       "      <th>X</th>\n",
       "      <th>Y</th>\n",
       "      <th>dX</th>\n",
       "      <th>dY</th>\n",
       "      <th>dZ</th>\n",
       "    </tr>\n",
       "  </thead>\n",
       "  <tbody>\n",
       "    <tr>\n",
       "      <th>0</th>\n",
       "      <td>4.45203</td>\n",
       "      <td>-4.39070</td>\n",
       "      <td>-2.44528</td>\n",
       "      <td>-0.169138</td>\n",
       "      <td>-0.094289</td>\n",
       "      <td>0.981072</td>\n",
       "    </tr>\n",
       "    <tr>\n",
       "      <th>1</th>\n",
       "      <td>0.34110</td>\n",
       "      <td>-3.09801</td>\n",
       "      <td>-3.97138</td>\n",
       "      <td>-0.119365</td>\n",
       "      <td>-0.153048</td>\n",
       "      <td>0.980983</td>\n",
       "    </tr>\n",
       "    <tr>\n",
       "      <th>2</th>\n",
       "      <td>1.04284</td>\n",
       "      <td>2.69596</td>\n",
       "      <td>-1.92596</td>\n",
       "      <td>0.104983</td>\n",
       "      <td>-0.074969</td>\n",
       "      <td>0.991644</td>\n",
       "    </tr>\n",
       "    <tr>\n",
       "      <th>3</th>\n",
       "      <td>2.84573</td>\n",
       "      <td>4.25968</td>\n",
       "      <td>-1.85673</td>\n",
       "      <td>0.164585</td>\n",
       "      <td>-0.071678</td>\n",
       "      <td>0.983755</td>\n",
       "    </tr>\n",
       "    <tr>\n",
       "      <th>4</th>\n",
       "      <td>0.75520</td>\n",
       "      <td>2.39109</td>\n",
       "      <td>0.23989</td>\n",
       "      <td>0.093510</td>\n",
       "      <td>0.009379</td>\n",
       "      <td>0.995574</td>\n",
       "    </tr>\n",
       "  </tbody>\n",
       "</table>\n",
       "</div>"
      ],
      "text/plain": [
       "         E        X        Y        dX        dY        dZ\n",
       "0  4.45203 -4.39070 -2.44528 -0.169138 -0.094289  0.981072\n",
       "1  0.34110 -3.09801 -3.97138 -0.119365 -0.153048  0.980983\n",
       "2  1.04284  2.69596 -1.92596  0.104983 -0.074969  0.991644\n",
       "3  2.84573  4.25968 -1.85673  0.164585 -0.071678  0.983755\n",
       "4  0.75520  2.39109  0.23989  0.093510  0.009379  0.995574"
      ]
     },
     "execution_count": 11,
     "metadata": {},
     "output_type": "execute_result"
    }
   ],
   "source": [
    "df_data = pd.DataFrame(symmetrized_photons, columns = [ 'E','X', 'Y', 'dX', 'dY', 'dZ'])\n",
    "df_data.head()#zawsze warto rzucić okiem na dane"
   ]
  },
  {
   "cell_type": "code",
   "execution_count": 12,
   "metadata": {},
   "outputs": [],
   "source": [
    "train_loader, valid_loader, test_loader, stdcs = get_dataloaders_and_standarscaler_photons_from_numpy(tmp_X=symmetrized_photons,\n",
    "    batch_size=BATCH_SIZE, \n",
    "    num_workers=NUM_WORKERS,\n",
    "    test_fraction=TEST_FRACTION, \n",
    "    validation_fraction=VALIDATION_FRACTION)"
   ]
  },
  {
   "cell_type": "code",
   "execution_count": 13,
   "metadata": {},
   "outputs": [],
   "source": [
    "# UTWORZENIE TENSORÓW Z PARAMETRAMI BRZEGOWYMI NA ODPOWIEDNIM URZĄDZENIU\n",
    "if constrains_std_min is not None and constrains_std_max is not None:\n",
    "    standarized_constrains_min=constrains_std_min.to(DEVICE)\n",
    "    standarized_constrains_max=constrains_std_max.to(DEVICE)\n",
    "else:\n",
    "    standarized_constrains_min=None\n",
    "    standarized_constrains_max=None\n"
   ]
  },
  {
   "cell_type": "code",
   "execution_count": 14,
   "metadata": {},
   "outputs": [],
   "source": [
    "# model=model()\n",
    "model=model(constrains_std_min=standarized_constrains_min, constrains_std_max=standarized_constrains_max)\n",
    "model.to(DEVICE)\n",
    "model.load_state_dict(loaded_checkpoint[\"model_state\"])\n",
    "\n",
    "optimizer = torch.optim.Adam(model.parameters(),\n",
    "                             lr=0, \n",
    "                             weight_decay=1e-5)\n",
    "\n",
    "optimizer.load_state_dict(loaded_checkpoint[\"optim_state\"])\n",
    "\n",
    "#print(optimizer.state_dict)"
   ]
  },
  {
   "cell_type": "code",
   "execution_count": 15,
   "metadata": {},
   "outputs": [
    {
     "name": "stdout",
     "output_type": "stream",
     "text": [
      "Epoch: 001/040 | Batch 0000/0829 | Loss: 0.0318\n"
     ]
    }
   ],
   "source": [
    "log_dict_new=train_vae_mmd(num_epochs=NUM_EPOCHS, device=DEVICE, model=model,optimizer=optimizer,train_loader=train_loader,loss_fn=None, test_loader=test_loader, logging_interval=LOGGING_INTERVAL, reconstruction_term_weight=RECONSTRUCTION_TERM_WEIGHT, save_model_file=SAVE_MODEL_FILE, total_num_of_epochs=TOTAL_NUM_EPOCHS, constrains_std_min=standarized_constrains_min, constrains_std_max=standarized_constrains_max, log_dict_old=log_dict_old)"
   ]
  }
 ],
 "metadata": {
  "interpreter": {
   "hash": "5b49ffdf1bf063af7ff26dd1ef9dd65469985430119a126229acbeb0592f571b"
  },
  "kernelspec": {
   "display_name": "Python 3.9.7 ('generative')",
   "language": "python",
   "name": "python3"
  },
  "language_info": {
   "codemirror_mode": {
    "name": "ipython",
    "version": 3
   },
   "file_extension": ".py",
   "mimetype": "text/x-python",
   "name": "python",
   "nbconvert_exporter": "python",
   "pygments_lexer": "ipython3",
   "version": "3.9.7"
  },
  "orig_nbformat": 4
 },
 "nbformat": 4,
 "nbformat_minor": 2
}
