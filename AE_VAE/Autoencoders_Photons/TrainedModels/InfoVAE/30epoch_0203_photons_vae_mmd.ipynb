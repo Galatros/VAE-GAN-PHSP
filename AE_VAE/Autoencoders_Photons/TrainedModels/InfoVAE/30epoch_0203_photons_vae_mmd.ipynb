{
 "cells": [
  {
   "cell_type": "code",
   "execution_count": 1,
   "metadata": {
    "execution": {
     "iopub.execute_input": "2022-03-04T22:08:39.169372Z",
     "iopub.status.busy": "2022-03-04T22:08:39.168802Z",
     "iopub.status.idle": "2022-03-04T22:08:40.594838Z",
     "shell.execute_reply": "2022-03-04T22:08:40.595250Z"
    }
   },
   "outputs": [],
   "source": [
    "from data_helper import get_dataloaders_and_standarscaler_photons, get_dataloaders_and_standarscaler_photons_from_numpy\n",
    "from train_helper import train_vae, train_vae_mmd\n",
    "from plot_helper import plot_training_loss\n",
    "from models_architecture_helper import VAE_Linear_0203\n",
    "\n",
    "import copy\n",
    "\n",
    "import numpy as np\n",
    "import pandas as pd\n",
    "import matplotlib.pyplot as plt\n",
    "import seaborn as sns\n",
    "\n",
    "import torch\n",
    "import torch.nn as nn"
   ]
  },
  {
   "cell_type": "code",
   "execution_count": 2,
   "metadata": {
    "execution": {
     "iopub.execute_input": "2022-03-04T22:08:40.599227Z",
     "iopub.status.busy": "2022-03-04T22:08:40.598704Z",
     "iopub.status.idle": "2022-03-04T22:08:40.601169Z",
     "shell.execute_reply": "2022-03-04T22:08:40.600765Z"
    }
   },
   "outputs": [],
   "source": [
    "#TODO czy zapisywać Logging interval ? \n",
    "#TODO i czy zapisywać całkowity number of epochs gdyby we wczytanym modelu robić kolejnego checkpointa"
   ]
  },
  {
   "cell_type": "code",
   "execution_count": 3,
   "metadata": {
    "execution": {
     "iopub.execute_input": "2022-03-04T22:08:40.605622Z",
     "iopub.status.busy": "2022-03-04T22:08:40.605111Z",
     "iopub.status.idle": "2022-03-04T22:08:40.607290Z",
     "shell.execute_reply": "2022-03-04T22:08:40.607686Z"
    }
   },
   "outputs": [],
   "source": [
    "# Hyperparameters\n",
    "RANDOM_SEED = 123\n",
    "LEARNING_RATE = 0.0005\n",
    "BATCH_SIZE = 10000\n",
    "NUM_EPOCHS = 30\n",
    "LOGGING_INTERVAL=300\n",
    "RECONSTRUCTION_TERM_WEIGHT=1\n",
    "\n",
    "PLOT_FRACTION=0.0125\n",
    "TEST_FRACTION=0.4\n",
    "VALIDATION_FRACTION=0.0\n",
    "SAVE_MODEL_FILE='checkpoint.pth'\n",
    "NUM_WORKERS=0\n",
    "path='/data1/dose-3d-generative/data/training-data/DISP_0.5_ANGLE_0/NUMPY/a1_10_7.npy'"
   ]
  },
  {
   "cell_type": "code",
   "execution_count": 4,
   "metadata": {
    "execution": {
     "iopub.execute_input": "2022-03-04T22:08:40.665344Z",
     "iopub.status.busy": "2022-03-04T22:08:40.664660Z",
     "iopub.status.idle": "2022-03-04T22:08:40.676372Z",
     "shell.execute_reply": "2022-03-04T22:08:40.675924Z"
    }
   },
   "outputs": [
    {
     "name": "stdout",
     "output_type": "stream",
     "text": [
      "Device: cuda:0\n"
     ]
    }
   ],
   "source": [
    "CUDA_DEVICE_NUM=0\n",
    "DEVICE = torch.device(f'cuda:{CUDA_DEVICE_NUM}' if torch.cuda.is_available() else 'cpu')\n",
    "print('Device:', DEVICE)"
   ]
  },
  {
   "cell_type": "code",
   "execution_count": 5,
   "metadata": {
    "execution": {
     "iopub.execute_input": "2022-03-04T22:08:40.682705Z",
     "iopub.status.busy": "2022-03-04T22:08:40.682166Z",
     "iopub.status.idle": "2022-03-04T22:08:40.684965Z",
     "shell.execute_reply": "2022-03-04T22:08:40.685352Z"
    }
   },
   "outputs": [
    {
     "name": "stdout",
     "output_type": "stream",
     "text": [
      "0\n",
      "0\n",
      "Quadro RTX 8000\n"
     ]
    }
   ],
   "source": [
    "print(torch.cuda.memory_allocated(device=DEVICE))\n",
    "print(torch.cuda.memory_reserved(device=DEVICE))\n",
    "print(torch.cuda.get_device_name(0))"
   ]
  },
  {
   "cell_type": "code",
   "execution_count": 6,
   "metadata": {
    "execution": {
     "iopub.execute_input": "2022-03-04T22:08:40.689396Z",
     "iopub.status.busy": "2022-03-04T22:08:40.688887Z",
     "iopub.status.idle": "2022-03-04T22:08:40.910774Z",
     "shell.execute_reply": "2022-03-04T22:08:40.910321Z"
    }
   },
   "outputs": [
    {
     "name": "stdout",
     "output_type": "stream",
     "text": [
      "(10000001, 6)\n"
     ]
    }
   ],
   "source": [
    "#ODCZYTANIE DANYCH Z PLIKU 'photons.npy'\n",
    "photons = np.load(path)\n",
    "X = np.zeros((10000001, 6),dtype=np.float32)\n",
    "np.copyto(X,photons[:,:-1])\n",
    "print(X.shape)"
   ]
  },
  {
   "cell_type": "code",
   "execution_count": 7,
   "metadata": {
    "execution": {
     "iopub.execute_input": "2022-03-04T22:08:40.915963Z",
     "iopub.status.busy": "2022-03-04T22:08:40.915455Z",
     "iopub.status.idle": "2022-03-04T22:08:41.339884Z",
     "shell.execute_reply": "2022-03-04T22:08:41.340310Z"
    }
   },
   "outputs": [
    {
     "name": "stdout",
     "output_type": "stream",
     "text": [
      "20000002\n"
     ]
    }
   ],
   "source": [
    "X_reflection=copy.deepcopy(X)\n",
    "X_reflection[:,2]=-X_reflection[:,2]\n",
    "X_reflection[:,4]=-X_reflection[:,4]\n",
    "\n",
    "X_sum=np.concatenate((X,X_reflection),axis=0)\n",
    "print(len(X_sum))"
   ]
  },
  {
   "cell_type": "code",
   "execution_count": 8,
   "metadata": {
    "execution": {
     "iopub.execute_input": "2022-03-04T22:08:41.347712Z",
     "iopub.status.busy": "2022-03-04T22:08:41.347197Z",
     "iopub.status.idle": "2022-03-04T22:08:41.358134Z",
     "shell.execute_reply": "2022-03-04T22:08:41.358533Z"
    }
   },
   "outputs": [
    {
     "data": {
      "text/html": [
       "<div>\n",
       "<style scoped>\n",
       "    .dataframe tbody tr th:only-of-type {\n",
       "        vertical-align: middle;\n",
       "    }\n",
       "\n",
       "    .dataframe tbody tr th {\n",
       "        vertical-align: top;\n",
       "    }\n",
       "\n",
       "    .dataframe thead th {\n",
       "        text-align: right;\n",
       "    }\n",
       "</style>\n",
       "<table border=\"1\" class=\"dataframe\">\n",
       "  <thead>\n",
       "    <tr style=\"text-align: right;\">\n",
       "      <th></th>\n",
       "      <th>X</th>\n",
       "      <th>Y</th>\n",
       "      <th>dX</th>\n",
       "      <th>dY</th>\n",
       "      <th>dZ</th>\n",
       "      <th>E</th>\n",
       "    </tr>\n",
       "  </thead>\n",
       "  <tbody>\n",
       "    <tr>\n",
       "      <th>0</th>\n",
       "      <td>0.77526</td>\n",
       "      <td>-0.50856</td>\n",
       "      <td>-4.60704</td>\n",
       "      <td>-0.018979</td>\n",
       "      <td>-0.177872</td>\n",
       "      <td>0.983871</td>\n",
       "    </tr>\n",
       "    <tr>\n",
       "      <th>1</th>\n",
       "      <td>0.77526</td>\n",
       "      <td>-0.77813</td>\n",
       "      <td>-5.10840</td>\n",
       "      <td>-0.029292</td>\n",
       "      <td>-0.196501</td>\n",
       "      <td>0.980066</td>\n",
       "    </tr>\n",
       "    <tr>\n",
       "      <th>2</th>\n",
       "      <td>0.45010</td>\n",
       "      <td>-3.74409</td>\n",
       "      <td>-1.33591</td>\n",
       "      <td>-0.145330</td>\n",
       "      <td>-0.051869</td>\n",
       "      <td>0.988023</td>\n",
       "    </tr>\n",
       "    <tr>\n",
       "      <th>3</th>\n",
       "      <td>0.39630</td>\n",
       "      <td>-2.50916</td>\n",
       "      <td>-3.30103</td>\n",
       "      <td>-0.274393</td>\n",
       "      <td>-0.273584</td>\n",
       "      <td>0.921879</td>\n",
       "    </tr>\n",
       "    <tr>\n",
       "      <th>4</th>\n",
       "      <td>0.45010</td>\n",
       "      <td>-4.79711</td>\n",
       "      <td>-1.70242</td>\n",
       "      <td>-0.184824</td>\n",
       "      <td>-0.065606</td>\n",
       "      <td>0.980579</td>\n",
       "    </tr>\n",
       "  </tbody>\n",
       "</table>\n",
       "</div>"
      ],
      "text/plain": [
       "         X        Y       dX        dY        dZ         E\n",
       "0  0.77526 -0.50856 -4.60704 -0.018979 -0.177872  0.983871\n",
       "1  0.77526 -0.77813 -5.10840 -0.029292 -0.196501  0.980066\n",
       "2  0.45010 -3.74409 -1.33591 -0.145330 -0.051869  0.988023\n",
       "3  0.39630 -2.50916 -3.30103 -0.274393 -0.273584  0.921879\n",
       "4  0.45010 -4.79711 -1.70242 -0.184824 -0.065606  0.980579"
      ]
     },
     "execution_count": 8,
     "metadata": {},
     "output_type": "execute_result"
    }
   ],
   "source": [
    "df_data = pd.DataFrame(X_sum, columns = ['X', 'Y', 'dX', 'dY', 'dZ', 'E'])\n",
    "df_data.head()#zawsze warto rzucić okiem na dane"
   ]
  },
  {
   "cell_type": "code",
   "execution_count": 9,
   "metadata": {
    "execution": {
     "iopub.execute_input": "2022-03-04T22:08:41.363198Z",
     "iopub.status.busy": "2022-03-04T22:08:41.362631Z",
     "iopub.status.idle": "2022-03-04T22:08:41.574303Z",
     "shell.execute_reply": "2022-03-04T22:08:41.573795Z"
    }
   },
   "outputs": [],
   "source": [
    "tmp_check=df_data.to_numpy(dtype=np.float32)\n",
    "orginal_check=copy.deepcopy(tmp_check)"
   ]
  },
  {
   "cell_type": "code",
   "execution_count": 10,
   "metadata": {
    "execution": {
     "iopub.execute_input": "2022-03-04T22:08:41.595761Z",
     "iopub.status.busy": "2022-03-04T22:08:41.595232Z",
     "iopub.status.idle": "2022-03-04T22:08:45.903471Z",
     "shell.execute_reply": "2022-03-04T22:08:45.902933Z"
    }
   },
   "outputs": [
    {
     "data": {
      "image/png": "[encoded data removed]",
      "text/plain": [
       "<Figure size 1152x576 with 6 Axes>"
      ]
     },
     "metadata": {
      "needs_background": "light"
     },
     "output_type": "display_data"
    }
   ],
   "source": [
    "fig, axs = plt.subplots(2, 3)\n",
    "fig.set_size_inches(16,8)\n",
    "bins=100\n",
    "axs[0, 0].hist(orginal_check[:,0],bins=bins, label ='orginal',alpha=0.5, density=True)\n",
    "axs[0, 0].set_title('X')\n",
    "axs[0, 1].hist(orginal_check[:,1],bins=bins, label ='orginal',alpha=0.5, density=True)\n",
    "axs[0, 1].set_title('Y')\n",
    "axs[0, 2].hist(orginal_check[:,2],bins=bins, label ='orginal',alpha=0.5, density=True)\n",
    "axs[0, 2].set_title('dX')\n",
    "axs[1, 0].hist(orginal_check[:,3],bins=bins, label ='orginal',alpha=0.5, density=True)\n",
    "axs[1, 0].set_title('dY')\n",
    "axs[1, 1].hist(orginal_check[:,4],bins=bins, label ='orginal',alpha=0.5, density=True)\n",
    "axs[1, 1].set_title('dZ')\n",
    "axs[1, 2].hist(orginal_check[:,5],bins=bins, label ='orginal',alpha=0.5, density=True)\n",
    "axs[1, 2].set_title('E')\n",
    "fig.legend()\n",
    "\n",
    "fig.tight_layout()"
   ]
  },
  {
   "cell_type": "code",
   "execution_count": 11,
   "metadata": {
    "execution": {
     "iopub.execute_input": "2022-03-04T22:08:45.908347Z",
     "iopub.status.busy": "2022-03-04T22:08:45.907846Z",
     "iopub.status.idle": "2022-03-04T22:08:50.852550Z",
     "shell.execute_reply": "2022-03-04T22:08:50.852958Z"
    }
   },
   "outputs": [],
   "source": [
    "train_loader, valid_loader, test_loader, stdcs = get_dataloaders_and_standarscaler_photons_from_numpy(tmp_X=X_sum,\n",
    "    batch_size=BATCH_SIZE, \n",
    "    num_workers=NUM_WORKERS,\n",
    "    test_fraction=TEST_FRACTION, \n",
    "    validation_fraction=VALIDATION_FRACTION)"
   ]
  },
  {
   "cell_type": "code",
   "execution_count": 12,
   "metadata": {
    "execution": {
     "iopub.execute_input": "2022-03-04T22:08:50.859344Z",
     "iopub.status.busy": "2022-03-04T22:08:50.858831Z",
     "iopub.status.idle": "2022-03-04T22:08:53.780668Z",
     "shell.execute_reply": "2022-03-04T22:08:53.780095Z"
    }
   },
   "outputs": [],
   "source": [
    "model = VAE_Linear_0203()\n",
    "model.to(DEVICE)\n",
    "\n",
    "#criterion = nn.MSELoss()#FUNKCJA STRATY\n",
    "optimizer = torch.optim.Adam(model.parameters(),\n",
    "                             lr=LEARNING_RATE, \n",
    "                             weight_decay=1e-5)"
   ]
  },
  {
   "cell_type": "code",
   "execution_count": 13,
   "metadata": {
    "execution": {
     "iopub.execute_input": "2022-03-04T22:08:53.786182Z",
     "iopub.status.busy": "2022-03-04T22:08:53.785047Z",
     "iopub.status.idle": "2022-03-05T08:16:17.802697Z",
     "shell.execute_reply": "2022-03-05T08:16:17.802126Z"
    }
   },
   "outputs": [
    {
     "name": "stdout",
     "output_type": "stream",
     "text": [
      "Epoch: 001/030 | Batch 0000/1200 | Loss: 9.0933\n",
      "Epoch: 001/030 | Batch 0300/1200 | Loss: 5.4341\n",
      "Epoch: 001/030 | Batch 0600/1200 | Loss: 2.9533\n",
      "Epoch: 001/030 | Batch 0900/1200 | Loss: 2.1006\n",
      "***Epoch: 001/030 | Loss: 1.814\n",
      "Test***Epoch: 001/030 | Loss: 1.816\n",
      "Time elapsed: 20.33 min\n",
      "Epoch: 002/030 | Batch 0000/1200 | Loss: 1.8707\n",
      "Epoch: 002/030 | Batch 0300/1200 | Loss: 1.8536\n",
      "Epoch: 002/030 | Batch 0600/1200 | Loss: 1.6464\n",
      "Epoch: 002/030 | Batch 0900/1200 | Loss: 1.6588\n",
      "***Epoch: 002/030 | Loss: 1.575\n",
      "Test***Epoch: 002/030 | Loss: 1.577\n",
      "Time elapsed: 40.96 min\n",
      "Epoch: 003/030 | Batch 0000/1200 | Loss: 1.6380\n",
      "Epoch: 003/030 | Batch 0300/1200 | Loss: 1.6560\n",
      "Epoch: 003/030 | Batch 0600/1200 | Loss: 1.5919\n",
      "Epoch: 003/030 | Batch 0900/1200 | Loss: 1.6088\n",
      "***Epoch: 003/030 | Loss: 1.501\n",
      "Test***Epoch: 003/030 | Loss: 1.502\n",
      "Time elapsed: 61.45 min\n",
      "Epoch: 004/030 | Batch 0000/1200 | Loss: 1.5383\n",
      "Epoch: 004/030 | Batch 0300/1200 | Loss: 1.5033\n",
      "Epoch: 004/030 | Batch 0600/1200 | Loss: 1.4234\n",
      "Epoch: 004/030 | Batch 0900/1200 | Loss: 1.2709\n",
      "***Epoch: 004/030 | Loss: 0.607\n",
      "Test***Epoch: 004/030 | Loss: 0.609\n",
      "Time elapsed: 81.97 min\n",
      "Epoch: 005/030 | Batch 0000/1200 | Loss: 0.6350\n",
      "Epoch: 005/030 | Batch 0300/1200 | Loss: 0.4362\n",
      "Epoch: 005/030 | Batch 0600/1200 | Loss: 0.4036\n",
      "Epoch: 005/030 | Batch 0900/1200 | Loss: 0.4544\n",
      "***Epoch: 005/030 | Loss: 0.368\n",
      "Test***Epoch: 005/030 | Loss: 0.369\n",
      "Time elapsed: 102.51 min\n",
      "Epoch: 006/030 | Batch 0000/1200 | Loss: 0.3707\n",
      "Epoch: 006/030 | Batch 0300/1200 | Loss: 0.3719\n",
      "Epoch: 006/030 | Batch 0600/1200 | Loss: 0.3583\n",
      "Epoch: 006/030 | Batch 0900/1200 | Loss: 0.3705\n",
      "***Epoch: 006/030 | Loss: 0.359\n",
      "Test***Epoch: 006/030 | Loss: 0.360\n",
      "Time elapsed: 123.06 min\n",
      "Epoch: 007/030 | Batch 0000/1200 | Loss: 0.3520\n",
      "Epoch: 007/030 | Batch 0300/1200 | Loss: 0.3677\n",
      "Epoch: 007/030 | Batch 0600/1200 | Loss: 0.3607\n",
      "Epoch: 007/030 | Batch 0900/1200 | Loss: 0.3771\n",
      "***Epoch: 007/030 | Loss: 0.359\n",
      "Test***Epoch: 007/030 | Loss: 0.360\n",
      "Time elapsed: 143.45 min\n",
      "Epoch: 008/030 | Batch 0000/1200 | Loss: 0.3628\n",
      "Epoch: 008/030 | Batch 0300/1200 | Loss: 0.3986\n",
      "Epoch: 008/030 | Batch 0600/1200 | Loss: 0.3606\n",
      "Epoch: 008/030 | Batch 0900/1200 | Loss: 0.3427\n",
      "***Epoch: 008/030 | Loss: 0.351\n",
      "Test***Epoch: 008/030 | Loss: 0.352\n",
      "Time elapsed: 163.81 min\n",
      "Epoch: 009/030 | Batch 0000/1200 | Loss: 0.3297\n",
      "Epoch: 009/030 | Batch 0300/1200 | Loss: 0.3369\n",
      "Epoch: 009/030 | Batch 0600/1200 | Loss: 0.3700\n",
      "Epoch: 009/030 | Batch 0900/1200 | Loss: 0.3390\n",
      "***Epoch: 009/030 | Loss: 0.347\n",
      "Test***Epoch: 009/030 | Loss: 0.348\n",
      "Time elapsed: 184.16 min\n",
      "Epoch: 010/030 | Batch 0000/1200 | Loss: 0.3530\n",
      "Epoch: 010/030 | Batch 0300/1200 | Loss: 0.3786\n",
      "Epoch: 010/030 | Batch 0600/1200 | Loss: 0.3519\n",
      "Epoch: 010/030 | Batch 0900/1200 | Loss: 0.3788\n",
      "***Epoch: 010/030 | Loss: 0.345\n",
      "Test***Epoch: 010/030 | Loss: 0.346\n",
      "Time elapsed: 204.47 min\n",
      "Epoch: 011/030 | Batch 0000/1200 | Loss: 0.3505\n",
      "Epoch: 011/030 | Batch 0300/1200 | Loss: 0.3776\n",
      "Epoch: 011/030 | Batch 0600/1200 | Loss: 0.3520\n",
      "Epoch: 011/030 | Batch 0900/1200 | Loss: 0.3417\n",
      "***Epoch: 011/030 | Loss: 0.343\n",
      "Test***Epoch: 011/030 | Loss: 0.344\n",
      "Time elapsed: 224.75 min\n",
      "Epoch: 012/030 | Batch 0000/1200 | Loss: 0.3643\n",
      "Epoch: 012/030 | Batch 0300/1200 | Loss: 0.3616\n",
      "Epoch: 012/030 | Batch 0600/1200 | Loss: 0.3699\n",
      "Epoch: 012/030 | Batch 0900/1200 | Loss: 0.4025\n",
      "***Epoch: 012/030 | Loss: 0.351\n",
      "Test***Epoch: 012/030 | Loss: 0.352\n",
      "Time elapsed: 245.03 min\n",
      "Epoch: 013/030 | Batch 0000/1200 | Loss: 0.3610\n",
      "Epoch: 013/030 | Batch 0300/1200 | Loss: 0.3831\n",
      "Epoch: 013/030 | Batch 0600/1200 | Loss: 0.3187\n",
      "Epoch: 013/030 | Batch 0900/1200 | Loss: 0.3841\n",
      "***Epoch: 013/030 | Loss: 0.346\n",
      "Test***Epoch: 013/030 | Loss: 0.347\n",
      "Time elapsed: 265.35 min\n",
      "Epoch: 014/030 | Batch 0000/1200 | Loss: 0.3682\n",
      "Epoch: 014/030 | Batch 0300/1200 | Loss: 0.4065\n",
      "Epoch: 014/030 | Batch 0600/1200 | Loss: 0.3390\n",
      "Epoch: 014/030 | Batch 0900/1200 | Loss: 0.3537\n",
      "***Epoch: 014/030 | Loss: 0.342\n",
      "Test***Epoch: 014/030 | Loss: 0.343\n",
      "Time elapsed: 285.63 min\n",
      "Epoch: 015/030 | Batch 0000/1200 | Loss: 0.3287\n",
      "Epoch: 015/030 | Batch 0300/1200 | Loss: 0.3531\n",
      "Epoch: 015/030 | Batch 0600/1200 | Loss: 0.3130\n",
      "Epoch: 015/030 | Batch 0900/1200 | Loss: 0.3379\n",
      "***Epoch: 015/030 | Loss: 0.340\n",
      "Test***Epoch: 015/030 | Loss: 0.341\n",
      "Time elapsed: 305.90 min\n",
      "Epoch: 016/030 | Batch 0000/1200 | Loss: 0.3348\n",
      "Epoch: 016/030 | Batch 0300/1200 | Loss: 0.3689\n",
      "Epoch: 016/030 | Batch 0600/1200 | Loss: 0.3366\n",
      "Epoch: 016/030 | Batch 0900/1200 | Loss: 0.3362\n",
      "***Epoch: 016/030 | Loss: 0.340\n",
      "Test***Epoch: 016/030 | Loss: 0.341\n",
      "Time elapsed: 326.17 min\n",
      "Epoch: 017/030 | Batch 0000/1200 | Loss: 0.3424\n",
      "Epoch: 017/030 | Batch 0300/1200 | Loss: 0.3432\n",
      "Epoch: 017/030 | Batch 0600/1200 | Loss: 0.3271\n",
      "Epoch: 017/030 | Batch 0900/1200 | Loss: 0.3668\n",
      "***Epoch: 017/030 | Loss: 0.344\n",
      "Test***Epoch: 017/030 | Loss: 0.345\n",
      "Time elapsed: 346.38 min\n",
      "Epoch: 018/030 | Batch 0000/1200 | Loss: 0.3261\n",
      "Epoch: 018/030 | Batch 0300/1200 | Loss: 0.3442\n",
      "Epoch: 018/030 | Batch 0600/1200 | Loss: 0.3485\n",
      "Epoch: 018/030 | Batch 0900/1200 | Loss: 0.3210\n",
      "***Epoch: 018/030 | Loss: 0.339\n",
      "Test***Epoch: 018/030 | Loss: 0.340\n",
      "Time elapsed: 366.59 min\n",
      "Epoch: 019/030 | Batch 0000/1200 | Loss: 0.3336\n",
      "Epoch: 019/030 | Batch 0300/1200 | Loss: 0.3800\n",
      "Epoch: 019/030 | Batch 0600/1200 | Loss: 0.3464\n",
      "Epoch: 019/030 | Batch 0900/1200 | Loss: 0.3551\n",
      "***Epoch: 019/030 | Loss: 0.338\n",
      "Test***Epoch: 019/030 | Loss: 0.339\n",
      "Time elapsed: 386.82 min\n",
      "Epoch: 020/030 | Batch 0000/1200 | Loss: 0.3916\n",
      "Epoch: 020/030 | Batch 0300/1200 | Loss: 0.3488\n",
      "Epoch: 020/030 | Batch 0600/1200 | Loss: 0.3464\n",
      "Epoch: 020/030 | Batch 0900/1200 | Loss: 0.3604\n",
      "***Epoch: 020/030 | Loss: 0.337\n",
      "Test***Epoch: 020/030 | Loss: 0.339\n",
      "Time elapsed: 406.97 min\n",
      "Epoch: 021/030 | Batch 0000/1200 | Loss: 0.3240\n",
      "Epoch: 021/030 | Batch 0300/1200 | Loss: 0.3712\n",
      "Epoch: 021/030 | Batch 0600/1200 | Loss: 0.3359\n",
      "Epoch: 021/030 | Batch 0900/1200 | Loss: 0.3535\n",
      "***Epoch: 021/030 | Loss: 0.338\n",
      "Test***Epoch: 021/030 | Loss: 0.339\n",
      "Time elapsed: 427.03 min\n",
      "Epoch: 022/030 | Batch 0000/1200 | Loss: 0.3347\n",
      "Epoch: 022/030 | Batch 0300/1200 | Loss: 0.3194\n",
      "Epoch: 022/030 | Batch 0600/1200 | Loss: 0.3566\n",
      "Epoch: 022/030 | Batch 0900/1200 | Loss: 0.3512\n",
      "***Epoch: 022/030 | Loss: 0.336\n",
      "Test***Epoch: 022/030 | Loss: 0.337\n",
      "Time elapsed: 447.07 min\n",
      "Epoch: 023/030 | Batch 0000/1200 | Loss: 0.3374\n",
      "Epoch: 023/030 | Batch 0300/1200 | Loss: 0.3398\n",
      "Epoch: 023/030 | Batch 0600/1200 | Loss: 0.3568\n",
      "Epoch: 023/030 | Batch 0900/1200 | Loss: 0.3757\n",
      "***Epoch: 023/030 | Loss: 0.335\n",
      "Test***Epoch: 023/030 | Loss: 0.336\n",
      "Time elapsed: 467.12 min\n",
      "Epoch: 024/030 | Batch 0000/1200 | Loss: 0.3691\n",
      "Epoch: 024/030 | Batch 0300/1200 | Loss: 0.3476\n",
      "Epoch: 024/030 | Batch 0600/1200 | Loss: 0.3602\n",
      "Epoch: 024/030 | Batch 0900/1200 | Loss: 0.3471\n",
      "***Epoch: 024/030 | Loss: 0.335\n",
      "Test***Epoch: 024/030 | Loss: 0.336\n",
      "Time elapsed: 487.18 min\n",
      "Epoch: 025/030 | Batch 0000/1200 | Loss: 0.3507\n",
      "Epoch: 025/030 | Batch 0300/1200 | Loss: 0.3199\n",
      "Epoch: 025/030 | Batch 0600/1200 | Loss: 0.3036\n",
      "Epoch: 025/030 | Batch 0900/1200 | Loss: 0.3443\n",
      "***Epoch: 025/030 | Loss: 0.336\n",
      "Test***Epoch: 025/030 | Loss: 0.337\n",
      "Time elapsed: 507.22 min\n",
      "Epoch: 026/030 | Batch 0000/1200 | Loss: 0.3568\n",
      "Epoch: 026/030 | Batch 0300/1200 | Loss: 0.3084\n",
      "Epoch: 026/030 | Batch 0600/1200 | Loss: 0.3440\n",
      "Epoch: 026/030 | Batch 0900/1200 | Loss: 0.3684\n",
      "***Epoch: 026/030 | Loss: 0.337\n",
      "Test***Epoch: 026/030 | Loss: 0.338\n",
      "Time elapsed: 527.25 min\n",
      "Epoch: 027/030 | Batch 0000/1200 | Loss: 0.3699\n",
      "Epoch: 027/030 | Batch 0300/1200 | Loss: 0.3694\n",
      "Epoch: 027/030 | Batch 0600/1200 | Loss: 0.3301\n",
      "Epoch: 027/030 | Batch 0900/1200 | Loss: 0.3549\n",
      "***Epoch: 027/030 | Loss: 0.335\n",
      "Test***Epoch: 027/030 | Loss: 0.336\n",
      "Time elapsed: 547.29 min\n",
      "Epoch: 028/030 | Batch 0000/1200 | Loss: 0.3280\n",
      "Epoch: 028/030 | Batch 0300/1200 | Loss: 0.3275\n",
      "Epoch: 028/030 | Batch 0600/1200 | Loss: 0.3571\n",
      "Epoch: 028/030 | Batch 0900/1200 | Loss: 0.3564\n",
      "***Epoch: 028/030 | Loss: 0.333\n",
      "Test***Epoch: 028/030 | Loss: 0.334\n",
      "Time elapsed: 567.32 min\n",
      "Epoch: 029/030 | Batch 0000/1200 | Loss: 0.3244\n",
      "Epoch: 029/030 | Batch 0300/1200 | Loss: 0.3497\n",
      "Epoch: 029/030 | Batch 0600/1200 | Loss: 0.3168\n",
      "Epoch: 029/030 | Batch 0900/1200 | Loss: 0.3193\n",
      "***Epoch: 029/030 | Loss: 0.336\n",
      "Test***Epoch: 029/030 | Loss: 0.337\n",
      "Time elapsed: 587.38 min\n",
      "Epoch: 030/030 | Batch 0000/1200 | Loss: 0.3263\n",
      "Epoch: 030/030 | Batch 0300/1200 | Loss: 0.3239\n",
      "Epoch: 030/030 | Batch 0600/1200 | Loss: 0.3310\n",
      "Epoch: 030/030 | Batch 0900/1200 | Loss: 0.3205\n",
      "***Epoch: 030/030 | Loss: 0.333\n",
      "Test***Epoch: 030/030 | Loss: 0.334\n",
      "Time elapsed: 607.40 min\n",
      "Total Training Time: 607.40 min\n"
     ]
    }
   ],
   "source": [
    "log_dict=train_vae_mmd(num_epochs=NUM_EPOCHS, device=DEVICE, model=model,optimizer=optimizer,train_loader=train_loader,loss_fn=None, test_loader=test_loader, logging_interval=LOGGING_INTERVAL, reconstruction_term_weight=RECONSTRUCTION_TERM_WEIGHT, save_model_file=SAVE_MODEL_FILE)"
   ]
  },
  {
   "cell_type": "code",
   "execution_count": 14,
   "metadata": {
    "execution": {
     "iopub.execute_input": "2022-03-05T08:16:17.820285Z",
     "iopub.status.busy": "2022-03-05T08:16:17.819773Z",
     "iopub.status.idle": "2022-03-05T08:16:18.708306Z",
     "shell.execute_reply": "2022-03-05T08:16:18.707792Z"
    }
   },
   "outputs": [
    {
     "data": {
      "image/png": "[encoded data removed]",
      "text/plain": [
       "<Figure size 432x288 with 2 Axes>"
      ]
     },
     "metadata": {
      "needs_background": "light"
     },
     "output_type": "display_data"
    },
    {
     "data": {
      "image/png": "[encoded data removed]",
      "text/plain": [
       "<Figure size 432x288 with 2 Axes>"
      ]
     },
     "metadata": {
      "needs_background": "light"
     },
     "output_type": "display_data"
    },
    {
     "data": {
      "image/png": "[encoded data removed]",
      "text/plain": [
       "<Figure size 432x288 with 2 Axes>"
      ]
     },
     "metadata": {
      "needs_background": "light"
     },
     "output_type": "display_data"
    }
   ],
   "source": [
    "plot_training_loss(log_dict['train_reconstruction_loss_per_batch'], NUM_EPOCHS, custom_label=\" (reconstruction)\")\n",
    "plot_training_loss(log_dict['train_kl_loss_per_batch'], NUM_EPOCHS, custom_label=\" (KL)\")\n",
    "plot_training_loss(log_dict['train_combined_loss_per_batch'], NUM_EPOCHS, custom_label=\" (combined)\")\n",
    "plt.show()\n",
    "\n"
   ]
  },
  {
   "cell_type": "code",
   "execution_count": 15,
   "metadata": {
    "execution": {
     "iopub.execute_input": "2022-03-05T08:16:18.746580Z",
     "iopub.status.busy": "2022-03-05T08:16:18.730386Z",
     "iopub.status.idle": "2022-03-05T08:16:18.874896Z",
     "shell.execute_reply": "2022-03-05T08:16:18.874486Z"
    }
   },
   "outputs": [
    {
     "data": {
      "image/png": "[encoded data removed]",
      "text/plain": [
       "<Figure size 432x288 with 1 Axes>"
      ]
     },
     "metadata": {
      "needs_background": "light"
     },
     "output_type": "display_data"
    }
   ],
   "source": [
    "plt.plot(range(len(log_dict['train_combined_loss_per_epoch'])), (log_dict['train_combined_loss_per_epoch']), label='Train Epoch Loss')\n",
    "plt.plot(range(len(log_dict['test_combined_loss_per_epoch'])), (log_dict['test_combined_loss_per_epoch']), label='Test Epoch Loss')\n",
    "plt.legend()\n",
    "plt.xlabel('Epochs')\n",
    "plt.ylabel('Loss')\n",
    "#plt.ylim(0.15,0.3)\n",
    "plt.tight_layout()"
   ]
  },
  {
   "cell_type": "code",
   "execution_count": 16,
   "metadata": {
    "execution": {
     "iopub.execute_input": "2022-03-05T08:16:18.879744Z",
     "iopub.status.busy": "2022-03-05T08:16:18.879230Z",
     "iopub.status.idle": "2022-03-05T08:16:22.811841Z",
     "shell.execute_reply": "2022-03-05T08:16:22.812245Z"
    }
   },
   "outputs": [],
   "source": [
    "tmp=df_data.to_numpy(dtype=np.float32)\n",
    "orginal=copy.deepcopy(tmp)\n",
    "tmp=stdcs.transform(tmp)\n",
    "tmp=torch.from_numpy(tmp)\n",
    "#print(tmp)\n",
    "model.eval()\n",
    "with torch.no_grad():\n",
    "    result_encoded_features, z_mean, z_log_var, result_decoded_features =model(tmp.to(device=DEVICE))\n",
    "result=result_decoded_features.cpu().detach().numpy()\n",
    "result=stdcs.inverse_transform(result)"
   ]
  },
  {
   "cell_type": "code",
   "execution_count": 17,
   "metadata": {
    "execution": {
     "iopub.execute_input": "2022-03-05T08:16:22.839442Z",
     "iopub.status.busy": "2022-03-05T08:16:22.838924Z",
     "iopub.status.idle": "2022-03-05T08:16:30.333619Z",
     "shell.execute_reply": "2022-03-05T08:16:30.333160Z"
    }
   },
   "outputs": [
    {
     "data": {
      "image/png": "[encoded data removed]",
      "text/plain": [
       "<Figure size 1152x576 with 6 Axes>"
      ]
     },
     "metadata": {
      "needs_background": "light"
     },
     "output_type": "display_data"
    }
   ],
   "source": [
    "fig, axs = plt.subplots(2, 3)\n",
    "fig.set_size_inches(16,8)\n",
    "bins=100\n",
    "axs[0, 0].hist(orginal[:,0],bins=bins, label ='orginal',alpha=0.5, density=True)\n",
    "axs[0, 0].hist(result[:,0],bins=bins, label ='decoded', alpha=0.5, density=True)\n",
    "axs[0, 0].set_title('X')\n",
    "axs[0, 1].hist(orginal[:,1],bins=bins, label ='orginal',alpha=0.5, density=True)\n",
    "axs[0, 1].hist(result[:,1],bins=bins, label ='decoded', alpha=0.5, density=True)\n",
    "axs[0, 1].set_title('Y')\n",
    "axs[0, 2].hist(orginal[:,2],bins=bins, label ='orginal',alpha=0.5, density=True)\n",
    "axs[0, 2].hist(result[:,2],bins=bins, label ='decoded', alpha=0.5, density=True)\n",
    "axs[0, 2].set_title('dX')\n",
    "axs[1, 0].hist(orginal[:,3],bins=bins, label ='orginal',alpha=0.5, density=True)\n",
    "axs[1, 0].hist(result[:,3],bins=bins, label ='decoded', alpha=0.5, density=True)\n",
    "axs[1, 0].set_title('dY')\n",
    "axs[1, 1].hist(orginal[:,4],bins=bins, label ='orginal',alpha=0.5, density=True)\n",
    "axs[1, 1].hist(result[:,4],bins=bins, label ='decoded', alpha=0.5, density=True)\n",
    "axs[1, 1].set_title('dZ')\n",
    "axs[1, 2].hist(orginal[:,5],bins=bins, label ='orginal',alpha=0.5, density=True)\n",
    "axs[1, 2].hist(result[:,5],bins=bins, label ='decoded', alpha=0.5, density=True)\n",
    "axs[1, 2].set_title('E')\n",
    "fig.legend()\n",
    "\n",
    "# for ax in axs.flat:\n",
    "#     ax.set(xlabel='x-label', ylabel='y-label')\n",
    "\n",
    "# # Hide x labels and tick labels for top plots and y ticks for right plots.\n",
    "# for ax in axs.flat:\n",
    "#     ax.label_outer()\n",
    "fig.tight_layout()"
   ]
  },
  {
   "cell_type": "code",
   "execution_count": 18,
   "metadata": {
    "execution": {
     "iopub.execute_input": "2022-03-05T08:16:30.416819Z",
     "iopub.status.busy": "2022-03-05T08:16:30.351833Z",
     "iopub.status.idle": "2022-03-05T08:16:53.367291Z",
     "shell.execute_reply": "2022-03-05T08:16:53.367711Z"
    }
   },
   "outputs": [
    {
     "data": {
      "image/png": "[encoded data removed]",
      "text/plain": [
       "<Figure size 1440x1440 with 6 Axes>"
      ]
     },
     "metadata": {
      "needs_background": "light"
     },
     "output_type": "display_data"
    }
   ],
   "source": [
    "keys = df_data.columns\n",
    "fig, axs = plt.subplots(2, 3)\n",
    "fig.set_size_inches(20, 20)\n",
    "for i, j in enumerate(keys):\n",
    "    mi = np.minimum(orginal[:, i].min(), result[:, i].min())\n",
    "    ma = np.maximum(orginal[:, i].max(), result[:, i].max())\n",
    "    bins = np.linspace(mi, ma, 300)\n",
    "    axs.flatten()[i].hist(orginal[:, i], bins, alpha=.5)\n",
    "    axs.flatten()[i].hist(result[:, i], bins, alpha=.5)\n",
    "    axs.flatten()[i].set_title(j)"
   ]
  },
  {
   "cell_type": "code",
   "execution_count": 19,
   "metadata": {
    "execution": {
     "iopub.execute_input": "2022-03-05T08:16:53.374005Z",
     "iopub.status.busy": "2022-03-05T08:16:53.373081Z",
     "iopub.status.idle": "2022-03-05T08:16:54.757601Z",
     "shell.execute_reply": "2022-03-05T08:16:54.757982Z"
    }
   },
   "outputs": [
    {
     "name": "stdout",
     "output_type": "stream",
     "text": [
      "True\n"
     ]
    }
   ],
   "source": [
    "decoded_df=pd.DataFrame(result,columns=['X', 'Y', 'dX', 'dY', 'dZ', 'E'])\n",
    "orginal_df=df_data.iloc[:,:]\n",
    "\n",
    "\n",
    "concatenated_datasets=pd.concat([orginal_df.assign(dataset_name='orginal'), decoded_df.assign(dataset_name='decoded')],ignore_index=True)\n",
    "concatenated_datasets.shape\n",
    "print(concatenated_datasets.index.is_unique)"
   ]
  },
  {
   "cell_type": "code",
   "execution_count": 20,
   "metadata": {
    "execution": {
     "iopub.execute_input": "2022-03-05T08:16:55.308973Z",
     "iopub.status.busy": "2022-03-05T08:16:55.307658Z",
     "iopub.status.idle": "2022-03-05T08:17:00.200155Z",
     "shell.execute_reply": "2022-03-05T08:17:00.199751Z"
    }
   },
   "outputs": [
    {
     "name": "stdout",
     "output_type": "stream",
     "text": [
      "(500000, 7)\n",
      "                 X         Y        dX        dY        dZ         E  \\\n",
      "31583840  0.852207  1.985806  0.908310  0.077332  0.044806  0.988401   \n",
      "34539943  0.266969  1.878780  4.353431  0.112404  0.211314  0.976942   \n",
      "20004843  0.320929  3.762698 -3.471214  0.159881 -0.168856  0.982912   \n",
      "20169494  1.021335 -0.715821  2.544538 -0.027318  0.123828  0.989309   \n",
      "38060417  0.588475 -3.415033  3.113837 -0.305395  0.158157  0.927969   \n",
      "\n",
      "         dataset_name  \n",
      "31583840      decoded  \n",
      "34539943      decoded  \n",
      "20004843      decoded  \n",
      "20169494      decoded  \n",
      "38060417      decoded  \n"
     ]
    }
   ],
   "source": [
    "#TODO trzeba by sprawdzić czy to losowanie działa poprawnie i zwraca próbkę reprezentatywną\n",
    "sample_concatenated=concatenated_datasets.groupby('dataset_name', group_keys=False).apply(lambda x: x.sample(frac=PLOT_FRACTION, random_state=2)) \n",
    "print(sample_concatenated.shape)\n",
    "print(sample_concatenated.head())"
   ]
  },
  {
   "cell_type": "code",
   "execution_count": 21,
   "metadata": {
    "execution": {
     "iopub.execute_input": "2022-03-05T08:17:00.205377Z",
     "iopub.status.busy": "2022-03-05T08:17:00.204529Z",
     "iopub.status.idle": "2022-03-05T08:17:04.950631Z",
     "shell.execute_reply": "2022-03-05T08:17:04.950082Z"
    }
   },
   "outputs": [
    {
     "name": "stdout",
     "output_type": "stream",
     "text": [
      "(250000, 6)\n",
      "                X        Y       dX        dY        dZ         E\n",
      "11583838  0.72217  1.91911  1.02320  0.075932  0.040737  0.996280\n",
      "14539941  0.19622  2.45577  4.91175  0.094408  0.188461  0.977532\n",
      "4841      0.36820  3.95641 -3.81723  0.152133 -0.146734  0.977407\n",
      "169492    1.24696  4.82186 -0.47056 -0.187327  0.301854  0.934769\n",
      "18060415  0.46350 -3.66491  2.14019 -0.309671  0.214503  0.926333\n"
     ]
    }
   ],
   "source": [
    "sample_orginal=orginal_df.apply(lambda x: x.sample(frac=PLOT_FRACTION, random_state=2)) \n",
    "print(sample_orginal.shape)\n",
    "print(sample_orginal.head())"
   ]
  },
  {
   "cell_type": "code",
   "execution_count": 22,
   "metadata": {
    "execution": {
     "iopub.execute_input": "2022-03-05T08:17:04.954465Z",
     "iopub.status.busy": "2022-03-05T08:17:04.953959Z",
     "iopub.status.idle": "2022-03-05T08:17:04.956106Z",
     "shell.execute_reply": "2022-03-05T08:17:04.956500Z"
    }
   },
   "outputs": [],
   "source": [
    "# sns.pairplot(sample_orginal, kind=\"scatter\")"
   ]
  },
  {
   "cell_type": "code",
   "execution_count": 23,
   "metadata": {
    "execution": {
     "iopub.execute_input": "2022-03-05T08:17:04.960780Z",
     "iopub.status.busy": "2022-03-05T08:17:04.960271Z",
     "iopub.status.idle": "2022-03-05T08:17:09.708624Z",
     "shell.execute_reply": "2022-03-05T08:17:09.709020Z"
    }
   },
   "outputs": [
    {
     "name": "stdout",
     "output_type": "stream",
     "text": [
      "(250000, 6)\n",
      "                 X         Y        dX        dY        dZ         E\n",
      "11583838  0.852207  1.985806  0.908310  0.077332  0.044806  0.988401\n",
      "14539941  0.266969  1.878780  4.353431  0.112404  0.211314  0.976942\n",
      "4841      0.320929  3.762698 -3.471214  0.159881 -0.168856  0.982912\n",
      "169492    1.021335 -0.715821  2.544538 -0.027318  0.123828  0.989309\n",
      "18060415  0.588475 -3.415033  3.113837 -0.305395  0.158157  0.927969\n"
     ]
    }
   ],
   "source": [
    "sample_decoded=decoded_df.apply(lambda x: x.sample(frac=PLOT_FRACTION, random_state=2)) \n",
    "print(sample_decoded.shape)\n",
    "print(sample_decoded.head())"
   ]
  },
  {
   "cell_type": "code",
   "execution_count": 24,
   "metadata": {
    "execution": {
     "iopub.execute_input": "2022-03-05T08:17:09.712595Z",
     "iopub.status.busy": "2022-03-05T08:17:09.712095Z",
     "iopub.status.idle": "2022-03-05T08:17:09.714641Z",
     "shell.execute_reply": "2022-03-05T08:17:09.714219Z"
    }
   },
   "outputs": [],
   "source": [
    "# sns.pairplot(sample_decoded, kind=\"scatter\")"
   ]
  },
  {
   "cell_type": "code",
   "execution_count": 25,
   "metadata": {
    "execution": {
     "iopub.execute_input": "2022-03-05T08:17:09.717920Z",
     "iopub.status.busy": "2022-03-05T08:17:09.717427Z",
     "iopub.status.idle": "2022-03-05T08:17:09.719599Z",
     "shell.execute_reply": "2022-03-05T08:17:09.719997Z"
    }
   },
   "outputs": [],
   "source": [
    "# sns.pairplot(sample_concatenated, hue=\"dataset_name\", kind=\"scatter\", plot_kws=dict(alpha=0.5))\n",
    "\n",
    "# g = sns.PairGrid(concatenated_datasets, hue='dataset_name')\n",
    "# g.map_upper(sns.scatterplot)\n",
    "# #g.map_lower(sns.kdeplot, fill=True)\n",
    "# g.map_diag(sns.histplot, kde=True)\n",
    "\n",
    "# sns.pairplot(concatenated_datasets, hue=\"dataset_name\", kind=\"scatter\", plot_kws=dict(alpha=0.5),corner=True)"
   ]
  },
  {
   "cell_type": "code",
   "execution_count": 26,
   "metadata": {
    "execution": {
     "iopub.execute_input": "2022-03-05T08:17:09.725899Z",
     "iopub.status.busy": "2022-03-05T08:17:09.725397Z",
     "iopub.status.idle": "2022-03-05T08:17:09.829844Z",
     "shell.execute_reply": "2022-03-05T08:17:09.829328Z"
    }
   },
   "outputs": [],
   "source": [
    "tmp_2=df_data.iloc[37:38,:]\n",
    "tmp_2=tmp_2.to_numpy(dtype=np.float32)\n",
    "orginal_2=tmp_2\n",
    "tmp_2=stdcs.transform(tmp_2)\n",
    "tmp_2=torch.from_numpy(tmp_2)\n",
    "model.eval()\n",
    "with torch.no_grad():\n",
    "    result_encoded_features_2, z_mean_2, z_log_var_2, result_decoded_features_2=model(tmp_2.to(device=DEVICE))\n",
    "result_2=result_decoded_features_2.cpu().detach().numpy()\n",
    "result_2=stdcs.inverse_transform(result_2)"
   ]
  },
  {
   "cell_type": "code",
   "execution_count": 27,
   "metadata": {
    "execution": {
     "iopub.execute_input": "2022-03-05T08:17:09.833262Z",
     "iopub.status.busy": "2022-03-05T08:17:09.832773Z",
     "iopub.status.idle": "2022-03-05T08:17:09.834905Z",
     "shell.execute_reply": "2022-03-05T08:17:09.835285Z"
    }
   },
   "outputs": [],
   "source": [
    "orginal_2=orginal_2.flatten()\n",
    "result_2=result_2.flatten()"
   ]
  },
  {
   "cell_type": "code",
   "execution_count": 28,
   "metadata": {
    "execution": {
     "iopub.execute_input": "2022-03-05T08:17:09.844864Z",
     "iopub.status.busy": "2022-03-05T08:17:09.844331Z",
     "iopub.status.idle": "2022-03-05T08:17:09.847803Z",
     "shell.execute_reply": "2022-03-05T08:17:09.847392Z"
    }
   },
   "outputs": [
    {
     "data": {
      "text/html": [
       "<div>\n",
       "<style scoped>\n",
       "    .dataframe tbody tr th:only-of-type {\n",
       "        vertical-align: middle;\n",
       "    }\n",
       "\n",
       "    .dataframe tbody tr th {\n",
       "        vertical-align: top;\n",
       "    }\n",
       "\n",
       "    .dataframe thead th {\n",
       "        text-align: right;\n",
       "    }\n",
       "</style>\n",
       "<table border=\"1\" class=\"dataframe\">\n",
       "  <thead>\n",
       "    <tr style=\"text-align: right;\">\n",
       "      <th></th>\n",
       "      <th>X</th>\n",
       "      <th>Y</th>\n",
       "      <th>dX</th>\n",
       "      <th>dY</th>\n",
       "      <th>dZ</th>\n",
       "      <th>E</th>\n",
       "    </tr>\n",
       "  </thead>\n",
       "  <tbody>\n",
       "    <tr>\n",
       "      <th>0</th>\n",
       "      <td>2.359750</td>\n",
       "      <td>2.614970</td>\n",
       "      <td>-4.69867</td>\n",
       "      <td>0.100502</td>\n",
       "      <td>-0.180584</td>\n",
       "      <td>0.978411</td>\n",
       "    </tr>\n",
       "    <tr>\n",
       "      <th>1</th>\n",
       "      <td>2.212126</td>\n",
       "      <td>2.634189</td>\n",
       "      <td>-4.25260</td>\n",
       "      <td>0.099617</td>\n",
       "      <td>-0.206656</td>\n",
       "      <td>0.988152</td>\n",
       "    </tr>\n",
       "  </tbody>\n",
       "</table>\n",
       "</div>"
      ],
      "text/plain": [
       "          X         Y       dX        dY        dZ         E\n",
       "0  2.359750  2.614970 -4.69867  0.100502 -0.180584  0.978411\n",
       "1  2.212126  2.634189 -4.25260  0.099617 -0.206656  0.988152"
      ]
     },
     "execution_count": 28,
     "metadata": {},
     "output_type": "execute_result"
    }
   ],
   "source": [
    "df=pd.DataFrame(np.stack((orginal_2,result_2)), columns=['X', 'Y', 'dX', 'dY', 'dZ', 'E'])\n",
    "df"
   ]
  },
  {
   "cell_type": "code",
   "execution_count": 29,
   "metadata": {
    "execution": {
     "iopub.execute_input": "2022-03-05T08:17:09.851020Z",
     "iopub.status.busy": "2022-03-05T08:17:09.850525Z",
     "iopub.status.idle": "2022-03-05T08:17:09.852661Z",
     "shell.execute_reply": "2022-03-05T08:17:09.853044Z"
    }
   },
   "outputs": [],
   "source": [
    "# encoded_features=[]\n",
    "# model.eval()\n",
    "# for index, feature in enumerate(train_loader):\n",
    "#     with torch.no_grad():\n",
    "#         tmp_encoded_features, z_mean, z_log_var, decoded =model(feature.to(device=DEVICE))\n",
    "#         encoded_features.extend(tmp_encoded_features.cpu().detach().numpy())\n",
    "# encoded_features=np.asarray(encoded_features)\n",
    "\n",
    "# print(encoded_features.shape)"
   ]
  },
  {
   "cell_type": "code",
   "execution_count": 30,
   "metadata": {
    "execution": {
     "iopub.execute_input": "2022-03-05T08:17:09.856446Z",
     "iopub.status.busy": "2022-03-05T08:17:09.855941Z",
     "iopub.status.idle": "2022-03-05T08:17:09.858505Z",
     "shell.execute_reply": "2022-03-05T08:17:09.858098Z"
    }
   },
   "outputs": [],
   "source": [
    "# #PRZESTRZEŃ UKRYTA VAE\n",
    "# colors = ['r']\n",
    "# markers = ['s']\n",
    "\n",
    "# fig=plt.figure()\n",
    "# ax=fig.add_subplot(projection='3d')\n",
    "# for c, m in zip(colors, markers):\n",
    "#     ax.scatter(encoded_features[:,0],encoded_features[:,2],encoded_features[:,1],marker=m,c=c)\n",
    "\n",
    "# ax.set_xlabel('VAE 1')\n",
    "# ax.set_ylabel('VAE 2')\n",
    "# ax.set_zlabel('VAE 3')\n",
    "\n",
    "# plt.show()"
   ]
  }
 ],
 "metadata": {
  "interpreter": {
   "hash": "94e50cba98016e2c68fceb7b9fa13391593fa96fd78bad5a436d2ca9f0548949"
  },
  "kernelspec": {
   "display_name": "Python 3.8.12 64-bit ('pytorch_wine_env': conda)",
   "language": "python",
   "name": "python3"
  },
  "language_info": {
   "codemirror_mode": {
    "name": "ipython",
    "version": 3
   },
   "file_extension": ".py",
   "mimetype": "text/x-python",
   "name": "python",
   "nbconvert_exporter": "python",
   "pygments_lexer": "ipython3",
   "version": "3.9.7"
  }
 },
 "nbformat": 4,
 "nbformat_minor": 2
}
