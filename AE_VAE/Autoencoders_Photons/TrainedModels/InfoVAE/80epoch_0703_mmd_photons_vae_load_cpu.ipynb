{
 "cells": [
  {
   "cell_type": "code",
   "execution_count": 1,
   "metadata": {
    "execution": {
     "iopub.execute_input": "2022-03-09T00:25:51.077170Z",
     "iopub.status.busy": "2022-03-09T00:25:51.076553Z",
     "iopub.status.idle": "2022-03-09T00:25:52.443546Z",
     "shell.execute_reply": "2022-03-09T00:25:52.442972Z"
    }
   },
   "outputs": [],
   "source": [
    "#TODO funkcja trenująca powinna aktualizować słowniki w checkpoint.pth przypadku wczytania modelu\n",
    "from data_helper import get_dataloaders_and_standarscaler_photons_from_numpy\n",
    "from train_helper import train_vae, train_vae_mmd\n",
    "from plot_helper import plot_training_loss\n",
    "\n",
    "import copy\n",
    "\n",
    "import numpy as np\n",
    "import pandas as pd\n",
    "import matplotlib.pyplot as plt\n",
    "import seaborn as sns\n",
    "\n",
    "import torch\n",
    "import torch.nn as nn"
   ]
  },
  {
   "cell_type": "code",
   "execution_count": 2,
   "metadata": {
    "execution": {
     "iopub.execute_input": "2022-03-09T00:25:52.448381Z",
     "iopub.status.busy": "2022-03-09T00:25:52.447831Z",
     "iopub.status.idle": "2022-03-09T00:25:52.449928Z",
     "shell.execute_reply": "2022-03-09T00:25:52.450330Z"
    }
   },
   "outputs": [],
   "source": [
    "# Hyperparameters\n",
    "RANDOM_SEED = 123\n",
    "NUM_EPOCHS = 30\n",
    "LOGGING_INTERVAL=300\n",
    "\n",
    "# RECONSTRUCTION_TERM_WEIGHT=2.8 \n",
    "# LEARNING_RATE = 0.0005\n",
    "# BATCH_SIZE = 1024\n",
    "#TOTAL_NUM_EPOCHS\n",
    "# SAVE_MODEL_FILE\n",
    "\n",
    "PLOT_FRACTION=0.0125\n",
    "TEST_FRACTION=0.4\n",
    "VALIDATION_FRACTION=0.0\n",
    "NUM_WORKERS=0\n",
    "path='/data1/dose-3d-generative/data/training-data/DISP_0.5_ANGLE_0/NUMPY/a1_10_7.npy'\n",
    "LOAD_CHECKPOINT_PATH=\"TrainedModels/InfoVAE/50epoch_0703_mmd_checkpoint.pth\""
   ]
  },
  {
   "cell_type": "code",
   "execution_count": 3,
   "metadata": {
    "execution": {
     "iopub.execute_input": "2022-03-09T00:25:52.455066Z",
     "iopub.status.busy": "2022-03-09T00:25:52.454529Z",
     "iopub.status.idle": "2022-03-09T00:25:55.510301Z",
     "shell.execute_reply": "2022-03-09T00:25:55.510754Z"
    }
   },
   "outputs": [
    {
     "name": "stdout",
     "output_type": "stream",
     "text": [
      "50\n",
      "VAE_Linear_0703\n"
     ]
    }
   ],
   "source": [
    "loaded_checkpoint = torch.load(LOAD_CHECKPOINT_PATH)\n",
    "\n",
    "BATCH_SIZE = loaded_checkpoint[\"batch_size\"]\n",
    "RECONSTRUCTION_TERM_WEIGHT = loaded_checkpoint[\"reconstruction_term_weight\"]\n",
    "log_dict_old=loaded_checkpoint[\"log_dict\"]\n",
    "\n",
    "epoch = loaded_checkpoint[\"epoch\"]\n",
    "print(epoch)\n",
    "TOTAL_NUM_EPOCHS=epoch+NUM_EPOCHS\n",
    "model_name=loaded_checkpoint[\"model_name\"]\n",
    "print(model_name)"
   ]
  },
  {
   "cell_type": "code",
   "execution_count": 4,
   "metadata": {
    "execution": {
     "iopub.execute_input": "2022-03-09T00:25:55.515533Z",
     "iopub.status.busy": "2022-03-09T00:25:55.514987Z",
     "iopub.status.idle": "2022-03-09T00:25:55.517488Z",
     "shell.execute_reply": "2022-03-09T00:25:55.517029Z"
    }
   },
   "outputs": [],
   "source": [
    "SAVE_MODEL_FILE=f'TrainedModels/InfoVAE/{TOTAL_NUM_EPOCHS}epoch_0703_mmd_checkpoint.pth'#None gdy nie tworzy się nowego zapisu"
   ]
  },
  {
   "cell_type": "code",
   "execution_count": 5,
   "metadata": {
    "execution": {
     "iopub.execute_input": "2022-03-09T00:25:55.521631Z",
     "iopub.status.busy": "2022-03-09T00:25:55.521080Z",
     "iopub.status.idle": "2022-03-09T00:25:55.523747Z",
     "shell.execute_reply": "2022-03-09T00:25:55.524148Z"
    }
   },
   "outputs": [
    {
     "name": "stdout",
     "output_type": "stream",
     "text": [
      "Device: cuda:0\n"
     ]
    }
   ],
   "source": [
    "CUDA_DEVICE_NUM=0\n",
    "DEVICE = torch.device(f'cuda:{CUDA_DEVICE_NUM}' if torch.cuda.is_available() else 'cpu')\n",
    "print('Device:', DEVICE)"
   ]
  },
  {
   "cell_type": "code",
   "execution_count": 6,
   "metadata": {
    "execution": {
     "iopub.execute_input": "2022-03-09T00:25:55.528799Z",
     "iopub.status.busy": "2022-03-09T00:25:55.526196Z",
     "iopub.status.idle": "2022-03-09T00:25:55.531931Z",
     "shell.execute_reply": "2022-03-09T00:25:55.531502Z"
    }
   },
   "outputs": [
    {
     "name": "stdout",
     "output_type": "stream",
     "text": [
      "21504\n",
      "2097152\n",
      "Quadro RTX 8000\n",
      "50959679488\n"
     ]
    }
   ],
   "source": [
    "print(torch.cuda.memory_allocated(device=DEVICE))\n",
    "print(torch.cuda.memory_reserved(device=DEVICE))\n",
    "print(torch.cuda.get_device_name(0))\n",
    "print(torch.cuda.get_device_properties(0).total_memory)"
   ]
  },
  {
   "cell_type": "code",
   "execution_count": 7,
   "metadata": {
    "execution": {
     "iopub.execute_input": "2022-03-09T00:25:55.536039Z",
     "iopub.status.busy": "2022-03-09T00:25:55.535505Z",
     "iopub.status.idle": "2022-03-09T00:25:55.537711Z",
     "shell.execute_reply": "2022-03-09T00:25:55.538101Z"
    }
   },
   "outputs": [],
   "source": [
    "model = getattr(__import__('models_architecture_helper', fromlist=[model_name]), model_name)"
   ]
  },
  {
   "cell_type": "code",
   "execution_count": 8,
   "metadata": {
    "execution": {
     "iopub.execute_input": "2022-03-09T00:25:55.542742Z",
     "iopub.status.busy": "2022-03-09T00:25:55.542208Z",
     "iopub.status.idle": "2022-03-09T00:25:55.563244Z",
     "shell.execute_reply": "2022-03-09T00:25:55.563656Z"
    }
   },
   "outputs": [],
   "source": [
    "model=model()\n",
    "model.to(DEVICE)\n",
    "model.load_state_dict(loaded_checkpoint[\"model_state\"])\n",
    "\n",
    "optimizer = torch.optim.Adam(model.parameters(),\n",
    "                             lr=0, \n",
    "                             weight_decay=1e-5)\n",
    "\n",
    "optimizer.load_state_dict(loaded_checkpoint[\"optim_state\"])\n",
    "\n",
    "#print(optimizer.state_dict)"
   ]
  },
  {
   "cell_type": "code",
   "execution_count": 9,
   "metadata": {
    "execution": {
     "iopub.execute_input": "2022-03-09T00:25:55.567798Z",
     "iopub.status.busy": "2022-03-09T00:25:55.567285Z",
     "iopub.status.idle": "2022-03-09T00:25:55.779565Z",
     "shell.execute_reply": "2022-03-09T00:25:55.779981Z"
    }
   },
   "outputs": [
    {
     "name": "stdout",
     "output_type": "stream",
     "text": [
      "(10000001, 6)\n"
     ]
    }
   ],
   "source": [
    "#ODCZYTANIE DANYCH Z PLIKU 'photons.npy'\n",
    "photons = np.load(path)\n",
    "X = np.zeros((10000001, 6),dtype=np.float32)\n",
    "np.copyto(X,photons[:,:-1])\n",
    "print(X.shape)\n",
    "\n",
    "# photons = np.load(path)\n",
    "# X = np.zeros(photons.shape,dtype=np.float32)\n",
    "# np.copyto(X,photons)"
   ]
  },
  {
   "cell_type": "code",
   "execution_count": 10,
   "metadata": {
    "execution": {
     "iopub.execute_input": "2022-03-09T00:25:55.784794Z",
     "iopub.status.busy": "2022-03-09T00:25:55.784274Z",
     "iopub.status.idle": "2022-03-09T00:25:56.214266Z",
     "shell.execute_reply": "2022-03-09T00:25:56.214688Z"
    }
   },
   "outputs": [
    {
     "name": "stdout",
     "output_type": "stream",
     "text": [
      "20000002\n"
     ]
    }
   ],
   "source": [
    "X_reflection=copy.deepcopy(X)\n",
    "X_reflection[:,2]=-X_reflection[:,2]\n",
    "X_reflection[:,4]=-X_reflection[:,4]\n",
    "\n",
    "X_sum=np.concatenate((X,X_reflection),axis=0)\n",
    "print(len(X_sum))"
   ]
  },
  {
   "cell_type": "code",
   "execution_count": 11,
   "metadata": {
    "execution": {
     "iopub.execute_input": "2022-03-09T00:25:56.225682Z",
     "iopub.status.busy": "2022-03-09T00:25:56.221473Z",
     "iopub.status.idle": "2022-03-09T00:25:56.232936Z",
     "shell.execute_reply": "2022-03-09T00:25:56.232504Z"
    }
   },
   "outputs": [
    {
     "data": {
      "text/html": [
       "<div>\n",
       "<style scoped>\n",
       "    .dataframe tbody tr th:only-of-type {\n",
       "        vertical-align: middle;\n",
       "    }\n",
       "\n",
       "    .dataframe tbody tr th {\n",
       "        vertical-align: top;\n",
       "    }\n",
       "\n",
       "    .dataframe thead th {\n",
       "        text-align: right;\n",
       "    }\n",
       "</style>\n",
       "<table border=\"1\" class=\"dataframe\">\n",
       "  <thead>\n",
       "    <tr style=\"text-align: right;\">\n",
       "      <th></th>\n",
       "      <th>X</th>\n",
       "      <th>Y</th>\n",
       "      <th>dX</th>\n",
       "      <th>dY</th>\n",
       "      <th>dZ</th>\n",
       "      <th>E</th>\n",
       "    </tr>\n",
       "  </thead>\n",
       "  <tbody>\n",
       "    <tr>\n",
       "      <th>0</th>\n",
       "      <td>0.77526</td>\n",
       "      <td>-0.50856</td>\n",
       "      <td>-4.60704</td>\n",
       "      <td>-0.018979</td>\n",
       "      <td>-0.177872</td>\n",
       "      <td>0.983871</td>\n",
       "    </tr>\n",
       "    <tr>\n",
       "      <th>1</th>\n",
       "      <td>0.77526</td>\n",
       "      <td>-0.77813</td>\n",
       "      <td>-5.10840</td>\n",
       "      <td>-0.029292</td>\n",
       "      <td>-0.196501</td>\n",
       "      <td>0.980066</td>\n",
       "    </tr>\n",
       "    <tr>\n",
       "      <th>2</th>\n",
       "      <td>0.45010</td>\n",
       "      <td>-3.74409</td>\n",
       "      <td>-1.33591</td>\n",
       "      <td>-0.145330</td>\n",
       "      <td>-0.051869</td>\n",
       "      <td>0.988023</td>\n",
       "    </tr>\n",
       "    <tr>\n",
       "      <th>3</th>\n",
       "      <td>0.39630</td>\n",
       "      <td>-2.50916</td>\n",
       "      <td>-3.30103</td>\n",
       "      <td>-0.274393</td>\n",
       "      <td>-0.273584</td>\n",
       "      <td>0.921879</td>\n",
       "    </tr>\n",
       "    <tr>\n",
       "      <th>4</th>\n",
       "      <td>0.45010</td>\n",
       "      <td>-4.79711</td>\n",
       "      <td>-1.70242</td>\n",
       "      <td>-0.184824</td>\n",
       "      <td>-0.065606</td>\n",
       "      <td>0.980579</td>\n",
       "    </tr>\n",
       "  </tbody>\n",
       "</table>\n",
       "</div>"
      ],
      "text/plain": [
       "         X        Y       dX        dY        dZ         E\n",
       "0  0.77526 -0.50856 -4.60704 -0.018979 -0.177872  0.983871\n",
       "1  0.77526 -0.77813 -5.10840 -0.029292 -0.196501  0.980066\n",
       "2  0.45010 -3.74409 -1.33591 -0.145330 -0.051869  0.988023\n",
       "3  0.39630 -2.50916 -3.30103 -0.274393 -0.273584  0.921879\n",
       "4  0.45010 -4.79711 -1.70242 -0.184824 -0.065606  0.980579"
      ]
     },
     "execution_count": 11,
     "metadata": {},
     "output_type": "execute_result"
    }
   ],
   "source": [
    "df_data = pd.DataFrame(X_sum, columns = ['X', 'Y', 'dX', 'dY', 'dZ', 'E'])\n",
    "df_data.head()#zawsze warto rzucić okiem na dane"
   ]
  },
  {
   "cell_type": "code",
   "execution_count": 12,
   "metadata": {
    "execution": {
     "iopub.execute_input": "2022-03-09T00:25:56.237581Z",
     "iopub.status.busy": "2022-03-09T00:25:56.237019Z",
     "iopub.status.idle": "2022-03-09T00:26:01.218445Z",
     "shell.execute_reply": "2022-03-09T00:26:01.217991Z"
    }
   },
   "outputs": [],
   "source": [
    "train_loader, valid_loader, test_loader, stdcs = get_dataloaders_and_standarscaler_photons_from_numpy(tmp_X=X_sum,\n",
    "    batch_size=BATCH_SIZE, \n",
    "    num_workers=NUM_WORKERS,\n",
    "    test_fraction=TEST_FRACTION, \n",
    "    validation_fraction=VALIDATION_FRACTION)"
   ]
  },
  {
   "cell_type": "code",
   "execution_count": 13,
   "metadata": {
    "execution": {
     "iopub.execute_input": "2022-03-09T00:26:01.222343Z",
     "iopub.status.busy": "2022-03-09T00:26:01.221806Z",
     "iopub.status.idle": "2022-03-09T00:26:01.223910Z",
     "shell.execute_reply": "2022-03-09T00:26:01.224325Z"
    }
   },
   "outputs": [],
   "source": [
    "# model = VAE_Linear()\n",
    "# model.to(DEVICE)\n",
    "\n",
    "#criterion = nn.MSELoss()#FUNKCJA STRATY\n",
    "# optimizer = torch.optim.Adam(model.parameters(),\n",
    "#                              lr=LEARNING_RATE, \n",
    "#                              weight_decay=1e-5)"
   ]
  },
  {
   "cell_type": "code",
   "execution_count": 14,
   "metadata": {
    "execution": {
     "iopub.execute_input": "2022-03-09T00:26:01.228981Z",
     "iopub.status.busy": "2022-03-09T00:26:01.228325Z",
     "iopub.status.idle": "2022-03-09T10:18:23.027845Z",
     "shell.execute_reply": "2022-03-09T10:18:23.028244Z"
    }
   },
   "outputs": [
    {
     "name": "stdout",
     "output_type": "stream",
     "text": [
      "Epoch: 001/030 | Batch 0000/1200 | Loss: 0.2305\n",
      "Epoch: 001/030 | Batch 0300/1200 | Loss: 0.2644\n",
      "Epoch: 001/030 | Batch 0600/1200 | Loss: 0.2462\n",
      "Epoch: 001/030 | Batch 0900/1200 | Loss: 0.2397\n",
      "***Epoch: 001/030 | Loss: 0.243\n",
      "Test***Epoch: 001/030 | Loss: 0.244\n",
      "Time elapsed: 19.98 min\n",
      "Epoch: 002/030 | Batch 0000/1200 | Loss: 0.2312\n",
      "Epoch: 002/030 | Batch 0300/1200 | Loss: 0.2573\n",
      "Epoch: 002/030 | Batch 0600/1200 | Loss: 0.2563\n",
      "Epoch: 002/030 | Batch 0900/1200 | Loss: 0.2183\n",
      "***Epoch: 002/030 | Loss: 0.243\n",
      "Test***Epoch: 002/030 | Loss: 0.244\n",
      "Time elapsed: 39.95 min\n",
      "Epoch: 003/030 | Batch 0000/1200 | Loss: 0.2374\n",
      "Epoch: 003/030 | Batch 0300/1200 | Loss: 0.2572\n",
      "Epoch: 003/030 | Batch 0600/1200 | Loss: 0.2584\n",
      "Epoch: 003/030 | Batch 0900/1200 | Loss: 0.2264\n",
      "***Epoch: 003/030 | Loss: 0.243\n",
      "Test***Epoch: 003/030 | Loss: 0.244\n",
      "Time elapsed: 59.84 min\n",
      "Epoch: 004/030 | Batch 0000/1200 | Loss: 0.2502\n",
      "Epoch: 004/030 | Batch 0300/1200 | Loss: 0.2372\n",
      "Epoch: 004/030 | Batch 0600/1200 | Loss: 0.2497\n",
      "Epoch: 004/030 | Batch 0900/1200 | Loss: 0.2571\n",
      "***Epoch: 004/030 | Loss: 0.243\n",
      "Test***Epoch: 004/030 | Loss: 0.244\n",
      "Time elapsed: 79.72 min\n",
      "Epoch: 005/030 | Batch 0000/1200 | Loss: 0.2413\n",
      "Epoch: 005/030 | Batch 0300/1200 | Loss: 0.2397\n",
      "Epoch: 005/030 | Batch 0600/1200 | Loss: 0.2353\n",
      "Epoch: 005/030 | Batch 0900/1200 | Loss: 0.2375\n",
      "***Epoch: 005/030 | Loss: 0.243\n",
      "Test***Epoch: 005/030 | Loss: 0.244\n",
      "Time elapsed: 99.59 min\n",
      "Epoch: 006/030 | Batch 0000/1200 | Loss: 0.2343\n",
      "Epoch: 006/030 | Batch 0300/1200 | Loss: 0.2618\n",
      "Epoch: 006/030 | Batch 0600/1200 | Loss: 0.2465\n",
      "Epoch: 006/030 | Batch 0900/1200 | Loss: 0.2430\n",
      "***Epoch: 006/030 | Loss: 0.243\n",
      "Test***Epoch: 006/030 | Loss: 0.244\n",
      "Time elapsed: 119.41 min\n",
      "Epoch: 007/030 | Batch 0000/1200 | Loss: 0.2447\n",
      "Epoch: 007/030 | Batch 0300/1200 | Loss: 0.2667\n",
      "Epoch: 007/030 | Batch 0600/1200 | Loss: 0.2305\n",
      "Epoch: 007/030 | Batch 0900/1200 | Loss: 0.2347\n",
      "***Epoch: 007/030 | Loss: 0.243\n",
      "Test***Epoch: 007/030 | Loss: 0.244\n",
      "Time elapsed: 139.25 min\n",
      "Epoch: 008/030 | Batch 0000/1200 | Loss: 0.2254\n",
      "Epoch: 008/030 | Batch 0300/1200 | Loss: 0.2490\n",
      "Epoch: 008/030 | Batch 0600/1200 | Loss: 0.2534\n",
      "Epoch: 008/030 | Batch 0900/1200 | Loss: 0.2795\n",
      "***Epoch: 008/030 | Loss: 0.243\n",
      "Test***Epoch: 008/030 | Loss: 0.244\n",
      "Time elapsed: 159.09 min\n",
      "Epoch: 009/030 | Batch 0000/1200 | Loss: 0.2360\n",
      "Epoch: 009/030 | Batch 0300/1200 | Loss: 0.2261\n",
      "Epoch: 009/030 | Batch 0600/1200 | Loss: 0.2601\n",
      "Epoch: 009/030 | Batch 0900/1200 | Loss: 0.2818\n",
      "***Epoch: 009/030 | Loss: 0.243\n",
      "Test***Epoch: 009/030 | Loss: 0.244\n",
      "Time elapsed: 178.94 min\n",
      "Epoch: 010/030 | Batch 0000/1200 | Loss: 0.2659\n",
      "Epoch: 010/030 | Batch 0300/1200 | Loss: 0.2246\n",
      "Epoch: 010/030 | Batch 0600/1200 | Loss: 0.2392\n",
      "Epoch: 010/030 | Batch 0900/1200 | Loss: 0.2452\n",
      "***Epoch: 010/030 | Loss: 0.243\n",
      "Test***Epoch: 010/030 | Loss: 0.244\n",
      "Time elapsed: 198.73 min\n",
      "Epoch: 011/030 | Batch 0000/1200 | Loss: 0.2449\n",
      "Epoch: 011/030 | Batch 0300/1200 | Loss: 0.2348\n",
      "Epoch: 011/030 | Batch 0600/1200 | Loss: 0.2599\n",
      "Epoch: 011/030 | Batch 0900/1200 | Loss: 0.2654\n",
      "***Epoch: 011/030 | Loss: 0.243\n",
      "Test***Epoch: 011/030 | Loss: 0.244\n",
      "Time elapsed: 218.43 min\n",
      "Epoch: 012/030 | Batch 0000/1200 | Loss: 0.2778\n",
      "Epoch: 012/030 | Batch 0300/1200 | Loss: 0.2360\n",
      "Epoch: 012/030 | Batch 0600/1200 | Loss: 0.2613\n",
      "Epoch: 012/030 | Batch 0900/1200 | Loss: 0.2106\n",
      "***Epoch: 012/030 | Loss: 0.243\n",
      "Test***Epoch: 012/030 | Loss: 0.244\n",
      "Time elapsed: 238.15 min\n",
      "Epoch: 013/030 | Batch 0000/1200 | Loss: 0.2291\n",
      "Epoch: 013/030 | Batch 0300/1200 | Loss: 0.2555\n",
      "Epoch: 013/030 | Batch 0600/1200 | Loss: 0.2728\n",
      "Epoch: 013/030 | Batch 0900/1200 | Loss: 0.2421\n",
      "***Epoch: 013/030 | Loss: 0.243\n",
      "Test***Epoch: 013/030 | Loss: 0.244\n",
      "Time elapsed: 257.90 min\n",
      "Epoch: 014/030 | Batch 0000/1200 | Loss: 0.2522\n",
      "Epoch: 014/030 | Batch 0300/1200 | Loss: 0.2573\n",
      "Epoch: 014/030 | Batch 0600/1200 | Loss: 0.2238\n",
      "Epoch: 014/030 | Batch 0900/1200 | Loss: 0.2332\n",
      "***Epoch: 014/030 | Loss: 0.243\n",
      "Test***Epoch: 014/030 | Loss: 0.244\n",
      "Time elapsed: 277.60 min\n",
      "Epoch: 015/030 | Batch 0000/1200 | Loss: 0.2595\n",
      "Epoch: 015/030 | Batch 0300/1200 | Loss: 0.2266\n",
      "Epoch: 015/030 | Batch 0600/1200 | Loss: 0.2620\n",
      "Epoch: 015/030 | Batch 0900/1200 | Loss: 0.2710\n",
      "***Epoch: 015/030 | Loss: 0.243\n",
      "Test***Epoch: 015/030 | Loss: 0.244\n",
      "Time elapsed: 297.31 min\n",
      "Epoch: 016/030 | Batch 0000/1200 | Loss: 0.2428\n",
      "Epoch: 016/030 | Batch 0300/1200 | Loss: 0.2593\n",
      "Epoch: 016/030 | Batch 0600/1200 | Loss: 0.2546\n",
      "Epoch: 016/030 | Batch 0900/1200 | Loss: 0.2613\n",
      "***Epoch: 016/030 | Loss: 0.243\n",
      "Test***Epoch: 016/030 | Loss: 0.244\n",
      "Time elapsed: 317.02 min\n",
      "Epoch: 017/030 | Batch 0000/1200 | Loss: 0.2363\n",
      "Epoch: 017/030 | Batch 0300/1200 | Loss: 0.2671\n",
      "Epoch: 017/030 | Batch 0600/1200 | Loss: 0.2387\n",
      "Epoch: 017/030 | Batch 0900/1200 | Loss: 0.2628\n",
      "***Epoch: 017/030 | Loss: 0.243\n",
      "Test***Epoch: 017/030 | Loss: 0.244\n",
      "Time elapsed: 336.72 min\n",
      "Epoch: 018/030 | Batch 0000/1200 | Loss: 0.2717\n",
      "Epoch: 018/030 | Batch 0300/1200 | Loss: 0.2194\n",
      "Epoch: 018/030 | Batch 0600/1200 | Loss: 0.2546\n",
      "Epoch: 018/030 | Batch 0900/1200 | Loss: 0.2400\n",
      "***Epoch: 018/030 | Loss: 0.243\n",
      "Test***Epoch: 018/030 | Loss: 0.244\n",
      "Time elapsed: 356.41 min\n",
      "Epoch: 019/030 | Batch 0000/1200 | Loss: 0.2529\n",
      "Epoch: 019/030 | Batch 0300/1200 | Loss: 0.2397\n",
      "Epoch: 019/030 | Batch 0600/1200 | Loss: 0.2633\n",
      "Epoch: 019/030 | Batch 0900/1200 | Loss: 0.2432\n",
      "***Epoch: 019/030 | Loss: 0.243\n",
      "Test***Epoch: 019/030 | Loss: 0.244\n",
      "Time elapsed: 376.11 min\n",
      "Epoch: 020/030 | Batch 0000/1200 | Loss: 0.2247\n",
      "Epoch: 020/030 | Batch 0300/1200 | Loss: 0.2452\n",
      "Epoch: 020/030 | Batch 0600/1200 | Loss: 0.2368\n",
      "Epoch: 020/030 | Batch 0900/1200 | Loss: 0.2281\n",
      "***Epoch: 020/030 | Loss: 0.243\n",
      "Test***Epoch: 020/030 | Loss: 0.244\n",
      "Time elapsed: 395.80 min\n",
      "Epoch: 021/030 | Batch 0000/1200 | Loss: 0.2358\n",
      "Epoch: 021/030 | Batch 0300/1200 | Loss: 0.2716\n",
      "Epoch: 021/030 | Batch 0600/1200 | Loss: 0.2516\n",
      "Epoch: 021/030 | Batch 0900/1200 | Loss: 0.2505\n",
      "***Epoch: 021/030 | Loss: 0.243\n",
      "Test***Epoch: 021/030 | Loss: 0.244\n",
      "Time elapsed: 415.51 min\n",
      "Epoch: 022/030 | Batch 0000/1200 | Loss: 0.2255\n",
      "Epoch: 022/030 | Batch 0300/1200 | Loss: 0.2657\n",
      "Epoch: 022/030 | Batch 0600/1200 | Loss: 0.2613\n",
      "Epoch: 022/030 | Batch 0900/1200 | Loss: 0.2578\n",
      "***Epoch: 022/030 | Loss: 0.243\n",
      "Test***Epoch: 022/030 | Loss: 0.244\n",
      "Time elapsed: 435.19 min\n",
      "Epoch: 023/030 | Batch 0000/1200 | Loss: 0.2651\n",
      "Epoch: 023/030 | Batch 0300/1200 | Loss: 0.2648\n",
      "Epoch: 023/030 | Batch 0600/1200 | Loss: 0.2563\n",
      "Epoch: 023/030 | Batch 0900/1200 | Loss: 0.2654\n",
      "***Epoch: 023/030 | Loss: 0.243\n",
      "Test***Epoch: 023/030 | Loss: 0.244\n",
      "Time elapsed: 454.88 min\n",
      "Epoch: 024/030 | Batch 0000/1200 | Loss: 0.2661\n",
      "Epoch: 024/030 | Batch 0300/1200 | Loss: 0.2411\n",
      "Epoch: 024/030 | Batch 0600/1200 | Loss: 0.2492\n",
      "Epoch: 024/030 | Batch 0900/1200 | Loss: 0.2108\n",
      "***Epoch: 024/030 | Loss: 0.243\n",
      "Test***Epoch: 024/030 | Loss: 0.244\n",
      "Time elapsed: 474.54 min\n",
      "Epoch: 025/030 | Batch 0000/1200 | Loss: 0.2490\n",
      "Epoch: 025/030 | Batch 0300/1200 | Loss: 0.2325\n",
      "Epoch: 025/030 | Batch 0600/1200 | Loss: 0.2610\n",
      "Epoch: 025/030 | Batch 0900/1200 | Loss: 0.2513\n",
      "***Epoch: 025/030 | Loss: 0.243\n",
      "Test***Epoch: 025/030 | Loss: 0.244\n",
      "Time elapsed: 494.16 min\n",
      "Epoch: 026/030 | Batch 0000/1200 | Loss: 0.2276\n",
      "Epoch: 026/030 | Batch 0300/1200 | Loss: 0.2288\n",
      "Epoch: 026/030 | Batch 0600/1200 | Loss: 0.2424\n",
      "Epoch: 026/030 | Batch 0900/1200 | Loss: 0.2393\n",
      "***Epoch: 026/030 | Loss: 0.243\n",
      "Test***Epoch: 026/030 | Loss: 0.244\n",
      "Time elapsed: 513.80 min\n",
      "Epoch: 027/030 | Batch 0000/1200 | Loss: 0.2725\n",
      "Epoch: 027/030 | Batch 0300/1200 | Loss: 0.2411\n",
      "Epoch: 027/030 | Batch 0600/1200 | Loss: 0.2271\n",
      "Epoch: 027/030 | Batch 0900/1200 | Loss: 0.2298\n",
      "***Epoch: 027/030 | Loss: 0.243\n",
      "Test***Epoch: 027/030 | Loss: 0.244\n",
      "Time elapsed: 533.43 min\n",
      "Epoch: 028/030 | Batch 0000/1200 | Loss: 0.2598\n",
      "Epoch: 028/030 | Batch 0300/1200 | Loss: 0.2310\n",
      "Epoch: 028/030 | Batch 0600/1200 | Loss: 0.2504\n",
      "Epoch: 028/030 | Batch 0900/1200 | Loss: 0.2453\n",
      "***Epoch: 028/030 | Loss: 0.243\n",
      "Test***Epoch: 028/030 | Loss: 0.244\n",
      "Time elapsed: 553.05 min\n",
      "Epoch: 029/030 | Batch 0000/1200 | Loss: 0.2491\n",
      "Epoch: 029/030 | Batch 0300/1200 | Loss: 0.2429\n",
      "Epoch: 029/030 | Batch 0600/1200 | Loss: 0.2402\n",
      "Epoch: 029/030 | Batch 0900/1200 | Loss: 0.2497\n",
      "***Epoch: 029/030 | Loss: 0.243\n",
      "Test***Epoch: 029/030 | Loss: 0.244\n",
      "Time elapsed: 572.73 min\n",
      "Epoch: 030/030 | Batch 0000/1200 | Loss: 0.2302\n",
      "Epoch: 030/030 | Batch 0300/1200 | Loss: 0.2397\n",
      "Epoch: 030/030 | Batch 0600/1200 | Loss: 0.2541\n",
      "Epoch: 030/030 | Batch 0900/1200 | Loss: 0.2705\n",
      "***Epoch: 030/030 | Loss: 0.243\n",
      "Test***Epoch: 030/030 | Loss: 0.244\n",
      "Time elapsed: 592.36 min\n",
      "Total Training Time: 592.36 min\n"
     ]
    }
   ],
   "source": [
    "log_dict_new=train_vae_mmd(num_epochs=NUM_EPOCHS, device=DEVICE, model=model,optimizer=optimizer,train_loader=train_loader,loss_fn=None, test_loader=test_loader, logging_interval=LOGGING_INTERVAL, reconstruction_term_weight=RECONSTRUCTION_TERM_WEIGHT, save_model_file=SAVE_MODEL_FILE, total_num_of_epochs=TOTAL_NUM_EPOCHS, log_dict_old=log_dict_old)"
   ]
  },
  {
   "cell_type": "code",
   "execution_count": 15,
   "metadata": {
    "execution": {
     "iopub.execute_input": "2022-03-09T10:18:23.032379Z",
     "iopub.status.busy": "2022-03-09T10:18:23.031891Z",
     "iopub.status.idle": "2022-03-09T10:18:23.033919Z",
     "shell.execute_reply": "2022-03-09T10:18:23.034296Z"
    }
   },
   "outputs": [],
   "source": [
    "log_dict=log_dict_new\n",
    "# log_dict={ key:log_dict_old.get(key,[])+log_dict_new.get(key,[]) for key in set(list(log_dict_old.keys())+list(log_dict_new.keys())) }"
   ]
  },
  {
   "cell_type": "code",
   "execution_count": 16,
   "metadata": {
    "execution": {
     "iopub.execute_input": "2022-03-09T10:18:23.038030Z",
     "iopub.status.busy": "2022-03-09T10:18:23.037529Z",
     "iopub.status.idle": "2022-03-09T10:18:23.040384Z",
     "shell.execute_reply": "2022-03-09T10:18:23.039974Z"
    }
   },
   "outputs": [
    {
     "name": "stdout",
     "output_type": "stream",
     "text": [
      "80\n"
     ]
    }
   ],
   "source": [
    "print(len(log_dict[\"test_combined_loss_per_epoch\"]))"
   ]
  },
  {
   "cell_type": "code",
   "execution_count": 17,
   "metadata": {
    "execution": {
     "iopub.execute_input": "2022-03-09T10:18:23.060986Z",
     "iopub.status.busy": "2022-03-09T10:18:23.059136Z",
     "iopub.status.idle": "2022-03-09T10:18:24.155877Z",
     "shell.execute_reply": "2022-03-09T10:18:24.156253Z"
    }
   },
   "outputs": [
    {
     "data": {
      "image/png": "[encoded data removed]",
      "text/plain": [
       "<Figure size 432x288 with 2 Axes>"
      ]
     },
     "metadata": {
      "needs_background": "light"
     },
     "output_type": "display_data"
    },
    {
     "data": {
      "image/png": "[encoded data removed]",
      "text/plain": [
       "<Figure size 432x288 with 2 Axes>"
      ]
     },
     "metadata": {
      "needs_background": "light"
     },
     "output_type": "display_data"
    },
    {
     "data": {
      "image/png": "[encoded data removed]",
      "text/plain": [
       "<Figure size 432x288 with 2 Axes>"
      ]
     },
     "metadata": {
      "needs_background": "light"
     },
     "output_type": "display_data"
    }
   ],
   "source": [
    "epoch_all=epoch+NUM_EPOCHS\n",
    "plot_training_loss(log_dict['train_reconstruction_loss_per_batch'], epoch_all, custom_label=\" (reconstruction)\")\n",
    "plot_training_loss(log_dict['train_kl_loss_per_batch'], epoch_all, custom_label=\" (KL)\")\n",
    "plot_training_loss(log_dict['train_combined_loss_per_batch'], epoch_all, custom_label=\" (combined)\")\n",
    "plt.show()\n",
    "\n"
   ]
  },
  {
   "cell_type": "code",
   "execution_count": 18,
   "metadata": {
    "execution": {
     "iopub.execute_input": "2022-03-09T10:18:24.176748Z",
     "iopub.status.busy": "2022-03-09T10:18:24.174033Z",
     "iopub.status.idle": "2022-03-09T10:18:24.333258Z",
     "shell.execute_reply": "2022-03-09T10:18:24.333643Z"
    }
   },
   "outputs": [
    {
     "data": {
      "image/png": "[encoded data removed]",
      "text/plain": [
       "<Figure size 432x288 with 1 Axes>"
      ]
     },
     "metadata": {
      "needs_background": "light"
     },
     "output_type": "display_data"
    }
   ],
   "source": [
    "plt.plot(range(len(log_dict['train_combined_loss_per_epoch'])), (log_dict['train_combined_loss_per_epoch']), label='Train Epoch Loss')\n",
    "plt.plot(range(len(log_dict['test_combined_loss_per_epoch'])), (log_dict['test_combined_loss_per_epoch']), label='Test Epoch Loss')\n",
    "plt.legend()\n",
    "plt.xlabel('Epochs')\n",
    "plt.ylabel('Loss')\n",
    "#plt.ylim(0.15,0.3)\n",
    "plt.tight_layout()"
   ]
  },
  {
   "cell_type": "code",
   "execution_count": 19,
   "metadata": {
    "execution": {
     "iopub.execute_input": "2022-03-09T10:18:24.338622Z",
     "iopub.status.busy": "2022-03-09T10:18:24.338124Z",
     "iopub.status.idle": "2022-03-09T10:18:28.606353Z",
     "shell.execute_reply": "2022-03-09T10:18:28.605946Z"
    }
   },
   "outputs": [],
   "source": [
    "tmp=df_data.to_numpy(dtype=np.float32)\n",
    "orginal=copy.deepcopy(tmp)\n",
    "tmp=stdcs.transform(tmp)\n",
    "tmp=torch.from_numpy(tmp)\n",
    "#print(tmp)\n",
    "model.eval()\n",
    "with torch.no_grad():\n",
    "    result_encoded_features, z_mean, z_log_var, result_decoded_features =model(tmp.to(device=DEVICE))\n",
    "result=result_decoded_features.cpu().detach().numpy()\n",
    "result=stdcs.inverse_transform(result)"
   ]
  },
  {
   "cell_type": "code",
   "execution_count": 20,
   "metadata": {
    "execution": {
     "iopub.execute_input": "2022-03-09T10:18:28.646987Z",
     "iopub.status.busy": "2022-03-09T10:18:28.613672Z",
     "iopub.status.idle": "2022-03-09T10:18:35.983018Z",
     "shell.execute_reply": "2022-03-09T10:18:35.983423Z"
    }
   },
   "outputs": [
    {
     "data": {
      "image/png": "[encoded data removed]",
      "text/plain": [
       "<Figure size 1152x576 with 6 Axes>"
      ]
     },
     "metadata": {
      "needs_background": "light"
     },
     "output_type": "display_data"
    }
   ],
   "source": [
    "fig, axs = plt.subplots(2, 3)\n",
    "fig.set_size_inches(16,8)\n",
    "bins=100\n",
    "axs[0, 0].hist(orginal[:,0],bins=bins, label ='orginal',alpha=0.5, density=True)\n",
    "axs[0, 0].hist(result[:,0],bins=bins, label ='decoded', alpha=0.5, density=True)\n",
    "axs[0, 0].set_title('X')\n",
    "axs[0, 1].hist(orginal[:,1],bins=bins, label ='orginal',alpha=0.5, density=True)\n",
    "axs[0, 1].hist(result[:,1],bins=bins, label ='decoded', alpha=0.5, density=True)\n",
    "axs[0, 1].set_title('Y')\n",
    "axs[0, 2].hist(orginal[:,2],bins=bins, label ='orginal',alpha=0.5, density=True)\n",
    "axs[0, 2].hist(result[:,2],bins=bins, label ='decoded', alpha=0.5, density=True)\n",
    "axs[0, 2].set_title('dX')\n",
    "axs[1, 0].hist(orginal[:,3],bins=bins, label ='orginal',alpha=0.5, density=True)\n",
    "axs[1, 0].hist(result[:,3],bins=bins, label ='decoded', alpha=0.5, density=True)\n",
    "axs[1, 0].set_title('dY')\n",
    "axs[1, 1].hist(orginal[:,4],bins=bins, label ='orginal',alpha=0.5, density=True)\n",
    "axs[1, 1].hist(result[:,4],bins=bins, label ='decoded', alpha=0.5, density=True)\n",
    "axs[1, 1].set_title('dZ')\n",
    "axs[1, 2].hist(orginal[:,5],bins=bins, label ='orginal',alpha=0.5, density=True)\n",
    "axs[1, 2].hist(result[:,5],bins=bins, label ='decoded', alpha=0.5, density=True)\n",
    "axs[1, 2].set_title('E')\n",
    "fig.legend()\n",
    "\n",
    "# for ax in axs.flat:\n",
    "#     ax.set(xlabel='x-label', ylabel='y-label')\n",
    "\n",
    "# # Hide x labels and tick labels for top plots and y ticks for right plots.\n",
    "# for ax in axs.flat:\n",
    "#     ax.label_outer()\n",
    "fig.tight_layout()"
   ]
  },
  {
   "cell_type": "code",
   "execution_count": 21,
   "metadata": {
    "execution": {
     "iopub.execute_input": "2022-03-09T10:18:36.175884Z",
     "iopub.status.busy": "2022-03-09T10:18:36.156922Z",
     "iopub.status.idle": "2022-03-09T10:18:58.639272Z",
     "shell.execute_reply": "2022-03-09T10:18:58.639652Z"
    }
   },
   "outputs": [
    {
     "data": {
      "image/png": "[encoded data removed]",
      "text/plain": [
       "<Figure size 1440x1440 with 6 Axes>"
      ]
     },
     "metadata": {
      "needs_background": "light"
     },
     "output_type": "display_data"
    }
   ],
   "source": [
    "keys = df_data.columns\n",
    "# print(keys)\n",
    "fig, axs = plt.subplots(2, 3)\n",
    "fig.set_size_inches(20, 20)\n",
    "for i, j in enumerate(keys):\n",
    "    mi = np.minimum(orginal[:, i].min(), result[:, i].min())\n",
    "    ma = np.maximum(orginal[:, i].max(), result[:, i].max())\n",
    "    bins = np.linspace(mi, ma, 300)\n",
    "    # print(bins)\n",
    "    axs.flatten()[i].hist(orginal[:, i], bins, alpha=.5)\n",
    "    axs.flatten()[i].hist(result[:, i], bins, alpha=.5)\n",
    "    axs.flatten()[i].set_title(j)\n"
   ]
  },
  {
   "cell_type": "code",
   "execution_count": 22,
   "metadata": {
    "execution": {
     "iopub.execute_input": "2022-03-09T10:18:58.645787Z",
     "iopub.status.busy": "2022-03-09T10:18:58.645284Z",
     "iopub.status.idle": "2022-03-09T10:18:59.843016Z",
     "shell.execute_reply": "2022-03-09T10:18:59.843390Z"
    }
   },
   "outputs": [
    {
     "name": "stdout",
     "output_type": "stream",
     "text": [
      "True\n"
     ]
    }
   ],
   "source": [
    "decoded_df=pd.DataFrame(result,columns=['X', 'Y', 'dX', 'dY', 'dZ', 'E'])\n",
    "orginal_df=df_data.iloc[:,:]\n",
    "\n",
    "\n",
    "concatenated_datasets=pd.concat([orginal_df.assign(dataset_name='orginal'), decoded_df.assign(dataset_name='decoded')],ignore_index=True)\n",
    "concatenated_datasets.shape\n",
    "print(concatenated_datasets.index.is_unique)"
   ]
  },
  {
   "cell_type": "code",
   "execution_count": 23,
   "metadata": {
    "execution": {
     "iopub.execute_input": "2022-03-09T10:19:00.397813Z",
     "iopub.status.busy": "2022-03-09T10:19:00.397310Z",
     "iopub.status.idle": "2022-03-09T10:19:05.239578Z",
     "shell.execute_reply": "2022-03-09T10:19:05.239954Z"
    }
   },
   "outputs": [
    {
     "name": "stdout",
     "output_type": "stream",
     "text": [
      "(500000, 7)\n",
      "                 X         Y        dX        dY        dZ         E  \\\n",
      "31583840  0.735336  1.737676  1.071935  0.084611  0.037807  0.995373   \n",
      "34539943  0.282498  2.191763  4.946992  0.107859  0.187600  0.976525   \n",
      "20004843  0.388093  3.560405 -3.865421  0.172236 -0.144909  0.977550   \n",
      "20169494  1.250647  0.676623 -0.097275  0.024778  0.277378  0.924995   \n",
      "38060417  0.328572 -4.955034  2.041818 -0.244882  0.219837  0.928063   \n",
      "\n",
      "         dataset_name  \n",
      "31583840      decoded  \n",
      "34539943      decoded  \n",
      "20004843      decoded  \n",
      "20169494      decoded  \n",
      "38060417      decoded  \n"
     ]
    }
   ],
   "source": [
    "#TODO trzeba by sprawdzić czy to losowanie działa poprawnie i zwraca próbkę reprezentatywną\n",
    "sample_concatenated=concatenated_datasets.groupby('dataset_name', group_keys=False).apply(lambda x: x.sample(frac=PLOT_FRACTION, random_state=2)) \n",
    "print(sample_concatenated.shape)\n",
    "print(sample_concatenated.head())"
   ]
  },
  {
   "cell_type": "code",
   "execution_count": 24,
   "metadata": {
    "execution": {
     "iopub.execute_input": "2022-03-09T10:19:05.243460Z",
     "iopub.status.busy": "2022-03-09T10:19:05.242968Z",
     "iopub.status.idle": "2022-03-09T10:19:05.245269Z",
     "shell.execute_reply": "2022-03-09T10:19:05.244870Z"
    }
   },
   "outputs": [],
   "source": [
    "# sns.pairplot(sample_concatenated, hue=\"dataset_name\", kind=\"scatter\", plot_kws=dict(alpha=0.5))\n",
    "#sns.pairplot(concatenated_datasets, hue=\"dataset_name\", kind=\"scatter\", plot_kws=dict(alpha=0.5),corner=True)"
   ]
  },
  {
   "cell_type": "code",
   "execution_count": 25,
   "metadata": {
    "execution": {
     "iopub.execute_input": "2022-03-09T10:19:05.249471Z",
     "iopub.status.busy": "2022-03-09T10:19:05.248978Z",
     "iopub.status.idle": "2022-03-09T10:19:10.016071Z",
     "shell.execute_reply": "2022-03-09T10:19:10.015646Z"
    }
   },
   "outputs": [
    {
     "name": "stdout",
     "output_type": "stream",
     "text": [
      "(250000, 6)\n",
      "                X        Y       dX        dY        dZ         E\n",
      "11583838  0.72217  1.91911  1.02320  0.075932  0.040737  0.996280\n",
      "14539941  0.19622  2.45577  4.91175  0.094408  0.188461  0.977532\n",
      "4841      0.36820  3.95641 -3.81723  0.152133 -0.146734  0.977407\n",
      "169492    1.24696  4.82186 -0.47056 -0.187327  0.301854  0.934769\n",
      "18060415  0.46350 -3.66491  2.14019 -0.309671  0.214503  0.926333\n"
     ]
    }
   ],
   "source": [
    "sample_orginal=orginal_df.apply(lambda x: x.sample(frac=PLOT_FRACTION, random_state=2)) \n",
    "print(sample_orginal.shape)\n",
    "print(sample_orginal.head())"
   ]
  },
  {
   "cell_type": "code",
   "execution_count": 26,
   "metadata": {
    "execution": {
     "iopub.execute_input": "2022-03-09T10:19:10.019726Z",
     "iopub.status.busy": "2022-03-09T10:19:10.019235Z",
     "iopub.status.idle": "2022-03-09T10:19:10.021221Z",
     "shell.execute_reply": "2022-03-09T10:19:10.021606Z"
    }
   },
   "outputs": [],
   "source": [
    "#sns.pairplot(sample_orginal, kind=\"scatter\")"
   ]
  },
  {
   "cell_type": "code",
   "execution_count": 27,
   "metadata": {
    "execution": {
     "iopub.execute_input": "2022-03-09T10:19:10.025807Z",
     "iopub.status.busy": "2022-03-09T10:19:10.025315Z",
     "iopub.status.idle": "2022-03-09T10:19:14.796668Z",
     "shell.execute_reply": "2022-03-09T10:19:14.796266Z"
    }
   },
   "outputs": [
    {
     "name": "stdout",
     "output_type": "stream",
     "text": [
      "(250000, 6)\n",
      "                 X         Y        dX        dY        dZ         E\n",
      "11583838  0.735336  1.737676  1.071935  0.084611  0.037807  0.995373\n",
      "14539941  0.282498  2.191763  4.946992  0.107859  0.187600  0.976525\n",
      "4841      0.388093  3.560405 -3.865421  0.172236 -0.144909  0.977550\n",
      "169492    1.250647  0.676623 -0.097275  0.024778  0.277378  0.924995\n",
      "18060415  0.328572 -4.955034  2.041818 -0.244882  0.219837  0.928063\n"
     ]
    }
   ],
   "source": [
    "sample_decoded=decoded_df.apply(lambda x: x.sample(frac=PLOT_FRACTION, random_state=2)) \n",
    "print(sample_decoded.shape)\n",
    "print(sample_decoded.head())"
   ]
  },
  {
   "cell_type": "code",
   "execution_count": 28,
   "metadata": {
    "execution": {
     "iopub.execute_input": "2022-03-09T10:19:14.800081Z",
     "iopub.status.busy": "2022-03-09T10:19:14.799582Z",
     "iopub.status.idle": "2022-03-09T10:19:14.801539Z",
     "shell.execute_reply": "2022-03-09T10:19:14.801915Z"
    }
   },
   "outputs": [],
   "source": [
    "# sns.pairplot(sample_decoded, kind=\"scatter\")"
   ]
  },
  {
   "cell_type": "code",
   "execution_count": 29,
   "metadata": {
    "execution": {
     "iopub.execute_input": "2022-03-09T10:19:14.805217Z",
     "iopub.status.busy": "2022-03-09T10:19:14.804719Z",
     "iopub.status.idle": "2022-03-09T10:19:14.806752Z",
     "shell.execute_reply": "2022-03-09T10:19:14.807127Z"
    }
   },
   "outputs": [],
   "source": [
    "# g = sns.PairGrid(concatenated_datasets, hue='dataset_name')\n",
    "# g.map_upper(sns.scatterplot)\n",
    "# #g.map_lower(sns.kdeplot, fill=True)\n",
    "# g.map_diag(sns.histplot, kde=True)"
   ]
  },
  {
   "cell_type": "code",
   "execution_count": 30,
   "metadata": {
    "execution": {
     "iopub.execute_input": "2022-03-09T10:19:14.813157Z",
     "iopub.status.busy": "2022-03-09T10:19:14.812673Z",
     "iopub.status.idle": "2022-03-09T10:19:14.922140Z",
     "shell.execute_reply": "2022-03-09T10:19:14.921721Z"
    }
   },
   "outputs": [],
   "source": [
    "tmp_2=df_data.iloc[37:38,:]\n",
    "tmp_2=tmp_2.to_numpy(dtype=np.float32)\n",
    "orginal_2=tmp_2\n",
    "tmp_2=stdcs.transform(tmp_2)\n",
    "tmp_2=torch.from_numpy(tmp_2)\n",
    "model.eval()\n",
    "with torch.no_grad():\n",
    "    result_encoded_features_2, z_mean_2, z_log_var_2, result_decoded_features_2=model(tmp_2.to(device=DEVICE))\n",
    "result_2=result_decoded_features_2.cpu().detach().numpy()\n",
    "result_2=stdcs.inverse_transform(result_2)"
   ]
  },
  {
   "cell_type": "code",
   "execution_count": 31,
   "metadata": {
    "execution": {
     "iopub.execute_input": "2022-03-09T10:19:14.925392Z",
     "iopub.status.busy": "2022-03-09T10:19:14.924132Z",
     "iopub.status.idle": "2022-03-09T10:19:14.927143Z",
     "shell.execute_reply": "2022-03-09T10:19:14.927526Z"
    }
   },
   "outputs": [],
   "source": [
    "orginal_2=orginal_2.flatten()\n",
    "result_2=result_2.flatten()"
   ]
  },
  {
   "cell_type": "code",
   "execution_count": 32,
   "metadata": {
    "execution": {
     "iopub.execute_input": "2022-03-09T10:19:14.937648Z",
     "iopub.status.busy": "2022-03-09T10:19:14.937125Z",
     "iopub.status.idle": "2022-03-09T10:19:14.939653Z",
     "shell.execute_reply": "2022-03-09T10:19:14.940031Z"
    }
   },
   "outputs": [
    {
     "data": {
      "text/html": [
       "<div>\n",
       "<style scoped>\n",
       "    .dataframe tbody tr th:only-of-type {\n",
       "        vertical-align: middle;\n",
       "    }\n",
       "\n",
       "    .dataframe tbody tr th {\n",
       "        vertical-align: top;\n",
       "    }\n",
       "\n",
       "    .dataframe thead th {\n",
       "        text-align: right;\n",
       "    }\n",
       "</style>\n",
       "<table border=\"1\" class=\"dataframe\">\n",
       "  <thead>\n",
       "    <tr style=\"text-align: right;\">\n",
       "      <th></th>\n",
       "      <th>X</th>\n",
       "      <th>Y</th>\n",
       "      <th>dX</th>\n",
       "      <th>dY</th>\n",
       "      <th>dZ</th>\n",
       "      <th>E</th>\n",
       "    </tr>\n",
       "  </thead>\n",
       "  <tbody>\n",
       "    <tr>\n",
       "      <th>0</th>\n",
       "      <td>2.359750</td>\n",
       "      <td>2.614970</td>\n",
       "      <td>-4.69867</td>\n",
       "      <td>0.100502</td>\n",
       "      <td>-0.180584</td>\n",
       "      <td>0.978411</td>\n",
       "    </tr>\n",
       "    <tr>\n",
       "      <th>1</th>\n",
       "      <td>2.369687</td>\n",
       "      <td>2.366963</td>\n",
       "      <td>-4.73523</td>\n",
       "      <td>0.113084</td>\n",
       "      <td>-0.179817</td>\n",
       "      <td>0.979112</td>\n",
       "    </tr>\n",
       "  </tbody>\n",
       "</table>\n",
       "</div>"
      ],
      "text/plain": [
       "          X         Y       dX        dY        dZ         E\n",
       "0  2.359750  2.614970 -4.69867  0.100502 -0.180584  0.978411\n",
       "1  2.369687  2.366963 -4.73523  0.113084 -0.179817  0.979112"
      ]
     },
     "execution_count": 32,
     "metadata": {},
     "output_type": "execute_result"
    }
   ],
   "source": [
    "df=pd.DataFrame(np.stack((orginal_2,result_2)), columns=['X', 'Y', 'dX', 'dY', 'dZ', 'E'])\n",
    "df"
   ]
  },
  {
   "cell_type": "code",
   "execution_count": 33,
   "metadata": {
    "execution": {
     "iopub.execute_input": "2022-03-09T10:19:14.942870Z",
     "iopub.status.busy": "2022-03-09T10:19:14.942100Z",
     "iopub.status.idle": "2022-03-09T10:19:14.944777Z",
     "shell.execute_reply": "2022-03-09T10:19:14.945153Z"
    }
   },
   "outputs": [],
   "source": [
    "# encoded_features=[]\n",
    "# model.eval()\n",
    "# for index, feature in enumerate(train_loader):\n",
    "#     with torch.no_grad():\n",
    "#         tmp_encoded_features, z_mean, z_log_var, decoded =model(feature.to(device=DEVICE))\n",
    "#         encoded_features.extend(tmp_encoded_features.cpu().detach().numpy())\n",
    "# encoded_features=np.asarray(encoded_features)\n",
    "\n",
    "# print(encoded_features.shape)"
   ]
  },
  {
   "cell_type": "code",
   "execution_count": 34,
   "metadata": {
    "execution": {
     "iopub.execute_input": "2022-03-09T10:19:14.948148Z",
     "iopub.status.busy": "2022-03-09T10:19:14.947211Z",
     "iopub.status.idle": "2022-03-09T10:19:14.949923Z",
     "shell.execute_reply": "2022-03-09T10:19:14.950298Z"
    }
   },
   "outputs": [],
   "source": [
    "# #PRZESTRZEŃ UKRYTA VAE\n",
    "# colors = ['r']\n",
    "# markers = ['s']\n",
    "\n",
    "# fig=plt.figure()\n",
    "# ax=fig.add_subplot(projection='3d')\n",
    "# for c, m in zip(colors, markers):\n",
    "#     ax.scatter(encoded_features[:,0],encoded_features[:,1],encoded_features[:,2],marker=m,c=c)\n",
    "\n",
    "# ax.set_xlabel('VAE 1')\n",
    "# ax.set_ylabel('VAE 2')\n",
    "# ax.set_zlabel('VAE 3')\n",
    "\n",
    "# plt.show()"
   ]
  }
 ],
 "metadata": {
  "interpreter": {
   "hash": "94e50cba98016e2c68fceb7b9fa13391593fa96fd78bad5a436d2ca9f0548949"
  },
  "kernelspec": {
   "display_name": "Python 3.8.12 64-bit ('pytorch_wine_env': conda)",
   "language": "python",
   "name": "python3"
  },
  "language_info": {
   "codemirror_mode": {
    "name": "ipython",
    "version": 3
   },
   "file_extension": ".py",
   "mimetype": "text/x-python",
   "name": "python",
   "nbconvert_exporter": "python",
   "pygments_lexer": "ipython3",
   "version": "3.9.7"
  }
 },
 "nbformat": 4,
 "nbformat_minor": 2
}
