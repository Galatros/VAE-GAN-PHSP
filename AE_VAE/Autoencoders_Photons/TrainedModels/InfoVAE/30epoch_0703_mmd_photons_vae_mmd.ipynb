{
 "cells": [
  {
   "cell_type": "code",
   "execution_count": 1,
   "metadata": {
    "execution": {
     "iopub.execute_input": "2022-03-06T22:49:08.002761Z",
     "iopub.status.busy": "2022-03-06T22:49:08.002130Z",
     "iopub.status.idle": "2022-03-06T22:49:09.425277Z",
     "shell.execute_reply": "2022-03-06T22:49:09.424628Z"
    }
   },
   "outputs": [],
   "source": [
    "from data_helper import get_dataloaders_and_standarscaler_photons, get_dataloaders_and_standarscaler_photons_from_numpy\n",
    "from train_helper import train_vae, train_vae_mmd\n",
    "from plot_helper import plot_training_loss\n",
    "from models_architecture_helper import VAE_Linear_0703\n",
    "\n",
    "import copy\n",
    "\n",
    "import numpy as np\n",
    "import pandas as pd\n",
    "import matplotlib.pyplot as plt\n",
    "import seaborn as sns\n",
    "\n",
    "import torch\n",
    "import torch.nn as nn"
   ]
  },
  {
   "cell_type": "code",
   "execution_count": 2,
   "metadata": {
    "execution": {
     "iopub.execute_input": "2022-03-06T22:49:09.429149Z",
     "iopub.status.busy": "2022-03-06T22:49:09.428600Z",
     "iopub.status.idle": "2022-03-06T22:49:09.431209Z",
     "shell.execute_reply": "2022-03-06T22:49:09.430798Z"
    }
   },
   "outputs": [],
   "source": [
    "#TODO czy zapisywać Logging interval ? \n",
    "#TODO i czy zapisywać całkowity number of epochs gdyby we wczytanym modelu robić kolejnego checkpointa"
   ]
  },
  {
   "cell_type": "code",
   "execution_count": 3,
   "metadata": {
    "execution": {
     "iopub.execute_input": "2022-03-06T22:49:09.435858Z",
     "iopub.status.busy": "2022-03-06T22:49:09.435283Z",
     "iopub.status.idle": "2022-03-06T22:49:09.437931Z",
     "shell.execute_reply": "2022-03-06T22:49:09.437474Z"
    }
   },
   "outputs": [],
   "source": [
    "# Hyperparameters\n",
    "RANDOM_SEED = 123\n",
    "LEARNING_RATE = 0.0005\n",
    "BATCH_SIZE = 10000\n",
    "NUM_EPOCHS = 30\n",
    "LOGGING_INTERVAL=300\n",
    "RECONSTRUCTION_TERM_WEIGHT=1\n",
    "\n",
    "PLOT_FRACTION=0.0125\n",
    "TEST_FRACTION=0.4\n",
    "VALIDATION_FRACTION=0.0\n",
    "SAVE_MODEL_FILE='checkpoint.pth'\n",
    "NUM_WORKERS=0\n",
    "path='/data1/dose-3d-generative/data/training-data/DISP_0.5_ANGLE_0/NUMPY/a1_10_7.npy'"
   ]
  },
  {
   "cell_type": "code",
   "execution_count": 4,
   "metadata": {
    "execution": {
     "iopub.execute_input": "2022-03-06T22:49:09.512793Z",
     "iopub.status.busy": "2022-03-06T22:49:09.512161Z",
     "iopub.status.idle": "2022-03-06T22:49:09.524304Z",
     "shell.execute_reply": "2022-03-06T22:49:09.523782Z"
    }
   },
   "outputs": [
    {
     "name": "stdout",
     "output_type": "stream",
     "text": [
      "Device: cuda:0\n"
     ]
    }
   ],
   "source": [
    "CUDA_DEVICE_NUM=0\n",
    "DEVICE = torch.device(f'cuda:{CUDA_DEVICE_NUM}' if torch.cuda.is_available() else 'cpu')\n",
    "print('Device:', DEVICE)"
   ]
  },
  {
   "cell_type": "code",
   "execution_count": 5,
   "metadata": {
    "execution": {
     "iopub.execute_input": "2022-03-06T22:49:09.530466Z",
     "iopub.status.busy": "2022-03-06T22:49:09.529908Z",
     "iopub.status.idle": "2022-03-06T22:49:09.533075Z",
     "shell.execute_reply": "2022-03-06T22:49:09.532630Z"
    }
   },
   "outputs": [
    {
     "name": "stdout",
     "output_type": "stream",
     "text": [
      "0\n",
      "0\n",
      "Quadro RTX 8000\n"
     ]
    }
   ],
   "source": [
    "print(torch.cuda.memory_allocated(device=DEVICE))\n",
    "print(torch.cuda.memory_reserved(device=DEVICE))\n",
    "print(torch.cuda.get_device_name(0))"
   ]
  },
  {
   "cell_type": "code",
   "execution_count": 6,
   "metadata": {
    "execution": {
     "iopub.execute_input": "2022-03-06T22:49:09.537130Z",
     "iopub.status.busy": "2022-03-06T22:49:09.536575Z",
     "iopub.status.idle": "2022-03-06T22:49:09.748061Z",
     "shell.execute_reply": "2022-03-06T22:49:09.748452Z"
    }
   },
   "outputs": [
    {
     "name": "stdout",
     "output_type": "stream",
     "text": [
      "(10000001, 6)\n"
     ]
    }
   ],
   "source": [
    "#ODCZYTANIE DANYCH Z PLIKU 'photons.npy'\n",
    "photons = np.load(path)\n",
    "X = np.zeros((10000001, 6),dtype=np.float32)\n",
    "np.copyto(X,photons[:,:-1])\n",
    "print(X.shape)"
   ]
  },
  {
   "cell_type": "code",
   "execution_count": 7,
   "metadata": {
    "execution": {
     "iopub.execute_input": "2022-03-06T22:49:09.754789Z",
     "iopub.status.busy": "2022-03-06T22:49:09.754259Z",
     "iopub.status.idle": "2022-03-06T22:49:10.183351Z",
     "shell.execute_reply": "2022-03-06T22:49:10.182935Z"
    }
   },
   "outputs": [
    {
     "name": "stdout",
     "output_type": "stream",
     "text": [
      "20000002\n"
     ]
    }
   ],
   "source": [
    "X_reflection=copy.deepcopy(X)\n",
    "X_reflection[:,2]=-X_reflection[:,2]\n",
    "X_reflection[:,4]=-X_reflection[:,4]\n",
    "\n",
    "X_sum=np.concatenate((X,X_reflection),axis=0)\n",
    "print(len(X_sum))"
   ]
  },
  {
   "cell_type": "code",
   "execution_count": 8,
   "metadata": {
    "execution": {
     "iopub.execute_input": "2022-03-06T22:49:10.191355Z",
     "iopub.status.busy": "2022-03-06T22:49:10.190840Z",
     "iopub.status.idle": "2022-03-06T22:49:10.202814Z",
     "shell.execute_reply": "2022-03-06T22:49:10.203199Z"
    }
   },
   "outputs": [
    {
     "data": {
      "text/html": [
       "<div>\n",
       "<style scoped>\n",
       "    .dataframe tbody tr th:only-of-type {\n",
       "        vertical-align: middle;\n",
       "    }\n",
       "\n",
       "    .dataframe tbody tr th {\n",
       "        vertical-align: top;\n",
       "    }\n",
       "\n",
       "    .dataframe thead th {\n",
       "        text-align: right;\n",
       "    }\n",
       "</style>\n",
       "<table border=\"1\" class=\"dataframe\">\n",
       "  <thead>\n",
       "    <tr style=\"text-align: right;\">\n",
       "      <th></th>\n",
       "      <th>X</th>\n",
       "      <th>Y</th>\n",
       "      <th>dX</th>\n",
       "      <th>dY</th>\n",
       "      <th>dZ</th>\n",
       "      <th>E</th>\n",
       "    </tr>\n",
       "  </thead>\n",
       "  <tbody>\n",
       "    <tr>\n",
       "      <th>0</th>\n",
       "      <td>0.77526</td>\n",
       "      <td>-0.50856</td>\n",
       "      <td>-4.60704</td>\n",
       "      <td>-0.018979</td>\n",
       "      <td>-0.177872</td>\n",
       "      <td>0.983871</td>\n",
       "    </tr>\n",
       "    <tr>\n",
       "      <th>1</th>\n",
       "      <td>0.77526</td>\n",
       "      <td>-0.77813</td>\n",
       "      <td>-5.10840</td>\n",
       "      <td>-0.029292</td>\n",
       "      <td>-0.196501</td>\n",
       "      <td>0.980066</td>\n",
       "    </tr>\n",
       "    <tr>\n",
       "      <th>2</th>\n",
       "      <td>0.45010</td>\n",
       "      <td>-3.74409</td>\n",
       "      <td>-1.33591</td>\n",
       "      <td>-0.145330</td>\n",
       "      <td>-0.051869</td>\n",
       "      <td>0.988023</td>\n",
       "    </tr>\n",
       "    <tr>\n",
       "      <th>3</th>\n",
       "      <td>0.39630</td>\n",
       "      <td>-2.50916</td>\n",
       "      <td>-3.30103</td>\n",
       "      <td>-0.274393</td>\n",
       "      <td>-0.273584</td>\n",
       "      <td>0.921879</td>\n",
       "    </tr>\n",
       "    <tr>\n",
       "      <th>4</th>\n",
       "      <td>0.45010</td>\n",
       "      <td>-4.79711</td>\n",
       "      <td>-1.70242</td>\n",
       "      <td>-0.184824</td>\n",
       "      <td>-0.065606</td>\n",
       "      <td>0.980579</td>\n",
       "    </tr>\n",
       "  </tbody>\n",
       "</table>\n",
       "</div>"
      ],
      "text/plain": [
       "         X        Y       dX        dY        dZ         E\n",
       "0  0.77526 -0.50856 -4.60704 -0.018979 -0.177872  0.983871\n",
       "1  0.77526 -0.77813 -5.10840 -0.029292 -0.196501  0.980066\n",
       "2  0.45010 -3.74409 -1.33591 -0.145330 -0.051869  0.988023\n",
       "3  0.39630 -2.50916 -3.30103 -0.274393 -0.273584  0.921879\n",
       "4  0.45010 -4.79711 -1.70242 -0.184824 -0.065606  0.980579"
      ]
     },
     "execution_count": 8,
     "metadata": {},
     "output_type": "execute_result"
    }
   ],
   "source": [
    "df_data = pd.DataFrame(X_sum, columns = ['X', 'Y', 'dX', 'dY', 'dZ', 'E'])\n",
    "df_data.head()#zawsze warto rzucić okiem na dane"
   ]
  },
  {
   "cell_type": "code",
   "execution_count": 9,
   "metadata": {
    "execution": {
     "iopub.execute_input": "2022-03-06T22:49:10.206871Z",
     "iopub.status.busy": "2022-03-06T22:49:10.206368Z",
     "iopub.status.idle": "2022-03-06T22:49:10.408233Z",
     "shell.execute_reply": "2022-03-06T22:49:10.408652Z"
    }
   },
   "outputs": [],
   "source": [
    "tmp_check=df_data.to_numpy(dtype=np.float32)\n",
    "orginal_check=copy.deepcopy(tmp_check)"
   ]
  },
  {
   "cell_type": "code",
   "execution_count": 10,
   "metadata": {
    "execution": {
     "iopub.execute_input": "2022-03-06T22:49:10.430949Z",
     "iopub.status.busy": "2022-03-06T22:49:10.430440Z",
     "iopub.status.idle": "2022-03-06T22:49:14.720605Z",
     "shell.execute_reply": "2022-03-06T22:49:14.720120Z"
    }
   },
   "outputs": [
    {
     "data": {
      "image/png": "[encoded data removed]",
      "text/plain": [
       "<Figure size 1152x576 with 6 Axes>"
      ]
     },
     "metadata": {
      "needs_background": "light"
     },
     "output_type": "display_data"
    }
   ],
   "source": [
    "fig, axs = plt.subplots(2, 3)\n",
    "fig.set_size_inches(16,8)\n",
    "bins=100\n",
    "axs[0, 0].hist(orginal_check[:,0],bins=bins, label ='orginal',alpha=0.5, density=True)\n",
    "axs[0, 0].set_title('X')\n",
    "axs[0, 1].hist(orginal_check[:,1],bins=bins, label ='orginal',alpha=0.5, density=True)\n",
    "axs[0, 1].set_title('Y')\n",
    "axs[0, 2].hist(orginal_check[:,2],bins=bins, label ='orginal',alpha=0.5, density=True)\n",
    "axs[0, 2].set_title('dX')\n",
    "axs[1, 0].hist(orginal_check[:,3],bins=bins, label ='orginal',alpha=0.5, density=True)\n",
    "axs[1, 0].set_title('dY')\n",
    "axs[1, 1].hist(orginal_check[:,4],bins=bins, label ='orginal',alpha=0.5, density=True)\n",
    "axs[1, 1].set_title('dZ')\n",
    "axs[1, 2].hist(orginal_check[:,5],bins=bins, label ='orginal',alpha=0.5, density=True)\n",
    "axs[1, 2].set_title('E')\n",
    "fig.legend()\n",
    "\n",
    "fig.tight_layout()"
   ]
  },
  {
   "cell_type": "code",
   "execution_count": 11,
   "metadata": {
    "execution": {
     "iopub.execute_input": "2022-03-06T22:49:14.725445Z",
     "iopub.status.busy": "2022-03-06T22:49:14.724897Z",
     "iopub.status.idle": "2022-03-06T22:49:19.658093Z",
     "shell.execute_reply": "2022-03-06T22:49:19.658508Z"
    }
   },
   "outputs": [],
   "source": [
    "train_loader, valid_loader, test_loader, stdcs = get_dataloaders_and_standarscaler_photons_from_numpy(tmp_X=X_sum,\n",
    "    batch_size=BATCH_SIZE, \n",
    "    num_workers=NUM_WORKERS,\n",
    "    test_fraction=TEST_FRACTION, \n",
    "    validation_fraction=VALIDATION_FRACTION)"
   ]
  },
  {
   "cell_type": "code",
   "execution_count": 12,
   "metadata": {
    "execution": {
     "iopub.execute_input": "2022-03-06T22:49:19.664289Z",
     "iopub.status.busy": "2022-03-06T22:49:19.663697Z",
     "iopub.status.idle": "2022-03-06T22:49:22.587321Z",
     "shell.execute_reply": "2022-03-06T22:49:22.586903Z"
    }
   },
   "outputs": [],
   "source": [
    "model = VAE_Linear_0703()\n",
    "model.to(DEVICE)\n",
    "\n",
    "#criterion = nn.MSELoss()#FUNKCJA STRATY\n",
    "optimizer = torch.optim.Adam(model.parameters(),\n",
    "                             lr=LEARNING_RATE, \n",
    "                             weight_decay=1e-5)"
   ]
  },
  {
   "cell_type": "code",
   "execution_count": 13,
   "metadata": {
    "execution": {
     "iopub.execute_input": "2022-03-06T22:49:22.592043Z",
     "iopub.status.busy": "2022-03-06T22:49:22.591408Z",
     "iopub.status.idle": "2022-03-07T08:56:47.918267Z",
     "shell.execute_reply": "2022-03-07T08:56:47.918704Z"
    }
   },
   "outputs": [
    {
     "name": "stdout",
     "output_type": "stream",
     "text": [
      "Epoch: 001/030 | Batch 0000/1200 | Loss: 8.4597\n",
      "Epoch: 001/030 | Batch 0300/1200 | Loss: 6.6622\n",
      "Epoch: 001/030 | Batch 0600/1200 | Loss: 4.1009\n",
      "Epoch: 001/030 | Batch 0900/1200 | Loss: 2.5856\n",
      "***Epoch: 001/030 | Loss: 2.233\n",
      "Test***Epoch: 001/030 | Loss: 2.238\n",
      "Time elapsed: 20.14 min\n",
      "Epoch: 002/030 | Batch 0000/1200 | Loss: 2.4919\n",
      "Epoch: 002/030 | Batch 0300/1200 | Loss: 1.5132\n",
      "Epoch: 002/030 | Batch 0600/1200 | Loss: 0.9048\n",
      "Epoch: 002/030 | Batch 0900/1200 | Loss: 0.8043\n",
      "***Epoch: 002/030 | Loss: 0.629\n",
      "Test***Epoch: 002/030 | Loss: 0.629\n",
      "Time elapsed: 40.44 min\n",
      "Epoch: 003/030 | Batch 0000/1200 | Loss: 0.5633\n",
      "Epoch: 003/030 | Batch 0300/1200 | Loss: 0.5284\n",
      "Epoch: 003/030 | Batch 0600/1200 | Loss: 0.4937\n",
      "Epoch: 003/030 | Batch 0900/1200 | Loss: 0.4436\n",
      "***Epoch: 003/030 | Loss: 0.371\n",
      "Test***Epoch: 003/030 | Loss: 0.372\n",
      "Time elapsed: 60.78 min\n",
      "Epoch: 004/030 | Batch 0000/1200 | Loss: 0.3830\n",
      "Epoch: 004/030 | Batch 0300/1200 | Loss: 0.3720\n",
      "Epoch: 004/030 | Batch 0600/1200 | Loss: 0.3722\n",
      "Epoch: 004/030 | Batch 0900/1200 | Loss: 0.3494\n",
      "***Epoch: 004/030 | Loss: 0.336\n",
      "Test***Epoch: 004/030 | Loss: 0.337\n",
      "Time elapsed: 81.10 min\n",
      "Epoch: 005/030 | Batch 0000/1200 | Loss: 0.3611\n",
      "Epoch: 005/030 | Batch 0300/1200 | Loss: 0.3178\n",
      "Epoch: 005/030 | Batch 0600/1200 | Loss: 0.3288\n",
      "Epoch: 005/030 | Batch 0900/1200 | Loss: 0.2933\n",
      "***Epoch: 005/030 | Loss: 0.280\n",
      "Test***Epoch: 005/030 | Loss: 0.281\n",
      "Time elapsed: 101.40 min\n",
      "Epoch: 006/030 | Batch 0000/1200 | Loss: 0.2896\n",
      "Epoch: 006/030 | Batch 0300/1200 | Loss: 0.2732\n",
      "Epoch: 006/030 | Batch 0600/1200 | Loss: 0.2616\n",
      "Epoch: 006/030 | Batch 0900/1200 | Loss: 0.2477\n",
      "***Epoch: 006/030 | Loss: 0.266\n",
      "Test***Epoch: 006/030 | Loss: 0.267\n",
      "Time elapsed: 121.70 min\n",
      "Epoch: 007/030 | Batch 0000/1200 | Loss: 0.2539\n",
      "Epoch: 007/030 | Batch 0300/1200 | Loss: 0.2513\n",
      "Epoch: 007/030 | Batch 0600/1200 | Loss: 0.2500\n",
      "Epoch: 007/030 | Batch 0900/1200 | Loss: 0.2769\n",
      "***Epoch: 007/030 | Loss: 0.261\n",
      "Test***Epoch: 007/030 | Loss: 0.261\n",
      "Time elapsed: 142.01 min\n",
      "Epoch: 008/030 | Batch 0000/1200 | Loss: 0.2794\n",
      "Epoch: 008/030 | Batch 0300/1200 | Loss: 0.2687\n",
      "Epoch: 008/030 | Batch 0600/1200 | Loss: 0.2558\n",
      "Epoch: 008/030 | Batch 0900/1200 | Loss: 0.2335\n",
      "***Epoch: 008/030 | Loss: 0.254\n",
      "Test***Epoch: 008/030 | Loss: 0.255\n",
      "Time elapsed: 162.31 min\n",
      "Epoch: 009/030 | Batch 0000/1200 | Loss: 0.2562\n",
      "Epoch: 009/030 | Batch 0300/1200 | Loss: 0.2762\n",
      "Epoch: 009/030 | Batch 0600/1200 | Loss: 0.2300\n",
      "Epoch: 009/030 | Batch 0900/1200 | Loss: 0.2487\n",
      "***Epoch: 009/030 | Loss: 0.253\n",
      "Test***Epoch: 009/030 | Loss: 0.254\n",
      "Time elapsed: 182.61 min\n",
      "Epoch: 010/030 | Batch 0000/1200 | Loss: 0.2514\n",
      "Epoch: 010/030 | Batch 0300/1200 | Loss: 0.2442\n",
      "Epoch: 010/030 | Batch 0600/1200 | Loss: 0.2211\n",
      "Epoch: 010/030 | Batch 0900/1200 | Loss: 0.2554\n",
      "***Epoch: 010/030 | Loss: 0.253\n",
      "Test***Epoch: 010/030 | Loss: 0.254\n",
      "Time elapsed: 202.93 min\n",
      "Epoch: 011/030 | Batch 0000/1200 | Loss: 0.2585\n",
      "Epoch: 011/030 | Batch 0300/1200 | Loss: 0.2529\n",
      "Epoch: 011/030 | Batch 0600/1200 | Loss: 0.2510\n",
      "Epoch: 011/030 | Batch 0900/1200 | Loss: 0.2547\n",
      "***Epoch: 011/030 | Loss: 0.253\n",
      "Test***Epoch: 011/030 | Loss: 0.253\n",
      "Time elapsed: 223.23 min\n",
      "Epoch: 012/030 | Batch 0000/1200 | Loss: 0.2478\n",
      "Epoch: 012/030 | Batch 0300/1200 | Loss: 0.2522\n",
      "Epoch: 012/030 | Batch 0600/1200 | Loss: 0.2573\n",
      "Epoch: 012/030 | Batch 0900/1200 | Loss: 0.2733\n",
      "***Epoch: 012/030 | Loss: 0.252\n",
      "Test***Epoch: 012/030 | Loss: 0.253\n",
      "Time elapsed: 243.49 min\n",
      "Epoch: 013/030 | Batch 0000/1200 | Loss: 0.2342\n",
      "Epoch: 013/030 | Batch 0300/1200 | Loss: 0.2741\n",
      "Epoch: 013/030 | Batch 0600/1200 | Loss: 0.2528\n",
      "Epoch: 013/030 | Batch 0900/1200 | Loss: 0.2378\n",
      "***Epoch: 013/030 | Loss: 0.252\n",
      "Test***Epoch: 013/030 | Loss: 0.253\n",
      "Time elapsed: 263.74 min\n",
      "Epoch: 014/030 | Batch 0000/1200 | Loss: 0.2317\n",
      "Epoch: 014/030 | Batch 0300/1200 | Loss: 0.2575\n",
      "Epoch: 014/030 | Batch 0600/1200 | Loss: 0.2666\n",
      "Epoch: 014/030 | Batch 0900/1200 | Loss: 0.2694\n",
      "***Epoch: 014/030 | Loss: 0.252\n",
      "Test***Epoch: 014/030 | Loss: 0.252\n",
      "Time elapsed: 284.00 min\n",
      "Epoch: 015/030 | Batch 0000/1200 | Loss: 0.2500\n",
      "Epoch: 015/030 | Batch 0300/1200 | Loss: 0.2456\n",
      "Epoch: 015/030 | Batch 0600/1200 | Loss: 0.2428\n",
      "Epoch: 015/030 | Batch 0900/1200 | Loss: 0.2648\n",
      "***Epoch: 015/030 | Loss: 0.251\n",
      "Test***Epoch: 015/030 | Loss: 0.252\n",
      "Time elapsed: 304.24 min\n",
      "Epoch: 016/030 | Batch 0000/1200 | Loss: 0.2622\n",
      "Epoch: 016/030 | Batch 0300/1200 | Loss: 0.2765\n",
      "Epoch: 016/030 | Batch 0600/1200 | Loss: 0.2464\n",
      "Epoch: 016/030 | Batch 0900/1200 | Loss: 0.2664\n",
      "***Epoch: 016/030 | Loss: 0.250\n",
      "Test***Epoch: 016/030 | Loss: 0.251\n",
      "Time elapsed: 324.50 min\n",
      "Epoch: 017/030 | Batch 0000/1200 | Loss: 0.2669\n",
      "Epoch: 017/030 | Batch 0300/1200 | Loss: 0.2477\n",
      "Epoch: 017/030 | Batch 0600/1200 | Loss: 0.2317\n",
      "Epoch: 017/030 | Batch 0900/1200 | Loss: 0.2517\n",
      "***Epoch: 017/030 | Loss: 0.246\n",
      "Test***Epoch: 017/030 | Loss: 0.247\n",
      "Time elapsed: 344.73 min\n",
      "Epoch: 018/030 | Batch 0000/1200 | Loss: 0.2343\n",
      "Epoch: 018/030 | Batch 0300/1200 | Loss: 0.2351\n",
      "Epoch: 018/030 | Batch 0600/1200 | Loss: 0.2375\n",
      "Epoch: 018/030 | Batch 0900/1200 | Loss: 0.2434\n",
      "***Epoch: 018/030 | Loss: 0.244\n",
      "Test***Epoch: 018/030 | Loss: 0.244\n",
      "Time elapsed: 364.94 min\n",
      "Epoch: 019/030 | Batch 0000/1200 | Loss: 0.2461\n",
      "Epoch: 019/030 | Batch 0300/1200 | Loss: 0.2521\n",
      "Epoch: 019/030 | Batch 0600/1200 | Loss: 0.2282\n",
      "Epoch: 019/030 | Batch 0900/1200 | Loss: 0.2515\n",
      "***Epoch: 019/030 | Loss: 0.244\n",
      "Test***Epoch: 019/030 | Loss: 0.244\n",
      "Time elapsed: 385.21 min\n",
      "Epoch: 020/030 | Batch 0000/1200 | Loss: 0.2605\n",
      "Epoch: 020/030 | Batch 0300/1200 | Loss: 0.2251\n",
      "Epoch: 020/030 | Batch 0600/1200 | Loss: 0.2485\n",
      "Epoch: 020/030 | Batch 0900/1200 | Loss: 0.2501\n",
      "***Epoch: 020/030 | Loss: 0.244\n",
      "Test***Epoch: 020/030 | Loss: 0.244\n",
      "Time elapsed: 405.47 min\n",
      "Epoch: 021/030 | Batch 0000/1200 | Loss: 0.2621\n",
      "Epoch: 021/030 | Batch 0300/1200 | Loss: 0.2752\n",
      "Epoch: 021/030 | Batch 0600/1200 | Loss: 0.2471\n",
      "Epoch: 021/030 | Batch 0900/1200 | Loss: 0.2301\n",
      "***Epoch: 021/030 | Loss: 0.243\n",
      "Test***Epoch: 021/030 | Loss: 0.244\n",
      "Time elapsed: 425.69 min\n",
      "Epoch: 022/030 | Batch 0000/1200 | Loss: 0.2507\n",
      "Epoch: 022/030 | Batch 0300/1200 | Loss: 0.2687\n",
      "Epoch: 022/030 | Batch 0600/1200 | Loss: 0.2306\n",
      "Epoch: 022/030 | Batch 0900/1200 | Loss: 0.2420\n",
      "***Epoch: 022/030 | Loss: 0.243\n",
      "Test***Epoch: 022/030 | Loss: 0.244\n",
      "Time elapsed: 445.92 min\n",
      "Epoch: 023/030 | Batch 0000/1200 | Loss: 0.2682\n",
      "Epoch: 023/030 | Batch 0300/1200 | Loss: 0.2317\n",
      "Epoch: 023/030 | Batch 0600/1200 | Loss: 0.2303\n",
      "Epoch: 023/030 | Batch 0900/1200 | Loss: 0.2529\n",
      "***Epoch: 023/030 | Loss: 0.243\n",
      "Test***Epoch: 023/030 | Loss: 0.244\n",
      "Time elapsed: 466.12 min\n",
      "Epoch: 024/030 | Batch 0000/1200 | Loss: 0.2343\n",
      "Epoch: 024/030 | Batch 0300/1200 | Loss: 0.2728\n",
      "Epoch: 024/030 | Batch 0600/1200 | Loss: 0.2743\n",
      "Epoch: 024/030 | Batch 0900/1200 | Loss: 0.2645\n",
      "***Epoch: 024/030 | Loss: 0.243\n",
      "Test***Epoch: 024/030 | Loss: 0.244\n",
      "Time elapsed: 486.30 min\n",
      "Epoch: 025/030 | Batch 0000/1200 | Loss: 0.2422\n",
      "Epoch: 025/030 | Batch 0300/1200 | Loss: 0.2517\n",
      "Epoch: 025/030 | Batch 0600/1200 | Loss: 0.2565\n",
      "Epoch: 025/030 | Batch 0900/1200 | Loss: 0.2383\n",
      "***Epoch: 025/030 | Loss: 0.244\n",
      "Test***Epoch: 025/030 | Loss: 0.244\n",
      "Time elapsed: 506.49 min\n",
      "Epoch: 026/030 | Batch 0000/1200 | Loss: 0.2377\n",
      "Epoch: 026/030 | Batch 0300/1200 | Loss: 0.2516\n",
      "Epoch: 026/030 | Batch 0600/1200 | Loss: 0.2397\n",
      "Epoch: 026/030 | Batch 0900/1200 | Loss: 0.2361\n",
      "***Epoch: 026/030 | Loss: 0.243\n",
      "Test***Epoch: 026/030 | Loss: 0.244\n",
      "Time elapsed: 526.69 min\n",
      "Epoch: 027/030 | Batch 0000/1200 | Loss: 0.2559\n",
      "Epoch: 027/030 | Batch 0300/1200 | Loss: 0.2417\n",
      "Epoch: 027/030 | Batch 0600/1200 | Loss: 0.2283\n",
      "Epoch: 027/030 | Batch 0900/1200 | Loss: 0.2420\n",
      "***Epoch: 027/030 | Loss: 0.243\n",
      "Test***Epoch: 027/030 | Loss: 0.244\n",
      "Time elapsed: 546.89 min\n",
      "Epoch: 028/030 | Batch 0000/1200 | Loss: 0.2593\n",
      "Epoch: 028/030 | Batch 0300/1200 | Loss: 0.2409\n",
      "Epoch: 028/030 | Batch 0600/1200 | Loss: 0.2542\n",
      "Epoch: 028/030 | Batch 0900/1200 | Loss: 0.2353\n",
      "***Epoch: 028/030 | Loss: 0.243\n",
      "Test***Epoch: 028/030 | Loss: 0.244\n",
      "Time elapsed: 567.08 min\n",
      "Epoch: 029/030 | Batch 0000/1200 | Loss: 0.2526\n",
      "Epoch: 029/030 | Batch 0300/1200 | Loss: 0.2452\n",
      "Epoch: 029/030 | Batch 0600/1200 | Loss: 0.2386\n",
      "Epoch: 029/030 | Batch 0900/1200 | Loss: 0.2412\n",
      "***Epoch: 029/030 | Loss: 0.243\n",
      "Test***Epoch: 029/030 | Loss: 0.244\n",
      "Time elapsed: 587.25 min\n",
      "Epoch: 030/030 | Batch 0000/1200 | Loss: 0.2593\n",
      "Epoch: 030/030 | Batch 0300/1200 | Loss: 0.2500\n",
      "Epoch: 030/030 | Batch 0600/1200 | Loss: 0.2702\n",
      "Epoch: 030/030 | Batch 0900/1200 | Loss: 0.2372\n",
      "***Epoch: 030/030 | Loss: 0.243\n",
      "Test***Epoch: 030/030 | Loss: 0.244\n",
      "Time elapsed: 607.42 min\n",
      "Total Training Time: 607.42 min\n"
     ]
    }
   ],
   "source": [
    "log_dict=train_vae_mmd(num_epochs=NUM_EPOCHS, device=DEVICE, model=model,optimizer=optimizer,train_loader=train_loader,loss_fn=None, test_loader=test_loader, logging_interval=LOGGING_INTERVAL, reconstruction_term_weight=RECONSTRUCTION_TERM_WEIGHT, save_model_file=SAVE_MODEL_FILE)"
   ]
  },
  {
   "cell_type": "code",
   "execution_count": 14,
   "metadata": {
    "execution": {
     "iopub.execute_input": "2022-03-07T08:56:47.938706Z",
     "iopub.status.busy": "2022-03-07T08:56:47.928472Z",
     "iopub.status.idle": "2022-03-07T08:56:48.844001Z",
     "shell.execute_reply": "2022-03-07T08:56:48.843604Z"
    }
   },
   "outputs": [
    {
     "data": {
      "image/png": "[encoded data removed]",
      "text/plain": [
       "<Figure size 432x288 with 2 Axes>"
      ]
     },
     "metadata": {
      "needs_background": "light"
     },
     "output_type": "display_data"
    },
    {
     "data": {
      "image/png": "[encoded data removed]",
      "text/plain": [
       "<Figure size 432x288 with 2 Axes>"
      ]
     },
     "metadata": {
      "needs_background": "light"
     },
     "output_type": "display_data"
    },
    {
     "data": {
      "image/png": "[encoded data removed]",
      "text/plain": [
       "<Figure size 432x288 with 2 Axes>"
      ]
     },
     "metadata": {
      "needs_background": "light"
     },
     "output_type": "display_data"
    }
   ],
   "source": [
    "plot_training_loss(log_dict['train_reconstruction_loss_per_batch'], NUM_EPOCHS, custom_label=\" (reconstruction)\")\n",
    "plot_training_loss(log_dict['train_kl_loss_per_batch'], NUM_EPOCHS, custom_label=\" (KL)\")\n",
    "plot_training_loss(log_dict['train_combined_loss_per_batch'], NUM_EPOCHS, custom_label=\" (combined)\")\n",
    "plt.show()\n",
    "\n"
   ]
  },
  {
   "cell_type": "code",
   "execution_count": 15,
   "metadata": {
    "execution": {
     "iopub.execute_input": "2022-03-07T08:56:48.870399Z",
     "iopub.status.busy": "2022-03-07T08:56:48.863522Z",
     "iopub.status.idle": "2022-03-07T08:56:49.014333Z",
     "shell.execute_reply": "2022-03-07T08:56:49.014777Z"
    }
   },
   "outputs": [
    {
     "data": {
      "image/png": "[encoded data removed]",
      "text/plain": [
       "<Figure size 432x288 with 1 Axes>"
      ]
     },
     "metadata": {
      "needs_background": "light"
     },
     "output_type": "display_data"
    }
   ],
   "source": [
    "plt.plot(range(len(log_dict['train_combined_loss_per_epoch'])), (log_dict['train_combined_loss_per_epoch']), label='Train Epoch Loss')\n",
    "plt.plot(range(len(log_dict['test_combined_loss_per_epoch'])), (log_dict['test_combined_loss_per_epoch']), label='Test Epoch Loss')\n",
    "plt.legend()\n",
    "plt.xlabel('Epochs')\n",
    "plt.ylabel('Loss')\n",
    "#plt.ylim(0.15,0.3)\n",
    "plt.tight_layout()"
   ]
  },
  {
   "cell_type": "code",
   "execution_count": 16,
   "metadata": {
    "execution": {
     "iopub.execute_input": "2022-03-07T08:56:49.019710Z",
     "iopub.status.busy": "2022-03-07T08:56:49.019205Z",
     "iopub.status.idle": "2022-03-07T08:56:53.624017Z",
     "shell.execute_reply": "2022-03-07T08:56:53.623569Z"
    }
   },
   "outputs": [],
   "source": [
    "tmp=df_data.to_numpy(dtype=np.float32)\n",
    "orginal=copy.deepcopy(tmp)\n",
    "tmp=stdcs.transform(tmp)\n",
    "tmp=torch.from_numpy(tmp)\n",
    "#print(tmp)\n",
    "model.eval()\n",
    "with torch.no_grad():\n",
    "    result_encoded_features, z_mean, z_log_var, result_decoded_features =model(tmp.to(device=DEVICE))\n",
    "result=result_decoded_features.cpu().detach().numpy()\n",
    "result=stdcs.inverse_transform(result)"
   ]
  },
  {
   "cell_type": "code",
   "execution_count": 17,
   "metadata": {
    "execution": {
     "iopub.execute_input": "2022-03-07T08:56:53.637745Z",
     "iopub.status.busy": "2022-03-07T08:56:53.637214Z",
     "iopub.status.idle": "2022-03-07T08:57:01.131813Z",
     "shell.execute_reply": "2022-03-07T08:57:01.131312Z"
    }
   },
   "outputs": [
    {
     "data": {
      "image/png": "[encoded data removed]",
      "text/plain": [
       "<Figure size 1152x576 with 6 Axes>"
      ]
     },
     "metadata": {
      "needs_background": "light"
     },
     "output_type": "display_data"
    }
   ],
   "source": [
    "fig, axs = plt.subplots(2, 3)\n",
    "fig.set_size_inches(16,8)\n",
    "bins=100\n",
    "axs[0, 0].hist(orginal[:,0],bins=bins, label ='orginal',alpha=0.5, density=True)\n",
    "axs[0, 0].hist(result[:,0],bins=bins, label ='decoded', alpha=0.5, density=True)\n",
    "axs[0, 0].set_title('X')\n",
    "axs[0, 1].hist(orginal[:,1],bins=bins, label ='orginal',alpha=0.5, density=True)\n",
    "axs[0, 1].hist(result[:,1],bins=bins, label ='decoded', alpha=0.5, density=True)\n",
    "axs[0, 1].set_title('Y')\n",
    "axs[0, 2].hist(orginal[:,2],bins=bins, label ='orginal',alpha=0.5, density=True)\n",
    "axs[0, 2].hist(result[:,2],bins=bins, label ='decoded', alpha=0.5, density=True)\n",
    "axs[0, 2].set_title('dX')\n",
    "axs[1, 0].hist(orginal[:,3],bins=bins, label ='orginal',alpha=0.5, density=True)\n",
    "axs[1, 0].hist(result[:,3],bins=bins, label ='decoded', alpha=0.5, density=True)\n",
    "axs[1, 0].set_title('dY')\n",
    "axs[1, 1].hist(orginal[:,4],bins=bins, label ='orginal',alpha=0.5, density=True)\n",
    "axs[1, 1].hist(result[:,4],bins=bins, label ='decoded', alpha=0.5, density=True)\n",
    "axs[1, 1].set_title('dZ')\n",
    "axs[1, 2].hist(orginal[:,5],bins=bins, label ='orginal',alpha=0.5, density=True)\n",
    "axs[1, 2].hist(result[:,5],bins=bins, label ='decoded', alpha=0.5, density=True)\n",
    "axs[1, 2].set_title('E')\n",
    "fig.legend()\n",
    "\n",
    "# for ax in axs.flat:\n",
    "#     ax.set(xlabel='x-label', ylabel='y-label')\n",
    "\n",
    "# # Hide x labels and tick labels for top plots and y ticks for right plots.\n",
    "# for ax in axs.flat:\n",
    "#     ax.label_outer()\n",
    "fig.tight_layout()"
   ]
  },
  {
   "cell_type": "code",
   "execution_count": 18,
   "metadata": {
    "execution": {
     "iopub.execute_input": "2022-03-07T08:57:01.194883Z",
     "iopub.status.busy": "2022-03-07T08:57:01.152552Z",
     "iopub.status.idle": "2022-03-07T08:57:24.096783Z",
     "shell.execute_reply": "2022-03-07T08:57:24.097219Z"
    }
   },
   "outputs": [
    {
     "data": {
      "image/png": "[encoded data removed]",
      "text/plain": [
       "<Figure size 1440x1440 with 6 Axes>"
      ]
     },
     "metadata": {
      "needs_background": "light"
     },
     "output_type": "display_data"
    }
   ],
   "source": [
    "keys = df_data.columns\n",
    "fig, axs = plt.subplots(2, 3)\n",
    "fig.set_size_inches(20, 20)\n",
    "for i, j in enumerate(keys):\n",
    "    mi = np.minimum(orginal[:, i].min(), result[:, i].min())\n",
    "    ma = np.maximum(orginal[:, i].max(), result[:, i].max())\n",
    "    bins = np.linspace(mi, ma, 300)\n",
    "    axs.flatten()[i].hist(orginal[:, i], bins, alpha=.5)\n",
    "    axs.flatten()[i].hist(result[:, i], bins, alpha=.5)\n",
    "    axs.flatten()[i].set_title(j)"
   ]
  },
  {
   "cell_type": "code",
   "execution_count": 19,
   "metadata": {
    "execution": {
     "iopub.execute_input": "2022-03-07T08:57:24.102833Z",
     "iopub.status.busy": "2022-03-07T08:57:24.102286Z",
     "iopub.status.idle": "2022-03-07T08:57:25.770566Z",
     "shell.execute_reply": "2022-03-07T08:57:25.770985Z"
    }
   },
   "outputs": [
    {
     "name": "stdout",
     "output_type": "stream",
     "text": [
      "True\n"
     ]
    }
   ],
   "source": [
    "decoded_df=pd.DataFrame(result,columns=['X', 'Y', 'dX', 'dY', 'dZ', 'E'])\n",
    "orginal_df=df_data.iloc[:,:]\n",
    "\n",
    "\n",
    "concatenated_datasets=pd.concat([orginal_df.assign(dataset_name='orginal'), decoded_df.assign(dataset_name='decoded')],ignore_index=True)\n",
    "concatenated_datasets.shape\n",
    "print(concatenated_datasets.index.is_unique)"
   ]
  },
  {
   "cell_type": "code",
   "execution_count": 20,
   "metadata": {
    "execution": {
     "iopub.execute_input": "2022-03-07T08:57:26.324816Z",
     "iopub.status.busy": "2022-03-07T08:57:26.324228Z",
     "iopub.status.idle": "2022-03-07T08:57:31.372175Z",
     "shell.execute_reply": "2022-03-07T08:57:31.371753Z"
    }
   },
   "outputs": [
    {
     "name": "stdout",
     "output_type": "stream",
     "text": [
      "(500000, 7)\n",
      "                 X         Y        dX        dY        dZ         E  \\\n",
      "31583840  0.722596  1.763072  1.079117  0.085096  0.037795  0.995045   \n",
      "34539943  0.283723  2.209071  4.984990  0.106127  0.185747  0.976564   \n",
      "20004843  0.393364  3.558454 -3.808462  0.173544 -0.147108  0.977102   \n",
      "20169494  1.223245  0.540280  0.034502  0.032151  0.271877  0.925668   \n",
      "38060417  0.343315 -5.007077  2.104751 -0.241468  0.217327  0.927776   \n",
      "\n",
      "         dataset_name  \n",
      "31583840      decoded  \n",
      "34539943      decoded  \n",
      "20004843      decoded  \n",
      "20169494      decoded  \n",
      "38060417      decoded  \n"
     ]
    }
   ],
   "source": [
    "#TODO trzeba by sprawdzić czy to losowanie działa poprawnie i zwraca próbkę reprezentatywną\n",
    "sample_concatenated=concatenated_datasets.groupby('dataset_name', group_keys=False).apply(lambda x: x.sample(frac=PLOT_FRACTION, random_state=2)) \n",
    "print(sample_concatenated.shape)\n",
    "print(sample_concatenated.head())"
   ]
  },
  {
   "cell_type": "code",
   "execution_count": 21,
   "metadata": {
    "execution": {
     "iopub.execute_input": "2022-03-07T08:57:31.376643Z",
     "iopub.status.busy": "2022-03-07T08:57:31.376133Z",
     "iopub.status.idle": "2022-03-07T08:57:36.266624Z",
     "shell.execute_reply": "2022-03-07T08:57:36.266205Z"
    }
   },
   "outputs": [
    {
     "name": "stdout",
     "output_type": "stream",
     "text": [
      "(250000, 6)\n",
      "                X        Y       dX        dY        dZ         E\n",
      "11583838  0.72217  1.91911  1.02320  0.075932  0.040737  0.996280\n",
      "14539941  0.19622  2.45577  4.91175  0.094408  0.188461  0.977532\n",
      "4841      0.36820  3.95641 -3.81723  0.152133 -0.146734  0.977407\n",
      "169492    1.24696  4.82186 -0.47056 -0.187327  0.301854  0.934769\n",
      "18060415  0.46350 -3.66491  2.14019 -0.309671  0.214503  0.926333\n"
     ]
    }
   ],
   "source": [
    "sample_orginal=orginal_df.apply(lambda x: x.sample(frac=PLOT_FRACTION, random_state=2)) \n",
    "print(sample_orginal.shape)\n",
    "print(sample_orginal.head())"
   ]
  },
  {
   "cell_type": "code",
   "execution_count": 22,
   "metadata": {
    "execution": {
     "iopub.execute_input": "2022-03-07T08:57:36.270275Z",
     "iopub.status.busy": "2022-03-07T08:57:36.269789Z",
     "iopub.status.idle": "2022-03-07T08:57:36.272088Z",
     "shell.execute_reply": "2022-03-07T08:57:36.271684Z"
    }
   },
   "outputs": [],
   "source": [
    "# sns.pairplot(sample_orginal, kind=\"scatter\")"
   ]
  },
  {
   "cell_type": "code",
   "execution_count": 23,
   "metadata": {
    "execution": {
     "iopub.execute_input": "2022-03-07T08:57:36.276197Z",
     "iopub.status.busy": "2022-03-07T08:57:36.275710Z",
     "iopub.status.idle": "2022-03-07T08:57:41.221741Z",
     "shell.execute_reply": "2022-03-07T08:57:41.222121Z"
    }
   },
   "outputs": [
    {
     "name": "stdout",
     "output_type": "stream",
     "text": [
      "(250000, 6)\n",
      "                 X         Y        dX        dY        dZ         E\n",
      "11583838  0.722596  1.763072  1.079117  0.085096  0.037795  0.995045\n",
      "14539941  0.283723  2.209071  4.984990  0.106127  0.185747  0.976564\n",
      "4841      0.393364  3.558454 -3.808462  0.173544 -0.147108  0.977102\n",
      "169492    1.223245  0.540280  0.034502  0.032151  0.271877  0.925668\n",
      "18060415  0.343315 -5.007077  2.104751 -0.241468  0.217327  0.927776\n"
     ]
    }
   ],
   "source": [
    "sample_decoded=decoded_df.apply(lambda x: x.sample(frac=PLOT_FRACTION, random_state=2)) \n",
    "print(sample_decoded.shape)\n",
    "print(sample_decoded.head())"
   ]
  },
  {
   "cell_type": "code",
   "execution_count": 24,
   "metadata": {
    "execution": {
     "iopub.execute_input": "2022-03-07T08:57:41.225630Z",
     "iopub.status.busy": "2022-03-07T08:57:41.225132Z",
     "iopub.status.idle": "2022-03-07T08:57:41.227094Z",
     "shell.execute_reply": "2022-03-07T08:57:41.227484Z"
    }
   },
   "outputs": [],
   "source": [
    "# sns.pairplot(sample_decoded, kind=\"scatter\")"
   ]
  },
  {
   "cell_type": "code",
   "execution_count": 25,
   "metadata": {
    "execution": {
     "iopub.execute_input": "2022-03-07T08:57:41.230745Z",
     "iopub.status.busy": "2022-03-07T08:57:41.230228Z",
     "iopub.status.idle": "2022-03-07T08:57:41.232260Z",
     "shell.execute_reply": "2022-03-07T08:57:41.232661Z"
    }
   },
   "outputs": [],
   "source": [
    "# sns.pairplot(sample_concatenated, hue=\"dataset_name\", kind=\"scatter\", plot_kws=dict(alpha=0.5))\n",
    "\n",
    "# g = sns.PairGrid(concatenated_datasets, hue='dataset_name')\n",
    "# g.map_upper(sns.scatterplot)\n",
    "# #g.map_lower(sns.kdeplot, fill=True)\n",
    "# g.map_diag(sns.histplot, kde=True)\n",
    "\n",
    "# sns.pairplot(concatenated_datasets, hue=\"dataset_name\", kind=\"scatter\", plot_kws=dict(alpha=0.5),corner=True)"
   ]
  },
  {
   "cell_type": "code",
   "execution_count": 26,
   "metadata": {
    "execution": {
     "iopub.execute_input": "2022-03-07T08:57:41.238338Z",
     "iopub.status.busy": "2022-03-07T08:57:41.237851Z",
     "iopub.status.idle": "2022-03-07T08:57:41.346988Z",
     "shell.execute_reply": "2022-03-07T08:57:41.346586Z"
    }
   },
   "outputs": [],
   "source": [
    "tmp_2=df_data.iloc[37:38,:]\n",
    "tmp_2=tmp_2.to_numpy(dtype=np.float32)\n",
    "orginal_2=tmp_2\n",
    "tmp_2=stdcs.transform(tmp_2)\n",
    "tmp_2=torch.from_numpy(tmp_2)\n",
    "model.eval()\n",
    "with torch.no_grad():\n",
    "    result_encoded_features_2, z_mean_2, z_log_var_2, result_decoded_features_2=model(tmp_2.to(device=DEVICE))\n",
    "result_2=result_decoded_features_2.cpu().detach().numpy()\n",
    "result_2=stdcs.inverse_transform(result_2)"
   ]
  },
  {
   "cell_type": "code",
   "execution_count": 27,
   "metadata": {
    "execution": {
     "iopub.execute_input": "2022-03-07T08:57:41.350350Z",
     "iopub.status.busy": "2022-03-07T08:57:41.349849Z",
     "iopub.status.idle": "2022-03-07T08:57:41.351966Z",
     "shell.execute_reply": "2022-03-07T08:57:41.352379Z"
    }
   },
   "outputs": [],
   "source": [
    "orginal_2=orginal_2.flatten()\n",
    "result_2=result_2.flatten()"
   ]
  },
  {
   "cell_type": "code",
   "execution_count": 28,
   "metadata": {
    "execution": {
     "iopub.execute_input": "2022-03-07T08:57:41.362238Z",
     "iopub.status.busy": "2022-03-07T08:57:41.361681Z",
     "iopub.status.idle": "2022-03-07T08:57:41.364386Z",
     "shell.execute_reply": "2022-03-07T08:57:41.364777Z"
    }
   },
   "outputs": [
    {
     "data": {
      "text/html": [
       "<div>\n",
       "<style scoped>\n",
       "    .dataframe tbody tr th:only-of-type {\n",
       "        vertical-align: middle;\n",
       "    }\n",
       "\n",
       "    .dataframe tbody tr th {\n",
       "        vertical-align: top;\n",
       "    }\n",
       "\n",
       "    .dataframe thead th {\n",
       "        text-align: right;\n",
       "    }\n",
       "</style>\n",
       "<table border=\"1\" class=\"dataframe\">\n",
       "  <thead>\n",
       "    <tr style=\"text-align: right;\">\n",
       "      <th></th>\n",
       "      <th>X</th>\n",
       "      <th>Y</th>\n",
       "      <th>dX</th>\n",
       "      <th>dY</th>\n",
       "      <th>dZ</th>\n",
       "      <th>E</th>\n",
       "    </tr>\n",
       "  </thead>\n",
       "  <tbody>\n",
       "    <tr>\n",
       "      <th>0</th>\n",
       "      <td>2.359750</td>\n",
       "      <td>2.614970</td>\n",
       "      <td>-4.698670</td>\n",
       "      <td>0.100502</td>\n",
       "      <td>-0.180584</td>\n",
       "      <td>0.978411</td>\n",
       "    </tr>\n",
       "    <tr>\n",
       "      <th>1</th>\n",
       "      <td>2.363958</td>\n",
       "      <td>2.346524</td>\n",
       "      <td>-4.732101</td>\n",
       "      <td>0.115049</td>\n",
       "      <td>-0.178816</td>\n",
       "      <td>0.979417</td>\n",
       "    </tr>\n",
       "  </tbody>\n",
       "</table>\n",
       "</div>"
      ],
      "text/plain": [
       "          X         Y        dX        dY        dZ         E\n",
       "0  2.359750  2.614970 -4.698670  0.100502 -0.180584  0.978411\n",
       "1  2.363958  2.346524 -4.732101  0.115049 -0.178816  0.979417"
      ]
     },
     "execution_count": 28,
     "metadata": {},
     "output_type": "execute_result"
    }
   ],
   "source": [
    "df=pd.DataFrame(np.stack((orginal_2,result_2)), columns=['X', 'Y', 'dX', 'dY', 'dZ', 'E'])\n",
    "df"
   ]
  },
  {
   "cell_type": "code",
   "execution_count": 29,
   "metadata": {
    "execution": {
     "iopub.execute_input": "2022-03-07T08:57:41.367989Z",
     "iopub.status.busy": "2022-03-07T08:57:41.367502Z",
     "iopub.status.idle": "2022-03-07T08:57:41.369800Z",
     "shell.execute_reply": "2022-03-07T08:57:41.369394Z"
    }
   },
   "outputs": [],
   "source": [
    "# encoded_features=[]\n",
    "# model.eval()\n",
    "# for index, feature in enumerate(train_loader):\n",
    "#     with torch.no_grad():\n",
    "#         tmp_encoded_features, z_mean, z_log_var, decoded =model(feature.to(device=DEVICE))\n",
    "#         encoded_features.extend(tmp_encoded_features.cpu().detach().numpy())\n",
    "# encoded_features=np.asarray(encoded_features)\n",
    "\n",
    "# print(encoded_features.shape)"
   ]
  },
  {
   "cell_type": "code",
   "execution_count": 30,
   "metadata": {
    "execution": {
     "iopub.execute_input": "2022-03-07T08:57:41.373007Z",
     "iopub.status.busy": "2022-03-07T08:57:41.372497Z",
     "iopub.status.idle": "2022-03-07T08:57:41.374505Z",
     "shell.execute_reply": "2022-03-07T08:57:41.374921Z"
    }
   },
   "outputs": [],
   "source": [
    "# #PRZESTRZEŃ UKRYTA VAE\n",
    "# colors = ['r']\n",
    "# markers = ['s']\n",
    "\n",
    "# fig=plt.figure()\n",
    "# ax=fig.add_subplot(projection='3d')\n",
    "# for c, m in zip(colors, markers):\n",
    "#     ax.scatter(encoded_features[:,0],encoded_features[:,2],encoded_features[:,1],marker=m,c=c)\n",
    "\n",
    "# ax.set_xlabel('VAE 1')\n",
    "# ax.set_ylabel('VAE 2')\n",
    "# ax.set_zlabel('VAE 3')\n",
    "\n",
    "# plt.show()"
   ]
  }
 ],
 "metadata": {
  "interpreter": {
   "hash": "94e50cba98016e2c68fceb7b9fa13391593fa96fd78bad5a436d2ca9f0548949"
  },
  "kernelspec": {
   "display_name": "Python 3.8.12 64-bit ('pytorch_wine_env': conda)",
   "language": "python",
   "name": "python3"
  },
  "language_info": {
   "codemirror_mode": {
    "name": "ipython",
    "version": 3
   },
   "file_extension": ".py",
   "mimetype": "text/x-python",
   "name": "python",
   "nbconvert_exporter": "python",
   "pygments_lexer": "ipython3",
   "version": "3.9.7"
  }
 },
 "nbformat": 4,
 "nbformat_minor": 2
}
