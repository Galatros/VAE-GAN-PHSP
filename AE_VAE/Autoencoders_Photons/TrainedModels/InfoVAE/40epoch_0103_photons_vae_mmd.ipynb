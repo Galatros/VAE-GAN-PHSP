{
 "cells": [
  {
   "cell_type": "code",
   "execution_count": 1,
   "metadata": {
    "execution": {
     "iopub.execute_input": "2022-03-01T19:28:35.240429Z",
     "iopub.status.busy": "2022-03-01T19:28:35.239813Z",
     "iopub.status.idle": "2022-03-01T19:28:37.086228Z",
     "shell.execute_reply": "2022-03-01T19:28:37.086649Z"
    }
   },
   "outputs": [],
   "source": [
    "#TODO czy zapisywać Logging interval ? \n",
    "#TODO i czy zapisywać całkowity number of epochs gdyby we wczytanym modelu robić kolejnego checkpointa\n",
    "from data_helper import get_dataloaders_and_standarscaler_photons, get_dataloaders_and_standarscaler_photons_from_numpy\n",
    "from train_helper import train_vae, train_vae_mmd\n",
    "from plot_helper import plot_training_loss\n",
    "from models_architecture_helper import VAE_Linear_0103\n",
    "\n",
    "import copy\n",
    "\n",
    "import numpy as np\n",
    "import pandas as pd\n",
    "import matplotlib.pyplot as plt\n",
    "# import time\n",
    "import seaborn as sns\n",
    "\n",
    "# from sklearn import preprocessing\n",
    "# from sklearn.decomposition import PCA\n",
    "# from sklearn.model_selection import train_test_split\n",
    "# from sklearn.preprocessing import StandardScaler\n",
    "\n",
    "import torch\n",
    "import torch.nn as nn\n",
    "# import torch.nn.functional as F\n",
    "# from torch.utils.data import Dataset, DataLoader\n",
    "# from torchvision import transforms"
   ]
  },
  {
   "cell_type": "code",
   "execution_count": 2,
   "metadata": {
    "execution": {
     "iopub.execute_input": "2022-03-01T19:28:37.092576Z",
     "iopub.status.busy": "2022-03-01T19:28:37.092049Z",
     "iopub.status.idle": "2022-03-01T19:28:37.095466Z",
     "shell.execute_reply": "2022-03-01T19:28:37.095890Z"
    }
   },
   "outputs": [
    {
     "name": "stdout",
     "output_type": "stream",
     "text": [
      "tensor([[4, 4, 4],\n",
      "        [4, 4, 4]])\n"
     ]
    }
   ],
   "source": [
    "from loss_function_helper import MMD_loss\n",
    "mmd_loss_func=MMD_loss()\n",
    "a=torch.tensor([[4,4,4],[4,4,4]])\n",
    "b=torch.tensor([[4,2,3],[4,4,4]])\n",
    "print(a)"
   ]
  },
  {
   "cell_type": "code",
   "execution_count": 3,
   "metadata": {
    "execution": {
     "iopub.execute_input": "2022-03-01T19:28:37.100098Z",
     "iopub.status.busy": "2022-03-01T19:28:37.099593Z",
     "iopub.status.idle": "2022-03-01T19:28:37.121909Z",
     "shell.execute_reply": "2022-03-01T19:28:37.122294Z"
    }
   },
   "outputs": [
    {
     "data": {
      "text/plain": [
       "tensor(1.9358)"
      ]
     },
     "execution_count": 3,
     "metadata": {},
     "output_type": "execute_result"
    }
   ],
   "source": [
    "mmd_loss_func(a,b)"
   ]
  },
  {
   "cell_type": "code",
   "execution_count": 4,
   "metadata": {
    "execution": {
     "iopub.execute_input": "2022-03-01T19:28:37.126453Z",
     "iopub.status.busy": "2022-03-01T19:28:37.125938Z",
     "iopub.status.idle": "2022-03-01T19:28:37.128521Z",
     "shell.execute_reply": "2022-03-01T19:28:37.127994Z"
    }
   },
   "outputs": [],
   "source": [
    "# Hyperparameters\n",
    "RANDOM_SEED = 123\n",
    "LEARNING_RATE = 0.0005\n",
    "BATCH_SIZE = 10000\n",
    "NUM_EPOCHS = 40\n",
    "LOGGING_INTERVAL=300\n",
    "RECONSTRUCTION_TERM_WEIGHT=1\n",
    "SAVE_MODEL_FILE='checkpoint.pth'\n",
    "path='/data1/dose-3d-generative/data/training-data/DISP_0.5_ANGLE_0/NUMPY/a1_10_7.npy'"
   ]
  },
  {
   "cell_type": "code",
   "execution_count": 5,
   "metadata": {
    "execution": {
     "iopub.execute_input": "2022-03-01T19:28:37.155583Z",
     "iopub.status.busy": "2022-03-01T19:28:37.155048Z",
     "iopub.status.idle": "2022-03-01T19:28:37.157711Z",
     "shell.execute_reply": "2022-03-01T19:28:37.158120Z"
    }
   },
   "outputs": [
    {
     "name": "stdout",
     "output_type": "stream",
     "text": [
      "Device: cuda:0\n"
     ]
    }
   ],
   "source": [
    "CUDA_DEVICE_NUM=0\n",
    "DEVICE = torch.device(f'cuda:{CUDA_DEVICE_NUM}' if torch.cuda.is_available() else 'cpu')\n",
    "print('Device:', DEVICE)"
   ]
  },
  {
   "cell_type": "code",
   "execution_count": 6,
   "metadata": {
    "execution": {
     "iopub.execute_input": "2022-03-01T19:28:37.162082Z",
     "iopub.status.busy": "2022-03-01T19:28:37.161531Z",
     "iopub.status.idle": "2022-03-01T19:28:37.165568Z",
     "shell.execute_reply": "2022-03-01T19:28:37.165130Z"
    }
   },
   "outputs": [
    {
     "name": "stdout",
     "output_type": "stream",
     "text": [
      "0\n",
      "0\n"
     ]
    },
    {
     "name": "stderr",
     "output_type": "stream",
     "text": [
      "/opt/anaconda/anaconda3/envs/generative/lib/python3.9/site-packages/torch/cuda/memory.py:384: FutureWarning: torch.cuda.memory_cached has been renamed to torch.cuda.memory_reserved\n",
      "  warnings.warn(\n"
     ]
    }
   ],
   "source": [
    "print(torch.cuda.memory_allocated(device=DEVICE))\n",
    "print(torch.cuda.memory_cached(device=DEVICE))"
   ]
  },
  {
   "cell_type": "code",
   "execution_count": 7,
   "metadata": {
    "execution": {
     "iopub.execute_input": "2022-03-01T19:28:37.169725Z",
     "iopub.status.busy": "2022-03-01T19:28:37.169175Z",
     "iopub.status.idle": "2022-03-01T19:28:37.407116Z",
     "shell.execute_reply": "2022-03-01T19:28:37.406710Z"
    }
   },
   "outputs": [
    {
     "name": "stdout",
     "output_type": "stream",
     "text": [
      "(10000001, 6)\n"
     ]
    }
   ],
   "source": [
    "#ODCZYTANIE DANYCH Z PLIKU 'photons.npy'\n",
    "photons = np.load(path)\n",
    "X = np.zeros((10000001, 6),dtype=np.float32)\n",
    "np.copyto(X,photons[:,:-1])\n",
    "print(X.shape)"
   ]
  },
  {
   "cell_type": "code",
   "execution_count": 8,
   "metadata": {
    "execution": {
     "iopub.execute_input": "2022-03-01T19:28:37.411392Z",
     "iopub.status.busy": "2022-03-01T19:28:37.410904Z",
     "iopub.status.idle": "2022-03-01T19:28:37.837524Z",
     "shell.execute_reply": "2022-03-01T19:28:37.837923Z"
    }
   },
   "outputs": [
    {
     "name": "stdout",
     "output_type": "stream",
     "text": [
      "20000002\n"
     ]
    }
   ],
   "source": [
    "X_reflection=copy.deepcopy(X)\n",
    "X_reflection[:,2]=-X_reflection[:,2]\n",
    "X_reflection[:,4]=-X_reflection[:,4]\n",
    "\n",
    "X_sum=np.concatenate((X,X_reflection),axis=0)\n",
    "print(len(X_sum))"
   ]
  },
  {
   "cell_type": "code",
   "execution_count": 9,
   "metadata": {
    "execution": {
     "iopub.execute_input": "2022-03-01T19:28:37.843344Z",
     "iopub.status.busy": "2022-03-01T19:28:37.842807Z",
     "iopub.status.idle": "2022-03-01T19:28:37.853234Z",
     "shell.execute_reply": "2022-03-01T19:28:37.853614Z"
    }
   },
   "outputs": [
    {
     "data": {
      "text/html": [
       "<div>\n",
       "<style scoped>\n",
       "    .dataframe tbody tr th:only-of-type {\n",
       "        vertical-align: middle;\n",
       "    }\n",
       "\n",
       "    .dataframe tbody tr th {\n",
       "        vertical-align: top;\n",
       "    }\n",
       "\n",
       "    .dataframe thead th {\n",
       "        text-align: right;\n",
       "    }\n",
       "</style>\n",
       "<table border=\"1\" class=\"dataframe\">\n",
       "  <thead>\n",
       "    <tr style=\"text-align: right;\">\n",
       "      <th></th>\n",
       "      <th>X</th>\n",
       "      <th>Y</th>\n",
       "      <th>dX</th>\n",
       "      <th>dY</th>\n",
       "      <th>dZ</th>\n",
       "      <th>E</th>\n",
       "    </tr>\n",
       "  </thead>\n",
       "  <tbody>\n",
       "    <tr>\n",
       "      <th>0</th>\n",
       "      <td>0.77526</td>\n",
       "      <td>-0.50856</td>\n",
       "      <td>-4.60704</td>\n",
       "      <td>-0.018979</td>\n",
       "      <td>-0.177872</td>\n",
       "      <td>0.983871</td>\n",
       "    </tr>\n",
       "    <tr>\n",
       "      <th>1</th>\n",
       "      <td>0.77526</td>\n",
       "      <td>-0.77813</td>\n",
       "      <td>-5.10840</td>\n",
       "      <td>-0.029292</td>\n",
       "      <td>-0.196501</td>\n",
       "      <td>0.980066</td>\n",
       "    </tr>\n",
       "    <tr>\n",
       "      <th>2</th>\n",
       "      <td>0.45010</td>\n",
       "      <td>-3.74409</td>\n",
       "      <td>-1.33591</td>\n",
       "      <td>-0.145330</td>\n",
       "      <td>-0.051869</td>\n",
       "      <td>0.988023</td>\n",
       "    </tr>\n",
       "    <tr>\n",
       "      <th>3</th>\n",
       "      <td>0.39630</td>\n",
       "      <td>-2.50916</td>\n",
       "      <td>-3.30103</td>\n",
       "      <td>-0.274393</td>\n",
       "      <td>-0.273584</td>\n",
       "      <td>0.921879</td>\n",
       "    </tr>\n",
       "    <tr>\n",
       "      <th>4</th>\n",
       "      <td>0.45010</td>\n",
       "      <td>-4.79711</td>\n",
       "      <td>-1.70242</td>\n",
       "      <td>-0.184824</td>\n",
       "      <td>-0.065606</td>\n",
       "      <td>0.980579</td>\n",
       "    </tr>\n",
       "  </tbody>\n",
       "</table>\n",
       "</div>"
      ],
      "text/plain": [
       "         X        Y       dX        dY        dZ         E\n",
       "0  0.77526 -0.50856 -4.60704 -0.018979 -0.177872  0.983871\n",
       "1  0.77526 -0.77813 -5.10840 -0.029292 -0.196501  0.980066\n",
       "2  0.45010 -3.74409 -1.33591 -0.145330 -0.051869  0.988023\n",
       "3  0.39630 -2.50916 -3.30103 -0.274393 -0.273584  0.921879\n",
       "4  0.45010 -4.79711 -1.70242 -0.184824 -0.065606  0.980579"
      ]
     },
     "execution_count": 9,
     "metadata": {},
     "output_type": "execute_result"
    }
   ],
   "source": [
    "df_data = pd.DataFrame(X_sum, columns = ['X', 'Y', 'dX', 'dY', 'dZ', 'E'])\n",
    "df_data.head()#zawsze warto rzucić okiem na dane"
   ]
  },
  {
   "cell_type": "code",
   "execution_count": 10,
   "metadata": {
    "execution": {
     "iopub.execute_input": "2022-03-01T19:28:37.857141Z",
     "iopub.status.busy": "2022-03-01T19:28:37.856644Z",
     "iopub.status.idle": "2022-03-01T19:28:38.059294Z",
     "shell.execute_reply": "2022-03-01T19:28:38.059673Z"
    }
   },
   "outputs": [],
   "source": [
    "tmp_check=df_data.to_numpy(dtype=np.float32)\n",
    "orginal_check=copy.deepcopy(tmp_check)"
   ]
  },
  {
   "cell_type": "code",
   "execution_count": 11,
   "metadata": {
    "execution": {
     "iopub.execute_input": "2022-03-01T19:28:38.084943Z",
     "iopub.status.busy": "2022-03-01T19:28:38.080808Z",
     "iopub.status.idle": "2022-03-01T19:28:42.423546Z",
     "shell.execute_reply": "2022-03-01T19:28:42.423959Z"
    }
   },
   "outputs": [
    {
     "data": {
      "image/png": "[encoded data removed]",
      "text/plain": [
       "<Figure size 1152x576 with 6 Axes>"
      ]
     },
     "metadata": {
      "needs_background": "light"
     },
     "output_type": "display_data"
    }
   ],
   "source": [
    "fig, axs = plt.subplots(2, 3)\n",
    "fig.set_size_inches(16,8)\n",
    "bins=100\n",
    "axs[0, 0].hist(orginal_check[:,0],bins=bins, label ='orginal',alpha=0.5, density=True)\n",
    "# axs[0, 0].hist(result[:,0],bins=bins, label ='decoded', alpha=0.5, density=True)\n",
    "axs[0, 0].set_title('X')\n",
    "axs[0, 1].hist(orginal_check[:,1],bins=bins, label ='orginal',alpha=0.5, density=True)\n",
    "# axs[0, 1].hist(result[:,1],bins=bins, label ='decoded', alpha=0.5, density=True)\n",
    "axs[0, 1].set_title('Y')\n",
    "axs[0, 2].hist(orginal_check[:,2],bins=bins, label ='orginal',alpha=0.5, density=True)\n",
    "# axs[0, 2].hist(result[:,2],bins=bins, label ='decoded', alpha=0.5, density=True)\n",
    "axs[0, 2].set_title('dX')\n",
    "axs[1, 0].hist(orginal_check[:,3],bins=bins, label ='orginal',alpha=0.5, density=True)\n",
    "# axs[1, 0].hist(result[:,3],bins=bins, label ='decoded', alpha=0.5, density=True)\n",
    "axs[1, 0].set_title('dY')\n",
    "axs[1, 1].hist(orginal_check[:,4],bins=bins, label ='orginal',alpha=0.5, density=True)\n",
    "# axs[1, 1].hist(result[:,4],bins=bins, label ='decoded', alpha=0.5, density=True)\n",
    "axs[1, 1].set_title('dZ')\n",
    "axs[1, 2].hist(orginal_check[:,5],bins=bins, label ='orginal',alpha=0.5, density=True)\n",
    "# axs[1, 2].hist(result[:,5],bins=bins, label ='decoded', alpha=0.5, density=True)\n",
    "axs[1, 2].set_title('E')\n",
    "fig.legend()\n",
    "\n",
    "# for ax in axs.flat:\n",
    "#     ax.set(xlabel='x-label', ylabel='y-label')\n",
    "\n",
    "# # Hide x labels and tick labels for top plots and y ticks for right plots.\n",
    "# for ax in axs.flat:\n",
    "#     ax.label_outer()\n",
    "fig.tight_layout()"
   ]
  },
  {
   "cell_type": "code",
   "execution_count": 12,
   "metadata": {
    "execution": {
     "iopub.execute_input": "2022-03-01T19:28:42.428722Z",
     "iopub.status.busy": "2022-03-01T19:28:42.428225Z",
     "iopub.status.idle": "2022-03-01T19:28:47.313344Z",
     "shell.execute_reply": "2022-03-01T19:28:47.313723Z"
    }
   },
   "outputs": [],
   "source": [
    "train_loader, valid_loader, test_loader, stdcs = get_dataloaders_and_standarscaler_photons_from_numpy(tmp_X=X_sum,\n",
    "    batch_size=BATCH_SIZE, \n",
    "    num_workers=0,\n",
    "    test_fraction=0.4, \n",
    "    validation_fraction=0.0)"
   ]
  },
  {
   "cell_type": "code",
   "execution_count": 13,
   "metadata": {
    "execution": {
     "iopub.execute_input": "2022-03-01T19:28:47.318141Z",
     "iopub.status.busy": "2022-03-01T19:28:47.315876Z",
     "iopub.status.idle": "2022-03-01T19:49:44.509850Z",
     "shell.execute_reply": "2022-03-01T19:49:44.510311Z"
    }
   },
   "outputs": [
    {
     "name": "stdout",
     "output_type": "stream",
     "text": [
      "torch.Size([10000, 6])\n"
     ]
    }
   ],
   "source": [
    "#TWORZENIE ITERATORA PRZYDATNEGO W PĘTLI UCZĄCEJ MODELU\n",
    "dataiter_train=iter(train_loader)\n",
    "data_train=dataiter_train.next()\n",
    "features_train = data_train\n",
    "\n",
    "print(features_train.shape)\n",
    "\n",
    "#TWORZENIE ITERATORA ZBIORU TESTOWEGO \n",
    "dataiter_test=iter(test_loader)\n",
    "data_test=dataiter_test.next()\n",
    "features_test = data_test\n"
   ]
  },
  {
   "cell_type": "code",
   "execution_count": 14,
   "metadata": {
    "execution": {
     "iopub.execute_input": "2022-03-01T19:49:44.516114Z",
     "iopub.status.busy": "2022-03-01T19:49:44.515497Z",
     "iopub.status.idle": "2022-03-01T19:49:44.518155Z",
     "shell.execute_reply": "2022-03-01T19:49:44.517571Z"
    }
   },
   "outputs": [],
   "source": [
    "# #MODEL NASZEJ SIECI 13->13->7->3\n",
    "# class VAE_Linear(nn.Module):\n",
    "#     def __init__(self):\n",
    "#         super().__init__()        \n",
    "#         self.encoder = nn.Sequential(\n",
    "#             nn.Linear(6, 5),\n",
    "#             #nn.BatchNorm1d(5),\n",
    "#             nn.ReLU(),\n",
    "#             # nn.Linear(5, 4),\n",
    "#             nn.BatchNorm1d(5),\n",
    "#             torch.nn.Linear(5,4),\n",
    "#             nn.BatchNorm1d(4),\n",
    "#             nn.ReLU(),\n",
    "#             # nn.ReLU(),\n",
    "#         )\n",
    "\n",
    "#         self.z_mean=nn.Sequential(\n",
    "#             # torch.nn.Linear(4,3),\n",
    "#             # nn.BatchNorm1d(3),\n",
    "#             # nn.ReLU(),\n",
    "#             nn.Linear(4,3)\n",
    "#             )\n",
    "\n",
    "#         self.z_log_var=nn.Sequential(\n",
    "#             # torch.nn.Linear(4,3),\n",
    "#             # nn.BatchNorm1d(3),\n",
    "#             # nn.ReLU(),\n",
    "#             nn.Linear(4,3)\n",
    "#             )\n",
    "        \n",
    "#         self.decoder = nn.Sequential(\n",
    "#             nn.Linear(3,4),\n",
    "#             nn.ReLU(),\n",
    "#             nn.BatchNorm1d(4),\n",
    "#             nn.Linear(4, 5),\n",
    "#             nn.ReLU(),\n",
    "#             nn.BatchNorm1d(5),\n",
    "#             # nn.Linear(4,5),\n",
    "#             # nn.ReLU(),\n",
    "#             #nn.BatchNorm1d(5),\n",
    "#             nn.Linear(5,6)\n",
    "            \n",
    "#            # nn.Sigmoid()\n",
    "#         )\n",
    "#     def reparameterize(self, z_mu, z_log_var):\n",
    "#         eps = torch.randn(z_mu.size(0), z_mu.size(1)).to(z_mu.get_device())#get_device dziala tylko dla tensoróœ z gpu\n",
    "#         z = z_mu + eps * torch.exp(z_log_var/2.) \n",
    "#         return z\n",
    "\n",
    "#     def reparameterize_for_cpu(self, z_mu, z_log_var):\n",
    "#         eps = torch.randn(z_mu.size(0), z_mu.size(1)).to('cpu')#get_device dziala tylko dla tensoróœ z gpu\n",
    "#         z = z_mu + eps * torch.exp(z_log_var/2.) \n",
    "#         return z\n",
    "\n",
    "#     def forward(self, x):\n",
    "#         x = self.encoder(x)\n",
    "#         z_mean, z_log_var = self.z_mean(x), self.z_log_var(x)\n",
    "#         encoded = self.reparameterize(z_mean, z_log_var)\n",
    "#         decoded = self.decoder(encoded)\n",
    "#         return encoded, z_mean, z_log_var, decoded"
   ]
  },
  {
   "cell_type": "code",
   "execution_count": 15,
   "metadata": {
    "execution": {
     "iopub.execute_input": "2022-03-01T19:49:44.522463Z",
     "iopub.status.busy": "2022-03-01T19:49:44.521923Z",
     "iopub.status.idle": "2022-03-01T19:49:52.899358Z",
     "shell.execute_reply": "2022-03-01T19:49:52.898782Z"
    }
   },
   "outputs": [],
   "source": [
    "model = VAE_Linear_0103()\n",
    "model.to(DEVICE)\n",
    "\n",
    "#criterion = nn.MSELoss()#FUNKCJA STRATY\n",
    "optimizer = torch.optim.Adam(model.parameters(),\n",
    "                             lr=LEARNING_RATE, \n",
    "                             weight_decay=1e-5)"
   ]
  },
  {
   "cell_type": "code",
   "execution_count": 16,
   "metadata": {
    "execution": {
     "iopub.execute_input": "2022-03-01T19:49:52.907847Z",
     "iopub.status.busy": "2022-03-01T19:49:52.903772Z",
     "iopub.status.idle": "2022-03-02T09:29:53.483411Z",
     "shell.execute_reply": "2022-03-02T09:29:53.483823Z"
    }
   },
   "outputs": [
    {
     "name": "stdout",
     "output_type": "stream",
     "text": [
      "Epoch: 001/040 | Batch 0000/1200 | Loss: 8.2114\n",
      "Epoch: 001/040 | Batch 0300/1200 | Loss: 7.4649\n",
      "Epoch: 001/040 | Batch 0600/1200 | Loss: 4.5445\n",
      "Epoch: 001/040 | Batch 0900/1200 | Loss: 3.5182\n",
      "***Epoch: 001/040 | Loss: 2.752\n",
      "Test***Epoch: 001/040 | Loss: 2.758\n",
      "Time elapsed: 20.83 min\n",
      "Epoch: 002/040 | Batch 0000/1200 | Loss: 2.9574\n",
      "Epoch: 002/040 | Batch 0300/1200 | Loss: 2.4483\n",
      "Epoch: 002/040 | Batch 0600/1200 | Loss: 1.6695\n",
      "Epoch: 002/040 | Batch 0900/1200 | Loss: 1.6050\n",
      "***Epoch: 002/040 | Loss: 1.466\n",
      "Test***Epoch: 002/040 | Loss: 1.467\n",
      "Time elapsed: 41.23 min\n",
      "Epoch: 003/040 | Batch 0000/1200 | Loss: 1.5925\n",
      "Epoch: 003/040 | Batch 0300/1200 | Loss: 1.5029\n",
      "Epoch: 003/040 | Batch 0600/1200 | Loss: 1.4743\n",
      "Epoch: 003/040 | Batch 0900/1200 | Loss: 1.4084\n",
      "***Epoch: 003/040 | Loss: 1.379\n",
      "Test***Epoch: 003/040 | Loss: 1.381\n",
      "Time elapsed: 61.49 min\n",
      "Epoch: 004/040 | Batch 0000/1200 | Loss: 1.4555\n",
      "Epoch: 004/040 | Batch 0300/1200 | Loss: 1.4792\n",
      "Epoch: 004/040 | Batch 0600/1200 | Loss: 1.4511\n",
      "Epoch: 004/040 | Batch 0900/1200 | Loss: 1.4028\n",
      "***Epoch: 004/040 | Loss: 1.339\n",
      "Test***Epoch: 004/040 | Loss: 1.341\n",
      "Time elapsed: 81.72 min\n",
      "Epoch: 005/040 | Batch 0000/1200 | Loss: 1.3758\n",
      "Epoch: 005/040 | Batch 0300/1200 | Loss: 0.8682\n",
      "Epoch: 005/040 | Batch 0600/1200 | Loss: 0.7007\n",
      "Epoch: 005/040 | Batch 0900/1200 | Loss: 0.5866\n",
      "***Epoch: 005/040 | Loss: 0.541\n",
      "Test***Epoch: 005/040 | Loss: 0.542\n",
      "Time elapsed: 102.30 min\n",
      "Epoch: 006/040 | Batch 0000/1200 | Loss: 0.5309\n",
      "Epoch: 006/040 | Batch 0300/1200 | Loss: 0.5209\n",
      "Epoch: 006/040 | Batch 0600/1200 | Loss: 0.4789\n",
      "Epoch: 006/040 | Batch 0900/1200 | Loss: 0.5186\n",
      "***Epoch: 006/040 | Loss: 0.492\n",
      "Test***Epoch: 006/040 | Loss: 0.493\n",
      "Time elapsed: 122.44 min\n",
      "Epoch: 007/040 | Batch 0000/1200 | Loss: 0.4936\n",
      "Epoch: 007/040 | Batch 0300/1200 | Loss: 0.4712\n",
      "Epoch: 007/040 | Batch 0600/1200 | Loss: 0.5126\n",
      "Epoch: 007/040 | Batch 0900/1200 | Loss: 0.4783\n",
      "***Epoch: 007/040 | Loss: 0.482\n",
      "Test***Epoch: 007/040 | Loss: 0.484\n",
      "Time elapsed: 142.58 min\n",
      "Epoch: 008/040 | Batch 0000/1200 | Loss: 0.4892\n",
      "Epoch: 008/040 | Batch 0300/1200 | Loss: 0.4949\n",
      "Epoch: 008/040 | Batch 0600/1200 | Loss: 0.5120\n",
      "Epoch: 008/040 | Batch 0900/1200 | Loss: 0.4958\n",
      "***Epoch: 008/040 | Loss: 0.479\n",
      "Test***Epoch: 008/040 | Loss: 0.481\n",
      "Time elapsed: 162.85 min\n",
      "Epoch: 009/040 | Batch 0000/1200 | Loss: 0.4637\n",
      "Epoch: 009/040 | Batch 0300/1200 | Loss: 0.4776\n",
      "Epoch: 009/040 | Batch 0600/1200 | Loss: 0.4815\n",
      "Epoch: 009/040 | Batch 0900/1200 | Loss: 0.5158\n",
      "***Epoch: 009/040 | Loss: 0.477\n",
      "Test***Epoch: 009/040 | Loss: 0.479\n",
      "Time elapsed: 183.35 min\n",
      "Epoch: 010/040 | Batch 0000/1200 | Loss: 0.4935\n",
      "Epoch: 010/040 | Batch 0300/1200 | Loss: 0.4816\n",
      "Epoch: 010/040 | Batch 0600/1200 | Loss: 0.4712\n",
      "Epoch: 010/040 | Batch 0900/1200 | Loss: 0.4388\n",
      "***Epoch: 010/040 | Loss: 0.476\n",
      "Test***Epoch: 010/040 | Loss: 0.478\n",
      "Time elapsed: 203.72 min\n",
      "Epoch: 011/040 | Batch 0000/1200 | Loss: 0.5266\n",
      "Epoch: 011/040 | Batch 0300/1200 | Loss: 0.5120\n",
      "Epoch: 011/040 | Batch 0600/1200 | Loss: 0.4941\n",
      "Epoch: 011/040 | Batch 0900/1200 | Loss: 0.4119\n",
      "***Epoch: 011/040 | Loss: 0.444\n",
      "Test***Epoch: 011/040 | Loss: 0.446\n",
      "Time elapsed: 224.19 min\n",
      "Epoch: 012/040 | Batch 0000/1200 | Loss: 0.4386\n",
      "Epoch: 012/040 | Batch 0300/1200 | Loss: 0.4409\n",
      "Epoch: 012/040 | Batch 0600/1200 | Loss: 0.4346\n",
      "Epoch: 012/040 | Batch 0900/1200 | Loss: 0.4237\n",
      "***Epoch: 012/040 | Loss: 0.391\n",
      "Test***Epoch: 012/040 | Loss: 0.392\n",
      "Time elapsed: 244.62 min\n",
      "Epoch: 013/040 | Batch 0000/1200 | Loss: 0.3636\n",
      "Epoch: 013/040 | Batch 0300/1200 | Loss: 0.3780\n",
      "Epoch: 013/040 | Batch 0600/1200 | Loss: 0.3948\n",
      "Epoch: 013/040 | Batch 0900/1200 | Loss: 0.3653\n",
      "***Epoch: 013/040 | Loss: 0.360\n",
      "Test***Epoch: 013/040 | Loss: 0.360\n",
      "Time elapsed: 265.27 min\n",
      "Epoch: 014/040 | Batch 0000/1200 | Loss: 0.3586\n",
      "Epoch: 014/040 | Batch 0300/1200 | Loss: 0.3643\n",
      "Epoch: 014/040 | Batch 0600/1200 | Loss: 0.3483\n",
      "Epoch: 014/040 | Batch 0900/1200 | Loss: 0.3543\n",
      "***Epoch: 014/040 | Loss: 0.345\n",
      "Test***Epoch: 014/040 | Loss: 0.346\n",
      "Time elapsed: 286.64 min\n",
      "Epoch: 015/040 | Batch 0000/1200 | Loss: 0.3507\n",
      "Epoch: 015/040 | Batch 0300/1200 | Loss: 0.3710\n",
      "Epoch: 015/040 | Batch 0600/1200 | Loss: 0.3570\n",
      "Epoch: 015/040 | Batch 0900/1200 | Loss: 0.3481\n",
      "***Epoch: 015/040 | Loss: 0.339\n",
      "Test***Epoch: 015/040 | Loss: 0.340\n",
      "Time elapsed: 307.04 min\n",
      "Epoch: 016/040 | Batch 0000/1200 | Loss: 0.3321\n",
      "Epoch: 016/040 | Batch 0300/1200 | Loss: 0.3265\n",
      "Epoch: 016/040 | Batch 0600/1200 | Loss: 0.3513\n",
      "Epoch: 016/040 | Batch 0900/1200 | Loss: 0.3274\n",
      "***Epoch: 016/040 | Loss: 0.336\n",
      "Test***Epoch: 016/040 | Loss: 0.337\n",
      "Time elapsed: 327.41 min\n",
      "Epoch: 017/040 | Batch 0000/1200 | Loss: 0.3192\n",
      "Epoch: 017/040 | Batch 0300/1200 | Loss: 0.3167\n",
      "Epoch: 017/040 | Batch 0600/1200 | Loss: 0.3111\n",
      "Epoch: 017/040 | Batch 0900/1200 | Loss: 0.3120\n",
      "***Epoch: 017/040 | Loss: 0.334\n",
      "Test***Epoch: 017/040 | Loss: 0.335\n",
      "Time elapsed: 347.83 min\n",
      "Epoch: 018/040 | Batch 0000/1200 | Loss: 0.3071\n",
      "Epoch: 018/040 | Batch 0300/1200 | Loss: 0.3028\n",
      "Epoch: 018/040 | Batch 0600/1200 | Loss: 0.3644\n",
      "Epoch: 018/040 | Batch 0900/1200 | Loss: 0.3262\n",
      "***Epoch: 018/040 | Loss: 0.333\n",
      "Test***Epoch: 018/040 | Loss: 0.334\n",
      "Time elapsed: 368.19 min\n",
      "Epoch: 019/040 | Batch 0000/1200 | Loss: 0.3279\n",
      "Epoch: 019/040 | Batch 0300/1200 | Loss: 0.3027\n",
      "Epoch: 019/040 | Batch 0600/1200 | Loss: 0.3318\n",
      "Epoch: 019/040 | Batch 0900/1200 | Loss: 0.3498\n",
      "***Epoch: 019/040 | Loss: 0.333\n",
      "Test***Epoch: 019/040 | Loss: 0.334\n",
      "Time elapsed: 388.58 min\n",
      "Epoch: 020/040 | Batch 0000/1200 | Loss: 0.3426\n",
      "Epoch: 020/040 | Batch 0300/1200 | Loss: 0.3159\n",
      "Epoch: 020/040 | Batch 0600/1200 | Loss: 0.3280\n",
      "Epoch: 020/040 | Batch 0900/1200 | Loss: 0.3504\n",
      "***Epoch: 020/040 | Loss: 0.332\n",
      "Test***Epoch: 020/040 | Loss: 0.333\n",
      "Time elapsed: 408.95 min\n",
      "Epoch: 021/040 | Batch 0000/1200 | Loss: 0.3194\n",
      "Epoch: 021/040 | Batch 0300/1200 | Loss: 0.3132\n",
      "Epoch: 021/040 | Batch 0600/1200 | Loss: 0.3154\n",
      "Epoch: 021/040 | Batch 0900/1200 | Loss: 0.3611\n",
      "***Epoch: 021/040 | Loss: 0.331\n",
      "Test***Epoch: 021/040 | Loss: 0.332\n",
      "Time elapsed: 429.34 min\n",
      "Epoch: 022/040 | Batch 0000/1200 | Loss: 0.3262\n",
      "Epoch: 022/040 | Batch 0300/1200 | Loss: 0.3305\n",
      "Epoch: 022/040 | Batch 0600/1200 | Loss: 0.3292\n",
      "Epoch: 022/040 | Batch 0900/1200 | Loss: 0.3650\n",
      "***Epoch: 022/040 | Loss: 0.331\n",
      "Test***Epoch: 022/040 | Loss: 0.332\n",
      "Time elapsed: 449.85 min\n",
      "Epoch: 023/040 | Batch 0000/1200 | Loss: 0.3332\n",
      "Epoch: 023/040 | Batch 0300/1200 | Loss: 0.3452\n",
      "Epoch: 023/040 | Batch 0600/1200 | Loss: 0.3316\n",
      "Epoch: 023/040 | Batch 0900/1200 | Loss: 0.3455\n",
      "***Epoch: 023/040 | Loss: 0.331\n",
      "Test***Epoch: 023/040 | Loss: 0.332\n",
      "Time elapsed: 471.04 min\n",
      "Epoch: 024/040 | Batch 0000/1200 | Loss: 0.3610\n",
      "Epoch: 024/040 | Batch 0300/1200 | Loss: 0.3285\n",
      "Epoch: 024/040 | Batch 0600/1200 | Loss: 0.3279\n",
      "Epoch: 024/040 | Batch 0900/1200 | Loss: 0.3246\n",
      "***Epoch: 024/040 | Loss: 0.330\n",
      "Test***Epoch: 024/040 | Loss: 0.331\n",
      "Time elapsed: 491.51 min\n",
      "Epoch: 025/040 | Batch 0000/1200 | Loss: 0.3231\n",
      "Epoch: 025/040 | Batch 0300/1200 | Loss: 0.3407\n",
      "Epoch: 025/040 | Batch 0600/1200 | Loss: 0.3338\n",
      "Epoch: 025/040 | Batch 0900/1200 | Loss: 0.3433\n",
      "***Epoch: 025/040 | Loss: 0.330\n",
      "Test***Epoch: 025/040 | Loss: 0.331\n",
      "Time elapsed: 512.06 min\n",
      "Epoch: 026/040 | Batch 0000/1200 | Loss: 0.3126\n",
      "Epoch: 026/040 | Batch 0300/1200 | Loss: 0.3438\n",
      "Epoch: 026/040 | Batch 0600/1200 | Loss: 0.3465\n",
      "Epoch: 026/040 | Batch 0900/1200 | Loss: 0.3432\n",
      "***Epoch: 026/040 | Loss: 0.329\n",
      "Test***Epoch: 026/040 | Loss: 0.330\n",
      "Time elapsed: 532.55 min\n",
      "Epoch: 027/040 | Batch 0000/1200 | Loss: 0.3652\n",
      "Epoch: 027/040 | Batch 0300/1200 | Loss: 0.3087\n",
      "Epoch: 027/040 | Batch 0600/1200 | Loss: 0.3359\n",
      "Epoch: 027/040 | Batch 0900/1200 | Loss: 0.3311\n",
      "***Epoch: 027/040 | Loss: 0.329\n",
      "Test***Epoch: 027/040 | Loss: 0.330\n",
      "Time elapsed: 553.06 min\n",
      "Epoch: 028/040 | Batch 0000/1200 | Loss: 0.3151\n",
      "Epoch: 028/040 | Batch 0300/1200 | Loss: 0.3767\n",
      "Epoch: 028/040 | Batch 0600/1200 | Loss: 0.3204\n",
      "Epoch: 028/040 | Batch 0900/1200 | Loss: 0.3368\n",
      "***Epoch: 028/040 | Loss: 0.329\n",
      "Test***Epoch: 028/040 | Loss: 0.330\n",
      "Time elapsed: 573.62 min\n",
      "Epoch: 029/040 | Batch 0000/1200 | Loss: 0.3459\n",
      "Epoch: 029/040 | Batch 0300/1200 | Loss: 0.3731\n",
      "Epoch: 029/040 | Batch 0600/1200 | Loss: 0.3282\n",
      "Epoch: 029/040 | Batch 0900/1200 | Loss: 0.3424\n",
      "***Epoch: 029/040 | Loss: 0.328\n",
      "Test***Epoch: 029/040 | Loss: 0.329\n",
      "Time elapsed: 594.15 min\n",
      "Epoch: 030/040 | Batch 0000/1200 | Loss: 0.3523\n",
      "Epoch: 030/040 | Batch 0300/1200 | Loss: 0.3589\n",
      "Epoch: 030/040 | Batch 0600/1200 | Loss: 0.3128\n",
      "Epoch: 030/040 | Batch 0900/1200 | Loss: 0.3548\n",
      "***Epoch: 030/040 | Loss: 0.328\n",
      "Test***Epoch: 030/040 | Loss: 0.329\n",
      "Time elapsed: 614.67 min\n",
      "Epoch: 031/040 | Batch 0000/1200 | Loss: 0.3582\n",
      "Epoch: 031/040 | Batch 0300/1200 | Loss: 0.3706\n",
      "Epoch: 031/040 | Batch 0600/1200 | Loss: 0.3051\n",
      "Epoch: 031/040 | Batch 0900/1200 | Loss: 0.3210\n",
      "***Epoch: 031/040 | Loss: 0.327\n",
      "Test***Epoch: 031/040 | Loss: 0.328\n",
      "Time elapsed: 635.25 min\n",
      "Epoch: 032/040 | Batch 0000/1200 | Loss: 0.3334\n",
      "Epoch: 032/040 | Batch 0300/1200 | Loss: 0.3286\n",
      "Epoch: 032/040 | Batch 0600/1200 | Loss: 0.3319\n",
      "Epoch: 032/040 | Batch 0900/1200 | Loss: 0.3470\n",
      "***Epoch: 032/040 | Loss: 0.328\n",
      "Test***Epoch: 032/040 | Loss: 0.329\n",
      "Time elapsed: 655.77 min\n",
      "Epoch: 033/040 | Batch 0000/1200 | Loss: 0.2980\n",
      "Epoch: 033/040 | Batch 0300/1200 | Loss: 0.3164\n",
      "Epoch: 033/040 | Batch 0600/1200 | Loss: 0.3369\n",
      "Epoch: 033/040 | Batch 0900/1200 | Loss: 0.3100\n",
      "***Epoch: 033/040 | Loss: 0.327\n",
      "Test***Epoch: 033/040 | Loss: 0.328\n",
      "Time elapsed: 676.31 min\n",
      "Epoch: 034/040 | Batch 0000/1200 | Loss: 0.3232\n",
      "Epoch: 034/040 | Batch 0300/1200 | Loss: 0.3322\n",
      "Epoch: 034/040 | Batch 0600/1200 | Loss: 0.3289\n",
      "Epoch: 034/040 | Batch 0900/1200 | Loss: 0.3248\n",
      "***Epoch: 034/040 | Loss: 0.327\n",
      "Test***Epoch: 034/040 | Loss: 0.328\n",
      "Time elapsed: 696.85 min\n",
      "Epoch: 035/040 | Batch 0000/1200 | Loss: 0.3431\n",
      "Epoch: 035/040 | Batch 0300/1200 | Loss: 0.2877\n",
      "Epoch: 035/040 | Batch 0600/1200 | Loss: 0.3337\n",
      "Epoch: 035/040 | Batch 0900/1200 | Loss: 0.3292\n",
      "***Epoch: 035/040 | Loss: 0.327\n",
      "Test***Epoch: 035/040 | Loss: 0.328\n",
      "Time elapsed: 717.43 min\n",
      "Epoch: 036/040 | Batch 0000/1200 | Loss: 0.3248\n",
      "Epoch: 036/040 | Batch 0300/1200 | Loss: 0.3109\n",
      "Epoch: 036/040 | Batch 0600/1200 | Loss: 0.2992\n",
      "Epoch: 036/040 | Batch 0900/1200 | Loss: 0.3118\n",
      "***Epoch: 036/040 | Loss: 0.326\n",
      "Test***Epoch: 036/040 | Loss: 0.327\n",
      "Time elapsed: 737.95 min\n",
      "Epoch: 037/040 | Batch 0000/1200 | Loss: 0.3252\n",
      "Epoch: 037/040 | Batch 0300/1200 | Loss: 0.3200\n",
      "Epoch: 037/040 | Batch 0600/1200 | Loss: 0.3196\n",
      "Epoch: 037/040 | Batch 0900/1200 | Loss: 0.3393\n",
      "***Epoch: 037/040 | Loss: 0.326\n",
      "Test***Epoch: 037/040 | Loss: 0.327\n",
      "Time elapsed: 758.49 min\n",
      "Epoch: 038/040 | Batch 0000/1200 | Loss: 0.3492\n",
      "Epoch: 038/040 | Batch 0300/1200 | Loss: 0.3277\n",
      "Epoch: 038/040 | Batch 0600/1200 | Loss: 0.3303\n",
      "Epoch: 038/040 | Batch 0900/1200 | Loss: 0.3210\n",
      "***Epoch: 038/040 | Loss: 0.326\n",
      "Test***Epoch: 038/040 | Loss: 0.327\n",
      "Time elapsed: 779.05 min\n",
      "Epoch: 039/040 | Batch 0000/1200 | Loss: 0.3127\n",
      "Epoch: 039/040 | Batch 0300/1200 | Loss: 0.3234\n",
      "Epoch: 039/040 | Batch 0600/1200 | Loss: 0.3715\n",
      "Epoch: 039/040 | Batch 0900/1200 | Loss: 0.3276\n",
      "***Epoch: 039/040 | Loss: 0.325\n",
      "Test***Epoch: 039/040 | Loss: 0.326\n",
      "Time elapsed: 799.48 min\n",
      "Epoch: 040/040 | Batch 0000/1200 | Loss: 0.3173\n",
      "Epoch: 040/040 | Batch 0300/1200 | Loss: 0.3764\n",
      "Epoch: 040/040 | Batch 0600/1200 | Loss: 0.3074\n",
      "Epoch: 040/040 | Batch 0900/1200 | Loss: 0.3377\n",
      "***Epoch: 040/040 | Loss: 0.326\n",
      "Test***Epoch: 040/040 | Loss: 0.326\n",
      "Time elapsed: 820.01 min\n",
      "Total Training Time: 820.01 min\n"
     ]
    }
   ],
   "source": [
    "log_dict=train_vae_mmd(num_epochs=NUM_EPOCHS, device=DEVICE, model=model,optimizer=optimizer,train_loader=train_loader,loss_fn=None, test_loader=test_loader, logging_interval=LOGGING_INTERVAL, reconstruction_term_weight=RECONSTRUCTION_TERM_WEIGHT, save_model_file=SAVE_MODEL_FILE)"
   ]
  },
  {
   "cell_type": "code",
   "execution_count": 17,
   "metadata": {
    "execution": {
     "iopub.execute_input": "2022-03-02T09:29:53.512029Z",
     "iopub.status.busy": "2022-03-02T09:29:53.511499Z",
     "iopub.status.idle": "2022-03-02T09:29:54.451414Z",
     "shell.execute_reply": "2022-03-02T09:29:54.451849Z"
    }
   },
   "outputs": [
    {
     "data": {
      "image/png": "[encoded data removed]",
      "text/plain": [
       "<Figure size 432x288 with 2 Axes>"
      ]
     },
     "metadata": {
      "needs_background": "light"
     },
     "output_type": "display_data"
    },
    {
     "data": {
      "image/png": "[encoded data removed]",
      "text/plain": [
       "<Figure size 432x288 with 2 Axes>"
      ]
     },
     "metadata": {
      "needs_background": "light"
     },
     "output_type": "display_data"
    },
    {
     "data": {
      "image/png": "[encoded data removed]",
      "text/plain": [
       "<Figure size 432x288 with 2 Axes>"
      ]
     },
     "metadata": {
      "needs_background": "light"
     },
     "output_type": "display_data"
    }
   ],
   "source": [
    "plot_training_loss(log_dict['train_reconstruction_loss_per_batch'], NUM_EPOCHS, custom_label=\" (reconstruction)\")\n",
    "plot_training_loss(log_dict['train_kl_loss_per_batch'], NUM_EPOCHS, custom_label=\" (KL)\")\n",
    "plot_training_loss(log_dict['train_combined_loss_per_batch'], NUM_EPOCHS, custom_label=\" (combined)\")\n",
    "plt.show()\n",
    "\n"
   ]
  },
  {
   "cell_type": "code",
   "execution_count": 18,
   "metadata": {
    "execution": {
     "iopub.execute_input": "2022-03-02T09:29:54.472281Z",
     "iopub.status.busy": "2022-03-02T09:29:54.466058Z",
     "iopub.status.idle": "2022-03-02T09:29:54.612740Z",
     "shell.execute_reply": "2022-03-02T09:29:54.613117Z"
    }
   },
   "outputs": [
    {
     "data": {
      "image/png": "[encoded data removed]",
      "text/plain": [
       "<Figure size 432x288 with 1 Axes>"
      ]
     },
     "metadata": {
      "needs_background": "light"
     },
     "output_type": "display_data"
    }
   ],
   "source": [
    "plt.plot(range(len(log_dict['train_combined_loss_per_epoch'])), (log_dict['train_combined_loss_per_epoch']), label='Train Epoch Loss')\n",
    "plt.plot(range(len(log_dict['test_combined_loss_per_epoch'])), (log_dict['test_combined_loss_per_epoch']), label='Test Epoch Loss')\n",
    "plt.legend()\n",
    "plt.xlabel('Epochs')\n",
    "plt.ylabel('Loss')\n",
    "#plt.ylim(0.15,0.3)\n",
    "plt.tight_layout()"
   ]
  },
  {
   "cell_type": "code",
   "execution_count": 19,
   "metadata": {
    "execution": {
     "iopub.execute_input": "2022-03-02T09:29:54.618259Z",
     "iopub.status.busy": "2022-03-02T09:29:54.617774Z",
     "iopub.status.idle": "2022-03-02T09:29:59.037177Z",
     "shell.execute_reply": "2022-03-02T09:29:59.037554Z"
    }
   },
   "outputs": [],
   "source": [
    "tmp=df_data.to_numpy(dtype=np.float32)\n",
    "orginal=copy.deepcopy(tmp)\n",
    "tmp=stdcs.transform(tmp)\n",
    "tmp=torch.from_numpy(tmp)\n",
    "#print(tmp)\n",
    "model.eval()\n",
    "with torch.no_grad():\n",
    "    result_encoded_features, z_mean, z_log_var, result_decoded_features =model(tmp.to(device=DEVICE))\n",
    "result=result_decoded_features.cpu().detach().numpy()\n",
    "result=stdcs.inverse_transform(result)"
   ]
  },
  {
   "cell_type": "code",
   "execution_count": 20,
   "metadata": {
    "execution": {
     "iopub.execute_input": "2022-03-02T09:29:59.074529Z",
     "iopub.status.busy": "2022-03-02T09:29:59.064473Z",
     "iopub.status.idle": "2022-03-02T09:30:06.632260Z",
     "shell.execute_reply": "2022-03-02T09:30:06.632636Z"
    }
   },
   "outputs": [
    {
     "data": {
      "image/png": "[encoded data removed]",
      "text/plain": [
       "<Figure size 1152x576 with 6 Axes>"
      ]
     },
     "metadata": {
      "needs_background": "light"
     },
     "output_type": "display_data"
    }
   ],
   "source": [
    "fig, axs = plt.subplots(2, 3)\n",
    "fig.set_size_inches(16,8)\n",
    "bins=100\n",
    "axs[0, 0].hist(orginal[:,0],bins=bins, label ='orginal',alpha=0.5, density=True)\n",
    "axs[0, 0].hist(result[:,0],bins=bins, label ='decoded', alpha=0.5, density=True)\n",
    "axs[0, 0].set_title('X')\n",
    "axs[0, 1].hist(orginal[:,1],bins=bins, label ='orginal',alpha=0.5, density=True)\n",
    "axs[0, 1].hist(result[:,1],bins=bins, label ='decoded', alpha=0.5, density=True)\n",
    "axs[0, 1].set_title('Y')\n",
    "axs[0, 2].hist(orginal[:,2],bins=bins, label ='orginal',alpha=0.5, density=True)\n",
    "axs[0, 2].hist(result[:,2],bins=bins, label ='decoded', alpha=0.5, density=True)\n",
    "axs[0, 2].set_title('dX')\n",
    "axs[1, 0].hist(orginal[:,3],bins=bins, label ='orginal',alpha=0.5, density=True)\n",
    "axs[1, 0].hist(result[:,3],bins=bins, label ='decoded', alpha=0.5, density=True)\n",
    "axs[1, 0].set_title('dY')\n",
    "axs[1, 1].hist(orginal[:,4],bins=bins, label ='orginal',alpha=0.5, density=True)\n",
    "axs[1, 1].hist(result[:,4],bins=bins, label ='decoded', alpha=0.5, density=True)\n",
    "axs[1, 1].set_title('dZ')\n",
    "axs[1, 2].hist(orginal[:,5],bins=bins, label ='orginal',alpha=0.5, density=True)\n",
    "axs[1, 2].hist(result[:,5],bins=bins, label ='decoded', alpha=0.5, density=True)\n",
    "axs[1, 2].set_title('E')\n",
    "fig.legend()\n",
    "\n",
    "# for ax in axs.flat:\n",
    "#     ax.set(xlabel='x-label', ylabel='y-label')\n",
    "\n",
    "# # Hide x labels and tick labels for top plots and y ticks for right plots.\n",
    "# for ax in axs.flat:\n",
    "#     ax.label_outer()\n",
    "fig.tight_layout()"
   ]
  },
  {
   "cell_type": "code",
   "execution_count": 21,
   "metadata": {
    "execution": {
     "iopub.execute_input": "2022-03-02T09:30:06.654339Z",
     "iopub.status.busy": "2022-03-02T09:30:06.639045Z",
     "iopub.status.idle": "2022-03-02T09:30:29.506612Z",
     "shell.execute_reply": "2022-03-02T09:30:29.506996Z"
    }
   },
   "outputs": [
    {
     "data": {
      "image/png": "[encoded data removed]",
      "text/plain": [
       "<Figure size 1440x1440 with 6 Axes>"
      ]
     },
     "metadata": {
      "needs_background": "light"
     },
     "output_type": "display_data"
    }
   ],
   "source": [
    "keys = df_data.columns\n",
    "fig, axs = plt.subplots(2, 3)\n",
    "fig.set_size_inches(20, 20)\n",
    "for i, j in enumerate(keys):\n",
    "    mi = np.minimum(orginal[:, i].min(), result[:, i].min())\n",
    "    ma = np.maximum(orginal[:, i].max(), result[:, i].max())\n",
    "    bins = np.linspace(mi, ma, 300)\n",
    "    axs.flatten()[i].hist(orginal[:, i], bins, alpha=.5)\n",
    "    axs.flatten()[i].hist(result[:, i], bins, alpha=.5)\n",
    "    axs.flatten()[i].set_title(j)\n",
    "\n",
    "\n",
    "\n",
    "\n",
    "\n"
   ]
  },
  {
   "cell_type": "code",
   "execution_count": 22,
   "metadata": {
    "execution": {
     "iopub.execute_input": "2022-03-02T09:30:29.516302Z",
     "iopub.status.busy": "2022-03-02T09:30:29.515801Z",
     "iopub.status.idle": "2022-03-02T09:30:31.535356Z",
     "shell.execute_reply": "2022-03-02T09:30:31.535742Z"
    }
   },
   "outputs": [
    {
     "name": "stdout",
     "output_type": "stream",
     "text": [
      "True\n"
     ]
    }
   ],
   "source": [
    "decoded_df=pd.DataFrame(result,columns=['X', 'Y', 'dX', 'dY', 'dZ', 'E'])\n",
    "orginal_df=df_data.iloc[:,:]\n",
    "\n",
    "\n",
    "concatenated_datasets=pd.concat([orginal_df.assign(dataset_name='orginal'), decoded_df.assign(dataset_name='decoded')],ignore_index=True)\n",
    "concatenated_datasets.shape\n",
    "print(concatenated_datasets.index.is_unique)"
   ]
  },
  {
   "cell_type": "code",
   "execution_count": 23,
   "metadata": {
    "execution": {
     "iopub.execute_input": "2022-03-02T09:30:31.539281Z",
     "iopub.status.busy": "2022-03-02T09:30:31.538785Z",
     "iopub.status.idle": "2022-03-02T09:30:31.541176Z",
     "shell.execute_reply": "2022-03-02T09:30:31.540752Z"
    }
   },
   "outputs": [],
   "source": [
    "# g = sns.PairGrid(concatenated_datasets, hue='dataset_name')\n",
    "# g.map_upper(sns.scatterplot)\n",
    "# #g.map_lower(sns.kdeplot, fill=True)\n",
    "# g.map_diag(sns.histplot, kde=True)"
   ]
  },
  {
   "cell_type": "code",
   "execution_count": 24,
   "metadata": {
    "execution": {
     "iopub.execute_input": "2022-03-02T09:30:31.544560Z",
     "iopub.status.busy": "2022-03-02T09:30:31.544066Z",
     "iopub.status.idle": "2022-03-02T09:30:31.545941Z",
     "shell.execute_reply": "2022-03-02T09:30:31.546317Z"
    }
   },
   "outputs": [],
   "source": [
    "#sns.pairplot(concatenated_datasets, hue=\"dataset_name\", kind=\"scatter\", plot_kws=dict(alpha=0.5),corner=True)\n"
   ]
  },
  {
   "cell_type": "code",
   "execution_count": 25,
   "metadata": {
    "execution": {
     "iopub.execute_input": "2022-03-02T09:30:32.104962Z",
     "iopub.status.busy": "2022-03-02T09:30:32.104458Z",
     "iopub.status.idle": "2022-03-02T09:30:37.449493Z",
     "shell.execute_reply": "2022-03-02T09:30:37.449880Z"
    }
   },
   "outputs": [
    {
     "name": "stdout",
     "output_type": "stream",
     "text": [
      "(500000, 7)\n",
      "                 X         Y        dX        dY        dZ         E  \\\n",
      "31583840  0.815753  1.937818  0.911883  0.083064  0.051500  0.988979   \n",
      "34539943  0.113808  2.307558  4.368194  0.106041  0.217130  0.979514   \n",
      "20004843  0.635959  2.953310 -3.195482  0.153744 -0.160061  0.977969   \n",
      "20169494  0.214595 -0.140999  3.359522 -0.059039  0.192452  0.971649   \n",
      "38060417  0.376303 -3.065200  2.293505 -0.322103  0.204699  0.924726   \n",
      "\n",
      "         dataset_name  \n",
      "31583840      decoded  \n",
      "34539943      decoded  \n",
      "20004843      decoded  \n",
      "20169494      decoded  \n",
      "38060417      decoded  \n"
     ]
    }
   ],
   "source": [
    "#TODO trzeba by sprawdzić czy to losowanie działa poprawnie i zwraca próbkę reprezentatywną\n",
    "sample=concatenated_datasets.groupby('dataset_name', group_keys=False).apply(lambda x: x.sample(frac=0.0125, random_state=2)) \n",
    "print(sample.shape)\n",
    "print(sample.head())"
   ]
  },
  {
   "cell_type": "code",
   "execution_count": 26,
   "metadata": {
    "execution": {
     "iopub.execute_input": "2022-03-02T09:30:37.454408Z",
     "iopub.status.busy": "2022-03-02T09:30:37.453915Z",
     "iopub.status.idle": "2022-03-02T09:30:43.104790Z",
     "shell.execute_reply": "2022-03-02T09:30:43.105165Z"
    }
   },
   "outputs": [
    {
     "name": "stdout",
     "output_type": "stream",
     "text": [
      "(250000, 6)\n",
      "                X        Y       dX        dY        dZ         E\n",
      "11583838  0.72217  1.91911  1.02320  0.075932  0.040737  0.996280\n",
      "14539941  0.19622  2.45577  4.91175  0.094408  0.188461  0.977532\n",
      "4841      0.36820  3.95641 -3.81723  0.152133 -0.146734  0.977407\n",
      "169492    1.24696  4.82186 -0.47056 -0.187327  0.301854  0.934769\n",
      "18060415  0.46350 -3.66491  2.14019 -0.309671  0.214503  0.926333\n"
     ]
    }
   ],
   "source": [
    "sample2=orginal_df.apply(lambda x: x.sample(frac=0.0125, random_state=2)) \n",
    "print(sample2.shape)\n",
    "print(sample2.head())"
   ]
  },
  {
   "cell_type": "code",
   "execution_count": 27,
   "metadata": {
    "execution": {
     "iopub.execute_input": "2022-03-02T09:30:43.109198Z",
     "iopub.status.busy": "2022-03-02T09:30:43.108709Z",
     "iopub.status.idle": "2022-03-02T09:30:43.110591Z",
     "shell.execute_reply": "2022-03-02T09:30:43.110975Z"
    }
   },
   "outputs": [],
   "source": [
    "# sns.pairplot(sample2, kind=\"scatter\")"
   ]
  },
  {
   "cell_type": "code",
   "execution_count": 28,
   "metadata": {
    "execution": {
     "iopub.execute_input": "2022-03-02T09:30:43.115426Z",
     "iopub.status.busy": "2022-03-02T09:30:43.114949Z",
     "iopub.status.idle": "2022-03-02T09:30:48.557777Z",
     "shell.execute_reply": "2022-03-02T09:30:48.557349Z"
    }
   },
   "outputs": [
    {
     "name": "stdout",
     "output_type": "stream",
     "text": [
      "(250000, 6)\n",
      "                 X         Y        dX        dY        dZ         E\n",
      "11583838  0.815753  1.937818  0.911883  0.083064  0.051500  0.988979\n",
      "14539941  0.113808  2.307558  4.368194  0.106041  0.217130  0.979514\n",
      "4841      0.635959  2.953310 -3.195482  0.153744 -0.160061  0.977969\n",
      "169492    0.214595 -0.140999  3.359522 -0.059039  0.192452  0.971649\n",
      "18060415  0.376303 -3.065200  2.293505 -0.322103  0.204699  0.924726\n"
     ]
    }
   ],
   "source": [
    "sample3=decoded_df.apply(lambda x: x.sample(frac=0.0125, random_state=2)) \n",
    "print(sample3.shape)\n",
    "print(sample3.head())"
   ]
  },
  {
   "cell_type": "code",
   "execution_count": 29,
   "metadata": {
    "execution": {
     "iopub.execute_input": "2022-03-02T09:30:48.561213Z",
     "iopub.status.busy": "2022-03-02T09:30:48.560698Z",
     "iopub.status.idle": "2022-03-02T09:30:48.562840Z",
     "shell.execute_reply": "2022-03-02T09:30:48.563216Z"
    }
   },
   "outputs": [],
   "source": [
    "# sns.pairplot(sample3, kind=\"scatter\")"
   ]
  },
  {
   "cell_type": "code",
   "execution_count": 30,
   "metadata": {
    "execution": {
     "iopub.execute_input": "2022-03-02T09:30:48.566433Z",
     "iopub.status.busy": "2022-03-02T09:30:48.565937Z",
     "iopub.status.idle": "2022-03-02T09:30:48.568320Z",
     "shell.execute_reply": "2022-03-02T09:30:48.567924Z"
    }
   },
   "outputs": [],
   "source": [
    "# sns.pairplot(sample, hue=\"dataset_name\", kind=\"scatter\", plot_kws=dict(alpha=0.5))"
   ]
  },
  {
   "cell_type": "code",
   "execution_count": 31,
   "metadata": {
    "execution": {
     "iopub.execute_input": "2022-03-02T09:30:48.574485Z",
     "iopub.status.busy": "2022-03-02T09:30:48.574003Z",
     "iopub.status.idle": "2022-03-02T09:30:48.683803Z",
     "shell.execute_reply": "2022-03-02T09:30:48.683386Z"
    }
   },
   "outputs": [],
   "source": [
    "tmp_2=df_data.iloc[37:38,:]\n",
    "tmp_2=tmp_2.to_numpy(dtype=np.float32)\n",
    "orginal_2=tmp_2\n",
    "tmp_2=stdcs.transform(tmp_2)\n",
    "tmp_2=torch.from_numpy(tmp_2)\n",
    "model.eval()\n",
    "with torch.no_grad():\n",
    "    result_encoded_features_2, z_mean_2, z_log_var_2, result_decoded_features_2=model(tmp_2.to(device=DEVICE))\n",
    "result_2=result_decoded_features_2.cpu().detach().numpy()\n",
    "result_2=stdcs.inverse_transform(result_2)"
   ]
  },
  {
   "cell_type": "code",
   "execution_count": 32,
   "metadata": {
    "execution": {
     "iopub.execute_input": "2022-03-02T09:30:48.687280Z",
     "iopub.status.busy": "2022-03-02T09:30:48.686765Z",
     "iopub.status.idle": "2022-03-02T09:30:48.688801Z",
     "shell.execute_reply": "2022-03-02T09:30:48.689215Z"
    }
   },
   "outputs": [],
   "source": [
    "orginal_2=orginal_2.flatten()\n",
    "result_2=result_2.flatten()"
   ]
  },
  {
   "cell_type": "code",
   "execution_count": 33,
   "metadata": {
    "execution": {
     "iopub.execute_input": "2022-03-02T09:30:48.699511Z",
     "iopub.status.busy": "2022-03-02T09:30:48.698998Z",
     "iopub.status.idle": "2022-03-02T09:30:48.701749Z",
     "shell.execute_reply": "2022-03-02T09:30:48.702129Z"
    }
   },
   "outputs": [
    {
     "data": {
      "text/html": [
       "<div>\n",
       "<style scoped>\n",
       "    .dataframe tbody tr th:only-of-type {\n",
       "        vertical-align: middle;\n",
       "    }\n",
       "\n",
       "    .dataframe tbody tr th {\n",
       "        vertical-align: top;\n",
       "    }\n",
       "\n",
       "    .dataframe thead th {\n",
       "        text-align: right;\n",
       "    }\n",
       "</style>\n",
       "<table border=\"1\" class=\"dataframe\">\n",
       "  <thead>\n",
       "    <tr style=\"text-align: right;\">\n",
       "      <th></th>\n",
       "      <th>X</th>\n",
       "      <th>Y</th>\n",
       "      <th>dX</th>\n",
       "      <th>dY</th>\n",
       "      <th>dZ</th>\n",
       "      <th>E</th>\n",
       "    </tr>\n",
       "  </thead>\n",
       "  <tbody>\n",
       "    <tr>\n",
       "      <th>0</th>\n",
       "      <td>2.359750</td>\n",
       "      <td>2.614970</td>\n",
       "      <td>-4.698670</td>\n",
       "      <td>0.100502</td>\n",
       "      <td>-0.180584</td>\n",
       "      <td>0.978411</td>\n",
       "    </tr>\n",
       "    <tr>\n",
       "      <th>1</th>\n",
       "      <td>2.074312</td>\n",
       "      <td>2.602883</td>\n",
       "      <td>-4.480716</td>\n",
       "      <td>0.087806</td>\n",
       "      <td>-0.196455</td>\n",
       "      <td>0.995755</td>\n",
       "    </tr>\n",
       "  </tbody>\n",
       "</table>\n",
       "</div>"
      ],
      "text/plain": [
       "          X         Y        dX        dY        dZ         E\n",
       "0  2.359750  2.614970 -4.698670  0.100502 -0.180584  0.978411\n",
       "1  2.074312  2.602883 -4.480716  0.087806 -0.196455  0.995755"
      ]
     },
     "execution_count": 33,
     "metadata": {},
     "output_type": "execute_result"
    }
   ],
   "source": [
    "df=pd.DataFrame(np.stack((orginal_2,result_2)), columns=['X', 'Y', 'dX', 'dY', 'dZ', 'E'])\n",
    "df"
   ]
  },
  {
   "cell_type": "code",
   "execution_count": 34,
   "metadata": {
    "execution": {
     "iopub.execute_input": "2022-03-02T09:30:48.706909Z",
     "iopub.status.busy": "2022-03-02T09:30:48.706379Z",
     "iopub.status.idle": "2022-03-02T09:34:22.252041Z",
     "shell.execute_reply": "2022-03-02T09:34:22.252422Z"
    }
   },
   "outputs": [
    {
     "name": "stdout",
     "output_type": "stream",
     "text": [
      "(12000000, 3)\n"
     ]
    }
   ],
   "source": [
    "encoded_features=[]\n",
    "model.eval()\n",
    "for index, feature in enumerate(train_loader):\n",
    "    with torch.no_grad():\n",
    "        tmp_encoded_features, z_mean, z_log_var, decoded =model(feature.to(device=DEVICE))\n",
    "        encoded_features.extend(tmp_encoded_features.cpu().detach().numpy())\n",
    "encoded_features=np.asarray(encoded_features)\n",
    "\n",
    "print(encoded_features.shape)"
   ]
  },
  {
   "cell_type": "code",
   "execution_count": 35,
   "metadata": {
    "execution": {
     "iopub.execute_input": "2022-03-02T09:34:22.333304Z",
     "iopub.status.busy": "2022-03-02T09:34:22.286264Z",
     "iopub.status.idle": "2022-03-02T09:36:18.139417Z",
     "shell.execute_reply": "2022-03-02T09:36:18.139805Z"
    }
   },
   "outputs": [
    {
     "data": {
      "image/png": "[encoded data removed]",
      "text/plain": [
       "<Figure size 432x288 with 1 Axes>"
      ]
     },
     "metadata": {
      "needs_background": "light"
     },
     "output_type": "display_data"
    }
   ],
   "source": [
    "#PRZESTRZEŃ UKRYTA VAE\n",
    "colors = ['r']\n",
    "markers = ['s']\n",
    "\n",
    "fig=plt.figure()\n",
    "ax=fig.add_subplot(projection='3d')\n",
    "for c, m in zip(colors, markers):\n",
    "    ax.scatter(encoded_features[:,0],encoded_features[:,2],encoded_features[:,1],marker=m,c=c)\n",
    "\n",
    "ax.set_xlabel('VAE 1')\n",
    "ax.set_ylabel('VAE 2')\n",
    "ax.set_zlabel('VAE 3')\n",
    "\n",
    "plt.show()"
   ]
  }
 ],
 "metadata": {
  "interpreter": {
   "hash": "94e50cba98016e2c68fceb7b9fa13391593fa96fd78bad5a436d2ca9f0548949"
  },
  "kernelspec": {
   "display_name": "Python 3.8.12 64-bit ('pytorch_wine_env': conda)",
   "language": "python",
   "name": "python3"
  },
  "language_info": {
   "codemirror_mode": {
    "name": "ipython",
    "version": 3
   },
   "file_extension": ".py",
   "mimetype": "text/x-python",
   "name": "python",
   "nbconvert_exporter": "python",
   "pygments_lexer": "ipython3",
   "version": "3.9.7"
  }
 },
 "nbformat": 4,
 "nbformat_minor": 2
}
