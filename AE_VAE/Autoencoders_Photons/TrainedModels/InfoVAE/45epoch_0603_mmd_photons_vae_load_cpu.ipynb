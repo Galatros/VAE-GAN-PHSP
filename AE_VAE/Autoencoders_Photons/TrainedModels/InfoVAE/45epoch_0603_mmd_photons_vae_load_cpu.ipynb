{
 "cells": [
  {
   "cell_type": "code",
   "execution_count": 1,
   "metadata": {
    "execution": {
     "iopub.execute_input": "2022-03-06T14:16:51.930221Z",
     "iopub.status.busy": "2022-03-06T14:16:51.929621Z",
     "iopub.status.idle": "2022-03-06T14:16:53.359447Z",
     "shell.execute_reply": "2022-03-06T14:16:53.359899Z"
    }
   },
   "outputs": [],
   "source": [
    "#TODO funkcja trenująca powinna aktualizować słowniki w checkpoint.pth przypadku wczytania modelu\n",
    "from data_helper import get_dataloaders_and_standarscaler_photons_from_numpy\n",
    "from train_helper import train_vae, train_vae_mmd\n",
    "from plot_helper import plot_training_loss\n",
    "\n",
    "import copy\n",
    "\n",
    "import numpy as np\n",
    "import pandas as pd\n",
    "import matplotlib.pyplot as plt\n",
    "import seaborn as sns\n",
    "\n",
    "import torch\n",
    "import torch.nn as nn"
   ]
  },
  {
   "cell_type": "code",
   "execution_count": 2,
   "metadata": {
    "execution": {
     "iopub.execute_input": "2022-03-06T14:16:53.364969Z",
     "iopub.status.busy": "2022-03-06T14:16:53.364437Z",
     "iopub.status.idle": "2022-03-06T14:16:53.366487Z",
     "shell.execute_reply": "2022-03-06T14:16:53.366879Z"
    }
   },
   "outputs": [],
   "source": [
    "# Hyperparameters\n",
    "RANDOM_SEED = 123\n",
    "NUM_EPOCHS = 15\n",
    "LOGGING_INTERVAL=300\n",
    "\n",
    "# RECONSTRUCTION_TERM_WEIGHT=2.8 \n",
    "# LEARNING_RATE = 0.0005\n",
    "# BATCH_SIZE = 1024\n",
    "#TOTAL_NUM_EPOCHS\n",
    "# SAVE_MODEL_FILE\n",
    "\n",
    "PLOT_FRACTION=0.0125\n",
    "TEST_FRACTION=0.4\n",
    "VALIDATION_FRACTION=0.0\n",
    "NUM_WORKERS=0\n",
    "path='/data1/dose-3d-generative/data/training-data/DISP_0.5_ANGLE_0/NUMPY/a1_10_7.npy'\n",
    "CHECKPOINT_PATH=\"TrainedModels/InfoVAE/30epoch_0603_mmd_checkpoint.pth\""
   ]
  },
  {
   "cell_type": "code",
   "execution_count": 3,
   "metadata": {
    "execution": {
     "iopub.execute_input": "2022-03-06T14:16:53.371303Z",
     "iopub.status.busy": "2022-03-06T14:16:53.370766Z",
     "iopub.status.idle": "2022-03-06T14:16:56.558673Z",
     "shell.execute_reply": "2022-03-06T14:16:56.559099Z"
    }
   },
   "outputs": [
    {
     "name": "stdout",
     "output_type": "stream",
     "text": [
      "30\n",
      "VAE_Linear_0603\n"
     ]
    }
   ],
   "source": [
    "loaded_checkpoint = torch.load(CHECKPOINT_PATH)\n",
    "\n",
    "BATCH_SIZE = loaded_checkpoint[\"batch_size\"]\n",
    "RECONSTRUCTION_TERM_WEIGHT = loaded_checkpoint[\"reconstruction_term_weight\"]\n",
    "log_dict_old=loaded_checkpoint[\"log_dict\"]\n",
    "\n",
    "epoch = loaded_checkpoint[\"epoch\"]\n",
    "print(epoch)\n",
    "TOTAL_NUM_EPOCHS=epoch+NUM_EPOCHS\n",
    "model_name=loaded_checkpoint[\"model_name\"]\n",
    "print(model_name)"
   ]
  },
  {
   "cell_type": "code",
   "execution_count": 4,
   "metadata": {
    "execution": {
     "iopub.execute_input": "2022-03-06T14:16:56.565269Z",
     "iopub.status.busy": "2022-03-06T14:16:56.564749Z",
     "iopub.status.idle": "2022-03-06T14:16:56.567296Z",
     "shell.execute_reply": "2022-03-06T14:16:56.566753Z"
    }
   },
   "outputs": [],
   "source": [
    "SAVE_MODEL_FILE=f'TrainedModels/InfoVAE/{TOTAL_NUM_EPOCHS}epoch_0203_mmd_checkpoint.pth'#None gdy nie tworzy się nowego zapisu"
   ]
  },
  {
   "cell_type": "code",
   "execution_count": 5,
   "metadata": {
    "execution": {
     "iopub.execute_input": "2022-03-06T14:16:56.571237Z",
     "iopub.status.busy": "2022-03-06T14:16:56.570693Z",
     "iopub.status.idle": "2022-03-06T14:16:56.573442Z",
     "shell.execute_reply": "2022-03-06T14:16:56.573830Z"
    }
   },
   "outputs": [
    {
     "name": "stdout",
     "output_type": "stream",
     "text": [
      "Device: cuda:0\n"
     ]
    }
   ],
   "source": [
    "CUDA_DEVICE_NUM=0\n",
    "DEVICE = torch.device(f'cuda:{CUDA_DEVICE_NUM}' if torch.cuda.is_available() else 'cpu')\n",
    "print('Device:', DEVICE)"
   ]
  },
  {
   "cell_type": "code",
   "execution_count": 6,
   "metadata": {
    "execution": {
     "iopub.execute_input": "2022-03-06T14:16:56.578588Z",
     "iopub.status.busy": "2022-03-06T14:16:56.578013Z",
     "iopub.status.idle": "2022-03-06T14:16:56.580993Z",
     "shell.execute_reply": "2022-03-06T14:16:56.581410Z"
    }
   },
   "outputs": [
    {
     "name": "stdout",
     "output_type": "stream",
     "text": [
      "21504\n",
      "2097152\n",
      "Quadro RTX 8000\n",
      "50959679488\n"
     ]
    }
   ],
   "source": [
    "print(torch.cuda.memory_allocated(device=DEVICE))\n",
    "print(torch.cuda.memory_reserved(device=DEVICE))\n",
    "print(torch.cuda.get_device_name(0))\n",
    "print(torch.cuda.get_device_properties(0).total_memory)"
   ]
  },
  {
   "cell_type": "code",
   "execution_count": 7,
   "metadata": {
    "execution": {
     "iopub.execute_input": "2022-03-06T14:16:56.585791Z",
     "iopub.status.busy": "2022-03-06T14:16:56.585238Z",
     "iopub.status.idle": "2022-03-06T14:16:56.587798Z",
     "shell.execute_reply": "2022-03-06T14:16:56.588200Z"
    }
   },
   "outputs": [],
   "source": [
    "model = getattr(__import__('models_architecture_helper', fromlist=[model_name]), model_name)"
   ]
  },
  {
   "cell_type": "code",
   "execution_count": 8,
   "metadata": {
    "execution": {
     "iopub.execute_input": "2022-03-06T14:16:56.592812Z",
     "iopub.status.busy": "2022-03-06T14:16:56.592302Z",
     "iopub.status.idle": "2022-03-06T14:16:56.613815Z",
     "shell.execute_reply": "2022-03-06T14:16:56.614191Z"
    }
   },
   "outputs": [],
   "source": [
    "model=model()\n",
    "model.to(DEVICE)\n",
    "model.load_state_dict(loaded_checkpoint[\"model_state\"])\n",
    "\n",
    "optimizer = torch.optim.Adam(model.parameters(),\n",
    "                             lr=0, \n",
    "                             weight_decay=1e-5)\n",
    "\n",
    "optimizer.load_state_dict(loaded_checkpoint[\"optim_state\"])\n",
    "\n",
    "#print(optimizer.state_dict)"
   ]
  },
  {
   "cell_type": "code",
   "execution_count": 9,
   "metadata": {
    "execution": {
     "iopub.execute_input": "2022-03-06T14:16:56.619171Z",
     "iopub.status.busy": "2022-03-06T14:16:56.618668Z",
     "iopub.status.idle": "2022-03-06T14:16:56.828287Z",
     "shell.execute_reply": "2022-03-06T14:16:56.828683Z"
    }
   },
   "outputs": [
    {
     "name": "stdout",
     "output_type": "stream",
     "text": [
      "(10000001, 6)\n"
     ]
    }
   ],
   "source": [
    "#ODCZYTANIE DANYCH Z PLIKU 'photons.npy'\n",
    "photons = np.load(path)\n",
    "X = np.zeros((10000001, 6),dtype=np.float32)\n",
    "np.copyto(X,photons[:,:-1])\n",
    "print(X.shape)\n",
    "\n",
    "# photons = np.load(path)\n",
    "# X = np.zeros(photons.shape,dtype=np.float32)\n",
    "# np.copyto(X,photons)"
   ]
  },
  {
   "cell_type": "code",
   "execution_count": 10,
   "metadata": {
    "execution": {
     "iopub.execute_input": "2022-03-06T14:16:56.833072Z",
     "iopub.status.busy": "2022-03-06T14:16:56.832586Z",
     "iopub.status.idle": "2022-03-06T14:16:57.254810Z",
     "shell.execute_reply": "2022-03-06T14:16:57.255185Z"
    }
   },
   "outputs": [
    {
     "name": "stdout",
     "output_type": "stream",
     "text": [
      "20000002\n"
     ]
    }
   ],
   "source": [
    "X_reflection=copy.deepcopy(X)\n",
    "X_reflection[:,2]=-X_reflection[:,2]\n",
    "X_reflection[:,4]=-X_reflection[:,4]\n",
    "\n",
    "X_sum=np.concatenate((X,X_reflection),axis=0)\n",
    "print(len(X_sum))"
   ]
  },
  {
   "cell_type": "code",
   "execution_count": 11,
   "metadata": {
    "execution": {
     "iopub.execute_input": "2022-03-06T14:16:57.263210Z",
     "iopub.status.busy": "2022-03-06T14:16:57.262692Z",
     "iopub.status.idle": "2022-03-06T14:16:57.273964Z",
     "shell.execute_reply": "2022-03-06T14:16:57.274355Z"
    }
   },
   "outputs": [
    {
     "data": {
      "text/html": [
       "<div>\n",
       "<style scoped>\n",
       "    .dataframe tbody tr th:only-of-type {\n",
       "        vertical-align: middle;\n",
       "    }\n",
       "\n",
       "    .dataframe tbody tr th {\n",
       "        vertical-align: top;\n",
       "    }\n",
       "\n",
       "    .dataframe thead th {\n",
       "        text-align: right;\n",
       "    }\n",
       "</style>\n",
       "<table border=\"1\" class=\"dataframe\">\n",
       "  <thead>\n",
       "    <tr style=\"text-align: right;\">\n",
       "      <th></th>\n",
       "      <th>X</th>\n",
       "      <th>Y</th>\n",
       "      <th>dX</th>\n",
       "      <th>dY</th>\n",
       "      <th>dZ</th>\n",
       "      <th>E</th>\n",
       "    </tr>\n",
       "  </thead>\n",
       "  <tbody>\n",
       "    <tr>\n",
       "      <th>0</th>\n",
       "      <td>0.77526</td>\n",
       "      <td>-0.50856</td>\n",
       "      <td>-4.60704</td>\n",
       "      <td>-0.018979</td>\n",
       "      <td>-0.177872</td>\n",
       "      <td>0.983871</td>\n",
       "    </tr>\n",
       "    <tr>\n",
       "      <th>1</th>\n",
       "      <td>0.77526</td>\n",
       "      <td>-0.77813</td>\n",
       "      <td>-5.10840</td>\n",
       "      <td>-0.029292</td>\n",
       "      <td>-0.196501</td>\n",
       "      <td>0.980066</td>\n",
       "    </tr>\n",
       "    <tr>\n",
       "      <th>2</th>\n",
       "      <td>0.45010</td>\n",
       "      <td>-3.74409</td>\n",
       "      <td>-1.33591</td>\n",
       "      <td>-0.145330</td>\n",
       "      <td>-0.051869</td>\n",
       "      <td>0.988023</td>\n",
       "    </tr>\n",
       "    <tr>\n",
       "      <th>3</th>\n",
       "      <td>0.39630</td>\n",
       "      <td>-2.50916</td>\n",
       "      <td>-3.30103</td>\n",
       "      <td>-0.274393</td>\n",
       "      <td>-0.273584</td>\n",
       "      <td>0.921879</td>\n",
       "    </tr>\n",
       "    <tr>\n",
       "      <th>4</th>\n",
       "      <td>0.45010</td>\n",
       "      <td>-4.79711</td>\n",
       "      <td>-1.70242</td>\n",
       "      <td>-0.184824</td>\n",
       "      <td>-0.065606</td>\n",
       "      <td>0.980579</td>\n",
       "    </tr>\n",
       "  </tbody>\n",
       "</table>\n",
       "</div>"
      ],
      "text/plain": [
       "         X        Y       dX        dY        dZ         E\n",
       "0  0.77526 -0.50856 -4.60704 -0.018979 -0.177872  0.983871\n",
       "1  0.77526 -0.77813 -5.10840 -0.029292 -0.196501  0.980066\n",
       "2  0.45010 -3.74409 -1.33591 -0.145330 -0.051869  0.988023\n",
       "3  0.39630 -2.50916 -3.30103 -0.274393 -0.273584  0.921879\n",
       "4  0.45010 -4.79711 -1.70242 -0.184824 -0.065606  0.980579"
      ]
     },
     "execution_count": 11,
     "metadata": {},
     "output_type": "execute_result"
    }
   ],
   "source": [
    "df_data = pd.DataFrame(X_sum, columns = ['X', 'Y', 'dX', 'dY', 'dZ', 'E'])\n",
    "df_data.head()#zawsze warto rzucić okiem na dane"
   ]
  },
  {
   "cell_type": "code",
   "execution_count": 12,
   "metadata": {
    "execution": {
     "iopub.execute_input": "2022-03-06T14:16:57.279014Z",
     "iopub.status.busy": "2022-03-06T14:16:57.278475Z",
     "iopub.status.idle": "2022-03-06T14:17:02.241549Z",
     "shell.execute_reply": "2022-03-06T14:17:02.241077Z"
    }
   },
   "outputs": [],
   "source": [
    "train_loader, valid_loader, test_loader, stdcs = get_dataloaders_and_standarscaler_photons_from_numpy(tmp_X=X_sum,\n",
    "    batch_size=BATCH_SIZE, \n",
    "    num_workers=NUM_WORKERS,\n",
    "    test_fraction=TEST_FRACTION, \n",
    "    validation_fraction=VALIDATION_FRACTION)"
   ]
  },
  {
   "cell_type": "code",
   "execution_count": 13,
   "metadata": {
    "execution": {
     "iopub.execute_input": "2022-03-06T14:17:02.245364Z",
     "iopub.status.busy": "2022-03-06T14:17:02.244836Z",
     "iopub.status.idle": "2022-03-06T14:17:02.246932Z",
     "shell.execute_reply": "2022-03-06T14:17:02.247313Z"
    }
   },
   "outputs": [],
   "source": [
    "# model = VAE_Linear()\n",
    "# model.to(DEVICE)\n",
    "\n",
    "#criterion = nn.MSELoss()#FUNKCJA STRATY\n",
    "# optimizer = torch.optim.Adam(model.parameters(),\n",
    "#                              lr=LEARNING_RATE, \n",
    "#                              weight_decay=1e-5)"
   ]
  },
  {
   "cell_type": "code",
   "execution_count": 14,
   "metadata": {
    "execution": {
     "iopub.execute_input": "2022-03-06T14:17:02.253264Z",
     "iopub.status.busy": "2022-03-06T14:17:02.251331Z",
     "iopub.status.idle": "2022-03-06T19:20:00.158897Z",
     "shell.execute_reply": "2022-03-06T19:20:00.159299Z"
    }
   },
   "outputs": [
    {
     "name": "stdout",
     "output_type": "stream",
     "text": [
      "Epoch: 001/015 | Batch 0000/1200 | Loss: 0.2158\n",
      "Epoch: 001/015 | Batch 0300/1200 | Loss: 0.2758\n",
      "Epoch: 001/015 | Batch 0600/1200 | Loss: 0.2430\n",
      "Epoch: 001/015 | Batch 0900/1200 | Loss: 0.2565\n",
      "***Epoch: 001/015 | Loss: 0.246\n",
      "Test***Epoch: 001/015 | Loss: 0.247\n",
      "Time elapsed: 20.25 min\n",
      "Epoch: 002/015 | Batch 0000/1200 | Loss: 0.2419\n",
      "Epoch: 002/015 | Batch 0300/1200 | Loss: 0.2614\n",
      "Epoch: 002/015 | Batch 0600/1200 | Loss: 0.2440\n",
      "Epoch: 002/015 | Batch 0900/1200 | Loss: 0.2499\n",
      "***Epoch: 002/015 | Loss: 0.246\n",
      "Test***Epoch: 002/015 | Loss: 0.247\n",
      "Time elapsed: 40.63 min\n",
      "Epoch: 003/015 | Batch 0000/1200 | Loss: 0.2555\n",
      "Epoch: 003/015 | Batch 0300/1200 | Loss: 0.2575\n",
      "Epoch: 003/015 | Batch 0600/1200 | Loss: 0.2452\n",
      "Epoch: 003/015 | Batch 0900/1200 | Loss: 0.2624\n",
      "***Epoch: 003/015 | Loss: 0.246\n",
      "Test***Epoch: 003/015 | Loss: 0.247\n",
      "Time elapsed: 61.06 min\n",
      "Epoch: 004/015 | Batch 0000/1200 | Loss: 0.2507\n",
      "Epoch: 004/015 | Batch 0300/1200 | Loss: 0.2627\n",
      "Epoch: 004/015 | Batch 0600/1200 | Loss: 0.2406\n",
      "Epoch: 004/015 | Batch 0900/1200 | Loss: 0.2541\n",
      "***Epoch: 004/015 | Loss: 0.246\n",
      "Test***Epoch: 004/015 | Loss: 0.247\n",
      "Time elapsed: 81.47 min\n",
      "Epoch: 005/015 | Batch 0000/1200 | Loss: 0.2389\n",
      "Epoch: 005/015 | Batch 0300/1200 | Loss: 0.2397\n",
      "Epoch: 005/015 | Batch 0600/1200 | Loss: 0.2532\n",
      "Epoch: 005/015 | Batch 0900/1200 | Loss: 0.2486\n",
      "***Epoch: 005/015 | Loss: 0.246\n",
      "Test***Epoch: 005/015 | Loss: 0.247\n",
      "Time elapsed: 101.76 min\n",
      "Epoch: 006/015 | Batch 0000/1200 | Loss: 0.2795\n",
      "Epoch: 006/015 | Batch 0300/1200 | Loss: 0.2550\n",
      "Epoch: 006/015 | Batch 0600/1200 | Loss: 0.2539\n",
      "Epoch: 006/015 | Batch 0900/1200 | Loss: 0.2597\n",
      "***Epoch: 006/015 | Loss: 0.246\n",
      "Test***Epoch: 006/015 | Loss: 0.247\n",
      "Time elapsed: 121.91 min\n",
      "Epoch: 007/015 | Batch 0000/1200 | Loss: 0.2584\n",
      "Epoch: 007/015 | Batch 0300/1200 | Loss: 0.2525\n",
      "Epoch: 007/015 | Batch 0600/1200 | Loss: 0.2381\n",
      "Epoch: 007/015 | Batch 0900/1200 | Loss: 0.2851\n",
      "***Epoch: 007/015 | Loss: 0.246\n",
      "Test***Epoch: 007/015 | Loss: 0.247\n",
      "Time elapsed: 142.09 min\n",
      "Epoch: 008/015 | Batch 0000/1200 | Loss: 0.2414\n",
      "Epoch: 008/015 | Batch 0300/1200 | Loss: 0.2499\n",
      "Epoch: 008/015 | Batch 0600/1200 | Loss: 0.2578\n",
      "Epoch: 008/015 | Batch 0900/1200 | Loss: 0.2631\n",
      "***Epoch: 008/015 | Loss: 0.246\n",
      "Test***Epoch: 008/015 | Loss: 0.247\n",
      "Time elapsed: 162.26 min\n",
      "Epoch: 009/015 | Batch 0000/1200 | Loss: 0.2737\n",
      "Epoch: 009/015 | Batch 0300/1200 | Loss: 0.2516\n",
      "Epoch: 009/015 | Batch 0600/1200 | Loss: 0.2615\n",
      "Epoch: 009/015 | Batch 0900/1200 | Loss: 0.2396\n",
      "***Epoch: 009/015 | Loss: 0.246\n",
      "Test***Epoch: 009/015 | Loss: 0.247\n",
      "Time elapsed: 182.43 min\n",
      "Epoch: 010/015 | Batch 0000/1200 | Loss: 0.2355\n",
      "Epoch: 010/015 | Batch 0300/1200 | Loss: 0.2718\n",
      "Epoch: 010/015 | Batch 0600/1200 | Loss: 0.2643\n",
      "Epoch: 010/015 | Batch 0900/1200 | Loss: 0.2446\n",
      "***Epoch: 010/015 | Loss: 0.246\n",
      "Test***Epoch: 010/015 | Loss: 0.247\n",
      "Time elapsed: 202.58 min\n",
      "Epoch: 011/015 | Batch 0000/1200 | Loss: 0.2528\n",
      "Epoch: 011/015 | Batch 0300/1200 | Loss: 0.2329\n",
      "Epoch: 011/015 | Batch 0600/1200 | Loss: 0.2393\n",
      "Epoch: 011/015 | Batch 0900/1200 | Loss: 0.2319\n",
      "***Epoch: 011/015 | Loss: 0.246\n",
      "Test***Epoch: 011/015 | Loss: 0.247\n",
      "Time elapsed: 222.67 min\n",
      "Epoch: 012/015 | Batch 0000/1200 | Loss: 0.2591\n",
      "Epoch: 012/015 | Batch 0300/1200 | Loss: 0.2413\n",
      "Epoch: 012/015 | Batch 0600/1200 | Loss: 0.2638\n",
      "Epoch: 012/015 | Batch 0900/1200 | Loss: 0.2536\n",
      "***Epoch: 012/015 | Loss: 0.246\n",
      "Test***Epoch: 012/015 | Loss: 0.247\n",
      "Time elapsed: 242.77 min\n",
      "Epoch: 013/015 | Batch 0000/1200 | Loss: 0.2340\n",
      "Epoch: 013/015 | Batch 0300/1200 | Loss: 0.2507\n",
      "Epoch: 013/015 | Batch 0600/1200 | Loss: 0.2633\n",
      "Epoch: 013/015 | Batch 0900/1200 | Loss: 0.2594\n",
      "***Epoch: 013/015 | Loss: 0.246\n",
      "Test***Epoch: 013/015 | Loss: 0.247\n",
      "Time elapsed: 262.84 min\n",
      "Epoch: 014/015 | Batch 0000/1200 | Loss: 0.2525\n",
      "Epoch: 014/015 | Batch 0300/1200 | Loss: 0.2414\n",
      "Epoch: 014/015 | Batch 0600/1200 | Loss: 0.2409\n",
      "Epoch: 014/015 | Batch 0900/1200 | Loss: 0.2340\n",
      "***Epoch: 014/015 | Loss: 0.246\n",
      "Test***Epoch: 014/015 | Loss: 0.247\n",
      "Time elapsed: 282.92 min\n",
      "Epoch: 015/015 | Batch 0000/1200 | Loss: 0.2312\n",
      "Epoch: 015/015 | Batch 0300/1200 | Loss: 0.2397\n",
      "Epoch: 015/015 | Batch 0600/1200 | Loss: 0.2614\n",
      "Epoch: 015/015 | Batch 0900/1200 | Loss: 0.2310\n",
      "***Epoch: 015/015 | Loss: 0.246\n",
      "Test***Epoch: 015/015 | Loss: 0.247\n",
      "Time elapsed: 302.96 min\n",
      "Total Training Time: 302.96 min\n"
     ]
    }
   ],
   "source": [
    "log_dict_new=train_vae_mmd(num_epochs=NUM_EPOCHS, device=DEVICE, model=model,optimizer=optimizer,train_loader=train_loader,loss_fn=None, test_loader=test_loader, logging_interval=LOGGING_INTERVAL, reconstruction_term_weight=RECONSTRUCTION_TERM_WEIGHT, save_model_file=SAVE_MODEL_FILE, total_num_of_epochs=TOTAL_NUM_EPOCHS)"
   ]
  },
  {
   "cell_type": "code",
   "execution_count": 15,
   "metadata": {
    "execution": {
     "iopub.execute_input": "2022-03-06T19:20:00.165231Z",
     "iopub.status.busy": "2022-03-06T19:20:00.164712Z",
     "iopub.status.idle": "2022-03-06T19:20:00.166783Z",
     "shell.execute_reply": "2022-03-06T19:20:00.167162Z"
    }
   },
   "outputs": [],
   "source": [
    "log_dict={ key:log_dict_old.get(key,[])+log_dict_new.get(key,[]) for key in set(list(log_dict_old.keys())+list(log_dict_new.keys())) }"
   ]
  },
  {
   "cell_type": "code",
   "execution_count": 16,
   "metadata": {
    "execution": {
     "iopub.execute_input": "2022-03-06T19:20:00.170868Z",
     "iopub.status.busy": "2022-03-06T19:20:00.170316Z",
     "iopub.status.idle": "2022-03-06T19:20:00.173465Z",
     "shell.execute_reply": "2022-03-06T19:20:00.173033Z"
    }
   },
   "outputs": [
    {
     "name": "stdout",
     "output_type": "stream",
     "text": [
      "45\n"
     ]
    }
   ],
   "source": [
    "print(len(log_dict[\"test_combined_loss_per_epoch\"]))"
   ]
  },
  {
   "cell_type": "code",
   "execution_count": 17,
   "metadata": {
    "execution": {
     "iopub.execute_input": "2022-03-06T19:20:00.190733Z",
     "iopub.status.busy": "2022-03-06T19:20:00.188068Z",
     "iopub.status.idle": "2022-03-06T19:20:01.054144Z",
     "shell.execute_reply": "2022-03-06T19:20:01.054533Z"
    }
   },
   "outputs": [
    {
     "data": {
      "image/png": "[encoded data removed]",
      "text/plain": [
       "<Figure size 432x288 with 2 Axes>"
      ]
     },
     "metadata": {
      "needs_background": "light"
     },
     "output_type": "display_data"
    },
    {
     "data": {
      "image/png": "[encoded data removed]",
      "text/plain": [
       "<Figure size 432x288 with 2 Axes>"
      ]
     },
     "metadata": {
      "needs_background": "light"
     },
     "output_type": "display_data"
    },
    {
     "data": {
      "image/png": "[encoded data removed]",
      "text/plain": [
       "<Figure size 432x288 with 2 Axes>"
      ]
     },
     "metadata": {
      "needs_background": "light"
     },
     "output_type": "display_data"
    }
   ],
   "source": [
    "epoch_all=epoch+NUM_EPOCHS\n",
    "plot_training_loss(log_dict['train_reconstruction_loss_per_batch'], epoch_all, custom_label=\" (reconstruction)\")\n",
    "plot_training_loss(log_dict['train_kl_loss_per_batch'], epoch_all, custom_label=\" (KL)\")\n",
    "plot_training_loss(log_dict['train_combined_loss_per_batch'], epoch_all, custom_label=\" (combined)\")\n",
    "plt.show()\n",
    "\n"
   ]
  },
  {
   "cell_type": "code",
   "execution_count": 18,
   "metadata": {
    "execution": {
     "iopub.execute_input": "2022-03-06T19:20:01.073700Z",
     "iopub.status.busy": "2022-03-06T19:20:01.059479Z",
     "iopub.status.idle": "2022-03-06T19:20:01.199629Z",
     "shell.execute_reply": "2022-03-06T19:20:01.199170Z"
    }
   },
   "outputs": [
    {
     "data": {
      "image/png": "[encoded data removed]",
      "text/plain": [
       "<Figure size 432x288 with 1 Axes>"
      ]
     },
     "metadata": {
      "needs_background": "light"
     },
     "output_type": "display_data"
    }
   ],
   "source": [
    "plt.plot(range(len(log_dict['train_combined_loss_per_epoch'])), (log_dict['train_combined_loss_per_epoch']), label='Train Epoch Loss')\n",
    "plt.plot(range(len(log_dict['test_combined_loss_per_epoch'])), (log_dict['test_combined_loss_per_epoch']), label='Test Epoch Loss')\n",
    "plt.legend()\n",
    "plt.xlabel('Epochs')\n",
    "plt.ylabel('Loss')\n",
    "#plt.ylim(0.15,0.3)\n",
    "plt.tight_layout()"
   ]
  },
  {
   "cell_type": "code",
   "execution_count": 19,
   "metadata": {
    "execution": {
     "iopub.execute_input": "2022-03-06T19:20:01.204634Z",
     "iopub.status.busy": "2022-03-06T19:20:01.204134Z",
     "iopub.status.idle": "2022-03-06T19:20:05.645742Z",
     "shell.execute_reply": "2022-03-06T19:20:05.646124Z"
    }
   },
   "outputs": [],
   "source": [
    "tmp=df_data.to_numpy(dtype=np.float32)\n",
    "orginal=copy.deepcopy(tmp)\n",
    "tmp=stdcs.transform(tmp)\n",
    "tmp=torch.from_numpy(tmp)\n",
    "#print(tmp)\n",
    "model.eval()\n",
    "with torch.no_grad():\n",
    "    result_encoded_features, z_mean, z_log_var, result_decoded_features =model(tmp.to(device=DEVICE))\n",
    "result=result_decoded_features.cpu().detach().numpy()\n",
    "result=stdcs.inverse_transform(result)"
   ]
  },
  {
   "cell_type": "code",
   "execution_count": 20,
   "metadata": {
    "execution": {
     "iopub.execute_input": "2022-03-06T19:20:05.670696Z",
     "iopub.status.busy": "2022-03-06T19:20:05.659718Z",
     "iopub.status.idle": "2022-03-06T19:20:13.109774Z",
     "shell.execute_reply": "2022-03-06T19:20:13.110169Z"
    }
   },
   "outputs": [
    {
     "data": {
      "image/png": "[encoded data removed]",
      "text/plain": [
       "<Figure size 1152x576 with 6 Axes>"
      ]
     },
     "metadata": {
      "needs_background": "light"
     },
     "output_type": "display_data"
    }
   ],
   "source": [
    "fig, axs = plt.subplots(2, 3)\n",
    "fig.set_size_inches(16,8)\n",
    "bins=100\n",
    "axs[0, 0].hist(orginal[:,0],bins=bins, label ='orginal',alpha=0.5, density=True)\n",
    "axs[0, 0].hist(result[:,0],bins=bins, label ='decoded', alpha=0.5, density=True)\n",
    "axs[0, 0].set_title('X')\n",
    "axs[0, 1].hist(orginal[:,1],bins=bins, label ='orginal',alpha=0.5, density=True)\n",
    "axs[0, 1].hist(result[:,1],bins=bins, label ='decoded', alpha=0.5, density=True)\n",
    "axs[0, 1].set_title('Y')\n",
    "axs[0, 2].hist(orginal[:,2],bins=bins, label ='orginal',alpha=0.5, density=True)\n",
    "axs[0, 2].hist(result[:,2],bins=bins, label ='decoded', alpha=0.5, density=True)\n",
    "axs[0, 2].set_title('dX')\n",
    "axs[1, 0].hist(orginal[:,3],bins=bins, label ='orginal',alpha=0.5, density=True)\n",
    "axs[1, 0].hist(result[:,3],bins=bins, label ='decoded', alpha=0.5, density=True)\n",
    "axs[1, 0].set_title('dY')\n",
    "axs[1, 1].hist(orginal[:,4],bins=bins, label ='orginal',alpha=0.5, density=True)\n",
    "axs[1, 1].hist(result[:,4],bins=bins, label ='decoded', alpha=0.5, density=True)\n",
    "axs[1, 1].set_title('dZ')\n",
    "axs[1, 2].hist(orginal[:,5],bins=bins, label ='orginal',alpha=0.5, density=True)\n",
    "axs[1, 2].hist(result[:,5],bins=bins, label ='decoded', alpha=0.5, density=True)\n",
    "axs[1, 2].set_title('E')\n",
    "fig.legend()\n",
    "\n",
    "# for ax in axs.flat:\n",
    "#     ax.set(xlabel='x-label', ylabel='y-label')\n",
    "\n",
    "# # Hide x labels and tick labels for top plots and y ticks for right plots.\n",
    "# for ax in axs.flat:\n",
    "#     ax.label_outer()\n",
    "fig.tight_layout()"
   ]
  },
  {
   "cell_type": "code",
   "execution_count": 21,
   "metadata": {
    "execution": {
     "iopub.execute_input": "2022-03-06T19:20:13.164109Z",
     "iopub.status.busy": "2022-03-06T19:20:13.161837Z",
     "iopub.status.idle": "2022-03-06T19:20:35.995948Z",
     "shell.execute_reply": "2022-03-06T19:20:35.996343Z"
    }
   },
   "outputs": [
    {
     "data": {
      "image/png": "[encoded data removed]",
      "text/plain": [
       "<Figure size 1440x1440 with 6 Axes>"
      ]
     },
     "metadata": {
      "needs_background": "light"
     },
     "output_type": "display_data"
    }
   ],
   "source": [
    "keys = df_data.columns\n",
    "# print(keys)\n",
    "fig, axs = plt.subplots(2, 3)\n",
    "fig.set_size_inches(20, 20)\n",
    "for i, j in enumerate(keys):\n",
    "    mi = np.minimum(orginal[:, i].min(), result[:, i].min())\n",
    "    ma = np.maximum(orginal[:, i].max(), result[:, i].max())\n",
    "    bins = np.linspace(mi, ma, 300)\n",
    "    # print(bins)\n",
    "    axs.flatten()[i].hist(orginal[:, i], bins, alpha=.5)\n",
    "    axs.flatten()[i].hist(result[:, i], bins, alpha=.5)\n",
    "    axs.flatten()[i].set_title(j)\n"
   ]
  },
  {
   "cell_type": "code",
   "execution_count": 22,
   "metadata": {
    "execution": {
     "iopub.execute_input": "2022-03-06T19:20:36.002237Z",
     "iopub.status.busy": "2022-03-06T19:20:36.001747Z",
     "iopub.status.idle": "2022-03-06T19:20:37.630083Z",
     "shell.execute_reply": "2022-03-06T19:20:37.629599Z"
    }
   },
   "outputs": [
    {
     "name": "stdout",
     "output_type": "stream",
     "text": [
      "True\n"
     ]
    }
   ],
   "source": [
    "decoded_df=pd.DataFrame(result,columns=['X', 'Y', 'dX', 'dY', 'dZ', 'E'])\n",
    "orginal_df=df_data.iloc[:,:]\n",
    "\n",
    "\n",
    "concatenated_datasets=pd.concat([orginal_df.assign(dataset_name='orginal'), decoded_df.assign(dataset_name='decoded')],ignore_index=True)\n",
    "concatenated_datasets.shape\n",
    "print(concatenated_datasets.index.is_unique)"
   ]
  },
  {
   "cell_type": "code",
   "execution_count": 23,
   "metadata": {
    "execution": {
     "iopub.execute_input": "2022-03-06T19:20:38.179615Z",
     "iopub.status.busy": "2022-03-06T19:20:38.179072Z",
     "iopub.status.idle": "2022-03-06T19:20:43.370584Z",
     "shell.execute_reply": "2022-03-06T19:20:43.370963Z"
    }
   },
   "outputs": [
    {
     "name": "stdout",
     "output_type": "stream",
     "text": [
      "(500000, 7)\n",
      "                 X         Y        dX        dY        dZ         E  \\\n",
      "31583840  0.720932  1.816634  0.953676  0.082496  0.045071  0.992288   \n",
      "34539943  0.368568  2.505506  4.507192  0.092174  0.210522  0.975427   \n",
      "20004843  0.356507  3.867148 -3.332664  0.155812 -0.172159  0.980048   \n",
      "20169494  1.256028  3.213138  3.620460 -0.101336  0.094155  0.925244   \n",
      "38060417  0.311124 -3.965819  3.584359 -0.296860  0.141378  0.932202   \n",
      "\n",
      "         dataset_name  \n",
      "31583840      decoded  \n",
      "34539943      decoded  \n",
      "20004843      decoded  \n",
      "20169494      decoded  \n",
      "38060417      decoded  \n"
     ]
    }
   ],
   "source": [
    "#TODO trzeba by sprawdzić czy to losowanie działa poprawnie i zwraca próbkę reprezentatywną\n",
    "sample_concatenated=concatenated_datasets.groupby('dataset_name', group_keys=False).apply(lambda x: x.sample(frac=PLOT_FRACTION, random_state=2)) \n",
    "print(sample_concatenated.shape)\n",
    "print(sample_concatenated.head())"
   ]
  },
  {
   "cell_type": "code",
   "execution_count": 24,
   "metadata": {
    "execution": {
     "iopub.execute_input": "2022-03-06T19:20:43.374751Z",
     "iopub.status.busy": "2022-03-06T19:20:43.374235Z",
     "iopub.status.idle": "2022-03-06T19:20:43.376252Z",
     "shell.execute_reply": "2022-03-06T19:20:43.376666Z"
    }
   },
   "outputs": [],
   "source": [
    "# sns.pairplot(sample_concatenated, hue=\"dataset_name\", kind=\"scatter\", plot_kws=dict(alpha=0.5))\n",
    "#sns.pairplot(concatenated_datasets, hue=\"dataset_name\", kind=\"scatter\", plot_kws=dict(alpha=0.5),corner=True)"
   ]
  },
  {
   "cell_type": "code",
   "execution_count": 25,
   "metadata": {
    "execution": {
     "iopub.execute_input": "2022-03-06T19:20:43.381057Z",
     "iopub.status.busy": "2022-03-06T19:20:43.380557Z",
     "iopub.status.idle": "2022-03-06T19:20:48.722731Z",
     "shell.execute_reply": "2022-03-06T19:20:48.723111Z"
    }
   },
   "outputs": [
    {
     "name": "stdout",
     "output_type": "stream",
     "text": [
      "(250000, 6)\n",
      "                X        Y       dX        dY        dZ         E\n",
      "11583838  0.72217  1.91911  1.02320  0.075932  0.040737  0.996280\n",
      "14539941  0.19622  2.45577  4.91175  0.094408  0.188461  0.977532\n",
      "4841      0.36820  3.95641 -3.81723  0.152133 -0.146734  0.977407\n",
      "169492    1.24696  4.82186 -0.47056 -0.187327  0.301854  0.934769\n",
      "18060415  0.46350 -3.66491  2.14019 -0.309671  0.214503  0.926333\n"
     ]
    }
   ],
   "source": [
    "sample_orginal=orginal_df.apply(lambda x: x.sample(frac=PLOT_FRACTION, random_state=2)) \n",
    "print(sample_orginal.shape)\n",
    "print(sample_orginal.head())"
   ]
  },
  {
   "cell_type": "code",
   "execution_count": 26,
   "metadata": {
    "execution": {
     "iopub.execute_input": "2022-03-06T19:20:48.726810Z",
     "iopub.status.busy": "2022-03-06T19:20:48.726283Z",
     "iopub.status.idle": "2022-03-06T19:20:48.728940Z",
     "shell.execute_reply": "2022-03-06T19:20:48.728456Z"
    }
   },
   "outputs": [],
   "source": [
    "#sns.pairplot(sample_orginal, kind=\"scatter\")"
   ]
  },
  {
   "cell_type": "code",
   "execution_count": 27,
   "metadata": {
    "execution": {
     "iopub.execute_input": "2022-03-06T19:20:48.733356Z",
     "iopub.status.busy": "2022-03-06T19:20:48.732855Z",
     "iopub.status.idle": "2022-03-06T19:20:54.076109Z",
     "shell.execute_reply": "2022-03-06T19:20:54.076509Z"
    }
   },
   "outputs": [
    {
     "name": "stdout",
     "output_type": "stream",
     "text": [
      "(250000, 6)\n",
      "                 X         Y        dX        dY        dZ         E\n",
      "11583838  0.720932  1.816634  0.953676  0.082496  0.045071  0.992288\n",
      "14539941  0.368568  2.505506  4.507192  0.092174  0.210522  0.975427\n",
      "4841      0.356507  3.867148 -3.332664  0.155812 -0.172159  0.980048\n",
      "169492    1.256028  3.213138  3.620460 -0.101336  0.094155  0.925244\n",
      "18060415  0.311124 -3.965819  3.584359 -0.296860  0.141378  0.932202\n"
     ]
    }
   ],
   "source": [
    "sample_decoded=decoded_df.apply(lambda x: x.sample(frac=PLOT_FRACTION, random_state=2)) \n",
    "print(sample_decoded.shape)\n",
    "print(sample_decoded.head())"
   ]
  },
  {
   "cell_type": "code",
   "execution_count": 28,
   "metadata": {
    "execution": {
     "iopub.execute_input": "2022-03-06T19:20:54.080119Z",
     "iopub.status.busy": "2022-03-06T19:20:54.079610Z",
     "iopub.status.idle": "2022-03-06T19:20:54.082146Z",
     "shell.execute_reply": "2022-03-06T19:20:54.081745Z"
    }
   },
   "outputs": [],
   "source": [
    "# sns.pairplot(sample_decoded, kind=\"scatter\")"
   ]
  },
  {
   "cell_type": "code",
   "execution_count": 29,
   "metadata": {
    "execution": {
     "iopub.execute_input": "2022-03-06T19:20:54.085438Z",
     "iopub.status.busy": "2022-03-06T19:20:54.084927Z",
     "iopub.status.idle": "2022-03-06T19:20:54.087134Z",
     "shell.execute_reply": "2022-03-06T19:20:54.087557Z"
    }
   },
   "outputs": [],
   "source": [
    "# g = sns.PairGrid(concatenated_datasets, hue='dataset_name')\n",
    "# g.map_upper(sns.scatterplot)\n",
    "# #g.map_lower(sns.kdeplot, fill=True)\n",
    "# g.map_diag(sns.histplot, kde=True)"
   ]
  },
  {
   "cell_type": "code",
   "execution_count": 30,
   "metadata": {
    "execution": {
     "iopub.execute_input": "2022-03-06T19:20:54.093571Z",
     "iopub.status.busy": "2022-03-06T19:20:54.093065Z",
     "iopub.status.idle": "2022-03-06T19:20:54.201145Z",
     "shell.execute_reply": "2022-03-06T19:20:54.200732Z"
    }
   },
   "outputs": [],
   "source": [
    "tmp_2=df_data.iloc[37:38,:]\n",
    "tmp_2=tmp_2.to_numpy(dtype=np.float32)\n",
    "orginal_2=tmp_2\n",
    "tmp_2=stdcs.transform(tmp_2)\n",
    "tmp_2=torch.from_numpy(tmp_2)\n",
    "model.eval()\n",
    "with torch.no_grad():\n",
    "    result_encoded_features_2, z_mean_2, z_log_var_2, result_decoded_features_2=model(tmp_2.to(device=DEVICE))\n",
    "result_2=result_decoded_features_2.cpu().detach().numpy()\n",
    "result_2=stdcs.inverse_transform(result_2)"
   ]
  },
  {
   "cell_type": "code",
   "execution_count": 31,
   "metadata": {
    "execution": {
     "iopub.execute_input": "2022-03-06T19:20:54.204666Z",
     "iopub.status.busy": "2022-03-06T19:20:54.204114Z",
     "iopub.status.idle": "2022-03-06T19:20:54.206297Z",
     "shell.execute_reply": "2022-03-06T19:20:54.206690Z"
    }
   },
   "outputs": [],
   "source": [
    "orginal_2=orginal_2.flatten()\n",
    "result_2=result_2.flatten()"
   ]
  },
  {
   "cell_type": "code",
   "execution_count": 32,
   "metadata": {
    "execution": {
     "iopub.execute_input": "2022-03-06T19:20:54.216681Z",
     "iopub.status.busy": "2022-03-06T19:20:54.216132Z",
     "iopub.status.idle": "2022-03-06T19:20:54.219041Z",
     "shell.execute_reply": "2022-03-06T19:20:54.219447Z"
    }
   },
   "outputs": [
    {
     "data": {
      "text/html": [
       "<div>\n",
       "<style scoped>\n",
       "    .dataframe tbody tr th:only-of-type {\n",
       "        vertical-align: middle;\n",
       "    }\n",
       "\n",
       "    .dataframe tbody tr th {\n",
       "        vertical-align: top;\n",
       "    }\n",
       "\n",
       "    .dataframe thead th {\n",
       "        text-align: right;\n",
       "    }\n",
       "</style>\n",
       "<table border=\"1\" class=\"dataframe\">\n",
       "  <thead>\n",
       "    <tr style=\"text-align: right;\">\n",
       "      <th></th>\n",
       "      <th>X</th>\n",
       "      <th>Y</th>\n",
       "      <th>dX</th>\n",
       "      <th>dY</th>\n",
       "      <th>dZ</th>\n",
       "      <th>E</th>\n",
       "    </tr>\n",
       "  </thead>\n",
       "  <tbody>\n",
       "    <tr>\n",
       "      <th>0</th>\n",
       "      <td>2.359750</td>\n",
       "      <td>2.614970</td>\n",
       "      <td>-4.698670</td>\n",
       "      <td>0.100502</td>\n",
       "      <td>-0.180584</td>\n",
       "      <td>0.978411</td>\n",
       "    </tr>\n",
       "    <tr>\n",
       "      <th>1</th>\n",
       "      <td>2.345859</td>\n",
       "      <td>2.589236</td>\n",
       "      <td>-4.138369</td>\n",
       "      <td>0.098932</td>\n",
       "      <td>-0.210139</td>\n",
       "      <td>0.984325</td>\n",
       "    </tr>\n",
       "  </tbody>\n",
       "</table>\n",
       "</div>"
      ],
      "text/plain": [
       "          X         Y        dX        dY        dZ         E\n",
       "0  2.359750  2.614970 -4.698670  0.100502 -0.180584  0.978411\n",
       "1  2.345859  2.589236 -4.138369  0.098932 -0.210139  0.984325"
      ]
     },
     "execution_count": 32,
     "metadata": {},
     "output_type": "execute_result"
    }
   ],
   "source": [
    "df=pd.DataFrame(np.stack((orginal_2,result_2)), columns=['X', 'Y', 'dX', 'dY', 'dZ', 'E'])\n",
    "df"
   ]
  },
  {
   "cell_type": "code",
   "execution_count": 33,
   "metadata": {
    "execution": {
     "iopub.execute_input": "2022-03-06T19:20:54.222887Z",
     "iopub.status.busy": "2022-03-06T19:20:54.222315Z",
     "iopub.status.idle": "2022-03-06T19:20:54.224932Z",
     "shell.execute_reply": "2022-03-06T19:20:54.224502Z"
    }
   },
   "outputs": [],
   "source": [
    "# encoded_features=[]\n",
    "# model.eval()\n",
    "# for index, feature in enumerate(train_loader):\n",
    "#     with torch.no_grad():\n",
    "#         tmp_encoded_features, z_mean, z_log_var, decoded =model(feature.to(device=DEVICE))\n",
    "#         encoded_features.extend(tmp_encoded_features.cpu().detach().numpy())\n",
    "# encoded_features=np.asarray(encoded_features)\n",
    "\n",
    "# print(encoded_features.shape)"
   ]
  },
  {
   "cell_type": "code",
   "execution_count": 34,
   "metadata": {
    "execution": {
     "iopub.execute_input": "2022-03-06T19:20:54.228285Z",
     "iopub.status.busy": "2022-03-06T19:20:54.227753Z",
     "iopub.status.idle": "2022-03-06T19:20:54.230424Z",
     "shell.execute_reply": "2022-03-06T19:20:54.230020Z"
    }
   },
   "outputs": [],
   "source": [
    "# #PRZESTRZEŃ UKRYTA VAE\n",
    "# colors = ['r']\n",
    "# markers = ['s']\n",
    "\n",
    "# fig=plt.figure()\n",
    "# ax=fig.add_subplot(projection='3d')\n",
    "# for c, m in zip(colors, markers):\n",
    "#     ax.scatter(encoded_features[:,0],encoded_features[:,1],encoded_features[:,2],marker=m,c=c)\n",
    "\n",
    "# ax.set_xlabel('VAE 1')\n",
    "# ax.set_ylabel('VAE 2')\n",
    "# ax.set_zlabel('VAE 3')\n",
    "\n",
    "# plt.show()"
   ]
  }
 ],
 "metadata": {
  "interpreter": {
   "hash": "94e50cba98016e2c68fceb7b9fa13391593fa96fd78bad5a436d2ca9f0548949"
  },
  "kernelspec": {
   "display_name": "Python 3.8.12 64-bit ('pytorch_wine_env': conda)",
   "language": "python",
   "name": "python3"
  },
  "language_info": {
   "codemirror_mode": {
    "name": "ipython",
    "version": 3
   },
   "file_extension": ".py",
   "mimetype": "text/x-python",
   "name": "python",
   "nbconvert_exporter": "python",
   "pygments_lexer": "ipython3",
   "version": "3.9.7"
  }
 },
 "nbformat": 4,
 "nbformat_minor": 2
}
