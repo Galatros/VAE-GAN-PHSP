{
 "cells": [
  {
   "cell_type": "code",
   "execution_count": 1,
   "metadata": {
    "execution": {
     "iopub.execute_input": "2022-03-06T00:12:16.276593Z",
     "iopub.status.busy": "2022-03-06T00:12:16.275980Z",
     "iopub.status.idle": "2022-03-06T00:12:17.625093Z",
     "shell.execute_reply": "2022-03-06T00:12:17.624551Z"
    }
   },
   "outputs": [],
   "source": [
    "from data_helper import get_dataloaders_and_standarscaler_photons, get_dataloaders_and_standarscaler_photons_from_numpy\n",
    "from train_helper import train_vae, train_vae_mmd\n",
    "from plot_helper import plot_training_loss\n",
    "from models_architecture_helper import VAE_Linear_0603\n",
    "\n",
    "import copy\n",
    "\n",
    "import numpy as np\n",
    "import pandas as pd\n",
    "import matplotlib.pyplot as plt\n",
    "import seaborn as sns\n",
    "\n",
    "import torch\n",
    "import torch.nn as nn"
   ]
  },
  {
   "cell_type": "code",
   "execution_count": 2,
   "metadata": {
    "execution": {
     "iopub.execute_input": "2022-03-06T00:12:17.628805Z",
     "iopub.status.busy": "2022-03-06T00:12:17.628277Z",
     "iopub.status.idle": "2022-03-06T00:12:17.630542Z",
     "shell.execute_reply": "2022-03-06T00:12:17.630129Z"
    }
   },
   "outputs": [],
   "source": [
    "#TODO czy zapisywać Logging interval ? \n",
    "#TODO i czy zapisywać całkowity number of epochs gdyby we wczytanym modelu robić kolejnego checkpointa"
   ]
  },
  {
   "cell_type": "code",
   "execution_count": 3,
   "metadata": {
    "execution": {
     "iopub.execute_input": "2022-03-06T00:12:17.635006Z",
     "iopub.status.busy": "2022-03-06T00:12:17.634475Z",
     "iopub.status.idle": "2022-03-06T00:12:17.636847Z",
     "shell.execute_reply": "2022-03-06T00:12:17.636408Z"
    }
   },
   "outputs": [],
   "source": [
    "# Hyperparameters\n",
    "RANDOM_SEED = 123\n",
    "LEARNING_RATE = 0.0005\n",
    "BATCH_SIZE = 10000\n",
    "NUM_EPOCHS = 30\n",
    "LOGGING_INTERVAL=300\n",
    "RECONSTRUCTION_TERM_WEIGHT=1\n",
    "\n",
    "PLOT_FRACTION=0.0125\n",
    "TEST_FRACTION=0.4\n",
    "VALIDATION_FRACTION=0.0\n",
    "SAVE_MODEL_FILE='checkpoint.pth'\n",
    "NUM_WORKERS=0\n",
    "path='/data1/dose-3d-generative/data/training-data/DISP_0.5_ANGLE_0/NUMPY/a1_10_7.npy'"
   ]
  },
  {
   "cell_type": "code",
   "execution_count": 4,
   "metadata": {
    "execution": {
     "iopub.execute_input": "2022-03-06T00:12:17.661889Z",
     "iopub.status.busy": "2022-03-06T00:12:17.638787Z",
     "iopub.status.idle": "2022-03-06T00:12:17.674055Z",
     "shell.execute_reply": "2022-03-06T00:12:17.673599Z"
    }
   },
   "outputs": [
    {
     "name": "stdout",
     "output_type": "stream",
     "text": [
      "Device: cuda:0\n"
     ]
    }
   ],
   "source": [
    "CUDA_DEVICE_NUM=0\n",
    "DEVICE = torch.device(f'cuda:{CUDA_DEVICE_NUM}' if torch.cuda.is_available() else 'cpu')\n",
    "print('Device:', DEVICE)"
   ]
  },
  {
   "cell_type": "code",
   "execution_count": 5,
   "metadata": {
    "execution": {
     "iopub.execute_input": "2022-03-06T00:12:17.679461Z",
     "iopub.status.busy": "2022-03-06T00:12:17.678922Z",
     "iopub.status.idle": "2022-03-06T00:12:17.681730Z",
     "shell.execute_reply": "2022-03-06T00:12:17.682125Z"
    }
   },
   "outputs": [
    {
     "name": "stdout",
     "output_type": "stream",
     "text": [
      "0\n",
      "0\n",
      "Quadro RTX 8000\n"
     ]
    }
   ],
   "source": [
    "print(torch.cuda.memory_allocated(device=DEVICE))\n",
    "print(torch.cuda.memory_reserved(device=DEVICE))\n",
    "print(torch.cuda.get_device_name(0))"
   ]
  },
  {
   "cell_type": "code",
   "execution_count": 6,
   "metadata": {
    "execution": {
     "iopub.execute_input": "2022-03-06T00:12:17.686576Z",
     "iopub.status.busy": "2022-03-06T00:12:17.686038Z",
     "iopub.status.idle": "2022-03-06T00:12:17.894110Z",
     "shell.execute_reply": "2022-03-06T00:12:17.894541Z"
    }
   },
   "outputs": [
    {
     "name": "stdout",
     "output_type": "stream",
     "text": [
      "(10000001, 6)\n"
     ]
    }
   ],
   "source": [
    "#ODCZYTANIE DANYCH Z PLIKU 'photons.npy'\n",
    "photons = np.load(path)\n",
    "X = np.zeros((10000001, 6),dtype=np.float32)\n",
    "np.copyto(X,photons[:,:-1])\n",
    "print(X.shape)"
   ]
  },
  {
   "cell_type": "code",
   "execution_count": 7,
   "metadata": {
    "execution": {
     "iopub.execute_input": "2022-03-06T00:12:17.899560Z",
     "iopub.status.busy": "2022-03-06T00:12:17.899046Z",
     "iopub.status.idle": "2022-03-06T00:12:18.327476Z",
     "shell.execute_reply": "2022-03-06T00:12:18.327038Z"
    }
   },
   "outputs": [
    {
     "name": "stdout",
     "output_type": "stream",
     "text": [
      "20000002\n"
     ]
    }
   ],
   "source": [
    "X_reflection=copy.deepcopy(X)\n",
    "X_reflection[:,2]=-X_reflection[:,2]\n",
    "X_reflection[:,4]=-X_reflection[:,4]\n",
    "\n",
    "X_sum=np.concatenate((X,X_reflection),axis=0)\n",
    "print(len(X_sum))"
   ]
  },
  {
   "cell_type": "code",
   "execution_count": 8,
   "metadata": {
    "execution": {
     "iopub.execute_input": "2022-03-06T00:12:18.334267Z",
     "iopub.status.busy": "2022-03-06T00:12:18.333727Z",
     "iopub.status.idle": "2022-03-06T00:12:18.344727Z",
     "shell.execute_reply": "2022-03-06T00:12:18.345113Z"
    }
   },
   "outputs": [
    {
     "data": {
      "text/html": [
       "<div>\n",
       "<style scoped>\n",
       "    .dataframe tbody tr th:only-of-type {\n",
       "        vertical-align: middle;\n",
       "    }\n",
       "\n",
       "    .dataframe tbody tr th {\n",
       "        vertical-align: top;\n",
       "    }\n",
       "\n",
       "    .dataframe thead th {\n",
       "        text-align: right;\n",
       "    }\n",
       "</style>\n",
       "<table border=\"1\" class=\"dataframe\">\n",
       "  <thead>\n",
       "    <tr style=\"text-align: right;\">\n",
       "      <th></th>\n",
       "      <th>X</th>\n",
       "      <th>Y</th>\n",
       "      <th>dX</th>\n",
       "      <th>dY</th>\n",
       "      <th>dZ</th>\n",
       "      <th>E</th>\n",
       "    </tr>\n",
       "  </thead>\n",
       "  <tbody>\n",
       "    <tr>\n",
       "      <th>0</th>\n",
       "      <td>0.77526</td>\n",
       "      <td>-0.50856</td>\n",
       "      <td>-4.60704</td>\n",
       "      <td>-0.018979</td>\n",
       "      <td>-0.177872</td>\n",
       "      <td>0.983871</td>\n",
       "    </tr>\n",
       "    <tr>\n",
       "      <th>1</th>\n",
       "      <td>0.77526</td>\n",
       "      <td>-0.77813</td>\n",
       "      <td>-5.10840</td>\n",
       "      <td>-0.029292</td>\n",
       "      <td>-0.196501</td>\n",
       "      <td>0.980066</td>\n",
       "    </tr>\n",
       "    <tr>\n",
       "      <th>2</th>\n",
       "      <td>0.45010</td>\n",
       "      <td>-3.74409</td>\n",
       "      <td>-1.33591</td>\n",
       "      <td>-0.145330</td>\n",
       "      <td>-0.051869</td>\n",
       "      <td>0.988023</td>\n",
       "    </tr>\n",
       "    <tr>\n",
       "      <th>3</th>\n",
       "      <td>0.39630</td>\n",
       "      <td>-2.50916</td>\n",
       "      <td>-3.30103</td>\n",
       "      <td>-0.274393</td>\n",
       "      <td>-0.273584</td>\n",
       "      <td>0.921879</td>\n",
       "    </tr>\n",
       "    <tr>\n",
       "      <th>4</th>\n",
       "      <td>0.45010</td>\n",
       "      <td>-4.79711</td>\n",
       "      <td>-1.70242</td>\n",
       "      <td>-0.184824</td>\n",
       "      <td>-0.065606</td>\n",
       "      <td>0.980579</td>\n",
       "    </tr>\n",
       "  </tbody>\n",
       "</table>\n",
       "</div>"
      ],
      "text/plain": [
       "         X        Y       dX        dY        dZ         E\n",
       "0  0.77526 -0.50856 -4.60704 -0.018979 -0.177872  0.983871\n",
       "1  0.77526 -0.77813 -5.10840 -0.029292 -0.196501  0.980066\n",
       "2  0.45010 -3.74409 -1.33591 -0.145330 -0.051869  0.988023\n",
       "3  0.39630 -2.50916 -3.30103 -0.274393 -0.273584  0.921879\n",
       "4  0.45010 -4.79711 -1.70242 -0.184824 -0.065606  0.980579"
      ]
     },
     "execution_count": 8,
     "metadata": {},
     "output_type": "execute_result"
    }
   ],
   "source": [
    "df_data = pd.DataFrame(X_sum, columns = ['X', 'Y', 'dX', 'dY', 'dZ', 'E'])\n",
    "df_data.head()#zawsze warto rzucić okiem na dane"
   ]
  },
  {
   "cell_type": "code",
   "execution_count": 9,
   "metadata": {
    "execution": {
     "iopub.execute_input": "2022-03-06T00:12:18.348763Z",
     "iopub.status.busy": "2022-03-06T00:12:18.348255Z",
     "iopub.status.idle": "2022-03-06T00:12:18.550743Z",
     "shell.execute_reply": "2022-03-06T00:12:18.550250Z"
    }
   },
   "outputs": [],
   "source": [
    "tmp_check=df_data.to_numpy(dtype=np.float32)\n",
    "orginal_check=copy.deepcopy(tmp_check)"
   ]
  },
  {
   "cell_type": "code",
   "execution_count": 10,
   "metadata": {
    "execution": {
     "iopub.execute_input": "2022-03-06T00:12:18.590873Z",
     "iopub.status.busy": "2022-03-06T00:12:18.573638Z",
     "iopub.status.idle": "2022-03-06T00:12:23.234480Z",
     "shell.execute_reply": "2022-03-06T00:12:23.234896Z"
    }
   },
   "outputs": [
    {
     "data": {
      "image/png": "[encoded data removed]",
      "text/plain": [
       "<Figure size 1152x576 with 6 Axes>"
      ]
     },
     "metadata": {
      "needs_background": "light"
     },
     "output_type": "display_data"
    }
   ],
   "source": [
    "fig, axs = plt.subplots(2, 3)\n",
    "fig.set_size_inches(16,8)\n",
    "bins=100\n",
    "axs[0, 0].hist(orginal_check[:,0],bins=bins, label ='orginal',alpha=0.5, density=True)\n",
    "axs[0, 0].set_title('X')\n",
    "axs[0, 1].hist(orginal_check[:,1],bins=bins, label ='orginal',alpha=0.5, density=True)\n",
    "axs[0, 1].set_title('Y')\n",
    "axs[0, 2].hist(orginal_check[:,2],bins=bins, label ='orginal',alpha=0.5, density=True)\n",
    "axs[0, 2].set_title('dX')\n",
    "axs[1, 0].hist(orginal_check[:,3],bins=bins, label ='orginal',alpha=0.5, density=True)\n",
    "axs[1, 0].set_title('dY')\n",
    "axs[1, 1].hist(orginal_check[:,4],bins=bins, label ='orginal',alpha=0.5, density=True)\n",
    "axs[1, 1].set_title('dZ')\n",
    "axs[1, 2].hist(orginal_check[:,5],bins=bins, label ='orginal',alpha=0.5, density=True)\n",
    "axs[1, 2].set_title('E')\n",
    "fig.legend()\n",
    "\n",
    "fig.tight_layout()"
   ]
  },
  {
   "cell_type": "code",
   "execution_count": 11,
   "metadata": {
    "execution": {
     "iopub.execute_input": "2022-03-06T00:12:23.241108Z",
     "iopub.status.busy": "2022-03-06T00:12:23.240605Z",
     "iopub.status.idle": "2022-03-06T00:12:28.171929Z",
     "shell.execute_reply": "2022-03-06T00:12:28.171472Z"
    }
   },
   "outputs": [],
   "source": [
    "train_loader, valid_loader, test_loader, stdcs = get_dataloaders_and_standarscaler_photons_from_numpy(tmp_X=X_sum,\n",
    "    batch_size=BATCH_SIZE, \n",
    "    num_workers=NUM_WORKERS,\n",
    "    test_fraction=TEST_FRACTION, \n",
    "    validation_fraction=VALIDATION_FRACTION)"
   ]
  },
  {
   "cell_type": "code",
   "execution_count": 12,
   "metadata": {
    "execution": {
     "iopub.execute_input": "2022-03-06T00:12:28.177556Z",
     "iopub.status.busy": "2022-03-06T00:12:28.177021Z",
     "iopub.status.idle": "2022-03-06T00:12:31.108757Z",
     "shell.execute_reply": "2022-03-06T00:12:31.108249Z"
    }
   },
   "outputs": [],
   "source": [
    "model = VAE_Linear_0603()\n",
    "model.to(DEVICE)\n",
    "\n",
    "#criterion = nn.MSELoss()#FUNKCJA STRATY\n",
    "optimizer = torch.optim.Adam(model.parameters(),\n",
    "                             lr=LEARNING_RATE, \n",
    "                             weight_decay=1e-5)"
   ]
  },
  {
   "cell_type": "code",
   "execution_count": 13,
   "metadata": {
    "execution": {
     "iopub.execute_input": "2022-03-06T00:12:31.116556Z",
     "iopub.status.busy": "2022-03-06T00:12:31.113603Z",
     "iopub.status.idle": "2022-03-06T10:19:00.010908Z",
     "shell.execute_reply": "2022-03-06T10:19:00.011326Z"
    }
   },
   "outputs": [
    {
     "name": "stdout",
     "output_type": "stream",
     "text": [
      "Epoch: 001/030 | Batch 0000/1200 | Loss: 9.1465\n",
      "Epoch: 001/030 | Batch 0300/1200 | Loss: 6.0279\n",
      "Epoch: 001/030 | Batch 0600/1200 | Loss: 4.9172\n",
      "Epoch: 001/030 | Batch 0900/1200 | Loss: 4.1778\n",
      "***Epoch: 001/030 | Loss: 2.733\n",
      "Test***Epoch: 001/030 | Loss: 2.738\n",
      "Time elapsed: 20.06 min\n",
      "Epoch: 002/030 | Batch 0000/1200 | Loss: 2.7441\n",
      "Epoch: 002/030 | Batch 0300/1200 | Loss: 2.6499\n",
      "Epoch: 002/030 | Batch 0600/1200 | Loss: 2.3601\n",
      "Epoch: 002/030 | Batch 0900/1200 | Loss: 2.0944\n",
      "***Epoch: 002/030 | Loss: 1.536\n",
      "Test***Epoch: 002/030 | Loss: 1.537\n",
      "Time elapsed: 40.33 min\n",
      "Epoch: 003/030 | Batch 0000/1200 | Loss: 1.6201\n",
      "Epoch: 003/030 | Batch 0300/1200 | Loss: 1.4769\n",
      "Epoch: 003/030 | Batch 0600/1200 | Loss: 1.4339\n",
      "Epoch: 003/030 | Batch 0900/1200 | Loss: 1.2228\n",
      "***Epoch: 003/030 | Loss: 0.929\n",
      "Test***Epoch: 003/030 | Loss: 0.929\n",
      "Time elapsed: 60.67 min\n",
      "Epoch: 004/030 | Batch 0000/1200 | Loss: 0.9889\n",
      "Epoch: 004/030 | Batch 0300/1200 | Loss: 0.6170\n",
      "Epoch: 004/030 | Batch 0600/1200 | Loss: 0.5270\n",
      "Epoch: 004/030 | Batch 0900/1200 | Loss: 0.4830\n",
      "***Epoch: 004/030 | Loss: 0.483\n",
      "Test***Epoch: 004/030 | Loss: 0.485\n",
      "Time elapsed: 80.97 min\n",
      "Epoch: 005/030 | Batch 0000/1200 | Loss: 0.4745\n",
      "Epoch: 005/030 | Batch 0300/1200 | Loss: 0.4752\n",
      "Epoch: 005/030 | Batch 0600/1200 | Loss: 0.4713\n",
      "Epoch: 005/030 | Batch 0900/1200 | Loss: 0.4895\n",
      "***Epoch: 005/030 | Loss: 0.472\n",
      "Test***Epoch: 005/030 | Loss: 0.474\n",
      "Time elapsed: 101.26 min\n",
      "Epoch: 006/030 | Batch 0000/1200 | Loss: 0.4657\n",
      "Epoch: 006/030 | Batch 0300/1200 | Loss: 0.5035\n",
      "Epoch: 006/030 | Batch 0600/1200 | Loss: 0.4987\n",
      "Epoch: 006/030 | Batch 0900/1200 | Loss: 0.4444\n",
      "***Epoch: 006/030 | Loss: 0.468\n",
      "Test***Epoch: 006/030 | Loss: 0.470\n",
      "Time elapsed: 121.56 min\n",
      "Epoch: 007/030 | Batch 0000/1200 | Loss: 0.4758\n",
      "Epoch: 007/030 | Batch 0300/1200 | Loss: 0.4731\n",
      "Epoch: 007/030 | Batch 0600/1200 | Loss: 0.4557\n",
      "Epoch: 007/030 | Batch 0900/1200 | Loss: 0.4647\n",
      "***Epoch: 007/030 | Loss: 0.467\n",
      "Test***Epoch: 007/030 | Loss: 0.469\n",
      "Time elapsed: 141.84 min\n",
      "Epoch: 008/030 | Batch 0000/1200 | Loss: 0.4918\n",
      "Epoch: 008/030 | Batch 0300/1200 | Loss: 0.4669\n",
      "Epoch: 008/030 | Batch 0600/1200 | Loss: 0.4383\n",
      "Epoch: 008/030 | Batch 0900/1200 | Loss: 0.4597\n",
      "***Epoch: 008/030 | Loss: 0.467\n",
      "Test***Epoch: 008/030 | Loss: 0.469\n",
      "Time elapsed: 162.12 min\n",
      "Epoch: 009/030 | Batch 0000/1200 | Loss: 0.4557\n",
      "Epoch: 009/030 | Batch 0300/1200 | Loss: 0.4952\n",
      "Epoch: 009/030 | Batch 0600/1200 | Loss: 0.4570\n",
      "Epoch: 009/030 | Batch 0900/1200 | Loss: 0.4520\n",
      "***Epoch: 009/030 | Loss: 0.467\n",
      "Test***Epoch: 009/030 | Loss: 0.469\n",
      "Time elapsed: 182.40 min\n",
      "Epoch: 010/030 | Batch 0000/1200 | Loss: 0.4492\n",
      "Epoch: 010/030 | Batch 0300/1200 | Loss: 0.4483\n",
      "Epoch: 010/030 | Batch 0600/1200 | Loss: 0.4790\n",
      "Epoch: 010/030 | Batch 0900/1200 | Loss: 0.4622\n",
      "***Epoch: 010/030 | Loss: 0.467\n",
      "Test***Epoch: 010/030 | Loss: 0.468\n",
      "Time elapsed: 202.71 min\n",
      "Epoch: 011/030 | Batch 0000/1200 | Loss: 0.4627\n",
      "Epoch: 011/030 | Batch 0300/1200 | Loss: 0.4385\n",
      "Epoch: 011/030 | Batch 0600/1200 | Loss: 0.4833\n",
      "Epoch: 011/030 | Batch 0900/1200 | Loss: 0.4330\n",
      "***Epoch: 011/030 | Loss: 0.467\n",
      "Test***Epoch: 011/030 | Loss: 0.468\n",
      "Time elapsed: 222.95 min\n",
      "Epoch: 012/030 | Batch 0000/1200 | Loss: 0.4579\n",
      "Epoch: 012/030 | Batch 0300/1200 | Loss: 0.4672\n",
      "Epoch: 012/030 | Batch 0600/1200 | Loss: 0.4584\n",
      "Epoch: 012/030 | Batch 0900/1200 | Loss: 0.5017\n",
      "***Epoch: 012/030 | Loss: 0.467\n",
      "Test***Epoch: 012/030 | Loss: 0.468\n",
      "Time elapsed: 243.24 min\n",
      "Epoch: 013/030 | Batch 0000/1200 | Loss: 0.5016\n",
      "Epoch: 013/030 | Batch 0300/1200 | Loss: 0.5005\n",
      "Epoch: 013/030 | Batch 0600/1200 | Loss: 0.4535\n",
      "Epoch: 013/030 | Batch 0900/1200 | Loss: 0.4658\n",
      "***Epoch: 013/030 | Loss: 0.466\n",
      "Test***Epoch: 013/030 | Loss: 0.468\n",
      "Time elapsed: 263.49 min\n",
      "Epoch: 014/030 | Batch 0000/1200 | Loss: 0.4841\n",
      "Epoch: 014/030 | Batch 0300/1200 | Loss: 0.4893\n",
      "Epoch: 014/030 | Batch 0600/1200 | Loss: 0.4417\n",
      "Epoch: 014/030 | Batch 0900/1200 | Loss: 0.5061\n",
      "***Epoch: 014/030 | Loss: 0.467\n",
      "Test***Epoch: 014/030 | Loss: 0.468\n",
      "Time elapsed: 283.72 min\n",
      "Epoch: 015/030 | Batch 0000/1200 | Loss: 0.4781\n",
      "Epoch: 015/030 | Batch 0300/1200 | Loss: 0.5151\n",
      "Epoch: 015/030 | Batch 0600/1200 | Loss: 0.4764\n",
      "Epoch: 015/030 | Batch 0900/1200 | Loss: 0.4351\n",
      "***Epoch: 015/030 | Loss: 0.466\n",
      "Test***Epoch: 015/030 | Loss: 0.468\n",
      "Time elapsed: 303.91 min\n",
      "Epoch: 016/030 | Batch 0000/1200 | Loss: 0.4738\n",
      "Epoch: 016/030 | Batch 0300/1200 | Loss: 0.4858\n",
      "Epoch: 016/030 | Batch 0600/1200 | Loss: 0.4980\n",
      "Epoch: 016/030 | Batch 0900/1200 | Loss: 0.4068\n",
      "***Epoch: 016/030 | Loss: 0.466\n",
      "Test***Epoch: 016/030 | Loss: 0.468\n",
      "Time elapsed: 324.11 min\n",
      "Epoch: 017/030 | Batch 0000/1200 | Loss: 0.4346\n",
      "Epoch: 017/030 | Batch 0300/1200 | Loss: 0.4847\n",
      "Epoch: 017/030 | Batch 0600/1200 | Loss: 0.4535\n",
      "Epoch: 017/030 | Batch 0900/1200 | Loss: 0.4653\n",
      "***Epoch: 017/030 | Loss: 0.466\n",
      "Test***Epoch: 017/030 | Loss: 0.468\n",
      "Time elapsed: 344.30 min\n",
      "Epoch: 018/030 | Batch 0000/1200 | Loss: 0.4705\n",
      "Epoch: 018/030 | Batch 0300/1200 | Loss: 0.4663\n",
      "Epoch: 018/030 | Batch 0600/1200 | Loss: 0.4629\n",
      "Epoch: 018/030 | Batch 0900/1200 | Loss: 0.4692\n",
      "***Epoch: 018/030 | Loss: 0.466\n",
      "Test***Epoch: 018/030 | Loss: 0.468\n",
      "Time elapsed: 364.48 min\n",
      "Epoch: 019/030 | Batch 0000/1200 | Loss: 0.5031\n",
      "Epoch: 019/030 | Batch 0300/1200 | Loss: 0.4665\n",
      "Epoch: 019/030 | Batch 0600/1200 | Loss: 0.4839\n",
      "Epoch: 019/030 | Batch 0900/1200 | Loss: 0.4914\n",
      "***Epoch: 019/030 | Loss: 0.466\n",
      "Test***Epoch: 019/030 | Loss: 0.468\n",
      "Time elapsed: 384.61 min\n",
      "Epoch: 020/030 | Batch 0000/1200 | Loss: 0.4152\n",
      "Epoch: 020/030 | Batch 0300/1200 | Loss: 0.4528\n",
      "Epoch: 020/030 | Batch 0600/1200 | Loss: 0.4386\n",
      "Epoch: 020/030 | Batch 0900/1200 | Loss: 0.4287\n",
      "***Epoch: 020/030 | Loss: 0.355\n",
      "Test***Epoch: 020/030 | Loss: 0.356\n",
      "Time elapsed: 404.75 min\n",
      "Epoch: 021/030 | Batch 0000/1200 | Loss: 0.3603\n",
      "Epoch: 021/030 | Batch 0300/1200 | Loss: 0.3063\n",
      "Epoch: 021/030 | Batch 0600/1200 | Loss: 0.2815\n",
      "Epoch: 021/030 | Batch 0900/1200 | Loss: 0.3077\n",
      "***Epoch: 021/030 | Loss: 0.269\n",
      "Test***Epoch: 021/030 | Loss: 0.270\n",
      "Time elapsed: 424.91 min\n",
      "Epoch: 022/030 | Batch 0000/1200 | Loss: 0.2621\n",
      "Epoch: 022/030 | Batch 0300/1200 | Loss: 0.2953\n",
      "Epoch: 022/030 | Batch 0600/1200 | Loss: 0.2483\n",
      "Epoch: 022/030 | Batch 0900/1200 | Loss: 0.2465\n",
      "***Epoch: 022/030 | Loss: 0.258\n",
      "Test***Epoch: 022/030 | Loss: 0.259\n",
      "Time elapsed: 445.06 min\n",
      "Epoch: 023/030 | Batch 0000/1200 | Loss: 0.2666\n",
      "Epoch: 023/030 | Batch 0300/1200 | Loss: 0.2521\n",
      "Epoch: 023/030 | Batch 0600/1200 | Loss: 0.2493\n",
      "Epoch: 023/030 | Batch 0900/1200 | Loss: 0.2595\n",
      "***Epoch: 023/030 | Loss: 0.252\n",
      "Test***Epoch: 023/030 | Loss: 0.253\n",
      "Time elapsed: 465.22 min\n",
      "Epoch: 024/030 | Batch 0000/1200 | Loss: 0.2366\n",
      "Epoch: 024/030 | Batch 0300/1200 | Loss: 0.2671\n",
      "Epoch: 024/030 | Batch 0600/1200 | Loss: 0.2327\n",
      "Epoch: 024/030 | Batch 0900/1200 | Loss: 0.2318\n",
      "***Epoch: 024/030 | Loss: 0.249\n",
      "Test***Epoch: 024/030 | Loss: 0.250\n",
      "Time elapsed: 485.35 min\n",
      "Epoch: 025/030 | Batch 0000/1200 | Loss: 0.2538\n",
      "Epoch: 025/030 | Batch 0300/1200 | Loss: 0.2540\n",
      "Epoch: 025/030 | Batch 0600/1200 | Loss: 0.2704\n",
      "Epoch: 025/030 | Batch 0900/1200 | Loss: 0.2340\n",
      "***Epoch: 025/030 | Loss: 0.248\n",
      "Test***Epoch: 025/030 | Loss: 0.249\n",
      "Time elapsed: 505.52 min\n",
      "Epoch: 026/030 | Batch 0000/1200 | Loss: 0.2546\n",
      "Epoch: 026/030 | Batch 0300/1200 | Loss: 0.2589\n",
      "Epoch: 026/030 | Batch 0600/1200 | Loss: 0.2589\n",
      "Epoch: 026/030 | Batch 0900/1200 | Loss: 0.2645\n",
      "***Epoch: 026/030 | Loss: 0.247\n",
      "Test***Epoch: 026/030 | Loss: 0.248\n",
      "Time elapsed: 525.69 min\n",
      "Epoch: 027/030 | Batch 0000/1200 | Loss: 0.2406\n",
      "Epoch: 027/030 | Batch 0300/1200 | Loss: 0.2574\n",
      "Epoch: 027/030 | Batch 0600/1200 | Loss: 0.2541\n",
      "Epoch: 027/030 | Batch 0900/1200 | Loss: 0.2561\n",
      "***Epoch: 027/030 | Loss: 0.247\n",
      "Test***Epoch: 027/030 | Loss: 0.248\n",
      "Time elapsed: 545.84 min\n",
      "Epoch: 028/030 | Batch 0000/1200 | Loss: 0.2532\n",
      "Epoch: 028/030 | Batch 0300/1200 | Loss: 0.2583\n",
      "Epoch: 028/030 | Batch 0600/1200 | Loss: 0.2581\n",
      "Epoch: 028/030 | Batch 0900/1200 | Loss: 0.2513\n",
      "***Epoch: 028/030 | Loss: 0.246\n",
      "Test***Epoch: 028/030 | Loss: 0.247\n",
      "Time elapsed: 565.99 min\n",
      "Epoch: 029/030 | Batch 0000/1200 | Loss: 0.2434\n",
      "Epoch: 029/030 | Batch 0300/1200 | Loss: 0.2174\n",
      "Epoch: 029/030 | Batch 0600/1200 | Loss: 0.2353\n",
      "Epoch: 029/030 | Batch 0900/1200 | Loss: 0.2666\n",
      "***Epoch: 029/030 | Loss: 0.246\n",
      "Test***Epoch: 029/030 | Loss: 0.247\n",
      "Time elapsed: 586.33 min\n",
      "Epoch: 030/030 | Batch 0000/1200 | Loss: 0.2530\n",
      "Epoch: 030/030 | Batch 0300/1200 | Loss: 0.2539\n",
      "Epoch: 030/030 | Batch 0600/1200 | Loss: 0.2644\n",
      "Epoch: 030/030 | Batch 0900/1200 | Loss: 0.2313\n",
      "***Epoch: 030/030 | Loss: 0.246\n",
      "Test***Epoch: 030/030 | Loss: 0.247\n",
      "Time elapsed: 606.48 min\n",
      "Total Training Time: 606.48 min\n"
     ]
    }
   ],
   "source": [
    "log_dict=train_vae_mmd(num_epochs=NUM_EPOCHS, device=DEVICE, model=model,optimizer=optimizer,train_loader=train_loader,loss_fn=None, test_loader=test_loader, logging_interval=LOGGING_INTERVAL, reconstruction_term_weight=RECONSTRUCTION_TERM_WEIGHT, save_model_file=SAVE_MODEL_FILE)"
   ]
  },
  {
   "cell_type": "code",
   "execution_count": 14,
   "metadata": {
    "execution": {
     "iopub.execute_input": "2022-03-06T10:19:00.041760Z",
     "iopub.status.busy": "2022-03-06T10:19:00.041231Z",
     "iopub.status.idle": "2022-03-06T10:19:00.914035Z",
     "shell.execute_reply": "2022-03-06T10:19:00.914437Z"
    }
   },
   "outputs": [
    {
     "data": {
      "image/png": "[encoded data removed]",
      "text/plain": [
       "<Figure size 432x288 with 2 Axes>"
      ]
     },
     "metadata": {
      "needs_background": "light"
     },
     "output_type": "display_data"
    },
    {
     "data": {
      "image/png": "[encoded data removed]",
      "text/plain": [
       "<Figure size 432x288 with 2 Axes>"
      ]
     },
     "metadata": {
      "needs_background": "light"
     },
     "output_type": "display_data"
    },
    {
     "data": {
      "image/png": "[encoded data removed]",
      "text/plain": [
       "<Figure size 432x288 with 2 Axes>"
      ]
     },
     "metadata": {
      "needs_background": "light"
     },
     "output_type": "display_data"
    }
   ],
   "source": [
    "plot_training_loss(log_dict['train_reconstruction_loss_per_batch'], NUM_EPOCHS, custom_label=\" (reconstruction)\")\n",
    "plot_training_loss(log_dict['train_kl_loss_per_batch'], NUM_EPOCHS, custom_label=\" (KL)\")\n",
    "plot_training_loss(log_dict['train_combined_loss_per_batch'], NUM_EPOCHS, custom_label=\" (combined)\")\n",
    "plt.show()\n",
    "\n"
   ]
  },
  {
   "cell_type": "code",
   "execution_count": 15,
   "metadata": {
    "execution": {
     "iopub.execute_input": "2022-03-06T10:19:00.955022Z",
     "iopub.status.busy": "2022-03-06T10:19:00.942186Z",
     "iopub.status.idle": "2022-03-06T10:19:01.072301Z",
     "shell.execute_reply": "2022-03-06T10:19:01.072726Z"
    }
   },
   "outputs": [
    {
     "data": {
      "image/png": "[encoded data removed]",
      "text/plain": [
       "<Figure size 432x288 with 1 Axes>"
      ]
     },
     "metadata": {
      "needs_background": "light"
     },
     "output_type": "display_data"
    }
   ],
   "source": [
    "plt.plot(range(len(log_dict['train_combined_loss_per_epoch'])), (log_dict['train_combined_loss_per_epoch']), label='Train Epoch Loss')\n",
    "plt.plot(range(len(log_dict['test_combined_loss_per_epoch'])), (log_dict['test_combined_loss_per_epoch']), label='Test Epoch Loss')\n",
    "plt.legend()\n",
    "plt.xlabel('Epochs')\n",
    "plt.ylabel('Loss')\n",
    "#plt.ylim(0.15,0.3)\n",
    "plt.tight_layout()"
   ]
  },
  {
   "cell_type": "code",
   "execution_count": 16,
   "metadata": {
    "execution": {
     "iopub.execute_input": "2022-03-06T10:19:01.077782Z",
     "iopub.status.busy": "2022-03-06T10:19:01.077271Z",
     "iopub.status.idle": "2022-03-06T10:19:05.612917Z",
     "shell.execute_reply": "2022-03-06T10:19:05.613329Z"
    }
   },
   "outputs": [],
   "source": [
    "tmp=df_data.to_numpy(dtype=np.float32)\n",
    "orginal=copy.deepcopy(tmp)\n",
    "tmp=stdcs.transform(tmp)\n",
    "tmp=torch.from_numpy(tmp)\n",
    "#print(tmp)\n",
    "model.eval()\n",
    "with torch.no_grad():\n",
    "    result_encoded_features, z_mean, z_log_var, result_decoded_features =model(tmp.to(device=DEVICE))\n",
    "result=result_decoded_features.cpu().detach().numpy()\n",
    "result=stdcs.inverse_transform(result)"
   ]
  },
  {
   "cell_type": "code",
   "execution_count": 17,
   "metadata": {
    "execution": {
     "iopub.execute_input": "2022-03-06T10:19:05.644864Z",
     "iopub.status.busy": "2022-03-06T10:19:05.620831Z",
     "iopub.status.idle": "2022-03-06T10:19:13.300634Z",
     "shell.execute_reply": "2022-03-06T10:19:13.301064Z"
    }
   },
   "outputs": [
    {
     "data": {
      "image/png": "[encoded data removed]",
      "text/plain": [
       "<Figure size 1152x576 with 6 Axes>"
      ]
     },
     "metadata": {
      "needs_background": "light"
     },
     "output_type": "display_data"
    }
   ],
   "source": [
    "fig, axs = plt.subplots(2, 3)\n",
    "fig.set_size_inches(16,8)\n",
    "bins=100\n",
    "axs[0, 0].hist(orginal[:,0],bins=bins, label ='orginal',alpha=0.5, density=True)\n",
    "axs[0, 0].hist(result[:,0],bins=bins, label ='decoded', alpha=0.5, density=True)\n",
    "axs[0, 0].set_title('X')\n",
    "axs[0, 1].hist(orginal[:,1],bins=bins, label ='orginal',alpha=0.5, density=True)\n",
    "axs[0, 1].hist(result[:,1],bins=bins, label ='decoded', alpha=0.5, density=True)\n",
    "axs[0, 1].set_title('Y')\n",
    "axs[0, 2].hist(orginal[:,2],bins=bins, label ='orginal',alpha=0.5, density=True)\n",
    "axs[0, 2].hist(result[:,2],bins=bins, label ='decoded', alpha=0.5, density=True)\n",
    "axs[0, 2].set_title('dX')\n",
    "axs[1, 0].hist(orginal[:,3],bins=bins, label ='orginal',alpha=0.5, density=True)\n",
    "axs[1, 0].hist(result[:,3],bins=bins, label ='decoded', alpha=0.5, density=True)\n",
    "axs[1, 0].set_title('dY')\n",
    "axs[1, 1].hist(orginal[:,4],bins=bins, label ='orginal',alpha=0.5, density=True)\n",
    "axs[1, 1].hist(result[:,4],bins=bins, label ='decoded', alpha=0.5, density=True)\n",
    "axs[1, 1].set_title('dZ')\n",
    "axs[1, 2].hist(orginal[:,5],bins=bins, label ='orginal',alpha=0.5, density=True)\n",
    "axs[1, 2].hist(result[:,5],bins=bins, label ='decoded', alpha=0.5, density=True)\n",
    "axs[1, 2].set_title('E')\n",
    "fig.legend()\n",
    "\n",
    "# for ax in axs.flat:\n",
    "#     ax.set(xlabel='x-label', ylabel='y-label')\n",
    "\n",
    "# # Hide x labels and tick labels for top plots and y ticks for right plots.\n",
    "# for ax in axs.flat:\n",
    "#     ax.label_outer()\n",
    "fig.tight_layout()"
   ]
  },
  {
   "cell_type": "code",
   "execution_count": 18,
   "metadata": {
    "execution": {
     "iopub.execute_input": "2022-03-06T10:19:13.331951Z",
     "iopub.status.busy": "2022-03-06T10:19:13.322411Z",
     "iopub.status.idle": "2022-03-06T10:19:36.439073Z",
     "shell.execute_reply": "2022-03-06T10:19:36.439491Z"
    }
   },
   "outputs": [
    {
     "data": {
      "image/png": "[encoded data removed]",
      "text/plain": [
       "<Figure size 1440x1440 with 6 Axes>"
      ]
     },
     "metadata": {
      "needs_background": "light"
     },
     "output_type": "display_data"
    }
   ],
   "source": [
    "keys = df_data.columns\n",
    "fig, axs = plt.subplots(2, 3)\n",
    "fig.set_size_inches(20, 20)\n",
    "for i, j in enumerate(keys):\n",
    "    mi = np.minimum(orginal[:, i].min(), result[:, i].min())\n",
    "    ma = np.maximum(orginal[:, i].max(), result[:, i].max())\n",
    "    bins = np.linspace(mi, ma, 300)\n",
    "    axs.flatten()[i].hist(orginal[:, i], bins, alpha=.5)\n",
    "    axs.flatten()[i].hist(result[:, i], bins, alpha=.5)\n",
    "    axs.flatten()[i].set_title(j)"
   ]
  },
  {
   "cell_type": "code",
   "execution_count": 19,
   "metadata": {
    "execution": {
     "iopub.execute_input": "2022-03-06T10:19:36.445395Z",
     "iopub.status.busy": "2022-03-06T10:19:36.444901Z",
     "iopub.status.idle": "2022-03-06T10:19:38.140383Z",
     "shell.execute_reply": "2022-03-06T10:19:38.140797Z"
    }
   },
   "outputs": [
    {
     "name": "stdout",
     "output_type": "stream",
     "text": [
      "True\n"
     ]
    }
   ],
   "source": [
    "decoded_df=pd.DataFrame(result,columns=['X', 'Y', 'dX', 'dY', 'dZ', 'E'])\n",
    "orginal_df=df_data.iloc[:,:]\n",
    "\n",
    "\n",
    "concatenated_datasets=pd.concat([orginal_df.assign(dataset_name='orginal'), decoded_df.assign(dataset_name='decoded')],ignore_index=True)\n",
    "concatenated_datasets.shape\n",
    "print(concatenated_datasets.index.is_unique)"
   ]
  },
  {
   "cell_type": "code",
   "execution_count": 20,
   "metadata": {
    "execution": {
     "iopub.execute_input": "2022-03-06T10:19:38.694853Z",
     "iopub.status.busy": "2022-03-06T10:19:38.694303Z",
     "iopub.status.idle": "2022-03-06T10:19:43.926850Z",
     "shell.execute_reply": "2022-03-06T10:19:43.927239Z"
    }
   },
   "outputs": [
    {
     "name": "stdout",
     "output_type": "stream",
     "text": [
      "(500000, 7)\n",
      "                 X         Y        dX        dY        dZ         E  \\\n",
      "31583840  0.724502  1.823494  0.965271  0.083165  0.044892  0.992092   \n",
      "34539943  0.372656  2.495829  4.523274  0.092014  0.210109  0.975494   \n",
      "20004843  0.360090  3.862890 -3.321961  0.155195 -0.172895  0.980053   \n",
      "20169494  1.252775  3.202813  3.621550 -0.100235  0.093808  0.925140   \n",
      "38060417  0.314484 -3.995706  3.597936 -0.295860  0.141201  0.931584   \n",
      "\n",
      "         dataset_name  \n",
      "31583840      decoded  \n",
      "34539943      decoded  \n",
      "20004843      decoded  \n",
      "20169494      decoded  \n",
      "38060417      decoded  \n"
     ]
    }
   ],
   "source": [
    "#TODO trzeba by sprawdzić czy to losowanie działa poprawnie i zwraca próbkę reprezentatywną\n",
    "sample_concatenated=concatenated_datasets.groupby('dataset_name', group_keys=False).apply(lambda x: x.sample(frac=PLOT_FRACTION, random_state=2)) \n",
    "print(sample_concatenated.shape)\n",
    "print(sample_concatenated.head())"
   ]
  },
  {
   "cell_type": "code",
   "execution_count": 21,
   "metadata": {
    "execution": {
     "iopub.execute_input": "2022-03-06T10:19:43.931875Z",
     "iopub.status.busy": "2022-03-06T10:19:43.931338Z",
     "iopub.status.idle": "2022-03-06T10:19:49.273139Z",
     "shell.execute_reply": "2022-03-06T10:19:49.273547Z"
    }
   },
   "outputs": [
    {
     "name": "stdout",
     "output_type": "stream",
     "text": [
      "(250000, 6)\n",
      "                X        Y       dX        dY        dZ         E\n",
      "11583838  0.72217  1.91911  1.02320  0.075932  0.040737  0.996280\n",
      "14539941  0.19622  2.45577  4.91175  0.094408  0.188461  0.977532\n",
      "4841      0.36820  3.95641 -3.81723  0.152133 -0.146734  0.977407\n",
      "169492    1.24696  4.82186 -0.47056 -0.187327  0.301854  0.934769\n",
      "18060415  0.46350 -3.66491  2.14019 -0.309671  0.214503  0.926333\n"
     ]
    }
   ],
   "source": [
    "sample_orginal=orginal_df.apply(lambda x: x.sample(frac=PLOT_FRACTION, random_state=2)) \n",
    "print(sample_orginal.shape)\n",
    "print(sample_orginal.head())"
   ]
  },
  {
   "cell_type": "code",
   "execution_count": 22,
   "metadata": {
    "execution": {
     "iopub.execute_input": "2022-03-06T10:19:49.277477Z",
     "iopub.status.busy": "2022-03-06T10:19:49.276963Z",
     "iopub.status.idle": "2022-03-06T10:19:49.279255Z",
     "shell.execute_reply": "2022-03-06T10:19:49.278860Z"
    }
   },
   "outputs": [],
   "source": [
    "# sns.pairplot(sample_orginal, kind=\"scatter\")"
   ]
  },
  {
   "cell_type": "code",
   "execution_count": 23,
   "metadata": {
    "execution": {
     "iopub.execute_input": "2022-03-06T10:19:49.283771Z",
     "iopub.status.busy": "2022-03-06T10:19:49.283250Z",
     "iopub.status.idle": "2022-03-06T10:19:54.627922Z",
     "shell.execute_reply": "2022-03-06T10:19:54.628310Z"
    }
   },
   "outputs": [
    {
     "name": "stdout",
     "output_type": "stream",
     "text": [
      "(250000, 6)\n",
      "                 X         Y        dX        dY        dZ         E\n",
      "11583838  0.724502  1.823494  0.965271  0.083165  0.044892  0.992092\n",
      "14539941  0.372656  2.495829  4.523274  0.092014  0.210109  0.975494\n",
      "4841      0.360090  3.862890 -3.321961  0.155195 -0.172895  0.980053\n",
      "169492    1.252775  3.202813  3.621550 -0.100235  0.093808  0.925140\n",
      "18060415  0.314484 -3.995706  3.597936 -0.295860  0.141201  0.931584\n"
     ]
    }
   ],
   "source": [
    "sample_decoded=decoded_df.apply(lambda x: x.sample(frac=PLOT_FRACTION, random_state=2)) \n",
    "print(sample_decoded.shape)\n",
    "print(sample_decoded.head())"
   ]
  },
  {
   "cell_type": "code",
   "execution_count": 24,
   "metadata": {
    "execution": {
     "iopub.execute_input": "2022-03-06T10:19:54.631808Z",
     "iopub.status.busy": "2022-03-06T10:19:54.631293Z",
     "iopub.status.idle": "2022-03-06T10:19:54.633384Z",
     "shell.execute_reply": "2022-03-06T10:19:54.633783Z"
    }
   },
   "outputs": [],
   "source": [
    "# sns.pairplot(sample_decoded, kind=\"scatter\")"
   ]
  },
  {
   "cell_type": "code",
   "execution_count": 25,
   "metadata": {
    "execution": {
     "iopub.execute_input": "2022-03-06T10:19:54.637094Z",
     "iopub.status.busy": "2022-03-06T10:19:54.636585Z",
     "iopub.status.idle": "2022-03-06T10:19:54.639013Z",
     "shell.execute_reply": "2022-03-06T10:19:54.638595Z"
    }
   },
   "outputs": [],
   "source": [
    "# sns.pairplot(sample_concatenated, hue=\"dataset_name\", kind=\"scatter\", plot_kws=dict(alpha=0.5))\n",
    "\n",
    "# g = sns.PairGrid(concatenated_datasets, hue='dataset_name')\n",
    "# g.map_upper(sns.scatterplot)\n",
    "# #g.map_lower(sns.kdeplot, fill=True)\n",
    "# g.map_diag(sns.histplot, kde=True)\n",
    "\n",
    "# sns.pairplot(concatenated_datasets, hue=\"dataset_name\", kind=\"scatter\", plot_kws=dict(alpha=0.5),corner=True)"
   ]
  },
  {
   "cell_type": "code",
   "execution_count": 26,
   "metadata": {
    "execution": {
     "iopub.execute_input": "2022-03-06T10:19:54.645048Z",
     "iopub.status.busy": "2022-03-06T10:19:54.644548Z",
     "iopub.status.idle": "2022-03-06T10:19:54.755193Z",
     "shell.execute_reply": "2022-03-06T10:19:54.755612Z"
    }
   },
   "outputs": [],
   "source": [
    "tmp_2=df_data.iloc[37:38,:]\n",
    "tmp_2=tmp_2.to_numpy(dtype=np.float32)\n",
    "orginal_2=tmp_2\n",
    "tmp_2=stdcs.transform(tmp_2)\n",
    "tmp_2=torch.from_numpy(tmp_2)\n",
    "model.eval()\n",
    "with torch.no_grad():\n",
    "    result_encoded_features_2, z_mean_2, z_log_var_2, result_decoded_features_2=model(tmp_2.to(device=DEVICE))\n",
    "result_2=result_decoded_features_2.cpu().detach().numpy()\n",
    "result_2=stdcs.inverse_transform(result_2)"
   ]
  },
  {
   "cell_type": "code",
   "execution_count": 27,
   "metadata": {
    "execution": {
     "iopub.execute_input": "2022-03-06T10:19:54.759258Z",
     "iopub.status.busy": "2022-03-06T10:19:54.758758Z",
     "iopub.status.idle": "2022-03-06T10:19:54.761074Z",
     "shell.execute_reply": "2022-03-06T10:19:54.760661Z"
    }
   },
   "outputs": [],
   "source": [
    "orginal_2=orginal_2.flatten()\n",
    "result_2=result_2.flatten()"
   ]
  },
  {
   "cell_type": "code",
   "execution_count": 28,
   "metadata": {
    "execution": {
     "iopub.execute_input": "2022-03-06T10:19:54.771336Z",
     "iopub.status.busy": "2022-03-06T10:19:54.770823Z",
     "iopub.status.idle": "2022-03-06T10:19:54.773608Z",
     "shell.execute_reply": "2022-03-06T10:19:54.774011Z"
    }
   },
   "outputs": [
    {
     "data": {
      "text/html": [
       "<div>\n",
       "<style scoped>\n",
       "    .dataframe tbody tr th:only-of-type {\n",
       "        vertical-align: middle;\n",
       "    }\n",
       "\n",
       "    .dataframe tbody tr th {\n",
       "        vertical-align: top;\n",
       "    }\n",
       "\n",
       "    .dataframe thead th {\n",
       "        text-align: right;\n",
       "    }\n",
       "</style>\n",
       "<table border=\"1\" class=\"dataframe\">\n",
       "  <thead>\n",
       "    <tr style=\"text-align: right;\">\n",
       "      <th></th>\n",
       "      <th>X</th>\n",
       "      <th>Y</th>\n",
       "      <th>dX</th>\n",
       "      <th>dY</th>\n",
       "      <th>dZ</th>\n",
       "      <th>E</th>\n",
       "    </tr>\n",
       "  </thead>\n",
       "  <tbody>\n",
       "    <tr>\n",
       "      <th>0</th>\n",
       "      <td>2.359750</td>\n",
       "      <td>2.614970</td>\n",
       "      <td>-4.698670</td>\n",
       "      <td>0.100502</td>\n",
       "      <td>-0.180584</td>\n",
       "      <td>0.978411</td>\n",
       "    </tr>\n",
       "    <tr>\n",
       "      <th>1</th>\n",
       "      <td>2.368199</td>\n",
       "      <td>2.591948</td>\n",
       "      <td>-4.130806</td>\n",
       "      <td>0.098939</td>\n",
       "      <td>-0.209497</td>\n",
       "      <td>0.984410</td>\n",
       "    </tr>\n",
       "  </tbody>\n",
       "</table>\n",
       "</div>"
      ],
      "text/plain": [
       "          X         Y        dX        dY        dZ         E\n",
       "0  2.359750  2.614970 -4.698670  0.100502 -0.180584  0.978411\n",
       "1  2.368199  2.591948 -4.130806  0.098939 -0.209497  0.984410"
      ]
     },
     "execution_count": 28,
     "metadata": {},
     "output_type": "execute_result"
    }
   ],
   "source": [
    "df=pd.DataFrame(np.stack((orginal_2,result_2)), columns=['X', 'Y', 'dX', 'dY', 'dZ', 'E'])\n",
    "df"
   ]
  },
  {
   "cell_type": "code",
   "execution_count": 29,
   "metadata": {
    "execution": {
     "iopub.execute_input": "2022-03-06T10:19:54.777405Z",
     "iopub.status.busy": "2022-03-06T10:19:54.776906Z",
     "iopub.status.idle": "2022-03-06T10:19:54.779285Z",
     "shell.execute_reply": "2022-03-06T10:19:54.778879Z"
    }
   },
   "outputs": [],
   "source": [
    "# encoded_features=[]\n",
    "# model.eval()\n",
    "# for index, feature in enumerate(train_loader):\n",
    "#     with torch.no_grad():\n",
    "#         tmp_encoded_features, z_mean, z_log_var, decoded =model(feature.to(device=DEVICE))\n",
    "#         encoded_features.extend(tmp_encoded_features.cpu().detach().numpy())\n",
    "# encoded_features=np.asarray(encoded_features)\n",
    "\n",
    "# print(encoded_features.shape)"
   ]
  },
  {
   "cell_type": "code",
   "execution_count": 30,
   "metadata": {
    "execution": {
     "iopub.execute_input": "2022-03-06T10:19:54.782794Z",
     "iopub.status.busy": "2022-03-06T10:19:54.782276Z",
     "iopub.status.idle": "2022-03-06T10:19:54.784635Z",
     "shell.execute_reply": "2022-03-06T10:19:54.784229Z"
    }
   },
   "outputs": [],
   "source": [
    "# #PRZESTRZEŃ UKRYTA VAE\n",
    "# colors = ['r']\n",
    "# markers = ['s']\n",
    "\n",
    "# fig=plt.figure()\n",
    "# ax=fig.add_subplot(projection='3d')\n",
    "# for c, m in zip(colors, markers):\n",
    "#     ax.scatter(encoded_features[:,0],encoded_features[:,2],encoded_features[:,1],marker=m,c=c)\n",
    "\n",
    "# ax.set_xlabel('VAE 1')\n",
    "# ax.set_ylabel('VAE 2')\n",
    "# ax.set_zlabel('VAE 3')\n",
    "\n",
    "# plt.show()"
   ]
  }
 ],
 "metadata": {
  "interpreter": {
   "hash": "94e50cba98016e2c68fceb7b9fa13391593fa96fd78bad5a436d2ca9f0548949"
  },
  "kernelspec": {
   "display_name": "Python 3.8.12 64-bit ('pytorch_wine_env': conda)",
   "language": "python",
   "name": "python3"
  },
  "language_info": {
   "codemirror_mode": {
    "name": "ipython",
    "version": 3
   },
   "file_extension": ".py",
   "mimetype": "text/x-python",
   "name": "python",
   "nbconvert_exporter": "python",
   "pygments_lexer": "ipython3",
   "version": "3.9.7"
  }
 },
 "nbformat": 4,
 "nbformat_minor": 2
}
