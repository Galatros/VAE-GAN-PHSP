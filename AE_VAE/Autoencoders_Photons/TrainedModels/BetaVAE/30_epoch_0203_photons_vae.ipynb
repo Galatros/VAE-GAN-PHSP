{
 "cells": [
  {
   "cell_type": "code",
   "execution_count": 1,
   "metadata": {
    "execution": {
     "iopub.execute_input": "2022-03-02T11:33:19.583700Z",
     "iopub.status.busy": "2022-03-02T11:33:19.583089Z",
     "iopub.status.idle": "2022-03-02T11:33:21.028611Z",
     "shell.execute_reply": "2022-03-02T11:33:21.028054Z"
    }
   },
   "outputs": [],
   "source": [
    "#TODO czy zapisywać Logging interval ? \n",
    "#TODO i czy zapisywać całkowity number of epochs gdyby we wczytanym modelu robić kolejnego checkpointa\n",
    "from data_helper import get_dataloaders_and_standarscaler_photons, get_dataloaders_and_standarscaler_photons_from_numpy\n",
    "from train_helper import train_vae\n",
    "from plot_helper import plot_training_loss\n",
    "from models_architecture_helper import VAE_Linear_0203\n",
    "\n",
    "import copy\n",
    "\n",
    "import numpy as np\n",
    "import pandas as pd\n",
    "import matplotlib.pyplot as plt\n",
    "# import time\n",
    "import seaborn as sns\n",
    "\n",
    "# from sklearn import preprocessing\n",
    "# from sklearn.decomposition import PCA\n",
    "# from sklearn.model_selection import train_test_split\n",
    "# from sklearn.preprocessing import StandardScaler\n",
    "\n",
    "import torch\n",
    "import torch.nn as nn\n",
    "# import torch.nn.functional as F\n",
    "# from torch.utils.data import Dataset, DataLoader\n",
    "# from torchvision import transforms"
   ]
  },
  {
   "cell_type": "code",
   "execution_count": 2,
   "metadata": {
    "execution": {
     "iopub.execute_input": "2022-03-02T11:33:21.033387Z",
     "iopub.status.busy": "2022-03-02T11:33:21.032875Z",
     "iopub.status.idle": "2022-03-02T11:33:21.034899Z",
     "shell.execute_reply": "2022-03-02T11:33:21.035300Z"
    }
   },
   "outputs": [],
   "source": [
    "# Hyperparameters\n",
    "RANDOM_SEED = 123\n",
    "LEARNING_RATE = 0.0005\n",
    "BATCH_SIZE = 10000\n",
    "NUM_EPOCHS = 30\n",
    "LOGGING_INTERVAL=300\n",
    "RECONSTRUCTION_TERM_WEIGHT=1.5\n",
    "SAVE_MODEL_FILE='checkpoint_0203.pth'\n",
    "path='/data1/dose-3d-generative/data/training-data/DISP_0.5_ANGLE_0/NUMPY/a1_10_7.npy'"
   ]
  },
  {
   "cell_type": "code",
   "execution_count": 3,
   "metadata": {
    "execution": {
     "iopub.execute_input": "2022-03-02T11:33:21.061425Z",
     "iopub.status.busy": "2022-03-02T11:33:21.037348Z",
     "iopub.status.idle": "2022-03-02T11:33:21.073344Z",
     "shell.execute_reply": "2022-03-02T11:33:21.072940Z"
    }
   },
   "outputs": [
    {
     "name": "stdout",
     "output_type": "stream",
     "text": [
      "Device: cuda:0\n"
     ]
    }
   ],
   "source": [
    "CUDA_DEVICE_NUM=0\n",
    "DEVICE = torch.device(f'cuda:{CUDA_DEVICE_NUM}' if torch.cuda.is_available() else 'cpu')\n",
    "print('Device:', DEVICE)"
   ]
  },
  {
   "cell_type": "code",
   "execution_count": 4,
   "metadata": {
    "execution": {
     "iopub.execute_input": "2022-03-02T11:33:21.077298Z",
     "iopub.status.busy": "2022-03-02T11:33:21.076666Z",
     "iopub.status.idle": "2022-03-02T11:33:21.079624Z",
     "shell.execute_reply": "2022-03-02T11:33:21.080047Z"
    }
   },
   "outputs": [
    {
     "name": "stdout",
     "output_type": "stream",
     "text": [
      "0\n",
      "0\n"
     ]
    },
    {
     "name": "stderr",
     "output_type": "stream",
     "text": [
      "/opt/anaconda/anaconda3/envs/generative/lib/python3.9/site-packages/torch/cuda/memory.py:384: FutureWarning: torch.cuda.memory_cached has been renamed to torch.cuda.memory_reserved\n",
      "  warnings.warn(\n"
     ]
    }
   ],
   "source": [
    "print(torch.cuda.memory_allocated(device=DEVICE))\n",
    "print(torch.cuda.memory_cached(device=DEVICE))"
   ]
  },
  {
   "cell_type": "code",
   "execution_count": 5,
   "metadata": {
    "execution": {
     "iopub.execute_input": "2022-03-02T11:33:21.083196Z",
     "iopub.status.busy": "2022-03-02T11:33:21.082653Z",
     "iopub.status.idle": "2022-03-02T11:33:21.084773Z",
     "shell.execute_reply": "2022-03-02T11:33:21.085159Z"
    }
   },
   "outputs": [],
   "source": [
    "# #ODCZYTANIE DANYCH Z PLIKU 'photons.npy'\n",
    "# photons = np.load(path)\n",
    "# X = np.zeros(photons.shape,dtype=np.float32)\n",
    "# np.copyto(X,photons)"
   ]
  },
  {
   "cell_type": "code",
   "execution_count": 6,
   "metadata": {
    "execution": {
     "iopub.execute_input": "2022-03-02T11:33:21.089324Z",
     "iopub.status.busy": "2022-03-02T11:33:21.088824Z",
     "iopub.status.idle": "2022-03-02T11:33:23.796836Z",
     "shell.execute_reply": "2022-03-02T11:33:23.796425Z"
    }
   },
   "outputs": [
    {
     "name": "stdout",
     "output_type": "stream",
     "text": [
      "(10000001, 6)\n"
     ]
    }
   ],
   "source": [
    "#ODCZYTANIE DANYCH Z PLIKU 'photons.npy'\n",
    "photons = np.load(path)\n",
    "X = np.zeros((10000001, 6),dtype=np.float32)\n",
    "np.copyto(X,photons[:,:-1])\n",
    "print(X.shape)"
   ]
  },
  {
   "cell_type": "code",
   "execution_count": 7,
   "metadata": {
    "execution": {
     "iopub.execute_input": "2022-03-02T11:33:23.802020Z",
     "iopub.status.busy": "2022-03-02T11:33:23.801493Z",
     "iopub.status.idle": "2022-03-02T11:33:24.641472Z",
     "shell.execute_reply": "2022-03-02T11:33:24.641065Z"
    }
   },
   "outputs": [
    {
     "name": "stdout",
     "output_type": "stream",
     "text": [
      "20000002\n"
     ]
    }
   ],
   "source": [
    "X_reflection=copy.deepcopy(X)\n",
    "X_reflection[:,2]=-X_reflection[:,2]\n",
    "X_reflection[:,4]=-X_reflection[:,4]\n",
    "\n",
    "X_sum=np.concatenate((X,X_reflection),axis=0)\n",
    "print(len(X_sum))"
   ]
  },
  {
   "cell_type": "code",
   "execution_count": 8,
   "metadata": {
    "execution": {
     "iopub.execute_input": "2022-03-02T11:33:24.648991Z",
     "iopub.status.busy": "2022-03-02T11:33:24.648471Z",
     "iopub.status.idle": "2022-03-02T11:33:24.659417Z",
     "shell.execute_reply": "2022-03-02T11:33:24.659819Z"
    }
   },
   "outputs": [
    {
     "data": {
      "text/html": [
       "<div>\n",
       "<style scoped>\n",
       "    .dataframe tbody tr th:only-of-type {\n",
       "        vertical-align: middle;\n",
       "    }\n",
       "\n",
       "    .dataframe tbody tr th {\n",
       "        vertical-align: top;\n",
       "    }\n",
       "\n",
       "    .dataframe thead th {\n",
       "        text-align: right;\n",
       "    }\n",
       "</style>\n",
       "<table border=\"1\" class=\"dataframe\">\n",
       "  <thead>\n",
       "    <tr style=\"text-align: right;\">\n",
       "      <th></th>\n",
       "      <th>X</th>\n",
       "      <th>Y</th>\n",
       "      <th>dX</th>\n",
       "      <th>dY</th>\n",
       "      <th>dZ</th>\n",
       "      <th>E</th>\n",
       "    </tr>\n",
       "  </thead>\n",
       "  <tbody>\n",
       "    <tr>\n",
       "      <th>0</th>\n",
       "      <td>0.77526</td>\n",
       "      <td>-0.50856</td>\n",
       "      <td>-4.60704</td>\n",
       "      <td>-0.018979</td>\n",
       "      <td>-0.177872</td>\n",
       "      <td>0.983871</td>\n",
       "    </tr>\n",
       "    <tr>\n",
       "      <th>1</th>\n",
       "      <td>0.77526</td>\n",
       "      <td>-0.77813</td>\n",
       "      <td>-5.10840</td>\n",
       "      <td>-0.029292</td>\n",
       "      <td>-0.196501</td>\n",
       "      <td>0.980066</td>\n",
       "    </tr>\n",
       "    <tr>\n",
       "      <th>2</th>\n",
       "      <td>0.45010</td>\n",
       "      <td>-3.74409</td>\n",
       "      <td>-1.33591</td>\n",
       "      <td>-0.145330</td>\n",
       "      <td>-0.051869</td>\n",
       "      <td>0.988023</td>\n",
       "    </tr>\n",
       "    <tr>\n",
       "      <th>3</th>\n",
       "      <td>0.39630</td>\n",
       "      <td>-2.50916</td>\n",
       "      <td>-3.30103</td>\n",
       "      <td>-0.274393</td>\n",
       "      <td>-0.273584</td>\n",
       "      <td>0.921879</td>\n",
       "    </tr>\n",
       "    <tr>\n",
       "      <th>4</th>\n",
       "      <td>0.45010</td>\n",
       "      <td>-4.79711</td>\n",
       "      <td>-1.70242</td>\n",
       "      <td>-0.184824</td>\n",
       "      <td>-0.065606</td>\n",
       "      <td>0.980579</td>\n",
       "    </tr>\n",
       "  </tbody>\n",
       "</table>\n",
       "</div>"
      ],
      "text/plain": [
       "         X        Y       dX        dY        dZ         E\n",
       "0  0.77526 -0.50856 -4.60704 -0.018979 -0.177872  0.983871\n",
       "1  0.77526 -0.77813 -5.10840 -0.029292 -0.196501  0.980066\n",
       "2  0.45010 -3.74409 -1.33591 -0.145330 -0.051869  0.988023\n",
       "3  0.39630 -2.50916 -3.30103 -0.274393 -0.273584  0.921879\n",
       "4  0.45010 -4.79711 -1.70242 -0.184824 -0.065606  0.980579"
      ]
     },
     "execution_count": 8,
     "metadata": {},
     "output_type": "execute_result"
    }
   ],
   "source": [
    "df_data = pd.DataFrame(X_sum, columns = ['X', 'Y', 'dX', 'dY', 'dZ', 'E'])\n",
    "df_data.head()#zawsze warto rzucić okiem na dane"
   ]
  },
  {
   "cell_type": "code",
   "execution_count": 9,
   "metadata": {
    "execution": {
     "iopub.execute_input": "2022-03-02T11:33:24.668397Z",
     "iopub.status.busy": "2022-03-02T11:33:24.666985Z",
     "iopub.status.idle": "2022-03-02T11:33:30.246159Z",
     "shell.execute_reply": "2022-03-02T11:33:30.246540Z"
    }
   },
   "outputs": [
    {
     "data": {
      "image/png": "[encoded data removed]",
      "text/plain": [
       "<Figure size 1152x576 with 6 Axes>"
      ]
     },
     "metadata": {
      "needs_background": "light"
     },
     "output_type": "display_data"
    }
   ],
   "source": [
    "tmp_check=df_data.to_numpy(dtype=np.float32)\n",
    "orginal_check=copy.deepcopy(tmp_check)\n",
    "\n",
    "fig, axs = plt.subplots(2, 3)\n",
    "fig.set_size_inches(16,8)\n",
    "bins=100\n",
    "axs[0, 0].hist(orginal_check[:,0],bins=bins, label ='orginal',alpha=0.5, density=True)\n",
    "# axs[0, 0].hist(result[:,0],bins=bins, label ='decoded', alpha=0.5, density=True)\n",
    "axs[0, 0].set_title('X')\n",
    "axs[0, 1].hist(orginal_check[:,1],bins=bins, label ='orginal',alpha=0.5, density=True)\n",
    "# axs[0, 1].hist(result[:,1],bins=bins, label ='decoded', alpha=0.5, density=True)\n",
    "axs[0, 1].set_title('Y')\n",
    "axs[0, 2].hist(orginal_check[:,2],bins=bins, label ='orginal',alpha=0.5, density=True)\n",
    "# axs[0, 2].hist(result[:,2],bins=bins, label ='decoded', alpha=0.5, density=True)\n",
    "axs[0, 2].set_title('dX')\n",
    "axs[1, 0].hist(orginal_check[:,3],bins=bins, label ='orginal',alpha=0.5, density=True)\n",
    "# axs[1, 0].hist(result[:,3],bins=bins, label ='decoded', alpha=0.5, density=True)\n",
    "axs[1, 0].set_title('dY')\n",
    "axs[1, 1].hist(orginal_check[:,4],bins=bins, label ='orginal',alpha=0.5, density=True)\n",
    "# axs[1, 1].hist(result[:,4],bins=bins, label ='decoded', alpha=0.5, density=True)\n",
    "axs[1, 1].set_title('dZ')\n",
    "axs[1, 2].hist(orginal_check[:,5],bins=bins, label ='orginal',alpha=0.5, density=True)\n",
    "# axs[1, 2].hist(result[:,5],bins=bins, label ='decoded', alpha=0.5, density=True)\n",
    "axs[1, 2].set_title('E')\n",
    "fig.legend()\n",
    "\n",
    "# for ax in axs.flat:\n",
    "#     ax.set(xlabel='x-label', ylabel='y-label')\n",
    "\n",
    "# # Hide x labels and tick labels for top plots and y ticks for right plots.\n",
    "# for ax in axs.flat:\n",
    "#     ax.label_outer()\n",
    "fig.tight_layout()"
   ]
  },
  {
   "cell_type": "code",
   "execution_count": 10,
   "metadata": {
    "execution": {
     "iopub.execute_input": "2022-03-02T11:33:30.251524Z",
     "iopub.status.busy": "2022-03-02T11:33:30.250992Z",
     "iopub.status.idle": "2022-03-02T11:33:37.794554Z",
     "shell.execute_reply": "2022-03-02T11:33:37.794991Z"
    }
   },
   "outputs": [],
   "source": [
    "train_loader, valid_loader, test_loader, stdcs = get_dataloaders_and_standarscaler_photons_from_numpy(tmp_X=X_sum,\n",
    "    batch_size=BATCH_SIZE, \n",
    "    num_workers=0,\n",
    "    test_fraction=0.4, \n",
    "    validation_fraction=0.0)"
   ]
  },
  {
   "cell_type": "code",
   "execution_count": 11,
   "metadata": {
    "execution": {
     "iopub.execute_input": "2022-03-02T11:33:37.801984Z",
     "iopub.status.busy": "2022-03-02T11:33:37.801307Z",
     "iopub.status.idle": "2022-03-02T11:35:46.432247Z",
     "shell.execute_reply": "2022-03-02T11:35:46.432687Z"
    }
   },
   "outputs": [
    {
     "name": "stdout",
     "output_type": "stream",
     "text": [
      "torch.Size([10000, 6])\n"
     ]
    }
   ],
   "source": [
    "#TWORZENIE ITERATORA PRZYDATNEGO W PĘTLI UCZĄCEJ MODELU\n",
    "dataiter_train=iter(train_loader)\n",
    "data_train=dataiter_train.next()\n",
    "features_train = data_train\n",
    "\n",
    "print(features_train.shape)\n",
    "\n",
    "#TWORZENIE ITERATORA ZBIORU TESTOWEGO \n",
    "dataiter_test=iter(test_loader)\n",
    "data_test=dataiter_test.next()\n",
    "features_test = data_test\n"
   ]
  },
  {
   "cell_type": "code",
   "execution_count": 12,
   "metadata": {
    "execution": {
     "iopub.execute_input": "2022-03-02T11:35:46.438064Z",
     "iopub.status.busy": "2022-03-02T11:35:46.437511Z",
     "iopub.status.idle": "2022-03-02T11:35:46.439480Z",
     "shell.execute_reply": "2022-03-02T11:35:46.439914Z"
    }
   },
   "outputs": [],
   "source": [
    "# #MODEL NASZEJ SIECI 13->13->7->3\n",
    "# class VAE_Linear(nn.Module):\n",
    "#     def __init__(self):\n",
    "#         super().__init__()        \n",
    "#         self.encoder = nn.Sequential(\n",
    "#             nn.Linear(6, 5),\n",
    "#             #nn.BatchNorm1d(5),\n",
    "#             nn.ReLU(),\n",
    "#             # nn.Linear(5, 4),\n",
    "#             nn.BatchNorm1d(5),\n",
    "#             torch.nn.Linear(5,4),\n",
    "#             nn.BatchNorm1d(4),\n",
    "#             nn.ReLU(),\n",
    "#             # nn.ReLU(),\n",
    "#         )\n",
    "\n",
    "#         self.z_mean=nn.Sequential(\n",
    "#             # torch.nn.Linear(4,3),\n",
    "#             # nn.BatchNorm1d(3),\n",
    "#             # nn.ReLU(),\n",
    "#             nn.Linear(4,3)\n",
    "#             )\n",
    "\n",
    "#         self.z_log_var=nn.Sequential(\n",
    "#             # torch.nn.Linear(4,3),\n",
    "#             # nn.BatchNorm1d(3),\n",
    "#             # nn.ReLU(),\n",
    "#             nn.Linear(4,3)\n",
    "#             )\n",
    "        \n",
    "#         self.decoder = nn.Sequential(\n",
    "#             nn.Linear(3,4),\n",
    "#             nn.ReLU(),\n",
    "#             nn.BatchNorm1d(4),\n",
    "#             nn.Linear(4, 5),\n",
    "#             nn.ReLU(),\n",
    "#             nn.BatchNorm1d(5),\n",
    "#             # nn.Linear(4,5),\n",
    "#             # nn.ReLU(),\n",
    "#             #nn.BatchNorm1d(5),\n",
    "#             nn.Linear(5,6)\n",
    "            \n",
    "#            # nn.Sigmoid()\n",
    "#         )\n",
    "#     def reparameterize(self, z_mu, z_log_var):\n",
    "#         eps = torch.randn(z_mu.size(0), z_mu.size(1)).to(z_mu.get_device())#get_device dziala tylko dla tensoróœ z gpu\n",
    "#         z = z_mu + eps * torch.exp(z_log_var/2.) \n",
    "#         return z\n",
    "\n",
    "#     def reparameterize_for_cpu(self, z_mu, z_log_var):\n",
    "#         eps = torch.randn(z_mu.size(0), z_mu.size(1)).to('cpu')#get_device dziala tylko dla tensoróœ z gpu\n",
    "#         z = z_mu + eps * torch.exp(z_log_var/2.) \n",
    "#         return z\n",
    "\n",
    "#     def forward(self, x):\n",
    "#         x = self.encoder(x)\n",
    "#         z_mean, z_log_var = self.z_mean(x), self.z_log_var(x)\n",
    "#         encoded = self.reparameterize_for_cpu(z_mean, z_log_var)\n",
    "#         decoded = self.decoder(encoded)\n",
    "#         return encoded, z_mean, z_log_var, decoded"
   ]
  },
  {
   "cell_type": "code",
   "execution_count": 13,
   "metadata": {
    "execution": {
     "iopub.execute_input": "2022-03-02T11:35:46.444193Z",
     "iopub.status.busy": "2022-03-02T11:35:46.443621Z",
     "iopub.status.idle": "2022-03-02T11:35:53.161678Z",
     "shell.execute_reply": "2022-03-02T11:35:53.161232Z"
    }
   },
   "outputs": [],
   "source": [
    "model = VAE_Linear_0203()\n",
    "model.to(DEVICE)\n",
    "\n",
    "#criterion = nn.MSELoss()#FUNKCJA STRATY\n",
    "optimizer = torch.optim.Adam(model.parameters(),\n",
    "                             lr=LEARNING_RATE, \n",
    "                             weight_decay=1e-5)"
   ]
  },
  {
   "cell_type": "code",
   "execution_count": 14,
   "metadata": {
    "execution": {
     "iopub.execute_input": "2022-03-02T11:35:53.167665Z",
     "iopub.status.busy": "2022-03-02T11:35:53.166551Z",
     "iopub.status.idle": "2022-03-02T15:36:40.432262Z",
     "shell.execute_reply": "2022-03-02T15:36:40.431794Z"
    }
   },
   "outputs": [
    {
     "name": "stdout",
     "output_type": "stream",
     "text": [
      "Epoch: 001/030 | Batch 0000/1200 | Loss: 10.8449\n",
      "Epoch: 001/030 | Batch 0300/1200 | Loss: 8.8375\n",
      "Epoch: 001/030 | Batch 0600/1200 | Loss: 7.4046\n",
      "Epoch: 001/030 | Batch 0900/1200 | Loss: 5.9788\n",
      "***Epoch: 001/030 | Loss: 2.402\n",
      "Test***Epoch: 001/030 | Loss: 2.404\n",
      "Time elapsed: 8.36 min\n",
      "Epoch: 002/030 | Batch 0000/1200 | Loss: 5.4383\n",
      "Epoch: 002/030 | Batch 0300/1200 | Loss: 5.3525\n",
      "Epoch: 002/030 | Batch 0600/1200 | Loss: 5.2017\n",
      "Epoch: 002/030 | Batch 0900/1200 | Loss: 5.1608\n",
      "***Epoch: 002/030 | Loss: 2.204\n",
      "Test***Epoch: 002/030 | Loss: 2.207\n",
      "Time elapsed: 16.11 min\n",
      "Epoch: 003/030 | Batch 0000/1200 | Loss: 5.0400\n",
      "Epoch: 003/030 | Batch 0300/1200 | Loss: 5.2056\n",
      "Epoch: 003/030 | Batch 0600/1200 | Loss: 5.1141\n",
      "Epoch: 003/030 | Batch 0900/1200 | Loss: 5.0112\n",
      "***Epoch: 003/030 | Loss: 2.132\n",
      "Test***Epoch: 003/030 | Loss: 2.134\n",
      "Time elapsed: 23.84 min\n",
      "Epoch: 004/030 | Batch 0000/1200 | Loss: 5.1657\n",
      "Epoch: 004/030 | Batch 0300/1200 | Loss: 5.0199\n",
      "Epoch: 004/030 | Batch 0600/1200 | Loss: 5.0233\n",
      "Epoch: 004/030 | Batch 0900/1200 | Loss: 5.0120\n",
      "***Epoch: 004/030 | Loss: 2.081\n",
      "Test***Epoch: 004/030 | Loss: 2.083\n",
      "Time elapsed: 31.58 min\n",
      "Epoch: 005/030 | Batch 0000/1200 | Loss: 5.0612\n",
      "Epoch: 005/030 | Batch 0300/1200 | Loss: 5.0216\n",
      "Epoch: 005/030 | Batch 0600/1200 | Loss: 4.9295\n",
      "Epoch: 005/030 | Batch 0900/1200 | Loss: 4.9987\n",
      "***Epoch: 005/030 | Loss: 2.081\n",
      "Test***Epoch: 005/030 | Loss: 2.083\n",
      "Time elapsed: 39.27 min\n",
      "Epoch: 006/030 | Batch 0000/1200 | Loss: 4.9952\n",
      "Epoch: 006/030 | Batch 0300/1200 | Loss: 5.0697\n",
      "Epoch: 006/030 | Batch 0600/1200 | Loss: 4.9588\n",
      "Epoch: 006/030 | Batch 0900/1200 | Loss: 5.0447\n",
      "***Epoch: 006/030 | Loss: 2.059\n",
      "Test***Epoch: 006/030 | Loss: 2.060\n",
      "Time elapsed: 47.11 min\n",
      "Epoch: 007/030 | Batch 0000/1200 | Loss: 4.9534\n",
      "Epoch: 007/030 | Batch 0300/1200 | Loss: 4.9517\n",
      "Epoch: 007/030 | Batch 0600/1200 | Loss: 4.9635\n",
      "Epoch: 007/030 | Batch 0900/1200 | Loss: 4.9089\n",
      "***Epoch: 007/030 | Loss: 2.057\n",
      "Test***Epoch: 007/030 | Loss: 2.058\n",
      "Time elapsed: 54.85 min\n",
      "Epoch: 008/030 | Batch 0000/1200 | Loss: 4.8798\n",
      "Epoch: 008/030 | Batch 0300/1200 | Loss: 4.9034\n",
      "Epoch: 008/030 | Batch 0600/1200 | Loss: 4.9581\n",
      "Epoch: 008/030 | Batch 0900/1200 | Loss: 4.8882\n",
      "***Epoch: 008/030 | Loss: 2.060\n",
      "Test***Epoch: 008/030 | Loss: 2.061\n",
      "Time elapsed: 62.61 min\n",
      "Epoch: 009/030 | Batch 0000/1200 | Loss: 4.9180\n",
      "Epoch: 009/030 | Batch 0300/1200 | Loss: 4.9103\n",
      "Epoch: 009/030 | Batch 0600/1200 | Loss: 4.8752\n",
      "Epoch: 009/030 | Batch 0900/1200 | Loss: 5.0183\n",
      "***Epoch: 009/030 | Loss: 2.041\n",
      "Test***Epoch: 009/030 | Loss: 2.042\n",
      "Time elapsed: 70.40 min\n",
      "Epoch: 010/030 | Batch 0000/1200 | Loss: 4.9838\n",
      "Epoch: 010/030 | Batch 0300/1200 | Loss: 4.9306\n",
      "Epoch: 010/030 | Batch 0600/1200 | Loss: 4.9611\n",
      "Epoch: 010/030 | Batch 0900/1200 | Loss: 5.0294\n",
      "***Epoch: 010/030 | Loss: 2.048\n",
      "Test***Epoch: 010/030 | Loss: 2.049\n",
      "Time elapsed: 78.22 min\n",
      "Epoch: 011/030 | Batch 0000/1200 | Loss: 5.0302\n",
      "Epoch: 011/030 | Batch 0300/1200 | Loss: 4.9297\n",
      "Epoch: 011/030 | Batch 0600/1200 | Loss: 4.8772\n",
      "Epoch: 011/030 | Batch 0900/1200 | Loss: 4.9091\n",
      "***Epoch: 011/030 | Loss: 2.041\n",
      "Test***Epoch: 011/030 | Loss: 2.041\n",
      "Time elapsed: 86.02 min\n",
      "Epoch: 012/030 | Batch 0000/1200 | Loss: 5.0268\n",
      "Epoch: 012/030 | Batch 0300/1200 | Loss: 4.9100\n",
      "Epoch: 012/030 | Batch 0600/1200 | Loss: 4.9136\n",
      "Epoch: 012/030 | Batch 0900/1200 | Loss: 4.9909\n",
      "***Epoch: 012/030 | Loss: 2.041\n",
      "Test***Epoch: 012/030 | Loss: 2.042\n",
      "Time elapsed: 93.87 min\n",
      "Epoch: 013/030 | Batch 0000/1200 | Loss: 4.9942\n",
      "Epoch: 013/030 | Batch 0300/1200 | Loss: 4.9125\n",
      "Epoch: 013/030 | Batch 0600/1200 | Loss: 4.9496\n",
      "Epoch: 013/030 | Batch 0900/1200 | Loss: 4.9820\n",
      "***Epoch: 013/030 | Loss: 2.033\n",
      "Test***Epoch: 013/030 | Loss: 2.035\n",
      "Time elapsed: 101.76 min\n",
      "Epoch: 014/030 | Batch 0000/1200 | Loss: 4.8586\n",
      "Epoch: 014/030 | Batch 0300/1200 | Loss: 4.9137\n",
      "Epoch: 014/030 | Batch 0600/1200 | Loss: 4.8548\n",
      "Epoch: 014/030 | Batch 0900/1200 | Loss: 4.9297\n",
      "***Epoch: 014/030 | Loss: 2.028\n",
      "Test***Epoch: 014/030 | Loss: 2.028\n",
      "Time elapsed: 109.57 min\n",
      "Epoch: 015/030 | Batch 0000/1200 | Loss: 4.9243\n",
      "Epoch: 015/030 | Batch 0300/1200 | Loss: 4.9183\n",
      "Epoch: 015/030 | Batch 0600/1200 | Loss: 4.9038\n",
      "Epoch: 015/030 | Batch 0900/1200 | Loss: 4.9554\n",
      "***Epoch: 015/030 | Loss: 2.038\n",
      "Test***Epoch: 015/030 | Loss: 2.039\n",
      "Time elapsed: 117.50 min\n",
      "Epoch: 016/030 | Batch 0000/1200 | Loss: 4.9653\n",
      "Epoch: 016/030 | Batch 0300/1200 | Loss: 4.8614\n",
      "Epoch: 016/030 | Batch 0600/1200 | Loss: 4.9461\n",
      "Epoch: 016/030 | Batch 0900/1200 | Loss: 4.8619\n",
      "***Epoch: 016/030 | Loss: 2.035\n",
      "Test***Epoch: 016/030 | Loss: 2.037\n",
      "Time elapsed: 125.46 min\n",
      "Epoch: 017/030 | Batch 0000/1200 | Loss: 4.9293\n",
      "Epoch: 017/030 | Batch 0300/1200 | Loss: 4.9005\n",
      "Epoch: 017/030 | Batch 0600/1200 | Loss: 5.0269\n",
      "Epoch: 017/030 | Batch 0900/1200 | Loss: 4.9627\n",
      "***Epoch: 017/030 | Loss: 2.037\n",
      "Test***Epoch: 017/030 | Loss: 2.039\n",
      "Time elapsed: 133.37 min\n",
      "Epoch: 018/030 | Batch 0000/1200 | Loss: 4.9423\n",
      "Epoch: 018/030 | Batch 0300/1200 | Loss: 4.9369\n",
      "Epoch: 018/030 | Batch 0600/1200 | Loss: 4.8397\n",
      "Epoch: 018/030 | Batch 0900/1200 | Loss: 4.9721\n",
      "***Epoch: 018/030 | Loss: 2.022\n",
      "Test***Epoch: 018/030 | Loss: 2.023\n",
      "Time elapsed: 141.39 min\n",
      "Epoch: 019/030 | Batch 0000/1200 | Loss: 4.9656\n",
      "Epoch: 019/030 | Batch 0300/1200 | Loss: 4.9577\n",
      "Epoch: 019/030 | Batch 0600/1200 | Loss: 4.9584\n",
      "Epoch: 019/030 | Batch 0900/1200 | Loss: 4.8712\n",
      "***Epoch: 019/030 | Loss: 2.037\n",
      "Test***Epoch: 019/030 | Loss: 2.038\n",
      "Time elapsed: 149.42 min\n",
      "Epoch: 020/030 | Batch 0000/1200 | Loss: 4.8877\n",
      "Epoch: 020/030 | Batch 0300/1200 | Loss: 4.9375\n",
      "Epoch: 020/030 | Batch 0600/1200 | Loss: 4.9851\n",
      "Epoch: 020/030 | Batch 0900/1200 | Loss: 4.9006\n",
      "***Epoch: 020/030 | Loss: 2.031\n",
      "Test***Epoch: 020/030 | Loss: 2.033\n",
      "Time elapsed: 157.37 min\n",
      "Epoch: 021/030 | Batch 0000/1200 | Loss: 4.9339\n",
      "Epoch: 021/030 | Batch 0300/1200 | Loss: 4.9663\n",
      "Epoch: 021/030 | Batch 0600/1200 | Loss: 4.8165\n",
      "Epoch: 021/030 | Batch 0900/1200 | Loss: 4.9097\n",
      "***Epoch: 021/030 | Loss: 2.036\n",
      "Test***Epoch: 021/030 | Loss: 2.037\n",
      "Time elapsed: 165.28 min\n",
      "Epoch: 022/030 | Batch 0000/1200 | Loss: 4.8091\n",
      "Epoch: 022/030 | Batch 0300/1200 | Loss: 4.9019\n",
      "Epoch: 022/030 | Batch 0600/1200 | Loss: 4.9050\n",
      "Epoch: 022/030 | Batch 0900/1200 | Loss: 4.9412\n",
      "***Epoch: 022/030 | Loss: 2.036\n",
      "Test***Epoch: 022/030 | Loss: 2.037\n",
      "Time elapsed: 173.42 min\n",
      "Epoch: 023/030 | Batch 0000/1200 | Loss: 4.8847\n",
      "Epoch: 023/030 | Batch 0300/1200 | Loss: 4.8705\n",
      "Epoch: 023/030 | Batch 0600/1200 | Loss: 4.9528\n",
      "Epoch: 023/030 | Batch 0900/1200 | Loss: 4.8940\n",
      "***Epoch: 023/030 | Loss: 2.034\n",
      "Test***Epoch: 023/030 | Loss: 2.036\n",
      "Time elapsed: 182.04 min\n",
      "Epoch: 024/030 | Batch 0000/1200 | Loss: 4.9092\n",
      "Epoch: 024/030 | Batch 0300/1200 | Loss: 4.8555\n",
      "Epoch: 024/030 | Batch 0600/1200 | Loss: 4.8896\n",
      "Epoch: 024/030 | Batch 0900/1200 | Loss: 4.9361\n",
      "***Epoch: 024/030 | Loss: 2.025\n",
      "Test***Epoch: 024/030 | Loss: 2.027\n",
      "Time elapsed: 191.57 min\n",
      "Epoch: 025/030 | Batch 0000/1200 | Loss: 4.8941\n",
      "Epoch: 025/030 | Batch 0300/1200 | Loss: 4.9240\n",
      "Epoch: 025/030 | Batch 0600/1200 | Loss: 4.8966\n",
      "Epoch: 025/030 | Batch 0900/1200 | Loss: 4.8997\n",
      "***Epoch: 025/030 | Loss: 2.040\n",
      "Test***Epoch: 025/030 | Loss: 2.041\n",
      "Time elapsed: 200.12 min\n",
      "Epoch: 026/030 | Batch 0000/1200 | Loss: 4.9076\n",
      "Epoch: 026/030 | Batch 0300/1200 | Loss: 4.8764\n",
      "Epoch: 026/030 | Batch 0600/1200 | Loss: 4.9460\n",
      "Epoch: 026/030 | Batch 0900/1200 | Loss: 4.8442\n",
      "***Epoch: 026/030 | Loss: 2.037\n",
      "Test***Epoch: 026/030 | Loss: 2.038\n",
      "Time elapsed: 208.49 min\n",
      "Epoch: 027/030 | Batch 0000/1200 | Loss: 4.8250\n",
      "Epoch: 027/030 | Batch 0300/1200 | Loss: 4.8499\n",
      "Epoch: 027/030 | Batch 0600/1200 | Loss: 4.9120\n",
      "Epoch: 027/030 | Batch 0900/1200 | Loss: 4.9063\n",
      "***Epoch: 027/030 | Loss: 2.028\n",
      "Test***Epoch: 027/030 | Loss: 2.030\n",
      "Time elapsed: 216.49 min\n",
      "Epoch: 028/030 | Batch 0000/1200 | Loss: 4.9233\n",
      "Epoch: 028/030 | Batch 0300/1200 | Loss: 4.9529\n",
      "Epoch: 028/030 | Batch 0600/1200 | Loss: 4.8966\n",
      "Epoch: 028/030 | Batch 0900/1200 | Loss: 4.8289\n",
      "***Epoch: 028/030 | Loss: 2.034\n",
      "Test***Epoch: 028/030 | Loss: 2.035\n",
      "Time elapsed: 224.54 min\n",
      "Epoch: 029/030 | Batch 0000/1200 | Loss: 5.0289\n",
      "Epoch: 029/030 | Batch 0300/1200 | Loss: 4.9752\n",
      "Epoch: 029/030 | Batch 0600/1200 | Loss: 4.8994\n",
      "Epoch: 029/030 | Batch 0900/1200 | Loss: 4.8589\n",
      "***Epoch: 029/030 | Loss: 1.928\n",
      "Test***Epoch: 029/030 | Loss: 1.929\n",
      "Time elapsed: 232.74 min\n",
      "Epoch: 030/030 | Batch 0000/1200 | Loss: 4.7199\n",
      "Epoch: 030/030 | Batch 0300/1200 | Loss: 4.7172\n",
      "Epoch: 030/030 | Batch 0600/1200 | Loss: 4.7459\n",
      "Epoch: 030/030 | Batch 0900/1200 | Loss: 4.7303\n",
      "***Epoch: 030/030 | Loss: 1.894\n",
      "Test***Epoch: 030/030 | Loss: 1.895\n",
      "Time elapsed: 240.79 min\n",
      "Total Training Time: 240.79 min\n"
     ]
    }
   ],
   "source": [
    "log_dict=train_vae(num_epochs=NUM_EPOCHS, device=DEVICE, model=model,optimizer=optimizer,train_loader=train_loader,loss_fn=None, test_loader=test_loader, logging_interval=LOGGING_INTERVAL, reconstruction_term_weight=RECONSTRUCTION_TERM_WEIGHT, save_model_file=SAVE_MODEL_FILE)"
   ]
  },
  {
   "cell_type": "code",
   "execution_count": 15,
   "metadata": {
    "execution": {
     "iopub.execute_input": "2022-03-02T15:36:40.461061Z",
     "iopub.status.busy": "2022-03-02T15:36:40.460556Z",
     "iopub.status.idle": "2022-03-02T15:36:41.386045Z",
     "shell.execute_reply": "2022-03-02T15:36:41.386440Z"
    }
   },
   "outputs": [
    {
     "data": {
      "image/png": "[encoded data removed]",
      "text/plain": [
       "<Figure size 432x288 with 2 Axes>"
      ]
     },
     "metadata": {
      "needs_background": "light"
     },
     "output_type": "display_data"
    },
    {
     "data": {
      "image/png": "[encoded data removed]",
      "text/plain": [
       "<Figure size 432x288 with 2 Axes>"
      ]
     },
     "metadata": {
      "needs_background": "light"
     },
     "output_type": "display_data"
    },
    {
     "data": {
      "image/png": "[encoded data removed]",
      "text/plain": [
       "<Figure size 432x288 with 2 Axes>"
      ]
     },
     "metadata": {
      "needs_background": "light"
     },
     "output_type": "display_data"
    }
   ],
   "source": [
    "plot_training_loss(log_dict['train_reconstruction_loss_per_batch'], NUM_EPOCHS, custom_label=\" (reconstruction)\")\n",
    "plot_training_loss(log_dict['train_kl_loss_per_batch'], NUM_EPOCHS, custom_label=\" (KL)\")\n",
    "plot_training_loss(log_dict['train_combined_loss_per_batch'], NUM_EPOCHS, custom_label=\" (combined)\")\n",
    "plt.show()\n",
    "\n"
   ]
  },
  {
   "cell_type": "code",
   "execution_count": 16,
   "metadata": {
    "execution": {
     "iopub.execute_input": "2022-03-02T15:36:41.410165Z",
     "iopub.status.busy": "2022-03-02T15:36:41.406384Z",
     "iopub.status.idle": "2022-03-02T15:36:41.547350Z",
     "shell.execute_reply": "2022-03-02T15:36:41.547740Z"
    }
   },
   "outputs": [
    {
     "data": {
      "image/png": "[encoded data removed]",
      "text/plain": [
       "<Figure size 432x288 with 1 Axes>"
      ]
     },
     "metadata": {
      "needs_background": "light"
     },
     "output_type": "display_data"
    }
   ],
   "source": [
    "plt.plot(range(len(log_dict['train_combined_loss_per_epoch'])), (log_dict['train_combined_loss_per_epoch']), label='Train Epoch Loss')\n",
    "plt.plot(range(len(log_dict['test_combined_loss_per_epoch'])), (log_dict['test_combined_loss_per_epoch']), label='Test Epoch Loss')\n",
    "plt.legend()\n",
    "plt.xlabel('Epochs')\n",
    "plt.ylabel('Loss')\n",
    "#plt.ylim(0.15,0.3)\n",
    "plt.tight_layout()"
   ]
  },
  {
   "cell_type": "code",
   "execution_count": 17,
   "metadata": {
    "execution": {
     "iopub.execute_input": "2022-03-02T15:36:41.552721Z",
     "iopub.status.busy": "2022-03-02T15:36:41.552231Z",
     "iopub.status.idle": "2022-03-02T15:36:45.988046Z",
     "shell.execute_reply": "2022-03-02T15:36:45.987585Z"
    }
   },
   "outputs": [],
   "source": [
    "tmp=df_data.to_numpy(dtype=np.float32)\n",
    "orginal=copy.deepcopy(tmp)\n",
    "tmp=stdcs.transform(tmp)\n",
    "tmp=torch.from_numpy(tmp)\n",
    "#print(tmp)\n",
    "model.eval()\n",
    "with torch.no_grad():\n",
    "    result_encoded_features, z_mean, z_log_var, result_decoded_features =model(tmp.to(device=DEVICE))\n",
    "result=result_decoded_features.cpu().detach().numpy()\n",
    "result=stdcs.inverse_transform(result)"
   ]
  },
  {
   "cell_type": "code",
   "execution_count": 18,
   "metadata": {
    "execution": {
     "iopub.execute_input": "2022-03-02T15:36:46.033961Z",
     "iopub.status.busy": "2022-03-02T15:36:45.995258Z",
     "iopub.status.idle": "2022-03-02T15:36:54.260277Z",
     "shell.execute_reply": "2022-03-02T15:36:54.260683Z"
    }
   },
   "outputs": [
    {
     "data": {
      "image/png": "[encoded data removed]",
      "text/plain": [
       "<Figure size 1152x576 with 6 Axes>"
      ]
     },
     "metadata": {
      "needs_background": "light"
     },
     "output_type": "display_data"
    }
   ],
   "source": [
    "fig, axs = plt.subplots(2, 3)\n",
    "fig.set_size_inches(16,8)\n",
    "bins=100\n",
    "axs[0, 0].hist(orginal[:,0],bins=bins, label ='orginal',alpha=0.5, density=True)\n",
    "axs[0, 0].hist(result[:,0],bins=bins, label ='decoded', alpha=0.5, density=True)\n",
    "axs[0, 0].set_title('X')\n",
    "axs[0, 1].hist(orginal[:,1],bins=bins, label ='orginal',alpha=0.5, density=True)\n",
    "axs[0, 1].hist(result[:,1],bins=bins, label ='decoded', alpha=0.5, density=True)\n",
    "axs[0, 1].set_title('Y')\n",
    "axs[0, 2].hist(orginal[:,2],bins=bins, label ='orginal',alpha=0.5, density=True)\n",
    "axs[0, 2].hist(result[:,2],bins=bins, label ='decoded', alpha=0.5, density=True)\n",
    "axs[0, 2].set_title('dX')\n",
    "axs[1, 0].hist(orginal[:,3],bins=bins, label ='orginal',alpha=0.5, density=True)\n",
    "axs[1, 0].hist(result[:,3],bins=bins, label ='decoded', alpha=0.5, density=True)\n",
    "axs[1, 0].set_title('dY')\n",
    "axs[1, 1].hist(orginal[:,4],bins=bins, label ='orginal',alpha=0.5, density=True)\n",
    "axs[1, 1].hist(result[:,4],bins=bins, label ='decoded', alpha=0.5, density=True)\n",
    "axs[1, 1].set_title('dZ')\n",
    "axs[1, 2].hist(orginal[:,5],bins=bins, label ='orginal',alpha=0.5, density=True)\n",
    "axs[1, 2].hist(result[:,5],bins=bins, label ='decoded', alpha=0.5, density=True)\n",
    "axs[1, 2].set_title('E')\n",
    "fig.legend()\n",
    "\n",
    "# for ax in axs.flat:\n",
    "#     ax.set(xlabel='x-label', ylabel='y-label')\n",
    "\n",
    "# # Hide x labels and tick labels for top plots and y ticks for right plots.\n",
    "# for ax in axs.flat:\n",
    "#     ax.label_outer()\n",
    "fig.tight_layout()"
   ]
  },
  {
   "cell_type": "code",
   "execution_count": 19,
   "metadata": {
    "execution": {
     "iopub.execute_input": "2022-03-02T15:36:54.318103Z",
     "iopub.status.busy": "2022-03-02T15:36:54.292466Z",
     "iopub.status.idle": "2022-03-02T15:37:18.363678Z",
     "shell.execute_reply": "2022-03-02T15:37:18.364087Z"
    }
   },
   "outputs": [
    {
     "data": {
      "image/png": "[encoded data removed]",
      "text/plain": [
       "<Figure size 1440x1440 with 6 Axes>"
      ]
     },
     "metadata": {
      "needs_background": "light"
     },
     "output_type": "display_data"
    }
   ],
   "source": [
    "keys = df_data.columns\n",
    "fig, axs = plt.subplots(2, 3)\n",
    "fig.set_size_inches(20, 20)\n",
    "for i, j in enumerate(keys):\n",
    "    mi = np.minimum(orginal[:, i].min(), result[:, i].min())\n",
    "    ma = np.maximum(orginal[:, i].max(), result[:, i].max())\n",
    "    bins = np.linspace(mi, ma, 300)\n",
    "    axs.flatten()[i].hist(orginal[:, i], bins, alpha=.5)\n",
    "    axs.flatten()[i].hist(result[:, i], bins, alpha=.5)\n",
    "    axs.flatten()[i].set_title(j)\n",
    "\n",
    "\n",
    "\n",
    "\n",
    "\n"
   ]
  },
  {
   "cell_type": "code",
   "execution_count": 20,
   "metadata": {
    "execution": {
     "iopub.execute_input": "2022-03-02T15:37:18.374437Z",
     "iopub.status.busy": "2022-03-02T15:37:18.373947Z",
     "iopub.status.idle": "2022-03-02T15:37:20.289254Z",
     "shell.execute_reply": "2022-03-02T15:37:20.288828Z"
    }
   },
   "outputs": [
    {
     "name": "stdout",
     "output_type": "stream",
     "text": [
      "True\n"
     ]
    }
   ],
   "source": [
    "decoded_df=pd.DataFrame(result,columns=['X', 'Y', 'dX', 'dY', 'dZ', 'E'])\n",
    "orginal_df=df_data.iloc[:,:]\n",
    "\n",
    "\n",
    "concatenated_datasets=pd.concat([orginal_df.assign(dataset_name='orginal'), decoded_df.assign(dataset_name='decoded')],ignore_index=True)\n",
    "concatenated_datasets.shape\n",
    "print(concatenated_datasets.index.is_unique)"
   ]
  },
  {
   "cell_type": "code",
   "execution_count": 21,
   "metadata": {
    "execution": {
     "iopub.execute_input": "2022-03-02T15:37:20.292716Z",
     "iopub.status.busy": "2022-03-02T15:37:20.292216Z",
     "iopub.status.idle": "2022-03-02T15:37:20.294217Z",
     "shell.execute_reply": "2022-03-02T15:37:20.294619Z"
    }
   },
   "outputs": [],
   "source": [
    "# g = sns.PairGrid(concatenated_datasets, hue='dataset_name')\n",
    "# g.map_upper(sns.scatterplot)\n",
    "# #g.map_lower(sns.kdeplot, fill=True)\n",
    "# g.map_diag(sns.histplot, kde=True)"
   ]
  },
  {
   "cell_type": "code",
   "execution_count": 22,
   "metadata": {
    "execution": {
     "iopub.execute_input": "2022-03-02T15:37:20.298129Z",
     "iopub.status.busy": "2022-03-02T15:37:20.297627Z",
     "iopub.status.idle": "2022-03-02T15:37:20.299691Z",
     "shell.execute_reply": "2022-03-02T15:37:20.300077Z"
    }
   },
   "outputs": [],
   "source": [
    "#sns.pairplot(concatenated_datasets, hue=\"dataset_name\", kind=\"scatter\", plot_kws=dict(alpha=0.5),corner=True)\n"
   ]
  },
  {
   "cell_type": "code",
   "execution_count": 23,
   "metadata": {
    "execution": {
     "iopub.execute_input": "2022-03-02T15:37:20.855413Z",
     "iopub.status.busy": "2022-03-02T15:37:20.854915Z",
     "iopub.status.idle": "2022-03-02T15:37:26.163281Z",
     "shell.execute_reply": "2022-03-02T15:37:26.163660Z"
    }
   },
   "outputs": [
    {
     "name": "stdout",
     "output_type": "stream",
     "text": [
      "(500000, 7)\n",
      "                 X         Y        dX        dY        dZ         E  \\\n",
      "31583840  1.292725  0.845732  0.043084  0.036313  0.000438  0.989478   \n",
      "34539943  1.301089  1.926787  2.614873  0.083410  0.102223  0.990440   \n",
      "20004843  1.281356  3.580691 -3.235806  0.163864 -0.170129  0.985791   \n",
      "20169494  1.022262  0.396719  1.540031 -0.084408  0.374199  0.877652   \n",
      "38060417  1.200713 -5.550690  3.722003 -0.343692  0.121531  0.943826   \n",
      "\n",
      "         dataset_name  \n",
      "31583840      decoded  \n",
      "34539943      decoded  \n",
      "20004843      decoded  \n",
      "20169494      decoded  \n",
      "38060417      decoded  \n"
     ]
    }
   ],
   "source": [
    "#TODO trzeba by sprawdzić czy to losowanie działa poprawnie i zwraca próbkę reprezentatywną\n",
    "sample=concatenated_datasets.groupby('dataset_name', group_keys=False).apply(lambda x: x.sample(frac=0.0125, random_state=2)) \n",
    "print(sample.shape)\n",
    "print(sample.head())"
   ]
  },
  {
   "cell_type": "code",
   "execution_count": 24,
   "metadata": {
    "execution": {
     "iopub.execute_input": "2022-03-02T15:37:26.168213Z",
     "iopub.status.busy": "2022-03-02T15:37:26.167666Z",
     "iopub.status.idle": "2022-03-02T15:37:31.775817Z",
     "shell.execute_reply": "2022-03-02T15:37:31.775403Z"
    }
   },
   "outputs": [
    {
     "name": "stdout",
     "output_type": "stream",
     "text": [
      "(250000, 6)\n",
      "                X        Y       dX        dY        dZ         E\n",
      "11583838  0.72217  1.91911  1.02320  0.075932  0.040737  0.996280\n",
      "14539941  0.19622  2.45577  4.91175  0.094408  0.188461  0.977532\n",
      "4841      0.36820  3.95641 -3.81723  0.152133 -0.146734  0.977407\n",
      "169492    1.24696  4.82186 -0.47056 -0.187327  0.301854  0.934769\n",
      "18060415  0.46350 -3.66491  2.14019 -0.309671  0.214503  0.926333\n"
     ]
    }
   ],
   "source": [
    "sample2=orginal_df.apply(lambda x: x.sample(frac=0.0125, random_state=2)) \n",
    "print(sample2.shape)\n",
    "print(sample2.head())"
   ]
  },
  {
   "cell_type": "code",
   "execution_count": 25,
   "metadata": {
    "execution": {
     "iopub.execute_input": "2022-03-02T15:37:31.779338Z",
     "iopub.status.busy": "2022-03-02T15:37:31.778855Z",
     "iopub.status.idle": "2022-03-02T15:37:31.780812Z",
     "shell.execute_reply": "2022-03-02T15:37:31.781193Z"
    }
   },
   "outputs": [],
   "source": [
    "# sns.pairplot(sample2, kind=\"scatter\")"
   ]
  },
  {
   "cell_type": "code",
   "execution_count": 26,
   "metadata": {
    "execution": {
     "iopub.execute_input": "2022-03-02T15:37:31.785447Z",
     "iopub.status.busy": "2022-03-02T15:37:31.784963Z",
     "iopub.status.idle": "2022-03-02T15:37:37.347039Z",
     "shell.execute_reply": "2022-03-02T15:37:37.347418Z"
    }
   },
   "outputs": [
    {
     "name": "stdout",
     "output_type": "stream",
     "text": [
      "(250000, 6)\n",
      "                 X         Y        dX        dY        dZ         E\n",
      "11583838  1.292725  0.845732  0.043084  0.036313  0.000438  0.989478\n",
      "14539941  1.301089  1.926787  2.614873  0.083410  0.102223  0.990440\n",
      "4841      1.281356  3.580691 -3.235806  0.163864 -0.170129  0.985791\n",
      "169492    1.022262  0.396719  1.540031 -0.084408  0.374199  0.877652\n",
      "18060415  1.200713 -5.550690  3.722003 -0.343692  0.121531  0.943826\n"
     ]
    }
   ],
   "source": [
    "sample3=decoded_df.apply(lambda x: x.sample(frac=0.0125, random_state=2)) \n",
    "print(sample3.shape)\n",
    "print(sample3.head())"
   ]
  },
  {
   "cell_type": "code",
   "execution_count": 27,
   "metadata": {
    "execution": {
     "iopub.execute_input": "2022-03-02T15:37:37.350903Z",
     "iopub.status.busy": "2022-03-02T15:37:37.350408Z",
     "iopub.status.idle": "2022-03-02T15:37:37.352569Z",
     "shell.execute_reply": "2022-03-02T15:37:37.352959Z"
    }
   },
   "outputs": [],
   "source": [
    "# sns.pairplot(sample3, kind=\"scatter\")"
   ]
  },
  {
   "cell_type": "code",
   "execution_count": 28,
   "metadata": {
    "execution": {
     "iopub.execute_input": "2022-03-02T15:37:37.356190Z",
     "iopub.status.busy": "2022-03-02T15:37:37.355682Z",
     "iopub.status.idle": "2022-03-02T15:37:37.357654Z",
     "shell.execute_reply": "2022-03-02T15:37:37.358039Z"
    }
   },
   "outputs": [],
   "source": [
    "# sns.pairplot(sample, hue=\"dataset_name\", kind=\"scatter\", plot_kws=dict(alpha=0.5))"
   ]
  },
  {
   "cell_type": "code",
   "execution_count": 29,
   "metadata": {
    "execution": {
     "iopub.execute_input": "2022-03-02T15:37:37.361177Z",
     "iopub.status.busy": "2022-03-02T15:37:37.360668Z",
     "iopub.status.idle": "2022-03-02T15:37:37.363190Z",
     "shell.execute_reply": "2022-03-02T15:37:37.362717Z"
    }
   },
   "outputs": [],
   "source": [
    "# sns.pairplot(sample, hue=\"dataset_name\", kind=\"scatter\", plot_kws=dict(alpha=0.5))"
   ]
  },
  {
   "cell_type": "code",
   "execution_count": 30,
   "metadata": {
    "execution": {
     "iopub.execute_input": "2022-03-02T15:37:37.369473Z",
     "iopub.status.busy": "2022-03-02T15:37:37.368957Z",
     "iopub.status.idle": "2022-03-02T15:37:37.477416Z",
     "shell.execute_reply": "2022-03-02T15:37:37.477024Z"
    }
   },
   "outputs": [],
   "source": [
    "tmp_2=df_data.iloc[37:38,:]\n",
    "tmp_2=tmp_2.to_numpy(dtype=np.float32)\n",
    "orginal_2=tmp_2\n",
    "tmp_2=stdcs.transform(tmp_2)\n",
    "tmp_2=torch.from_numpy(tmp_2)\n",
    "model.eval()\n",
    "with torch.no_grad():\n",
    "    result_encoded_features_2, z_mean_2, z_log_var_2, result_decoded_features_2=model(tmp_2.to(device=DEVICE))\n",
    "result_2=result_decoded_features_2.cpu().detach().numpy()\n",
    "result_2=stdcs.inverse_transform(result_2)"
   ]
  },
  {
   "cell_type": "code",
   "execution_count": 31,
   "metadata": {
    "execution": {
     "iopub.execute_input": "2022-03-02T15:37:37.480721Z",
     "iopub.status.busy": "2022-03-02T15:37:37.480225Z",
     "iopub.status.idle": "2022-03-02T15:37:37.482348Z",
     "shell.execute_reply": "2022-03-02T15:37:37.482751Z"
    }
   },
   "outputs": [],
   "source": [
    "orginal_2=orginal_2.flatten()\n",
    "result_2=result_2.flatten()"
   ]
  },
  {
   "cell_type": "code",
   "execution_count": 32,
   "metadata": {
    "execution": {
     "iopub.execute_input": "2022-03-02T15:37:37.492822Z",
     "iopub.status.busy": "2022-03-02T15:37:37.492293Z",
     "iopub.status.idle": "2022-03-02T15:37:37.495415Z",
     "shell.execute_reply": "2022-03-02T15:37:37.494947Z"
    }
   },
   "outputs": [
    {
     "data": {
      "text/html": [
       "<div>\n",
       "<style scoped>\n",
       "    .dataframe tbody tr th:only-of-type {\n",
       "        vertical-align: middle;\n",
       "    }\n",
       "\n",
       "    .dataframe tbody tr th {\n",
       "        vertical-align: top;\n",
       "    }\n",
       "\n",
       "    .dataframe thead th {\n",
       "        text-align: right;\n",
       "    }\n",
       "</style>\n",
       "<table border=\"1\" class=\"dataframe\">\n",
       "  <thead>\n",
       "    <tr style=\"text-align: right;\">\n",
       "      <th></th>\n",
       "      <th>X</th>\n",
       "      <th>Y</th>\n",
       "      <th>dX</th>\n",
       "      <th>dY</th>\n",
       "      <th>dZ</th>\n",
       "      <th>E</th>\n",
       "    </tr>\n",
       "  </thead>\n",
       "  <tbody>\n",
       "    <tr>\n",
       "      <th>0</th>\n",
       "      <td>2.359750</td>\n",
       "      <td>2.614970</td>\n",
       "      <td>-4.698670</td>\n",
       "      <td>0.100502</td>\n",
       "      <td>-0.180584</td>\n",
       "      <td>0.978411</td>\n",
       "    </tr>\n",
       "    <tr>\n",
       "      <th>1</th>\n",
       "      <td>1.283872</td>\n",
       "      <td>3.150206</td>\n",
       "      <td>-3.099366</td>\n",
       "      <td>0.132313</td>\n",
       "      <td>-0.124991</td>\n",
       "      <td>0.988730</td>\n",
       "    </tr>\n",
       "  </tbody>\n",
       "</table>\n",
       "</div>"
      ],
      "text/plain": [
       "          X         Y        dX        dY        dZ         E\n",
       "0  2.359750  2.614970 -4.698670  0.100502 -0.180584  0.978411\n",
       "1  1.283872  3.150206 -3.099366  0.132313 -0.124991  0.988730"
      ]
     },
     "execution_count": 32,
     "metadata": {},
     "output_type": "execute_result"
    }
   ],
   "source": [
    "df=pd.DataFrame(np.stack((orginal_2,result_2)), columns=['X', 'Y', 'dX', 'dY', 'dZ', 'E'])\n",
    "df"
   ]
  },
  {
   "cell_type": "code",
   "execution_count": 33,
   "metadata": {
    "execution": {
     "iopub.execute_input": "2022-03-02T15:37:37.500171Z",
     "iopub.status.busy": "2022-03-02T15:37:37.499605Z",
     "iopub.status.idle": "2022-03-02T15:41:29.155957Z",
     "shell.execute_reply": "2022-03-02T15:41:29.156345Z"
    }
   },
   "outputs": [
    {
     "name": "stdout",
     "output_type": "stream",
     "text": [
      "(12000000, 3)\n"
     ]
    }
   ],
   "source": [
    "encoded_features=[]\n",
    "model.eval()\n",
    "for index, feature in enumerate(train_loader):\n",
    "    with torch.no_grad():\n",
    "        tmp_encoded_features, z_mean, z_log_var, decoded =model(feature.to(device=DEVICE))\n",
    "        encoded_features.extend(tmp_encoded_features.cpu().detach().numpy())\n",
    "encoded_features=np.asarray(encoded_features)\n",
    "\n",
    "print(encoded_features.shape)"
   ]
  },
  {
   "cell_type": "code",
   "execution_count": 34,
   "metadata": {
    "execution": {
     "iopub.execute_input": "2022-03-02T15:41:29.244522Z",
     "iopub.status.busy": "2022-03-02T15:41:29.200082Z",
     "iopub.status.idle": "2022-03-02T15:43:19.507513Z",
     "shell.execute_reply": "2022-03-02T15:43:19.507938Z"
    }
   },
   "outputs": [
    {
     "data": {
      "image/png": "[encoded data removed]",
      "text/plain": [
       "<Figure size 432x288 with 1 Axes>"
      ]
     },
     "metadata": {
      "needs_background": "light"
     },
     "output_type": "display_data"
    }
   ],
   "source": [
    "#PRZESTRZEŃ UKRYTA VAE\n",
    "colors = ['r']\n",
    "markers = ['s']\n",
    "\n",
    "fig=plt.figure()\n",
    "ax=fig.add_subplot(projection='3d')\n",
    "for c, m in zip(colors, markers):\n",
    "    ax.scatter(encoded_features[:,0],encoded_features[:,1],encoded_features[:,2],marker=m,c=c)\n",
    "\n",
    "ax.set_xlabel('VAE 1')\n",
    "ax.set_ylabel('VAE 2')\n",
    "ax.set_zlabel('VAE 3')\n",
    "\n",
    "plt.show()"
   ]
  }
 ],
 "metadata": {
  "interpreter": {
   "hash": "94e50cba98016e2c68fceb7b9fa13391593fa96fd78bad5a436d2ca9f0548949"
  },
  "kernelspec": {
   "display_name": "Python 3.8.12 64-bit ('pytorch_wine_env': conda)",
   "language": "python",
   "name": "python3"
  },
  "language_info": {
   "codemirror_mode": {
    "name": "ipython",
    "version": 3
   },
   "file_extension": ".py",
   "mimetype": "text/x-python",
   "name": "python",
   "nbconvert_exporter": "python",
   "pygments_lexer": "ipython3",
   "version": "3.9.7"
  }
 },
 "nbformat": 4,
 "nbformat_minor": 2
}
