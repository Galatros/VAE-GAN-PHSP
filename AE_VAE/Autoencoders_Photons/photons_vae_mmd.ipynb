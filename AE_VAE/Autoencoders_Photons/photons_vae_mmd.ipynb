{
 "cells": [
  {
   "cell_type": "code",
   "execution_count": null,
   "metadata": {},
   "outputs": [],
   "source": [
    "from data_helper import get_dataloaders_and_standarscaler_photons_from_numpy, get_standarized_constrains, get_photons_with_introduced_XY_symmetries\n",
    "from train_helper import train_vae_mkmmd\n",
    "from models_architecture_helper import VAE_Linear_2105\n",
    "\n",
    "import numpy as np\n",
    "import pandas as pd\n",
    "import matplotlib.pyplot as plt\n",
    "\n",
    "import torch"
   ]
  },
  {
   "cell_type": "code",
   "execution_count": null,
   "metadata": {},
   "outputs": [],
   "source": [
    "# Hyperparameters\n",
    "RANDOM_SEED = 123\n",
    "LEARNING_RATE = 0.0005\n",
    "BATCH_SIZE = 9200\n",
    "NUM_EPOCHS = 40\n",
    "LOGGING_INTERVAL=300\n",
    "RECONSTRUCTION_TERM_WEIGHT=1\n",
    "\n",
    "PLOT_FRACTION=0.0125\n",
    "TEST_FRACTION=0.4\n",
    "VALIDATION_FRACTION=0.0\n",
    "SAVE_MODEL_FILE='checkpoint.pth'\n",
    "NUM_WORKERS=0\n",
    "path='/data1/dose-3d-generative/data/training-data/PHSPs_without_VR/Filtered_E5.6_s0.0.npy'\n",
    "\n",
    "constrains_min=None\n",
    "constrains_max=None\n",
    "# constrains_min=[0, -200, -200, -1.05, -1.05, -0.02]\n",
    "# constrains_max=[6, 200, 200, 1.05, 1.05, 1.02]"
   ]
  },
  {
   "cell_type": "code",
   "execution_count": null,
   "metadata": {},
   "outputs": [],
   "source": [
    "CUDA_DEVICE_NUM=0\n",
    "DEVICE = torch.device(f'cuda:{CUDA_DEVICE_NUM}' if torch.cuda.is_available() else 'cpu')\n",
    "print('Device:', DEVICE)"
   ]
  },
  {
   "cell_type": "code",
   "execution_count": null,
   "metadata": {},
   "outputs": [],
   "source": [
    "print(torch.cuda.memory_allocated(device=DEVICE))\n",
    "print(torch.cuda.memory_reserved(device=DEVICE))\n",
    "print(torch.cuda.get_device_name(0))"
   ]
  },
  {
   "cell_type": "code",
   "execution_count": null,
   "metadata": {},
   "outputs": [],
   "source": [
    "#ODCZYTANIE DANYCH Z PLIKU 'photons.npy'\n",
    "photons = np.load(path)\n",
    "photons.shape"
   ]
  },
  {
   "cell_type": "code",
   "execution_count": null,
   "metadata": {},
   "outputs": [],
   "source": [
    "#USUWANIE DANYCH Z dZ MNIEJSZYM NIŻ 0\n",
    "photons_nodz=np.delete(photons, np.where(photons[:,5]<0),axis=0)\n",
    "print(photons_nodz.shape)"
   ]
  },
  {
   "cell_type": "code",
   "execution_count": null,
   "metadata": {},
   "outputs": [],
   "source": [
    "#WPROWADZENIE SYMETRII X,Y DO ZBIORU FOTONÓW\n",
    "symmetrized_photons_nodz=get_photons_with_introduced_XY_symmetries(photons=photons_nodz, random_seed=RANDOM_SEED)\n",
    "print(symmetrized_photons_nodz.shape)"
   ]
  },
  {
   "cell_type": "code",
   "execution_count": null,
   "metadata": {},
   "outputs": [],
   "source": [
    "df_data = pd.DataFrame(symmetrized_photons_nodz, columns = ['E', 'X', 'Y', 'dX', 'dY', 'dZ'])\n",
    "df_data.head()#zawsze warto rzucić okiem na dane"
   ]
  },
  {
   "cell_type": "code",
   "execution_count": null,
   "metadata": {},
   "outputs": [],
   "source": [
    "fig, axs = plt.subplots(2, 3, figsize=(16,8))\n",
    "for key_index, key in enumerate(df_data.columns):\n",
    "    df_data.hist(column = df_data.columns[key_index], bins = 50, ax=axs.flatten()[key_index])"
   ]
  },
  {
   "cell_type": "code",
   "execution_count": null,
   "metadata": {},
   "outputs": [],
   "source": [
    "train_loader, valid_loader, test_loader, stdcs = get_dataloaders_and_standarscaler_photons_from_numpy(tmp_X=symmetrized_photons_nodz,\n",
    "    batch_size=BATCH_SIZE, \n",
    "    num_workers=NUM_WORKERS,\n",
    "    test_fraction=TEST_FRACTION, \n",
    "    validation_fraction=VALIDATION_FRACTION)"
   ]
  },
  {
   "cell_type": "code",
   "execution_count": null,
   "metadata": {},
   "outputs": [],
   "source": [
    "if constrains_min is not None:\n",
    "    standarized_constrains_min, standarized_constrains_max=get_standarized_constrains(constrains_list_min=constrains_min, constrains_list_max=constrains_max,stdcs=stdcs, device=DEVICE)\n",
    "else:\n",
    "    standarized_constrains_min, standarized_constrains_max= (None, None)"
   ]
  },
  {
   "cell_type": "code",
   "execution_count": null,
   "metadata": {},
   "outputs": [],
   "source": [
    "model = VAE_Linear_2105(constrains_std_min=standarized_constrains_min, constrains_std_max=standarized_constrains_max)\n",
    "model.to(DEVICE)\n",
    "\n",
    "#criterion = nn.MSELoss()#FUNKCJA STRATY\n",
    "optimizer = torch.optim.Adam(model.parameters(),\n",
    "                             lr=LEARNING_RATE, \n",
    "                             weight_decay=1e-5)"
   ]
  },
  {
   "cell_type": "code",
   "execution_count": null,
   "metadata": {},
   "outputs": [],
   "source": [
    "log_dict=train_vae_mkmmd(num_epochs=NUM_EPOCHS, device=DEVICE, model=model,optimizer=optimizer,train_loader=train_loader,loss_fn=None, test_loader=test_loader, logging_interval=LOGGING_INTERVAL, reconstruction_term_weight=RECONSTRUCTION_TERM_WEIGHT, constrains_std_min=standarized_constrains_min, constrains_std_max=standarized_constrains_max, save_model_file=SAVE_MODEL_FILE)"
   ]
  },
  {
   "cell_type": "code",
   "execution_count": null,
   "metadata": {},
   "outputs": [],
   "source": [
    "# plot_training_loss(log_dict['train_reconstruction_loss_per_batch'], NUM_EPOCHS, custom_label=\" (reconstruction)\")\n",
    "# plot_training_loss(log_dict['train_kl_loss_per_batch'], NUM_EPOCHS, custom_label=\" (KL)\")\n",
    "# plot_training_loss(log_dict['train_combined_loss_per_batch'], NUM_EPOCHS, custom_label=\" (combined)\")\n",
    "# plt.show()"
   ]
  }
 ],
 "metadata": {
  "interpreter": {
   "hash": "5b49ffdf1bf063af7ff26dd1ef9dd65469985430119a126229acbeb0592f571b"
  },
  "kernelspec": {
   "display_name": "Python 3.9.7 ('generative')",
   "language": "python",
   "name": "python3"
  },
  "language_info": {
   "codemirror_mode": {
    "name": "ipython",
    "version": 3
   },
   "file_extension": ".py",
   "mimetype": "text/x-python",
   "name": "python",
   "nbconvert_exporter": "python",
   "pygments_lexer": "ipython3",
   "version": "3.9.7"
  },
  "orig_nbformat": 4
 },
 "nbformat": 4,
 "nbformat_minor": 2
}
